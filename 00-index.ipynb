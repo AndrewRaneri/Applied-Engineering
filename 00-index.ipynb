{
 "cells": [
  {
   "cell_type": "markdown",
   "metadata": {},
   "source": [
    "# ChEn-3170 Computational Methods in Chemical Engineering\n",
    "    University of Massachusetts Lowell, Fall 2018  \n",
    "    Prof. Valmor F. de Almeida (valmor_dealmeida@uml.edu)\n",
    "\n",
    "List of notebooks.\n",
    "+ [00 This Index](https://github.com/dpploy/chen-3170/blob/master/00-index.ipynb)\n",
    "+ [01 Introduction](https://github.com/dpploy/chen-3170/blob/master/01-introduction.ipynb)\n",
    "+ [02 Variables, Types, and Structures](https://github.com/dpploy/chen-3170/blob/master/02-variables-types-structures.ipynb)\n",
    "+ [03 Arrays](https://github.com/dpploy/chen-3170/blob/master/03-arrays.ipynb)"
   ]
  }
 ],
 "metadata": {
  "kernelspec": {
   "display_name": "Python 3",
   "language": "python",
   "name": "python3"
  },
  "language_info": {
   "codemirror_mode": {
    "name": "ipython",
    "version": 3
   },
   "file_extension": ".py",
   "mimetype": "text/x-python",
   "name": "python",
   "nbconvert_exporter": "python",
   "pygments_lexer": "ipython3",
   "version": "3.6.5"
  }
 },
 "nbformat": 4,
 "nbformat_minor": 2
}
