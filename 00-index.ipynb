{
 "cells": [
  {
   "cell_type": "markdown",
   "metadata": {},
   "source": [
    "# ChEn-3170 Computational Methods in Chemical Engineering\n",
    "    University of Massachusetts Lowell, Fall 2018  \n",
    "    Prof. V. F. de Almeida\n",
    "\n",
    "Click on the `launch/binder` badge below to launch a Jupyter Notebook server for the\n",
    "course notebooks. There will be a delay for the Binder cloud server to create a\n",
    "virtual machine for you. However once it is done, it will start a Jupyter Notebook\n",
    "server on your web browser with all notebooks listed. Upon clicking on individual notebook\n",
    "files, you will access the course notebooks.\n",
    "\n",
    "\n"
   ]
  },
  {
   "cell_type": "code",
   "execution_count": null,
   "metadata": {},
   "outputs": [],
   "source": []
  }
 ],
 "metadata": {
  "kernelspec": {
   "display_name": "Python 3",
   "language": "python",
   "name": "python3"
  },
  "language_info": {
   "codemirror_mode": {
    "name": "ipython",
    "version": 3
   },
   "file_extension": ".py",
   "mimetype": "text/x-python",
   "name": "python",
   "nbconvert_exporter": "python",
   "pygments_lexer": "ipython3",
   "version": "3.6.5"
  }
 },
 "nbformat": 4,
 "nbformat_minor": 2
}
