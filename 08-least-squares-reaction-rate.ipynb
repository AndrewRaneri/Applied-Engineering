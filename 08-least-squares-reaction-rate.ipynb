{
 "cells": [
  {
   "cell_type": "markdown",
   "metadata": {},
   "source": [
    "ChEn-3170: Computational Methods in Chemical Engineering Fall 2018 UMass Lowell; Prof. V. F. de Almeida **12Oct2018**\n",
    "\n",
    "# 08. Least-Squares Reaction Rates\n",
    "$  \n",
    "  \\newcommand{\\Amtrx}{\\boldsymbol{\\mathsf{A}}}\n",
    "  \\newcommand{\\Bmtrx}{\\boldsymbol{\\mathsf{B}}}\n",
    "  \\newcommand{\\Mmtrx}{\\boldsymbol{\\mathsf{M}}}\n",
    "  \\newcommand{\\Imtrx}{\\boldsymbol{\\mathsf{I}}}\n",
    "  \\newcommand{\\Pmtrx}{\\boldsymbol{\\mathsf{P}}}\n",
    "  \\newcommand{\\Lmtrx}{\\boldsymbol{\\mathsf{L}}}\n",
    "  \\newcommand{\\Umtrx}{\\boldsymbol{\\mathsf{U}}}\n",
    "  \\newcommand{\\Smtrx}{\\boldsymbol{\\mathsf{S}}}\n",
    "  \\newcommand{\\xvec}{\\boldsymbol{\\mathsf{x}}}\n",
    "  \\newcommand{\\avec}{\\boldsymbol{\\mathsf{a}}}\n",
    "  \\newcommand{\\bvec}{\\boldsymbol{\\mathsf{b}}}\n",
    "  \\newcommand{\\cvec}{\\boldsymbol{\\mathsf{c}}}\n",
    "  \\newcommand{\\rvec}{\\boldsymbol{\\mathsf{r}}}\n",
    "  \\newcommand{\\mvec}{\\boldsymbol{\\mathsf{m}}}\n",
    "  \\newcommand{\\gvec}{\\boldsymbol{\\mathsf{g}}}\n",
    "  \\newcommand{\\zerovec}{\\boldsymbol{\\mathsf{0}}}\n",
    "  \\newcommand{\\norm}[1]{\\bigl\\lVert{#1}\\bigr\\rVert}\n",
    "  \\newcommand{\\transpose}[1]{{#1}^\\top}\n",
    "  \\DeclareMathOperator{\\rank}{rank}\n",
    "$"
   ]
  },
  {
   "cell_type": "markdown",
   "metadata": {},
   "source": [
    "---\n",
    "## Table of Contents\n",
    "* [Introduction](#intro)\n",
    "* [Reaction mechanism](#rxnmech)\n",
    "* [Full-Rank Reaction Sub-Mechanisms](#submech)\n",
    "* [Full-Rank Least-Squares Reaction Rates](#lsr)\n",
    "* [Residuals of All Sub-Mechanisms](#residuals)\n",
    "* [Rank-Deficient Least-Squares Reaction Rate Solution](#rankdef)\n",
    "---"
   ]
  },
  {
   "cell_type": "markdown",
   "metadata": {},
   "source": [
    "## Introduction<a id=\"intro\"></a>\n",
    "This topic is an application of the least-squares method for calculating reaction rates.\n",
    "The relation between the reaction rates vector, $\\rvec$, and the species production rates vector, $\\gvec$, is given by $\\transpose{\\Smtrx}\\,\\rvec = \\gvec$. Since this is often a rectangular system, it remains the problem of finding one of the infinite number of solutions when $\\Smtrx$ is full rank. Specifically if $\\Smtrx$ is $m \\times n$ with $m$ reactions and $n$ species, then $\\Smtrx^\\top$ is $n\\times m$, that is,\n",
    "$\\Smtrx^\\top = \n",
    "\\begin{pmatrix}\n",
    "S^\\top _{1,1} & S^\\top _{1,2} & \\dots  & S^\\top _{1,m} \\\\\n",
    "S^\\top _{2,1} & S^\\top _{2,2} & \\dots  & S^\\top _{2,m} \\\\\n",
    "\\vdots  & \\vdots  & \\ddots & \\vdots \\\\\n",
    "S^\\top _{n,1} & S^\\top _{n,2} & \\dots  & S^\\top _{n,m}\n",
    "\\end{pmatrix} \n",
    "$\n",
    "where $S^\\top_{i,j} = S_{j,i}$. The reaction rates and species production rates are related by the matrix\n",
    "product\n",
    "$\n",
    "\\begin{pmatrix}\n",
    "S^\\top _{1,1} & S^\\top _{1,2} & \\dots  & S^\\top _{1,m} \\\\\n",
    "S^\\top _{2,1} & S^\\top _{2,2} & \\dots  & S^\\top _{2,m} \\\\\n",
    "\\vdots  & \\vdots  & \\ddots & \\vdots \\\\\n",
    "S^\\top _{n,1} & S^\\top _{n,2} & \\dots  & S^\\top _{n,m}\n",
    "\\end{pmatrix} \n",
    "\\,\n",
    "\\begin{pmatrix}\n",
    "r_1 \\\\ \n",
    "r_2 \\\\ \n",
    "\\vdots  \\\\ \n",
    "r_m \\\\ \n",
    "\\end{pmatrix}\n",
    "=\n",
    "\\begin{pmatrix}\n",
    "g_1 \\\\ \n",
    "g_2 \\\\ \n",
    "\\vdots  \\\\ \n",
    "g_n \\\\ \n",
    "\\end{pmatrix}\n",
    "$\n",
    "which shows that each species production rate has a contribution of every reaction:\n",
    "\n",
    "\\begin{equation*}\n",
    "g_j = \\sum\\limits_{i=1}^m S^\\top _{j,i}\\, r_i \\qquad\\  \\forall \\qquad\\  j=1,\\ldots, n.\n",
    "\\end{equation*}\n",
    "\n",
    "Refer to the classroom [notes](https://studentuml-my.sharepoint.com/:o:/g/personal/valmor_dealmeida_uml_edu/Evb2l8y2WNJCgNvJhcF0Pc4B-_TOOflJkiEAgCfICZwNVA?e=sV9YK0) on computational stoichiometry including an introduction to the linear, full-rank, least-squares method. To compute the reaction rates vector $\\rvec$ for a given species production vector $\\gvec$ we need to solve:\n",
    "\n",
    "\\begin{equation*}\n",
    "\\Smtrx^\\top\\,\\rvec = \\gvec .\n",
    "\\end{equation*}\n",
    "\n",
    "There exists a unique least-squares solution $\\rvec_\\text{LS}$ to this problem if $\\Smtrx$ is full rank, that is,\n",
    "\n",
    "\\begin{equation*}\n",
    " \\min\\limits_{\\rvec}{\\norm{\\gvec - \\Smtrx^\\top\\,\\rvec_\\text{LS}}} \\quad\\  \\forall \\quad\\ \\rvec.\n",
    "\\end{equation*}\n",
    "\n",
    "This solution is obtained by solving:\n",
    "\n",
    "\\begin{equation*}\n",
    "\\Smtrx\\,\\Smtrx^\\top\\,\\rvec_\\text{LS}  = \\Smtrx\\,\\gvec .\n",
    "\\end{equation*}\n",
    "\n",
    "However $\\Smtrx$ is often rank deficient which makes $\\Smtrx\\,\\Smtrx^\\top$ singular. The full-rank linear least-squares method breaks down in this case. However progress can be made as follows. \n",
    "\n",
    "One way to circumvent the rank-deficiency problem for relatively small system of reactions is to perform a full-rank reaction sub-mechanism analysis and select the most *significant* full-rank sub-mechanisms\n",
    "(refer to Notebook 07). Let us call one of the top sub-mechanisms' full-rank matrix, $\\Smtrx_1$, and its associated least-squares reaction rate the solution of\n",
    "\n",
    "\\begin{equation*}\n",
    "\\Smtrx_1\\,\\Smtrx_1^\\top\\,\\rvec_1  = \\Smtrx_1\\,\\gvec .\n",
    "\\end{equation*}\n",
    "\n",
    "Note that $\\rvec_1$ does not involve all reaction rates since $\\Smtrx_1$ is full rank and $\\Smtrx$ is not. Hence only the principal reactions of the original system is accounted for in the sub-mechanism with index $1$. The objective of this lecture is to compute $\\rvec_1$. The least-squares problem is just a $\\Amtrx\\,\\xvec=\\bvec$ with\n",
    "$\\Amtrx = \\Smtrx\\,\\Smtrx^\\top$ and $\\bvec = \\Smtrx\\,\\gvec$."
   ]
  },
  {
   "cell_type": "markdown",
   "metadata": {},
   "source": [
    "## Reaction mechanism<a id=\"rxnmech\"></a>\n",
    "Refer to course Notebook 07."
   ]
  },
  {
   "cell_type": "code",
   "execution_count": 1,
   "metadata": {},
   "outputs": [
    {
     "name": "stdout",
     "output_type": "stream",
     "text": [
      "['CO2', 'CH4', 'H2O', 'CO', 'H2', 'O2']\n",
      "r0 :  CO+0.5 O2<=>1 CO2\n",
      "r1 :  H2+0.5 O2<=>H2O\n",
      "r2 :  CH4+2 O2<=>CO2+2 H2O\n",
      "r3 :  CH4+1.5 O2<=>CO+2 H2O\n",
      "n_reactions = 4\n"
     ]
    }
   ],
   "source": [
    "'''Read a reaction mechanism and create data structures'''\n",
    "\n",
    "# build the stoichiometric matrix\n",
    "from chen_3170.toolkit import reaction_mechanism\n",
    "#(species, reactions, stoic_mtrx) = reaction_mechanism('data/ammonia-rxn.txt')\n",
    "(species, reactions, stoic_mtrx) = reaction_mechanism('data/methane-rxn.txt')\n",
    "\n",
    "print(species)\n",
    "from chen_3170.help import print_reactions\n",
    "print_reactions(reactions)"
   ]
  },
  {
   "cell_type": "code",
   "execution_count": 26,
   "metadata": {},
   "outputs": [
    {
     "name": "stdout",
     "output_type": "stream",
     "text": [
      "matrix shape = (4, 6)\n"
     ]
    },
    {
     "data": {
      "image/png": "[encoded data removed]",
      "text/plain": [
       "<Figure size 1440x288 with 1 Axes>"
      ]
     },
     "metadata": {},
     "output_type": "display_data"
    },
    {
     "name": "stdout",
     "output_type": "stream",
     "text": [
      "stoic_mtrx=\n",
      " [[ 1.   0.   0.  -1.   0.  -0.5]\n",
      " [ 0.   0.   1.   0.  -1.  -0.5]\n",
      " [ 1.  -1.   2.   0.   0.  -2. ]\n",
      " [ 0.  -1.   2.   1.   0.  -1.5]]\n"
     ]
    }
   ],
   "source": [
    "'''Check the stoichiometric matrix'''\n",
    "\n",
    "from chen_3170.help import plot_matrix\n",
    "\n",
    "plot_matrix(stoic_mtrx, title='Ammonia Oxidation Stoichiometric Matrix')\n",
    "print('stoic_mtrx=\\n',stoic_mtrx)"
   ]
  },
  {
   "cell_type": "markdown",
   "metadata": {},
   "source": [
    "## Full-rank, reaction sub-mechanisms<a id=\"submech\"></a>\n",
    "Refer to course Notebook 07."
   ]
  },
  {
   "cell_type": "code",
   "execution_count": 3,
   "metadata": {},
   "outputs": [
    {
     "name": "stdout",
     "output_type": "stream",
     "text": [
      "rank =  3\n",
      "# of all possible sub_mechanisms = 4.0\n",
      "# of full-rank sub_mechanisms = 3\n"
     ]
    }
   ],
   "source": [
    "'''Build the full-rank sub-mechanism reactions list'''\n",
    "\n",
    "from chen_3170.toolkit import sub_mechanisms\n",
    "\n",
    "sub_mechanisms = sub_mechanisms( species, reactions, stoic_mtrx )"
   ]
  },
  {
   "cell_type": "code",
   "execution_count": 4,
   "metadata": {},
   "outputs": [
    {
     "name": "stdout",
     "output_type": "stream",
     "text": [
      "[(0, 1, 2), ['CO+0.5 O2<=>1 CO2', 'H2+0.5 O2<=>H2O', 'CH4+2 O2<=>CO2+2 H2O'], array([[ 1. ,  0. ,  0. , -1. ,  0. , -0.5],\n",
      "       [ 0. ,  0. ,  1. ,  0. , -1. , -0.5],\n",
      "       [ 1. , -1. ,  2. ,  0. ,  0. , -2. ]]), 10.0]\n"
     ]
    }
   ],
   "source": [
    "'''Top reaction sub-mechanism'''\n",
    "\n",
    "sub_mechanism_1 = sub_mechanisms[0]\n",
    "print(sub_mechanism_1)"
   ]
  },
  {
   "cell_type": "code",
   "execution_count": 5,
   "metadata": {},
   "outputs": [
    {
     "name": "stdout",
     "output_type": "stream",
     "text": [
      "S_1=\n",
      " [[ 1.   0.   0.  -1.   0.  -0.5]\n",
      " [ 0.   0.   1.   0.  -1.  -0.5]\n",
      " [ 1.  -1.   2.   0.   0.  -2. ]]\n"
     ]
    }
   ],
   "source": [
    "'''Top reaction sub-mechanism stoichiometric matrix'''\n",
    "\n",
    "stoic_mtrx_1 = sub_mechanism_1[2]\n",
    "\n",
    "#( dummy, dummy, stoic_mtrx_1 ) = reaction_mechanism( reactions = reactions_1 ) # taking advantage of this function\n",
    "\n",
    "#plot_matrix(stoic_mtrx_1, title='Sub-Mech 1')\n",
    "print('S_1=\\n',stoic_mtrx_1)"
   ]
  },
  {
   "cell_type": "code",
   "execution_count": 6,
   "metadata": {},
   "outputs": [
    {
     "name": "stdout",
     "output_type": "stream",
     "text": [
      "[(0, 1, 3), ['CO+0.5 O2<=>1 CO2', 'H2+0.5 O2<=>H2O', 'CH4+1.5 O2<=>CO+2 H2O'], array([[ 1. ,  0. ,  0. , -1. ,  0. , -0.5],\n",
      "       [ 0. ,  0. ,  1. ,  0. , -1. , -0.5],\n",
      "       [ 0. , -1. ,  2. ,  1. ,  0. , -1.5]]), 10.0]\n"
     ]
    }
   ],
   "source": [
    "'''Another top reaction sub-mechanism'''\n",
    "\n",
    "sub_mechanism_2 = sub_mechanisms[1]\n",
    "print(sub_mechanism_2)"
   ]
  },
  {
   "cell_type": "code",
   "execution_count": 7,
   "metadata": {},
   "outputs": [
    {
     "name": "stdout",
     "output_type": "stream",
     "text": [
      "S_2=\n",
      " [[ 1.   0.   0.  -1.   0.  -0.5]\n",
      " [ 0.   0.   1.   0.  -1.  -0.5]\n",
      " [ 0.  -1.   2.   1.   0.  -1.5]]\n"
     ]
    }
   ],
   "source": [
    "'''Another top reaction sub-mechanism stoichiometric matrix'''\n",
    "\n",
    "stoic_mtrx_2 = sub_mechanism_2[2]\n",
    "\n",
    "#( dummy, dummy, stoic_mtrx_2 ) = reaction_mechanism( reactions = reactions_2 ) # taking advantage of this function\n",
    "\n",
    "#plot_matrix(stoic_mtrx_1, title='Sub-Mech 2')\n",
    "print('S_2=\\n',stoic_mtrx_2)"
   ]
  },
  {
   "cell_type": "markdown",
   "metadata": {},
   "source": [
    "## Full-rank least-squares reaction rates<a id=\"lsr\"></a>\n",
    "Refer to course Notebook 07."
   ]
  },
  {
   "cell_type": "code",
   "execution_count": 8,
   "metadata": {},
   "outputs": [],
   "source": [
    "'''Assume a species production rate as random'''\n",
    "\n",
    "import numpy as np\n",
    "g_vec = np.random.random(len(species))"
   ]
  },
  {
   "cell_type": "markdown",
   "metadata": {},
   "source": [
    "Here, let's compute $\\rvec_1$ for \n",
    "$\n",
    "\\Smtrx_1\\,\\Smtrx_1^\\top\\,\\rvec_1  = \\Smtrx_1\\,\\gvec .\n",
    "$"
   ]
  },
  {
   "cell_type": "code",
   "execution_count": 9,
   "metadata": {},
   "outputs": [
    {
     "name": "stdout",
     "output_type": "stream",
     "text": [
      "reaction rates r_vec_1= [-0.32214406 -0.38662795  0.18098131]\n",
      "species production rates g_vec = [0.08568061 0.16373267 0.6668898  0.23267751 0.76187317 0.62504322]\n",
      "residual norm g - ST_1 r_1 = 1.09433e+00\n"
     ]
    }
   ],
   "source": [
    "'''Compute the LS reaction rates for random species production rates'''\n",
    "\n",
    "# build A x = b LS problem\n",
    "a_mtrx = stoic_mtrx_1 @ stoic_mtrx_1.transpose()\n",
    "b_vec  = stoic_mtrx_1 @ g_vec\n",
    "\n",
    "# matrix LU factorization\n",
    "from chen_3170.toolkit import lu_factorization\n",
    "(P,L,U,s_rank) = lu_factorization( a_mtrx, 'partial' )\n",
    "assert s_rank == np.linalg.matrix_rank(stoic_mtrx_1)\n",
    "\n",
    "# triangular solve operations\n",
    "from chen_3170.help import forward_solve\n",
    "from chen_3170.toolkit import backward_solve\n",
    "y_vec = forward_solve( L, P @ b_vec)\n",
    "x_vec = backward_solve( U, y_vec)\n",
    "assert np.linalg.norm(x_vec - np.linalg.solve(a_mtrx,b_vec)) < 1e-12\n",
    "\n",
    "r_vec_1 = x_vec\n",
    "print('reaction rates r_vec_1=',r_vec_1)\n",
    "print('species production rates g_vec =',g_vec)\n",
    "residual_vec_1 = g_vec - stoic_mtrx_1.transpose() @ r_vec_1\n",
    "print('residual norm g - ST_1 r_1 = %8.5e'%np.linalg.norm(residual_vec_1))"
   ]
  },
  {
   "cell_type": "code",
   "execution_count": 10,
   "metadata": {},
   "outputs": [
    {
     "name": "stdout",
     "output_type": "stream",
     "text": [
      "r0 :  CO+0.5 O2<=>1 CO2\n",
      "r1 :  H2+0.5 O2<=>H2O\n",
      "r2 :  CH4+2 O2<=>CO2+2 H2O\n",
      "n_reactions = 3\n",
      "(0, 1, 2)\n",
      "r0 :  CO+0.5 O2<=>1 CO2\n",
      "r1 :  H2+0.5 O2<=>H2O\n",
      "r2 :  CH4+2 O2<=>CO2+2 H2O\n",
      "r3 :  CH4+1.5 O2<=>CO+2 H2O\n",
      "n_reactions = 4\n"
     ]
    }
   ],
   "source": [
    "'''Which reaction rates are these?'''\n",
    "\n",
    "from chen_3170.help import print_reactions\n",
    "\n",
    "print_reactions(sub_mechanism_1[1])\n",
    "print(sub_mechanism_1[0])\n",
    "print_reactions(reactions)"
   ]
  },
  {
   "cell_type": "markdown",
   "metadata": {},
   "source": [
    "Here, let's compute $\\rvec_2$ for \n",
    "$\n",
    "\\Smtrx_2\\,\\Smtrx_2^\\top\\,\\rvec_2  = \\Smtrx_2\\,\\gvec .\n",
    "$"
   ]
  },
  {
   "cell_type": "code",
   "execution_count": 11,
   "metadata": {},
   "outputs": [
    {
     "name": "stdout",
     "output_type": "stream",
     "text": [
      "reaction rates r_vec_2= [-0.14116276 -0.38662795  0.18098131]\n",
      "species production rates g_vec = [0.08568061 0.16373267 0.6668898  0.23267751 0.76187317 0.62504322]\n",
      "residual norm g - ST_2 r_2 = 1.09433e+00\n"
     ]
    }
   ],
   "source": [
    "'''Compute the LS reaction rates for random species production rates'''\n",
    "\n",
    "# build A x = b LS problem\n",
    "a_mtrx = stoic_mtrx_2 @ stoic_mtrx_2.transpose()\n",
    "b_vec  = stoic_mtrx_2 @ g_vec\n",
    "\n",
    "# matrix LU factorization\n",
    "from chen_3170.toolkit import lu_factorization\n",
    "(P,L,U,s_rank) = lu_factorization( a_mtrx, 'partial' )\n",
    "assert s_rank == np.linalg.matrix_rank(stoic_mtrx_2)\n",
    "\n",
    "# triangular solve operations\n",
    "from chen_3170.help import forward_solve\n",
    "from chen_3170.toolkit import backward_solve\n",
    "y_vec = forward_solve( L, P @ b_vec)\n",
    "x_vec = backward_solve( U, y_vec)\n",
    "assert np.linalg.norm(x_vec - np.linalg.solve(a_mtrx,b_vec)) < 1e-12\n",
    "\n",
    "r_vec_2 = x_vec\n",
    "print('reaction rates r_vec_2=',r_vec_2)\n",
    "print('species production rates g_vec =',g_vec)\n",
    "residual_vec_2 = g_vec - stoic_mtrx_2.transpose() @ r_vec_2\n",
    "print('residual norm g - ST_2 r_2 = %8.5e'%np.linalg.norm(residual_vec_2))"
   ]
  },
  {
   "cell_type": "code",
   "execution_count": 12,
   "metadata": {},
   "outputs": [
    {
     "name": "stdout",
     "output_type": "stream",
     "text": [
      "r0 :  CO+0.5 O2<=>1 CO2\n",
      "r1 :  H2+0.5 O2<=>H2O\n",
      "r2 :  CH4+1.5 O2<=>CO+2 H2O\n",
      "n_reactions = 3\n",
      "(0, 1, 3)\n",
      "r0 :  CO+0.5 O2<=>1 CO2\n",
      "r1 :  H2+0.5 O2<=>H2O\n",
      "r2 :  CH4+2 O2<=>CO2+2 H2O\n",
      "r3 :  CH4+1.5 O2<=>CO+2 H2O\n",
      "n_reactions = 4\n"
     ]
    }
   ],
   "source": [
    "'''Which reaction rates are these?'''\n",
    "\n",
    "from chen_3170.help import print_reactions\n",
    "\n",
    "print_reactions(sub_mechanism_2[1])\n",
    "print(sub_mechanism_2[0])\n",
    "print_reactions(reactions)"
   ]
  },
  {
   "cell_type": "markdown",
   "metadata": {},
   "source": [
    "Note that the sub-mechanisms rates $\\rvec_1$ and $\\rvec_2$ are different, but the corresponding residuals $\\gvec - \\Smtrx_1^\\top\\,\\rvec_1$, and $\\gvec - \\Smtrx_2^\\top\\,\\rvec_2$, are equal!"
   ]
  },
  {
   "cell_type": "code",
   "execution_count": 13,
   "metadata": {},
   "outputs": [
    {
     "name": "stdout",
     "output_type": "stream",
     "text": [
      "r_vec_1 - r_vec_2             = [-1.80981308e-01  1.11022302e-16 -2.77555756e-17]\n",
      "g - ST_1 r_1 - (g - ST_2 r_2) = [ 0.000e+00 -5.551e-17 -1.110e-16  5.551e-17  1.110e-16  0.000e+00]\n"
     ]
    }
   ],
   "source": [
    "print('r_vec_1 - r_vec_2             =',r_vec_1 - r_vec_2)\n",
    "np.set_printoptions(precision=3)\n",
    "print('g - ST_1 r_1 - (g - ST_2 r_2) =',(g_vec-stoic_mtrx_1.transpose()@r_vec_1)-(g_vec-stoic_mtrx_2.transpose()@r_vec_2))"
   ]
  },
  {
   "cell_type": "markdown",
   "metadata": {},
   "source": [
    "## Residuals of all sub-mechanisms<a id=\"residuals\"></a>\n",
    "Let us verify the previous residual result for all sub-mechanims. Here we will compute $\\Smtrx_k$ for $k=1,\\ldots,24$ and the corresponding LS reaction rates $\\rvec_k$ and residuals\n",
    "\n",
    "\n",
    "\\begin{equation*}\n",
    "\\gvec - \\Smtrx_k^\\top\\,\\rvec_k .\n",
    "\\end{equation*}\n",
    "\n"
   ]
  },
  {
   "cell_type": "code",
   "execution_count": 14,
   "metadata": {},
   "outputs": [
    {
     "name": "stdout",
     "output_type": "stream",
     "text": [
      "rxns ids = (0, 1, 2)\n",
      "       r = [-0.322 -0.387  0.181]\n",
      "   ||r|| = 0.5348010876317981\n",
      "g - ST r     = [ 0.227  0.345  0.692 -0.089  0.375  0.633]\n",
      "||g - ST r|| = 1.0943286689913747\n",
      "\n",
      "rxns ids = (0, 1, 3)\n",
      "       r = [-0.141 -0.387  0.181]\n",
      "   ||r|| = 0.449624653588766\n",
      "g - ST r     = [ 0.227  0.345  0.692 -0.089  0.375  0.633]\n",
      "||g - ST r|| = 1.0943286689913747\n",
      "\n",
      "rxns ids = (1, 2, 3)\n",
      "       r = [-0.387 -0.141  0.322]\n",
      "   ||r|| = 0.5226709220432127\n",
      "g - ST r     = [ 0.227  0.345  0.692 -0.089  0.375  0.633]\n",
      "||g - ST r|| = 1.0943286689913747\n",
      "\n"
     ]
    }
   ],
   "source": [
    "sub_mech_rxn_rates_mtrx = np.zeros((s_rank,len(sub_mechanisms)))    # column-wise storage of all r_k's\n",
    "sub_mech_residuals_mtrx = np.zeros((len(species),len(sub_mechanisms))) # column-wise storage of all g - ST_k r_k\n",
    "\n",
    "for sub_mech in sub_mechanisms:\n",
    "    \n",
    "    stoic_mtrx_k = sub_mech[2]\n",
    "  \n",
    "    a_mtrx = stoic_mtrx_k @ stoic_mtrx_k.transpose()\n",
    "    b_vec  = stoic_mtrx_k @ g_vec\n",
    "\n",
    "    (P,L,U,s_rank) = lu_factorization( a_mtrx, 'partial' )\n",
    "    assert s_rank == np.linalg.matrix_rank(stoic_mtrx_k)\n",
    "\n",
    "    # triangular solve operations\n",
    "    y_vec = forward_solve( L, P @ b_vec)\n",
    "    x_vec = backward_solve( U, y_vec)\n",
    "    assert np.linalg.norm(x_vec - np.linalg.solve(a_mtrx,b_vec)) < 1e-12\n",
    "    \n",
    "    r_vec = x_vec\n",
    "    sub_mech_rxn_rates_mtrx[:,sub_mechanisms.index(sub_mech)] = r_vec\n",
    "    \n",
    "    print('rxns ids =',sub_mech[0])\n",
    "    print('       r =', r_vec)\n",
    "    \n",
    "    rate_norm = np.linalg.norm(r_vec)\n",
    "    print('   ||r|| =',rate_norm)\n",
    "    \n",
    "    residual = g_vec - stoic_mtrx_k.transpose() @ r_vec\n",
    "    sub_mech_residuals_mtrx[:,sub_mechanisms.index(sub_mech)] = residual\n",
    "    print('g - ST r     =',residual)\n",
    "    print('||g - ST r|| =',np.linalg.norm(residual))\n",
    "    print('')\n"
   ]
  },
  {
   "cell_type": "code",
   "execution_count": 15,
   "metadata": {},
   "outputs": [
    {
     "data": {
      "image/png": "[encoded data removed]",
      "text/plain": [
       "<Figure size 1440x432 with 1 Axes>"
      ]
     },
     "metadata": {},
     "output_type": "display_data"
    }
   ],
   "source": [
    "from matplotlib import pyplot as plt # import the pyplot function of the matplotlib package\n",
    "\n",
    "fig, ax = plt.subplots(figsize=(20,6))\n",
    "\n",
    "ax.plot(range(sub_mech_rxn_rates_mtrx.shape[1]), np.linalg.norm(sub_mech_rxn_rates_mtrx,axis=0) ,color='black')\n",
    "\n",
    "plt.xticks(range(sub_mech_rxn_rates_mtrx.shape[1]),[sm[0] for sm in sub_mechanisms],rotation=60,fontsize=14)\n",
    "ax.set_ylabel('Reaction Rate Norm',fontsize=16)\n",
    "ax.set_xlabel('Sub-Reaction Mechanism',fontsize=16)\n",
    "ax.xaxis.grid(True,linestyle='-',which='major',color='lightgrey',alpha=0.9)\n",
    "fig.suptitle('Full-Rank (%i) LS Reaction Rates Magnitude of All Sub-Mechanisms'%(s_rank),fontsize=20)\n",
    "plt.show()"
   ]
  },
  {
   "cell_type": "code",
   "execution_count": 16,
   "metadata": {},
   "outputs": [
    {
     "name": "stdout",
     "output_type": "stream",
     "text": [
      "sub-mechanism id.              = 1\n",
      "minimum norm sub-mech rxn rate = 4.4962e-01\n",
      "sub-mechanism rxn id           = (0, 1, 3)\n",
      "r0 :  CO+0.5 O2<=>1 CO2\n",
      "r1 :  H2+0.5 O2<=>H2O\n",
      "r2 :  CH4+1.5 O2<=>CO+2 H2O\n",
      "n_reactions = 3\n",
      "sub-mechanism rxn score        = 10.00\n"
     ]
    }
   ],
   "source": [
    "rate_min = np.linalg.norm(sub_mech_rxn_rates_mtrx,axis=0).min()\n",
    "idx_min = np.argmin( np.linalg.norm(sub_mech_rxn_rates_mtrx,axis=0) )\n",
    "print('sub-mechanism id.              = %i'%idx_min)\n",
    "print('minimum norm sub-mech rxn rate = %8.4e'%rate_min)\n",
    "print('sub-mechanism rxn id           =', sub_mechanisms[idx_min][0])\n",
    "print_reactions(sub_mechanisms[idx_min][1])\n",
    "print('sub-mechanism rxn score        = %4.2f'%sub_mechanisms[idx_min][3])"
   ]
  },
  {
   "cell_type": "code",
   "execution_count": 17,
   "metadata": {},
   "outputs": [
    {
     "data": {
      "image/png": "[encoded data removed]",
      "text/plain": [
       "<Figure size 1440x432 with 1 Axes>"
      ]
     },
     "metadata": {},
     "output_type": "display_data"
    }
   ],
   "source": [
    "from matplotlib import pyplot as plt # import the pyplot function of the matplotlib package\n",
    "\n",
    "fig, ax = plt.subplots(figsize=(20,6))\n",
    "\n",
    "\n",
    "ax.plot(range(sub_mech_residuals_mtrx.shape[1]), np.linalg.norm(sub_mech_residuals_mtrx,axis=0) ,color='black')\n",
    "\n",
    "plt.xticks(range(sub_mech_residuals_mtrx.shape[1]),[smr[0] for smr in sub_mechanisms],rotation=60,fontsize=14)\n",
    "ax.set_ylabel('Residual Norm',fontsize=16)\n",
    "ax.set_xlabel('Sub-Reaction Mechanisms',fontsize=16)\n",
    "ax.xaxis.grid(True,linestyle='-',which='major',color='lightgrey',alpha=0.9)\n",
    "fig.suptitle('Full-Rank LS Residuals of All Sub-Mechanisms w/ Rank = '+str(s_rank),fontsize=20)\n",
    "plt.show()"
   ]
  },
  {
   "cell_type": "markdown",
   "metadata": {},
   "source": [
    "## Rank-deficient least-squares reaction rate solution<a id=\"rankdef\"></a>\n",
    "Despite all the foregoing development, we have not solved the original problem yet, namely\n",
    "\n",
    "\\begin{equation*}\n",
    "\\Smtrx^\\top\\,\\rvec = \\gvec .\n",
    "\\end{equation*}\n",
    "\n",
    "However this problem is related to the series of sub-mechanisms we just analyzed. To see this, assemble the matrix of sub-mechanism reaction rates mapped into the original reaction dimension $m=7$ by completing the additional entries with zeros. We denote this vector mapping $\\rvec_k\\longrightarrow\\hat{\\rvec}_k$ and the vectors \n",
    "$\\hat{\\rvec}_k$ as *basic* vectors. Then we show that all basic vectors produce the same residual vectors, that is:\n",
    "\n",
    "\\begin{equation*}\n",
    "\\gvec - \\Smtrx^\\top\\,\\hat{\\rvec}_k\n",
    "\\end{equation*}\n",
    "\n",
    "is invariant for any $\\hat{\\rvec}_k$ and equal to the residuals $\\gvec - \\Smtrx_k^\\top\\,\\rvec_k$. All residuals being equal, we choose the rank-deficient least-squares basic solution, the $\\rvec_k$ of least norm."
   ]
  },
  {
   "cell_type": "code",
   "execution_count": 18,
   "metadata": {},
   "outputs": [],
   "source": [
    "'''Map r_k --> \\hat{r} rates'''\n",
    "\n",
    "mech_rxn_rates_mtrx = np.zeros((len(reactions),len(sub_mechanisms)))\n",
    "\n",
    "for sm in sub_mechanisms:\n",
    "    sm_idx = sub_mechanisms.index(sm)\n",
    "    rxn_idxs = sm[0]\n",
    "    mech_rxn_rates_mtrx[rxn_idxs,sm_idx] = sub_mech_rxn_rates_mtrx[:,sm_idx] # map "
   ]
  },
  {
   "cell_type": "code",
   "execution_count": 19,
   "metadata": {},
   "outputs": [
    {
     "name": "stdout",
     "output_type": "stream",
     "text": [
      "matrix shape = (4, 3)\n"
     ]
    },
    {
     "data": {
      "image/png": "[encoded data removed]",
      "text/plain": [
       "<Figure size 1440x288 with 1 Axes>"
      ]
     },
     "metadata": {},
     "output_type": "display_data"
    },
    {
     "name": "stdout",
     "output_type": "stream",
     "text": [
      "[[-0.32 -0.14  0.  ]\n",
      " [-0.39 -0.39 -0.39]\n",
      " [ 0.18  0.   -0.14]\n",
      " [ 0.    0.18  0.32]]\n"
     ]
    }
   ],
   "source": [
    "'''Show the mapping in the form of a matrix'''\n",
    "\n",
    "from chen_3170.help import plot_matrix\n",
    "\n",
    "plot_matrix(mech_rxn_rates_mtrx)\n",
    "np.set_printoptions(precision=2)\n",
    "print(mech_rxn_rates_mtrx)"
   ]
  },
  {
   "cell_type": "markdown",
   "metadata": {},
   "source": [
    "Compute $\\gvec - \\Smtrx^\\top\\,\\hat{\\rvec}_k$ for all $k$."
   ]
  },
  {
   "cell_type": "code",
   "execution_count": 20,
   "metadata": {},
   "outputs": [
    {
     "name": "stdout",
     "output_type": "stream",
     "text": [
      "[[-0.141 -0.141 -0.141]\n",
      " [-0.181 -0.181 -0.181]\n",
      " [-0.025 -0.025 -0.025]\n",
      " [ 0.322  0.322  0.322]\n",
      " [ 0.387  0.387  0.387]\n",
      " [-0.008 -0.008 -0.008]]\n"
     ]
    }
   ],
   "source": [
    "'''Compute ST \\hat{r}_k for all k'''\n",
    "\n",
    "np.set_printoptions(precision=3,threshold=100,edgeitems=5)\n",
    "print( stoic_mtrx.transpose() @ mech_rxn_rates_mtrx )"
   ]
  },
  {
   "cell_type": "markdown",
   "metadata": {},
   "source": [
    "Select for basic solution of the rank-deficient LS problem: \n",
    "\n",
    "\\begin{equation*}\n",
    "\\min\\limits_k \\hat{\\rvec}_k \\quad\\ \\forall \\quad\\ k=1,\\ldots,24.\n",
    "\\end{equation*}"
   ]
  },
  {
   "cell_type": "code",
   "execution_count": 21,
   "metadata": {},
   "outputs": [
    {
     "name": "stdout",
     "output_type": "stream",
     "text": [
      "residual k = 0 [ 0.227  0.345  0.692 -0.089  0.375  0.633]\n",
      "residual k = 1 [ 0.227  0.345  0.692 -0.089  0.375  0.633]\n",
      "residual k = 2 [ 0.227  0.345  0.692 -0.089  0.375  0.633]\n"
     ]
    }
   ],
   "source": [
    "'''Subtract above from g column by column'''\n",
    "\n",
    "np.set_printoptions(precision=3)\n",
    "for j in range(mech_rxn_rates_mtrx.shape[1]):\n",
    "    tmp = g_vec - (stoic_mtrx.transpose() @ mech_rxn_rates_mtrx)[:,j]\n",
    "    print('residual k = %i'%j,tmp)"
   ]
  },
  {
   "cell_type": "code",
   "execution_count": 22,
   "metadata": {},
   "outputs": [
    {
     "data": {
      "image/png": "[encoded data removed]",
      "text/plain": [
       "<Figure size 1440x432 with 1 Axes>"
      ]
     },
     "metadata": {},
     "output_type": "display_data"
    }
   ],
   "source": [
    "'''Basic least-squares reaction rates'''\n",
    "\n",
    "fig, ax = plt.subplots(figsize=(20,6))\n",
    "ax.bar(range(len(reactions)), mech_rxn_rates_mtrx[:,idx_min], color='orange')\n",
    "plt.xticks(range(len(reactions)),reactions,rotation=60,fontsize=14)\n",
    "ax.set_ylabel('Reaction rate',fontsize=16)\n",
    "ax.set_xlabel('Reaction',fontsize=16)\n",
    "ax.xaxis.grid(True,linestyle='-',which='major',color='lightgrey',alpha=0.9)\n",
    "fig.suptitle('Basic LS Reaction Rates',fontsize=20)\n",
    "plt.show()"
   ]
  },
  {
   "cell_type": "code",
   "execution_count": 23,
   "metadata": {},
   "outputs": [
    {
     "data": {
      "image/png": "[encoded data removed]",
      "text/plain": [
       "<Figure size 1440x432 with 1 Axes>"
      ]
     },
     "metadata": {},
     "output_type": "display_data"
    }
   ],
   "source": [
    "'''Plot of the input species production rate'''\n",
    "\n",
    "fig, ax = plt.subplots(figsize=(20,6))\n",
    "ax.bar(range(len(species)), g_vec, color='blue')\n",
    "plt.xticks(range(len(species)),species,rotation=60,fontsize=14)\n",
    "ax.set_ylabel('Species Production Rate',fontsize=16)\n",
    "ax.set_xlabel('Species',fontsize=16)\n",
    "ax.xaxis.grid(True,linestyle='-',which='major',color='lightgrey',alpha=0.9)\n",
    "fig.suptitle('Input Species Production Rates ('+str(len(species))+')',fontsize=20)\n",
    "plt.show()"
   ]
  },
  {
   "cell_type": "code",
   "execution_count": null,
   "metadata": {},
   "outputs": [],
   "source": []
  }
 ],
 "metadata": {
  "kernelspec": {
   "display_name": "Python 3",
   "language": "python",
   "name": "python3"
  },
  "language_info": {
   "codemirror_mode": {
    "name": "ipython",
    "version": 3
   },
   "file_extension": ".py",
   "mimetype": "text/x-python",
   "name": "python",
   "nbconvert_exporter": "python",
   "pygments_lexer": "ipython3",
   "version": "3.6.5"
  },
  "latex_envs": {
   "LaTeX_envs_menu_present": true,
   "autoclose": false,
   "autocomplete": true,
   "bibliofile": "biblio.bib",
   "cite_by": "apalike",
   "current_citInitial": 1,
   "eqLabelWithNumbers": true,
   "eqNumInitial": 1,
   "hotkeys": {
    "equation": "Ctrl-E",
    "itemize": "Ctrl-I"
   },
   "labels_anchors": false,
   "latex_user_defs": false,
   "report_style_numbering": false,
   "user_envs_cfg": false
  }
 },
 "nbformat": 4,
 "nbformat_minor": 2
}
