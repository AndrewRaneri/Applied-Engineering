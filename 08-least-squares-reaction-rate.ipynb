{
 "cells": [
  {
   "cell_type": "markdown",
   "metadata": {},
   "source": [
    "ChEn-3170: Computational Methods in Chemical Engineering Fall 2018 UMass Lowell; Prof. V. F. de Almeida **12Oct2018**\n",
    "\n",
    "# 08. Least-Squares Reaction Rates\n",
    "$  \n",
    "  \\newcommand{\\Amtrx}{\\boldsymbol{\\mathsf{A}}}\n",
    "  \\newcommand{\\Bmtrx}{\\boldsymbol{\\mathsf{B}}}\n",
    "  \\newcommand{\\Mmtrx}{\\boldsymbol{\\mathsf{M}}}\n",
    "  \\newcommand{\\Imtrx}{\\boldsymbol{\\mathsf{I}}}\n",
    "  \\newcommand{\\Pmtrx}{\\boldsymbol{\\mathsf{P}}}\n",
    "  \\newcommand{\\Lmtrx}{\\boldsymbol{\\mathsf{L}}}\n",
    "  \\newcommand{\\Umtrx}{\\boldsymbol{\\mathsf{U}}}\n",
    "  \\newcommand{\\Smtrx}{\\boldsymbol{\\mathsf{S}}}\n",
    "  \\newcommand{\\xvec}{\\boldsymbol{\\mathsf{x}}}\n",
    "  \\newcommand{\\avec}{\\boldsymbol{\\mathsf{a}}}\n",
    "  \\newcommand{\\bvec}{\\boldsymbol{\\mathsf{b}}}\n",
    "  \\newcommand{\\cvec}{\\boldsymbol{\\mathsf{c}}}\n",
    "  \\newcommand{\\rvec}{\\boldsymbol{\\mathsf{r}}}\n",
    "  \\newcommand{\\mvec}{\\boldsymbol{\\mathsf{m}}}\n",
    "  \\newcommand{\\gvec}{\\boldsymbol{\\mathsf{g}}}\n",
    "  \\newcommand{\\zerovec}{\\boldsymbol{\\mathsf{0}}}\n",
    "  \\newcommand{\\norm}[1]{\\bigl\\lVert{#1}\\bigr\\rVert}\n",
    "  \\newcommand{\\transpose}[1]{{#1}^\\top}\n",
    "  \\DeclareMathOperator{\\rank}{rank}\n",
    "$"
   ]
  },
  {
   "cell_type": "markdown",
   "metadata": {},
   "source": [
    "---\n",
    "## Table of Contents\n",
    "* [Introduction](#intro)\n",
    "* [Reaction mechanism](#rxnmech)\n",
    "* [Linear independent](#indepen)\n",
    "* [Full-rank, sub-reaction mechanism](#subreact)\n",
    "* [Reaction frequency](#rxnfreq)\n",
    "---"
   ]
  },
  {
   "cell_type": "markdown",
   "metadata": {},
   "source": [
    "## Introduction<a id=\"intro\"></a>\n",
    "The relation between the reaction rates vector, $\\rvec$, and the species production rates vector, $\\gvec$, is given by $\\transpose{\\Smtrx}\\,\\rvec = \\gvec$. Since this is often a rectangular system, it remains the problem of finding one of the infinite number of solutions when $\\Smtrx$ is full rank. Specifically if $\\Smtrx$ is $m \\times n$ with $m$ reactions and $n$ species, then $\\Smtrx^\\top$ is $n\\times m$, that is,\n",
    "$\\Smtrx^\\top = \n",
    "\\begin{pmatrix}\n",
    "S^\\top _{1,1} & S^\\top _{1,2} & \\dots  & S^\\top _{1,m} \\\\\n",
    "S^\\top _{2,1} & S^\\top _{2,2} & \\dots  & S^\\top _{2,m} \\\\\n",
    "\\vdots  & \\vdots  & \\ddots & \\vdots \\\\\n",
    "S^\\top _{n,1} & S^\\top _{n,2} & \\dots  & S^\\top _{n,m}\n",
    "\\end{pmatrix} \n",
    "$\n",
    "where $S^\\top_{i,j} = S_{j,i}$. The reaction rates and species production rates are related by the matrix\n",
    "product\n",
    "$\n",
    "\\begin{pmatrix}\n",
    "S^\\top _{1,1} & S^\\top _{1,2} & \\dots  & S^\\top _{1,m} \\\\\n",
    "S^\\top _{2,1} & S^\\top _{2,2} & \\dots  & S^\\top _{2,m} \\\\\n",
    "\\vdots  & \\vdots  & \\ddots & \\vdots \\\\\n",
    "S^\\top _{n,1} & S^\\top _{n,2} & \\dots  & S^\\top _{n,m}\n",
    "\\end{pmatrix} \n",
    "\\,\n",
    "\\begin{pmatrix}\n",
    "r_1 \\\\ \n",
    "r_2 \\\\ \n",
    "\\vdots  \\\\ \n",
    "r_m \\\\ \n",
    "\\end{pmatrix}\n",
    "=\n",
    "\\begin{pmatrix}\n",
    "g_1 \\\\ \n",
    "g_2 \\\\ \n",
    "\\vdots  \\\\ \n",
    "g_n \\\\ \n",
    "\\end{pmatrix}\n",
    "$\n",
    "which shows that each species production rate has a contribution of every reaction:\n",
    "\\begin{equation*}\n",
    "g_j = \\sum\\limits_{i=1}^m S^\\top _{j,i}\\, r_i \\qquad\\  \\forall \\ \\qquad\\   j=1,\\ldots, n\n",
    "\\end{equation*}\n",
    "\n",
    "Refer to the classroom [notes](https://studentuml-my.sharepoint.com/:o:/g/personal/valmor_dealmeida_uml_edu/Evb2l8y2WNJCgNvJhcF0Pc4B-_TOOflJkiEAgCfICZwNVA?e=sV9YK0) on computational stoichiometry including an introduction to the linear, full-rank, least-squares method. To compute the reaction rates vector $\\rvec$ for a given species production vector $\\gvec$ we need to solve:\n",
    "\n",
    "\\begin{equation*}\n",
    "\\Smtrx^\\top\\,\\rvec = \\gvec .\n",
    "\\end{equation*}\n",
    "\n",
    "There exists a unique least-squares solution $\\rvec_\\text{LS}$  to this problem if $\\Smtrx$ is full rank. This solution is obtained by solving:\n",
    "\n",
    "\\begin{equation*}\n",
    "\\Smtrx\\,\\Smtrx^\\top\\,\\rvec_\\text{LS}  = \\Smtrx\\,\\gvec .\n",
    "\\end{equation*}\n",
    "\n",
    "However $\\Smtrx$ is often rank deficient which makes $\\Smtrx\\,\\Smtrx^\\top$ singular. One way to circumvent this problem for relatively small system of reactions is to perform a full-rank reaction sub-mechanism analysis and select the most *significant* full-rank sub-mechanism\n",
    "(refer to Notebook 07). Let's call this sub-mechanism full-rank matrix $\\Smtrx_1$, and its associated least-squares reaction rate the solution of\n",
    "\n",
    "\\begin{equation*}\n",
    "\\Smtrx_1\\,\\Smtrx_1^\\top\\,\\rvec_1  = \\Smtrx_1\\,\\gvec .\n",
    "\\end{equation*}\n",
    "\n",
    "Note that $\\rvec_1$ does not involve all reaction rates since $\\Smtrx_1$ is full rank and $\\Smtrx$ is not. Hence only the principal reactions of the original system is accounted for in the sub-mechanism with index $1$. The objective of this lecture is to compute $\\rvec_1$. The least-squares problem is just a $\\Amtrx\\,\\xvec=\\bvec$ with\n",
    "$\\Amtrx = \\Smtrx\\,\\Smtrx^\\top$ and $\\bvec = \\Smtrx\\,\\gvec$."
   ]
  },
  {
   "cell_type": "markdown",
   "metadata": {},
   "source": [
    "## Reaction mechanism<a id=\"rxnmech\"></a>\n",
    "Refer to course Notebook 07."
   ]
  },
  {
   "cell_type": "code",
   "execution_count": null,
   "metadata": {},
   "outputs": [],
   "source": [
    "'''Read a reaction mechanism and create data structures'''\n",
    "\n",
    "# build the stoichiometric matrix\n",
    "from chen_3170.toolkit import reaction_mechanism\n",
    "(species, reactions, stoic_mtrx) = reaction_mechanism('data/ammonia-rxn.txt')\n",
    "\n",
    "# sanity checks\n",
    "print(species)\n",
    "from chen_3170.help import print_reactions\n",
    "print_reactions(reactions)"
   ]
  },
  {
   "cell_type": "code",
   "execution_count": null,
   "metadata": {},
   "outputs": [],
   "source": [
    "'''Check the stoichiometric matrix'''\n",
    "\n",
    "from chen_3170.help import plot_matrix\n",
    "plot_matrix(stoic_mtrx, title='Ammonia Oxidation Stoichiometric Matrix')\n",
    "print('stoic_mtrx=\\n',stoic_mtrx)"
   ]
  },
  {
   "cell_type": "markdown",
   "metadata": {},
   "source": [
    "## Full-rank, reaction sub-mechanisms<a id=\"stoicmtrx\"></a>\n",
    "Refer to course Notebook 07."
   ]
  },
  {
   "cell_type": "code",
   "execution_count": null,
   "metadata": {},
   "outputs": [],
   "source": [
    "'''Build the full-rank sub-mechanism reactions list'''\n",
    "\n",
    "from chen_3170.toolkit import reaction_sub_mechanisms\n",
    "sub_mechanisms_reactions = reaction_sub_mechanisms( species, reactions, stoic_mtrx )"
   ]
  },
  {
   "cell_type": "code",
   "execution_count": null,
   "metadata": {},
   "outputs": [],
   "source": [
    "'''Top reaction sub-mechanism'''\n",
    "\n",
    "print(sub_mechanisms_reactions[0])"
   ]
  },
  {
   "cell_type": "code",
   "execution_count": null,
   "metadata": {},
   "outputs": [],
   "source": [
    "'''Top reaction sub-mechanism stoichiometric matrix'''\n",
    "\n",
    "sub_mechanism_1 = sub_mechanisms_reactions[0]\n",
    "reactions_1 = sub_mechanism_1[1]\n",
    "\n",
    "( dummy, dummy, stoic_mtrx_1 ) = reaction_mechanism( reactions = reactions_1 ) # taking advantage of this function\n",
    "\n",
    "plot_matrix(stoic_mtrx_1, title='Sub-Mech 1')\n",
    "print('S_1=\\n',stoic_mtrx_1)\n"
   ]
  },
  {
   "cell_type": "markdown",
   "metadata": {},
   "source": [
    "## Least-squares reaction rates<a id=\"stoicmtrx\"></a>\n",
    "Refer to course Notebook 07."
   ]
  },
  {
   "cell_type": "code",
   "execution_count": null,
   "metadata": {},
   "outputs": [],
   "source": [
    "'''Compute the LS reaction rates for random species production rates'''\n",
    "\n",
    "import numpy as np\n",
    "g_vec = np.random.random(len(species))\n",
    "\n",
    "# build A x = b LS problem\n",
    "a_mtrx = stoic_mtrx_1 @ stoic_mtrx_1.transpose()\n",
    "b_vec  = stoic_mtrx_1 @ g_vec\n",
    "\n",
    "# matrix LU factorization\n",
    "from chen_3170.toolkit import lu_factorization\n",
    "(P,L,U,s_rank) = lu_factorization( a_mtrx, 'partial' )\n",
    "assert s_rank == np.linalg.matrix_rank(stoic_mtrx_1)\n",
    "\n",
    "# triangular solve operations\n",
    "from chen_3170.help import forward_solve\n",
    "from chen_3170.toolkit import backward_solve\n",
    "y_vec = forward_solve( L, P @ b_vec)\n",
    "x_vec = backward_solve( U, y_vec)\n",
    "assert np.linalg.norm(x_vec - np.linalg.solve(a_mtrx,b_vec)) < 1e-12\n",
    "\n",
    "r_vec_1 = x_vec\n",
    "print('reaction rates =',r_vec_1)\n",
    "print('species production rates =',g_vec)"
   ]
  },
  {
   "cell_type": "code",
   "execution_count": null,
   "metadata": {},
   "outputs": [],
   "source": [
    "'''Which reaction rates are these?'''\n",
    "\n",
    "from chen_3170.help import print_reactions\n",
    "print_reactions(reactions_1)\n",
    "print(sub_mechanism_1)\n",
    "print_reactions(reactions)"
   ]
  },
  {
   "cell_type": "code",
   "execution_count": null,
   "metadata": {},
   "outputs": [],
   "source": []
  }
 ],
 "metadata": {
  "kernelspec": {
   "display_name": "Python 3",
   "language": "python",
   "name": "python3"
  },
  "language_info": {
   "codemirror_mode": {
    "name": "ipython",
    "version": 3
   },
   "file_extension": ".py",
   "mimetype": "text/x-python",
   "name": "python",
   "nbconvert_exporter": "python",
   "pygments_lexer": "ipython3",
   "version": "3.6.5"
  },
  "latex_envs": {
   "LaTeX_envs_menu_present": true,
   "autoclose": false,
   "autocomplete": true,
   "bibliofile": "biblio.bib",
   "cite_by": "apalike",
   "current_citInitial": 1,
   "eqLabelWithNumbers": true,
   "eqNumInitial": 1,
   "hotkeys": {
    "equation": "Ctrl-E",
    "itemize": "Ctrl-I"
   },
   "labels_anchors": false,
   "latex_user_defs": false,
   "report_style_numbering": false,
   "user_envs_cfg": false
  }
 },
 "nbformat": 4,
 "nbformat_minor": 2
}
