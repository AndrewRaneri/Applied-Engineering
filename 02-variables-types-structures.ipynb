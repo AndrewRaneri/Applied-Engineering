{
 "cells": [
  {
   "cell_type": "markdown",
   "metadata": {},
   "source": [
    "ChEn-3170: Computational Methods for Chemical Engineering Fall 2018 UMass Lowell; Prof. V. F. de Almeida **10Sep2018**\n",
    "\n",
    "# 02. Python: Variables, Types, and Structures"
   ]
  },
  {
   "cell_type": "markdown",
   "metadata": {},
   "source": [
    "---\n",
    "## Table of Contents<a id=\"toc\"></a>\n",
    "* [Introduction](#introduction)\n",
    "* [Variables](#variables)\n",
    " - [Boolean](#boolean)\n",
    " - [String](#string)\n",
    " - [Numeric](#numeric)\n",
    " - [Conversion](#conversion)\n",
    "* [Structures](#structures)\n",
    " - [List](#list)\n",
    " - [Dictionary](#dictionary)\n",
    " - [Tuple](#tuple)\n",
    " - [Set](#set)\n",
    "* [Summary](#summary)\n",
    "* [Interactive Help](#help)\n",
    "* [Practicing w/ Lists](#lists)\n",
    "* [Practicing w/ Dictionaries](#dictionaries)\n",
    "* [Practicing w/ Tuples](#tuples)\n",
    "* [Practicing w/ Sets](#sets)\n",
    "---"
   ]
  },
  {
   "cell_type": "markdown",
   "metadata": {},
   "source": [
    "## Introduction<a id=\"introduction\"></a>\n",
    "+ *Variables* are objects that hold data.\n",
    "+ *Types* determine what kind of data a variable is supposed to contain. Python variable types are dynamically assigned/modified at runtime. *Introspection* allows for finding the type of a variable.\n",
    "+ *Structures* are different ways of storing data\n",
    "\n",
    "#### We will use in this course 3 basic data types (or types):\n",
    "+ **Boolean:** `True` or `False`\n",
    "* **Strings:** alphanumeric\n",
    "- **Numeric:** integer (`int`) or float (`float`)\n",
    "\n",
    "#### [Python](https://www.python.org/) ([documentation](https://docs.python.org/3.6/contents.html)) has also a help utiliy in the interpreter\n",
    "+ `help()`\n",
    "\n",
    "If you want to learn Python in a deeper way, one book I personally recommend is: [*Learning Python*](https://www.amazon.com/Learning-Python-5th-Mark-Lutz/dp/1449355730) by Mark Lutz, $5^\\text{th}$ Edition, O'Reilly, **2013**."
   ]
  },
  {
   "cell_type": "code",
   "execution_count": null,
   "metadata": {},
   "outputs": [],
   "source": [
    "'''Interactive help warning'''\n",
    "#help()  # don't leave this running on your interactive session; clear the output after running it"
   ]
  },
  {
   "cell_type": "markdown",
   "metadata": {},
   "source": [
    "## Variables<a id=\"variables\"></a>\n",
    "Standard practice in Python programming is to use snake case variable names, i.e. \n",
    "<span style=\"color:red\">*my_variable_name*</span>"
   ]
  },
  {
   "cell_type": "markdown",
   "metadata": {},
   "source": [
    "### Boolean variables<a id=\"boolean\"></a>"
   ]
  },
  {
   "cell_type": "code",
   "execution_count": null,
   "metadata": {},
   "outputs": [],
   "source": [
    "'''Creation and inspection'''\n",
    "hello = True                                     # hello is a variable name and type is boolean or the same as 1\n",
    "a = hello                                \n",
    "b = False                                        # a boolean or the same as 0\n",
    "print('a is ',a, type(a), '; b is ', b, type(b)) # print command for output to standard output terminal"
   ]
  },
  {
   "cell_type": "code",
   "execution_count": null,
   "metadata": {},
   "outputs": [],
   "source": [
    "'''The \"print\" command is a reserved keyword in Python'''\n",
    "help(print)"
   ]
  },
  {
   "cell_type": "markdown",
   "metadata": {},
   "source": [
    "### String (alpha-numeric) variables<a id = \"string\"></a>"
   ]
  },
  {
   "cell_type": "code",
   "execution_count": null,
   "metadata": {},
   "outputs": [],
   "source": [
    "'''Creating and inspecting a \"water\" string type'''\n",
    "water = 'H2O'                           # the water variable is assigned a string using quotes\n",
    "print(water,' is of type',type(water))  "
   ]
  },
  {
   "cell_type": "code",
   "execution_count": null,
   "metadata": {
    "scrolled": true
   },
   "outputs": [],
   "source": [
    "'''Creating and inspecting a \"nuclide\" string type'''\n",
    "nuclide = 'U-238'                # assigned to using quotes\n",
    "print(str.__dict__)              # there is a lot more to a str() type..."
   ]
  },
  {
   "cell_type": "code",
   "execution_count": null,
   "metadata": {},
   "outputs": [],
   "source": [
    "'''Accessing the indivicual characters of the \"nuclide\" string type'''\n",
    "print('# of characters in nuclide: ',len(nuclide))  # the length of the string\n",
    "print('nuclide[0] = ', nuclide[0])                  # access to each string character with indexing operator []\n",
    "print('nuclide[1] = ', nuclide[1])                  # access to each string character with indexing operator []\n",
    "print('nuclide[2] = ', nuclide[2])                  # access to each string character with indexing operator []"
   ]
  },
  {
   "cell_type": "code",
   "execution_count": null,
   "metadata": {},
   "outputs": [],
   "source": [
    "'''String types are immutable'''\n",
    "#nuclide[0] = 'Pu'    # let's change U to Pu; this is not allowed"
   ]
  },
  {
   "cell_type": "code",
   "execution_count": null,
   "metadata": {
    "scrolled": false
   },
   "outputs": [],
   "source": [
    "'''Applying the \"split()\" method on a string type'''\n",
    "tmp = nuclide.split('-')            # split the string at the '-' character and save the result in tmp (i.e. list)\n",
    "nuclide_element = tmp[0]            # capture the nuclide element             \n",
    "nuclide_isotope = tmp[1]            # capture the isotope number\n",
    "print('tmp type is ',type(tmp),'with values: ',tmp)"
   ]
  },
  {
   "cell_type": "markdown",
   "metadata": {},
   "source": [
    "### Numeric variables<a id=\"numeric\"></a>"
   ]
  },
  {
   "cell_type": "code",
   "execution_count": null,
   "metadata": {},
   "outputs": [],
   "source": [
    "a = 10         # variable a is assigned the integer 10\n",
    "print(type(a)) # print statement to print the type of a"
   ]
  },
  {
   "cell_type": "code",
   "execution_count": null,
   "metadata": {},
   "outputs": [],
   "source": [
    "a = 1.3e4       # float\n",
    "print(type(a))"
   ]
  },
  {
   "cell_type": "code",
   "execution_count": null,
   "metadata": {},
   "outputs": [],
   "source": [
    "a = 1\n",
    "print('type(a) =',type(a))\n",
    "a = 1.0\n",
    "print('type(a) =',type(a))"
   ]
  },
  {
   "cell_type": "markdown",
   "metadata": {},
   "source": [
    "NB: different types; `int` versus `float`. An important difference in rounding off or truncation error."
   ]
  },
  {
   "cell_type": "markdown",
   "metadata": {},
   "source": [
    "### Type conversion (implicit and explicit or casting) and dynamic type change<a id=\"conversion\"></a>"
   ]
  },
  {
   "cell_type": "code",
   "execution_count": null,
   "metadata": {},
   "outputs": [],
   "source": [
    "'''Casting an integer to float'''\n",
    "a = float(5)     # an integer is casted into a float\n",
    "print(type(a))"
   ]
  },
  {
   "cell_type": "code",
   "execution_count": null,
   "metadata": {},
   "outputs": [],
   "source": [
    "'''Casting up'''\n",
    "a = 1; b = 1.0    # note a is an integer and b is a float\n",
    "print(type(a*b))  # the result of the product is a float"
   ]
  },
  {
   "cell_type": "code",
   "execution_count": null,
   "metadata": {},
   "outputs": [],
   "source": [
    "'''Truncation casting'''\n",
    "a = int(5.87)         # a float is casted into a truncated integer\n",
    "b = int(5.21)         # a float is casted into a truncated integer (no rounding to the next integer)\n",
    "print('a =',a,';', type(a)) # print format statement\n",
    "print('b =',b,';', type(b)) # print format statement"
   ]
  },
  {
   "cell_type": "code",
   "execution_count": null,
   "metadata": {},
   "outputs": [],
   "source": [
    "'''Dynamic type change'''\n",
    "a = 10         # integer\n",
    "print(type(a))\n",
    "a = True       # now assigned to a boolean\n",
    "print(type(a))"
   ]
  },
  {
   "cell_type": "markdown",
   "metadata": {},
   "source": [
    "## Structures<a id=\"structures\"></a>\n",
    "\n",
    "Python has 3 basic native data structures of interest in this course:\n",
    "- **Linked lists:** `list()` (ordered sequence of any type of objects)\n",
    "- **Dictionary:** `dict()`   (unordered sequence of key-value pairs of any type of objects)\n",
    "- **Tuples:** `tuple()`      (immutable sequence of any type of objects)\n",
    "- **Sets:** `set()`          (immutable group of unique objects of *certain* types)"
   ]
  },
  {
   "cell_type": "markdown",
   "metadata": {},
   "source": [
    "### List: sequence of data types<a id=\"list\"></a>"
   ]
  },
  {
   "cell_type": "code",
   "execution_count": null,
   "metadata": {},
   "outputs": [],
   "source": [
    "'''Creation of list types'''\n",
    "atoms = list()                                  # create empty list of atoms via list()\n",
    "atoms = []                                      # create empty list of atoms via brackets []\n",
    "print('atoms = ',atoms, '; type =',type(atoms))\n",
    "\n",
    "water_atoms = ['2*H','O']                       # create list of atoms in a water molecule: use the [...] container\n",
    "methane_atoms = ['C','4*H']                     # list of atoms in a methane molecule: use the [...] container\n",
    "print('water = ',water_atoms)\n",
    "print('methane = ', methane_atoms)"
   ]
  },
  {
   "cell_type": "code",
   "execution_count": null,
   "metadata": {},
   "outputs": [],
   "source": [
    "'''Access to list items via indexing: indexing in Python uses zero offset'''\n",
    "print(water_atoms, '; length = ',len(water_atoms)) # note the len() method used on \"water_atoms\"\n",
    "print(water_atoms[0])                             # note indexing operation on \"water_atoms\"\n",
    "print(water_atoms[1])"
   ]
  },
  {
   "cell_type": "markdown",
   "metadata": {},
   "source": [
    "### Dictionary: key-value pairs in any order<a id='dictionary'></a>"
   ]
  },
  {
   "cell_type": "code",
   "execution_count": null,
   "metadata": {},
   "outputs": [],
   "source": [
    "'''Creation of a \"species\" dictionary type'''\n",
    "species = dict()           # create an empty dictionary type variable named \"species\"\n",
    "species = {}               # another way to create the same variable {} (curly brackets)\n",
    "\n",
    "species = {'water': water_atoms, 'methane': methane_atoms}  # one way to create a species dictionary {} container\n",
    "print('species type =',type(species))                       # keys and values pairs:  {key:value, key:value, ...}\n",
    "print('species = ',species)\n",
    "\n",
    "'''Creation of a dictionary type using the key and its value directly'''\n",
    "species = dict()  # clear the species object and make it a dict type\n",
    "species['methane'] = methane_atoms     # insert directly into the dictionary (note: order does not matter)\n",
    "species['water']   = water_atoms       # insert directly into the dictionary (note: order does not matter)\n",
    "print('species type =', type(species))\n",
    "print('species = ', species)\n",
    "print(\"species['water'] = \", species['water'])"
   ]
  },
  {
   "cell_type": "code",
   "execution_count": null,
   "metadata": {},
   "outputs": [],
   "source": [
    "'''Inspect keys and values'''\n",
    "print(species.keys())      # keys() method to access the keys\n",
    "print(species.values())    # values() method to access the values"
   ]
  },
  {
   "cell_type": "markdown",
   "metadata": {},
   "source": [
    "### Tuple: immutable sequence of data types<a id=\"tuple\"></a>"
   ]
  },
  {
   "cell_type": "code",
   "execution_count": null,
   "metadata": {},
   "outputs": [],
   "source": [
    "'''Creation of a tuple type'''\n",
    "velocity = tuple()                                  # create an emtpy \"velocity\" tuple type\n",
    "velocity = ()                                       # another way to create an empty tuple via parenthesis ()\n",
    "print('velocity is: ',velocity,'; type is: ', type(velocity))"
   ]
  },
  {
   "cell_type": "code",
   "execution_count": null,
   "metadata": {},
   "outputs": [],
   "source": [
    "'''Create a tuple with data directly'''\n",
    "velocity = (3.1, 4.5, -7.8)   # use the () container to create a tuple of any length\n",
    "print('velocity vector = ',velocity)\n",
    "print('velocity type   = ',type(velocity))\n",
    "\n",
    "'''Access values in the tuple'''\n",
    "print('velocity component 1 = ',velocity[0])    # zero offset access with indexing operator []\n",
    "print('velocity component 2 = ',velocity[1])\n",
    "print('velocity component 3 = ',velocity[2])\n",
    "#print('velocity component 4 = ',velocity[3]) # will cause an out of bounds or range error"
   ]
  },
  {
   "cell_type": "code",
   "execution_count": null,
   "metadata": {},
   "outputs": [],
   "source": [
    "'''A tuple is immutable'''\n",
    "#velocity[1] = 5.8      # assignment is not allowed"
   ]
  },
  {
   "cell_type": "markdown",
   "metadata": {},
   "source": [
    "### Set: immutable group of unique data types<a id=\"set\"></a>"
   ]
  },
  {
   "cell_type": "code",
   "execution_count": null,
   "metadata": {},
   "outputs": [],
   "source": [
    "'''Creation of a \"species\" dictionary type'''\n",
    "air = set()         # create an empty set type variable named \"air\"\n",
    "air = {}            # another way to create the same variable via curly brackets {}\n",
    "\n",
    "air = {'water', 'methane', 'argon', 'O2', 'N2','water'}  # create an \"air\" set {} container\n",
    "print('air type =',type(air))            \n",
    "print('air      = ',air)\n",
    "print('sorted air = ',sorted(air)) # what is this doing?"
   ]
  },
  {
   "cell_type": "code",
   "execution_count": null,
   "metadata": {},
   "outputs": [],
   "source": [
    "'''A set type is not ordered thus indexing is not available'''\n",
    "#air[0]   # produces an error\n",
    "\n",
    "weird_set = {2.3, 8, 10.1,'O2', 'iphone'}\n",
    "print('intersection =',air & weird_set)         # intersection of sets, operator \"&\"\n",
    "print('union        =',air | weird_set)                # union of sets, operator \"|\""
   ]
  },
  {
   "cell_type": "code",
   "execution_count": null,
   "metadata": {},
   "outputs": [],
   "source": [
    "help(set)"
   ]
  },
  {
   "cell_type": "markdown",
   "metadata": {},
   "source": [
    "### Summary<a id=\"summary\"></a>"
   ]
  },
  {
   "cell_type": "code",
   "execution_count": null,
   "metadata": {},
   "outputs": [],
   "source": [
    "string = ''         # empty string (cryptic)\n",
    "string = str()      # empty string\n",
    "\n",
    "listing = []        # empty list (cryptic)\n",
    "listing = list()    # empty list\n",
    "\n",
    "dictionary = {}     # empty dictionary (cryptic)\n",
    "dictionary = dict() # empty dictionary\n",
    "\n",
    "tuple_a = ()        # empty tuple (cryptic)\n",
    "tuple_a = tuple()   # empty tuple\n",
    "\n",
    "set_a = {}          # empty set (cryptic and clashes with a dictionary)\n",
    "set_a = set()       # emtpty set"
   ]
  },
  {
   "cell_type": "markdown",
   "metadata": {},
   "source": [
    "### Interactive Help<a id=\"help\"></a>\n",
    "Practical help sources at the Python interactive prompt\n",
    "+ `dir()` : shows the objects in the interactive session\n",
    "+ `dir(object)` : use this built-in function on a Python *object* to obtain a list of methods\n",
    "+ `help()` : use this built-in function on anything to obtain information on what the argument does"
   ]
  },
  {
   "cell_type": "code",
   "execution_count": null,
   "metadata": {
    "scrolled": true
   },
   "outputs": [],
   "source": [
    "dir()  # show the local variables in the current session"
   ]
  },
  {
   "cell_type": "code",
   "execution_count": 60,
   "metadata": {
    "scrolled": true
   },
   "outputs": [
    {
     "data": {
      "text/plain": [
       "['__add__',\n",
       " '__class__',\n",
       " '__contains__',\n",
       " '__delattr__',\n",
       " '__dir__',\n",
       " '__doc__',\n",
       " '__eq__',\n",
       " '__format__',\n",
       " '__ge__',\n",
       " '__getattribute__',\n",
       " '__getitem__',\n",
       " '__getnewargs__',\n",
       " '__gt__',\n",
       " '__hash__',\n",
       " '__init__',\n",
       " '__init_subclass__',\n",
       " '__iter__',\n",
       " '__le__',\n",
       " '__len__',\n",
       " '__lt__',\n",
       " '__mod__',\n",
       " '__mul__',\n",
       " '__ne__',\n",
       " '__new__',\n",
       " '__reduce__',\n",
       " '__reduce_ex__',\n",
       " '__repr__',\n",
       " '__rmod__',\n",
       " '__rmul__',\n",
       " '__setattr__',\n",
       " '__sizeof__',\n",
       " '__str__',\n",
       " '__subclasshook__',\n",
       " 'capitalize',\n",
       " 'casefold',\n",
       " 'center',\n",
       " 'count',\n",
       " 'encode',\n",
       " 'endswith',\n",
       " 'expandtabs',\n",
       " 'find',\n",
       " 'format',\n",
       " 'format_map',\n",
       " 'index',\n",
       " 'isalnum',\n",
       " 'isalpha',\n",
       " 'isdecimal',\n",
       " 'isdigit',\n",
       " 'isidentifier',\n",
       " 'islower',\n",
       " 'isnumeric',\n",
       " 'isprintable',\n",
       " 'isspace',\n",
       " 'istitle',\n",
       " 'isupper',\n",
       " 'join',\n",
       " 'ljust',\n",
       " 'lower',\n",
       " 'lstrip',\n",
       " 'maketrans',\n",
       " 'partition',\n",
       " 'replace',\n",
       " 'rfind',\n",
       " 'rindex',\n",
       " 'rjust',\n",
       " 'rpartition',\n",
       " 'rsplit',\n",
       " 'rstrip',\n",
       " 'split',\n",
       " 'splitlines',\n",
       " 'startswith',\n",
       " 'strip',\n",
       " 'swapcase',\n",
       " 'title',\n",
       " 'translate',\n",
       " 'upper',\n",
       " 'zfill']"
      ]
     },
     "execution_count": 60,
     "metadata": {},
     "output_type": "execute_result"
    }
   ],
   "source": [
    "dir(str) # inquire about all methods and atrributes this empty str() object has to offer"
   ]
  },
  {
   "cell_type": "code",
   "execution_count": 72,
   "metadata": {
    "scrolled": true
   },
   "outputs": [
    {
     "name": "stdout",
     "output_type": "stream",
     "text": [
      "Help on class str in module builtins:\n",
      "\n",
      "class str(object)\n",
      " |  str(object='') -> str\n",
      " |  str(bytes_or_buffer[, encoding[, errors]]) -> str\n",
      " |  \n",
      " |  Create a new string object from the given object. If encoding or\n",
      " |  errors is specified, then the object must expose a data buffer\n",
      " |  that will be decoded using the given encoding and error handler.\n",
      " |  Otherwise, returns the result of object.__str__() (if defined)\n",
      " |  or repr(object).\n",
      " |  encoding defaults to sys.getdefaultencoding().\n",
      " |  errors defaults to 'strict'.\n",
      " |  \n",
      " |  Methods defined here:\n",
      " |  \n",
      " |  __add__(self, value, /)\n",
      " |      Return self+value.\n",
      " |  \n",
      " |  __contains__(self, key, /)\n",
      " |      Return key in self.\n",
      " |  \n",
      " |  __eq__(self, value, /)\n",
      " |      Return self==value.\n",
      " |  \n",
      " |  __format__(...)\n",
      " |      S.__format__(format_spec) -> str\n",
      " |      \n",
      " |      Return a formatted version of S as described by format_spec.\n",
      " |  \n",
      " |  __ge__(self, value, /)\n",
      " |      Return self>=value.\n",
      " |  \n",
      " |  __getattribute__(self, name, /)\n",
      " |      Return getattr(self, name).\n",
      " |  \n",
      " |  __getitem__(self, key, /)\n",
      " |      Return self[key].\n",
      " |  \n",
      " |  __getnewargs__(...)\n",
      " |  \n",
      " |  __gt__(self, value, /)\n",
      " |      Return self>value.\n",
      " |  \n",
      " |  __hash__(self, /)\n",
      " |      Return hash(self).\n",
      " |  \n",
      " |  __iter__(self, /)\n",
      " |      Implement iter(self).\n",
      " |  \n",
      " |  __le__(self, value, /)\n",
      " |      Return self<=value.\n",
      " |  \n",
      " |  __len__(self, /)\n",
      " |      Return len(self).\n",
      " |  \n",
      " |  __lt__(self, value, /)\n",
      " |      Return self<value.\n",
      " |  \n",
      " |  __mod__(self, value, /)\n",
      " |      Return self%value.\n",
      " |  \n",
      " |  __mul__(self, value, /)\n",
      " |      Return self*value.n\n",
      " |  \n",
      " |  __ne__(self, value, /)\n",
      " |      Return self!=value.\n",
      " |  \n",
      " |  __new__(*args, **kwargs) from builtins.type\n",
      " |      Create and return a new object.  See help(type) for accurate signature.\n",
      " |  \n",
      " |  __repr__(self, /)\n",
      " |      Return repr(self).\n",
      " |  \n",
      " |  __rmod__(self, value, /)\n",
      " |      Return value%self.\n",
      " |  \n",
      " |  __rmul__(self, value, /)\n",
      " |      Return self*value.\n",
      " |  \n",
      " |  __sizeof__(...)\n",
      " |      S.__sizeof__() -> size of S in memory, in bytes\n",
      " |  \n",
      " |  __str__(self, /)\n",
      " |      Return str(self).\n",
      " |  \n",
      " |  capitalize(...)\n",
      " |      S.capitalize() -> str\n",
      " |      \n",
      " |      Return a capitalized version of S, i.e. make the first character\n",
      " |      have upper case and the rest lower case.\n",
      " |  \n",
      " |  casefold(...)\n",
      " |      S.casefold() -> str\n",
      " |      \n",
      " |      Return a version of S suitable for caseless comparisons.\n",
      " |  \n",
      " |  center(...)\n",
      " |      S.center(width[, fillchar]) -> str\n",
      " |      \n",
      " |      Return S centered in a string of length width. Padding is\n",
      " |      done using the specified fill character (default is a space)\n",
      " |  \n",
      " |  count(...)\n",
      " |      S.count(sub[, start[, end]]) -> int\n",
      " |      \n",
      " |      Return the number of non-overlapping occurrences of substring sub in\n",
      " |      string S[start:end].  Optional arguments start and end are\n",
      " |      interpreted as in slice notation.\n",
      " |  \n",
      " |  encode(...)\n",
      " |      S.encode(encoding='utf-8', errors='strict') -> bytes\n",
      " |      \n",
      " |      Encode S using the codec registered for encoding. Default encoding\n",
      " |      is 'utf-8'. errors may be given to set a different error\n",
      " |      handling scheme. Default is 'strict' meaning that encoding errors raise\n",
      " |      a UnicodeEncodeError. Other possible values are 'ignore', 'replace' and\n",
      " |      'xmlcharrefreplace' as well as any other name registered with\n",
      " |      codecs.register_error that can handle UnicodeEncodeErrors.\n",
      " |  \n",
      " |  endswith(...)\n",
      " |      S.endswith(suffix[, start[, end]]) -> bool\n",
      " |      \n",
      " |      Return True if S ends with the specified suffix, False otherwise.\n",
      " |      With optional start, test S beginning at that position.\n",
      " |      With optional end, stop comparing S at that position.\n",
      " |      suffix can also be a tuple of strings to try.\n",
      " |  \n",
      " |  expandtabs(...)\n",
      " |      S.expandtabs(tabsize=8) -> str\n",
      " |      \n",
      " |      Return a copy of S where all tab characters are expanded using spaces.\n",
      " |      If tabsize is not given, a tab size of 8 characters is assumed.\n",
      " |  \n",
      " |  find(...)\n",
      " |      S.find(sub[, start[, end]]) -> int\n",
      " |      \n",
      " |      Return the lowest index in S where substring sub is found,\n",
      " |      such that sub is contained within S[start:end].  Optional\n",
      " |      arguments start and end are interpreted as in slice notation.\n",
      " |      \n",
      " |      Return -1 on failure.\n",
      " |  \n",
      " |  format(...)\n",
      " |      S.format(*args, **kwargs) -> str\n",
      " |      \n",
      " |      Return a formatted version of S, using substitutions from args and kwargs.\n",
      " |      The substitutions are identified by braces ('{' and '}').\n",
      " |  \n",
      " |  format_map(...)\n",
      " |      S.format_map(mapping) -> str\n",
      " |      \n",
      " |      Return a formatted version of S, using substitutions from mapping.\n",
      " |      The substitutions are identified by braces ('{' and '}').\n",
      " |  \n",
      " |  index(...)\n",
      " |      S.index(sub[, start[, end]]) -> int\n",
      " |      \n",
      " |      Return the lowest index in S where substring sub is found, \n",
      " |      such that sub is contained within S[start:end].  Optional\n",
      " |      arguments start and end are interpreted as in slice notation.\n",
      " |      \n",
      " |      Raises ValueError when the substring is not found.\n",
      " |  \n",
      " |  isalnum(...)\n",
      " |      S.isalnum() -> bool\n",
      " |      \n",
      " |      Return True if all characters in S are alphanumeric\n",
      " |      and there is at least one character in S, False otherwise.\n",
      " |  \n",
      " |  isalpha(...)\n",
      " |      S.isalpha() -> bool\n",
      " |      \n",
      " |      Return True if all characters in S are alphabetic\n",
      " |      and there is at least one character in S, False otherwise.\n",
      " |  \n",
      " |  isdecimal(...)\n",
      " |      S.isdecimal() -> bool\n",
      " |      \n",
      " |      Return True if there are only decimal characters in S,\n",
      " |      False otherwise.\n",
      " |  \n",
      " |  isdigit(...)\n",
      " |      S.isdigit() -> bool\n",
      " |      \n",
      " |      Return True if all characters in S are digits\n",
      " |      and there is at least one character in S, False otherwise.\n",
      " |  \n",
      " |  isidentifier(...)\n",
      " |      S.isidentifier() -> bool\n",
      " |      \n",
      " |      Return True if S is a valid identifier according\n",
      " |      to the language definition.\n",
      " |      \n",
      " |      Use keyword.iskeyword() to test for reserved identifiers\n",
      " |      such as \"def\" and \"class\".\n",
      " |  \n",
      " |  islower(...)\n",
      " |      S.islower() -> bool\n",
      " |      \n",
      " |      Return True if all cased characters in S are lowercase and there is\n",
      " |      at least one cased character in S, False otherwise.\n",
      " |  \n",
      " |  isnumeric(...)\n",
      " |      S.isnumeric() -> bool\n",
      " |      \n",
      " |      Return True if there are only numeric characters in S,\n",
      " |      False otherwise.\n",
      " |  \n",
      " |  isprintable(...)\n",
      " |      S.isprintable() -> bool\n",
      " |      \n",
      " |      Return True if all characters in S are considered\n",
      " |      printable in repr() or S is empty, False otherwise.\n",
      " |  \n",
      " |  isspace(...)\n",
      " |      S.isspace() -> bool\n",
      " |      \n",
      " |      Return True if all characters in S are whitespace\n",
      " |      and there is at least one character in S, False otherwise.\n",
      " |  \n",
      " |  istitle(...)\n",
      " |      S.istitle() -> bool\n",
      " |      \n",
      " |      Return True if S is a titlecased string and there is at least one\n",
      " |      character in S, i.e. upper- and titlecase characters may only\n",
      " |      follow uncased characters and lowercase characters only cased ones.\n",
      " |      Return False otherwise.\n",
      " |  \n",
      " |  isupper(...)\n",
      " |      S.isupper() -> bool\n",
      " |      \n",
      " |      Return True if all cased characters in S are uppercase and there is\n",
      " |      at least one cased character in S, False otherwise.\n",
      " |  \n",
      " |  join(...)\n",
      " |      S.join(iterable) -> str\n",
      " |      \n",
      " |      Return a string which is the concatenation of the strings in the\n",
      " |      iterable.  The separator between elements is S.\n",
      " |  \n",
      " |  ljust(...)\n",
      " |      S.ljust(width[, fillchar]) -> str\n",
      " |      \n",
      " |      Return S left-justified in a Unicode string of length width. Padding is\n",
      " |      done using the specified fill character (default is a space).\n",
      " |  \n",
      " |  lower(...)\n",
      " |      S.lower() -> str\n",
      " |      \n",
      " |      Return a copy of the string S converted to lowercase.\n",
      " |  \n",
      " |  lstrip(...)\n",
      " |      S.lstrip([chars]) -> str\n",
      " |      \n",
      " |      Return a copy of the string S with leading whitespace removed.\n",
      " |      If chars is given and not None, remove characters in chars instead.\n",
      " |  \n",
      " |  partition(...)\n",
      " |      S.partition(sep) -> (head, sep, tail)\n",
      " |      \n",
      " |      Search for the separator sep in S, and return the part before it,\n",
      " |      the separator itself, and the part after it.  If the separator is not\n",
      " |      found, return S and two empty strings.\n",
      " |  \n",
      " |  replace(...)\n",
      " |      S.replace(old, new[, count]) -> str\n",
      " |      \n",
      " |      Return a copy of S with all occurrences of substring\n",
      " |      old replaced by new.  If the optional argument count is\n",
      " |      given, only the first count occurrences are replaced.\n",
      " |  \n",
      " |  rfind(...)\n",
      " |      S.rfind(sub[, start[, end]]) -> int\n",
      " |      \n",
      " |      Return the highest index in S where substring sub is found,\n",
      " |      such that sub is contained within S[start:end].  Optional\n",
      " |      arguments start and end are interpreted as in slice notation.\n",
      " |      \n",
      " |      Return -1 on failure.\n",
      " |  \n",
      " |  rindex(...)\n",
      " |      S.rindex(sub[, start[, end]]) -> int\n",
      " |      \n",
      " |      Return the highest index in S where substring sub is found,\n",
      " |      such that sub is contained within S[start:end].  Optional\n",
      " |      arguments start and end are interpreted as in slice notation.\n",
      " |      \n",
      " |      Raises ValueError when the substring is not found.\n",
      " |  \n",
      " |  rjust(...)\n",
      " |      S.rjust(width[, fillchar]) -> str\n",
      " |      \n",
      " |      Return S right-justified in a string of length width. Padding is\n",
      " |      done using the specified fill character (default is a space).\n",
      " |  \n",
      " |  rpartition(...)\n",
      " |      S.rpartition(sep) -> (head, sep, tail)\n",
      " |      \n",
      " |      Search for the separator sep in S, starting at the end of S, and return\n",
      " |      the part before it, the separator itself, and the part after it.  If the\n",
      " |      separator is not found, return two empty strings and S.\n",
      " |  \n",
      " |  rsplit(...)\n",
      " |      S.rsplit(sep=None, maxsplit=-1) -> list of strings\n",
      " |      \n",
      " |      Return a list of the words in S, using sep as the\n",
      " |      delimiter string, starting at the end of the string and\n",
      " |      working to the front.  If maxsplit is given, at most maxsplit\n",
      " |      splits are done. If sep is not specified, any whitespace string\n",
      " |      is a separator.\n",
      " |  \n",
      " |  rstrip(...)\n",
      " |      S.rstrip([chars]) -> str\n",
      " |      \n",
      " |      Return a copy of the string S with trailing whitespace removed.\n",
      " |      If chars is given and not None, remove characters in chars instead.\n",
      " |  \n",
      " |  split(...)\n",
      " |      S.split(sep=None, maxsplit=-1) -> list of strings\n",
      " |      \n",
      " |      Return a list of the words in S, using sep as the\n",
      " |      delimiter string.  If maxsplit is given, at most maxsplit\n",
      " |      splits are done. If sep is not specified or is None, any\n",
      " |      whitespace string is a separator and empty strings are\n",
      " |      removed from the result.\n",
      " |  \n",
      " |  splitlines(...)\n",
      " |      S.splitlines([keepends]) -> list of strings\n",
      " |      \n",
      " |      Return a list of the lines in S, breaking at line boundaries.\n",
      " |      Line breaks are not included in the resulting list unless keepends\n",
      " |      is given and true.\n",
      " |  \n",
      " |  startswith(...)\n",
      " |      S.startswith(prefix[, start[, end]]) -> bool\n",
      " |      \n",
      " |      Return True if S starts with the specified prefix, False otherwise.\n",
      " |      With optional start, test S beginning at that position.\n",
      " |      With optional end, stop comparing S at that position.\n",
      " |      prefix can also be a tuple of strings to try.\n",
      " |  \n",
      " |  strip(...)\n",
      " |      S.strip([chars]) -> str\n",
      " |      \n",
      " |      Return a copy of the string S with leading and trailing\n",
      " |      whitespace removed.\n",
      " |      If chars is given and not None, remove characters in chars instead.\n",
      " |  \n",
      " |  swapcase(...)\n",
      " |      S.swapcase() -> str\n",
      " |      \n",
      " |      Return a copy of S with uppercase characters converted to lowercase\n",
      " |      and vice versa.\n",
      " |  \n",
      " |  title(...)\n",
      " |      S.title() -> str\n",
      " |      \n",
      " |      Return a titlecased version of S, i.e. words start with title case\n",
      " |      characters, all remaining cased characters have lower case.\n",
      " |  \n",
      " |  translate(...)\n",
      " |      S.translate(table) -> str\n",
      " |      \n",
      " |      Return a copy of the string S in which each character has been mapped\n",
      " |      through the given translation table. The table must implement\n",
      " |      lookup/indexing via __getitem__, for instance a dictionary or list,\n",
      " |      mapping Unicode ordinals to Unicode ordinals, strings, or None. If\n",
      " |      this operation raises LookupError, the character is left untouched.\n",
      " |      Characters mapped to None are deleted.\n",
      " |  \n",
      " |  upper(...)\n",
      " |      S.upper() -> str\n",
      " |      \n",
      " |      Return a copy of S converted to uppercase.\n",
      " |  \n",
      " |  zfill(...)\n",
      " |      S.zfill(width) -> str\n",
      " |      \n",
      " |      Pad a numeric string S with zeros on the left, to fill a field\n",
      " |      of the specified width. The string S is never truncated.\n",
      " |  \n",
      " |  ----------------------------------------------------------------------\n",
      " |  Static methods defined here:\n",
      " |  \n",
      " |  maketrans(x, y=None, z=None, /)\n",
      " |      Return a translation table usable for str.translate().\n",
      " |      \n",
      " |      If there is only one argument, it must be a dictionary mapping Unicode\n",
      " |      ordinals (integers) or characters to Unicode ordinals, strings or None.\n",
      " |      Character keys will be then converted to ordinals.\n",
      " |      If there are two arguments, they must be strings of equal length, and\n",
      " |      in the resulting dictionary, each character in x will be mapped to the\n",
      " |      character at the same position in y. If there is a third argument, it\n",
      " |      must be a string, whose characters will be mapped to None in the result.\n",
      "\n"
     ]
    }
   ],
   "source": [
    "help(str) # inquire about what the str() methods do"
   ]
  },
  {
   "cell_type": "markdown",
   "metadata": {},
   "source": [
    "## Practicing w/ Lists<a id=\"lists\"></a>"
   ]
  },
  {
   "cell_type": "code",
   "execution_count": null,
   "metadata": {},
   "outputs": [],
   "source": [
    "'''Getting data into a list data type'''\n",
    "my_data = range(10)                                      # create a range of integers: 0 to 9\n",
    "print('my_data = ',my_data, '\\ntype = ',type(my_data)) # not very revealing since range() does not create data until needed\n",
    "print(list(my_data))                                   # this creates a list() and reveals the data created"
   ]
  },
  {
   "cell_type": "markdown",
   "metadata": {},
   "source": [
    "Note that `my_data` is of type `range` and does not hold an explicit *range* of data (see line 2 above). Once manipulation of data is requested (line 3 above; when a `list` is created), data is created (0, 1, ... 9) by the `my_data` object. This is called *deferred evaluation*."
   ]
  },
  {
   "cell_type": "code",
   "execution_count": 73,
   "metadata": {
    "scrolled": true
   },
   "outputs": [
    {
     "name": "stdout",
     "output_type": "stream",
     "text": [
      "Help on class range in module builtins:\n",
      "\n",
      "class range(object)\n",
      " |  range(stop) -> range object\n",
      " |  range(start, stop[, step]) -> range object\n",
      " |  \n",
      " |  Return an object that produces a sequence of integers from start (inclusive)\n",
      " |  to stop (exclusive) by step.  range(i, j) produces i, i+1, i+2, ..., j-1.\n",
      " |  start defaults to 0, and stop is omitted!  range(4) produces 0, 1, 2, 3.\n",
      " |  These are exactly the valid indices for a list of 4 elements.\n",
      " |  When step is given, it specifies the increment (or decrement).\n",
      " |  \n",
      " |  Methods defined here:\n",
      " |  \n",
      " |  __bool__(self, /)\n",
      " |      self != 0\n",
      " |  \n",
      " |  __contains__(self, key, /)\n",
      " |      Return key in self.\n",
      " |  \n",
      " |  __eq__(self, value, /)\n",
      " |      Return self==value.\n",
      " |  \n",
      " |  __ge__(self, value, /)\n",
      " |      Return self>=value.\n",
      " |  \n",
      " |  __getattribute__(self, name, /)\n",
      " |      Return getattr(self, name).\n",
      " |  \n",
      " |  __getitem__(self, key, /)\n",
      " |      Return self[key].\n",
      " |  \n",
      " |  __gt__(self, value, /)\n",
      " |      Return self>value.\n",
      " |  \n",
      " |  __hash__(self, /)\n",
      " |      Return hash(self).\n",
      " |  \n",
      " |  __iter__(self, /)\n",
      " |      Implement iter(self).\n",
      " |  \n",
      " |  __le__(self, value, /)\n",
      " |      Return self<=value.\n",
      " |  \n",
      " |  __len__(self, /)\n",
      " |      Return len(self).\n",
      " |  \n",
      " |  __lt__(self, value, /)\n",
      " |      Return self<value.\n",
      " |  \n",
      " |  __ne__(self, value, /)\n",
      " |      Return self!=value.\n",
      " |  \n",
      " |  __new__(*args, **kwargs) from builtins.type\n",
      " |      Create and return a new object.  See help(type) for accurate signature.\n",
      " |  \n",
      " |  __reduce__(...)\n",
      " |      helper for pickle\n",
      " |  \n",
      " |  __repr__(self, /)\n",
      " |      Return repr(self).\n",
      " |  \n",
      " |  __reversed__(...)\n",
      " |      Return a reverse iterator.\n",
      " |  \n",
      " |  count(...)\n",
      " |      rangeobject.count(value) -> integer -- return number of occurrences of value\n",
      " |  \n",
      " |  index(...)\n",
      " |      rangeobject.index(value, [start, [stop]]) -> integer -- return index of value.\n",
      " |      Raise ValueError if the value is not present.\n",
      " |  \n",
      " |  ----------------------------------------------------------------------\n",
      " |  Data descriptors defined here:\n",
      " |  \n",
      " |  start\n",
      " |  \n",
      " |  step\n",
      " |  \n",
      " |  stop\n",
      "\n"
     ]
    }
   ],
   "source": [
    "'''Getting help on \"range\"'''\n",
    "help(range)  # help on range"
   ]
  },
  {
   "cell_type": "code",
   "execution_count": null,
   "metadata": {},
   "outputs": [],
   "source": [
    "'''Data with start and stop values'''\n",
    "list(range(4,7))     # range(i,j) = [i,i+1,...,j-1]"
   ]
  },
  {
   "cell_type": "code",
   "execution_count": null,
   "metadata": {},
   "outputs": [],
   "source": [
    "'''Data w/ equal start and stop values'''\n",
    "list(range(4,4))     # empty list range(4,4) = [] "
   ]
  },
  {
   "cell_type": "code",
   "execution_count": null,
   "metadata": {},
   "outputs": [],
   "source": [
    "'''Data w/ start, stop and step values'''\n",
    "list(range(4,8,2))   # range(4,8,2) = [4,...,8-1] in steps of 2, i.e. [4,6]"
   ]
  },
  {
   "cell_type": "code",
   "execution_count": null,
   "metadata": {},
   "outputs": [],
   "source": [
    "'''Data w/ negative start and end values'''\n",
    "list(range(-10,-1,2))"
   ]
  },
  {
   "cell_type": "code",
   "execution_count": null,
   "metadata": {},
   "outputs": [],
   "source": [
    "'''Indexing access of the data'''\n",
    "data_lst = list(range(67,138,3))      # generate a list of integers\n",
    "print('data =', data_lst)             # show all data\n",
    "print('data length = ',len(data_lst)) # show the length of the data\n",
    "print('data_lst[5] =',data_lst[5])    # what is the offset at 5?\n",
    "#data_lst[24]                         # this causes an error"
   ]
  },
  {
   "cell_type": "code",
   "execution_count": null,
   "metadata": {},
   "outputs": [],
   "source": [
    "'''Changing data by assignment'''\n",
    "data_lst[3] = 'surprize'       # change the value of offset 3 to a string\n",
    "print('data = ',data_lst)    "
   ]
  },
  {
   "cell_type": "code",
   "execution_count": null,
   "metadata": {},
   "outputs": [],
   "source": [
    "data_lst.index(79)           # what is the offset (or index) of the value 79?"
   ]
  },
  {
   "cell_type": "markdown",
   "metadata": {},
   "source": [
    "## Practicing w/ Dictionaries <a id=\"dictionaries\"></a>"
   ]
  },
  {
   "cell_type": "code",
   "execution_count": 82,
   "metadata": {},
   "outputs": [
    {
     "name": "stdout",
     "output_type": "stream",
     "text": [
      "{'symbol': 'H', 'atomic_number': 1, 'group': 1, 'period': 1, 'isotopes': [1, 2, 3]}\n",
      "{'symbol': 'He', 'atomic_number': 2, 'group': 18, 'period': 1, 'isotopes': [3, 4]}\n",
      "{'symbol': 'Li', 'atomic_number': 3, 'group': 1, 'period': 2, 'isotopes': [6, 7]}\n",
      "{'symbol': 'Be', 'atomic_number': 4, 'group': 2, 'period': 2, 'isotopes': [9, 10]}\n",
      "{'symbol': 'B', 'atomic_number': 5, 'group': 13, 'period': 2, 'isotopes': [10, 11]}\n"
     ]
    }
   ],
   "source": [
    "'''Data organization'''\n",
    "hydrogen  = {'symbol':'H',  'atomic_number':1, 'group':1,  'period':1, 'isotopes':[1,2,3]}\n",
    "helium    = {'symbol':'He', 'atomic_number':2, 'group':18, 'period':1, 'isotopes':[3,4]}\n",
    "lithium   = {'symbol':'Li', 'atomic_number':3, 'group':1,  'period':2, 'isotopes':[6,7]}\n",
    "beryllium = {'symbol':'Be', 'atomic_number':4, 'group':2,  'period':2, 'isotopes':[9,10]}\n",
    "boron     = {'symbol':'B',  'atomic_number':5, 'group':13, 'period':2, 'isotopes':[10,11]}\n",
    "#\n",
    "print(hydrogen)\n",
    "print(helium)\n",
    "print(lithium)\n",
    "print(beryllium)\n",
    "print(boron)"
   ]
  },
  {
   "cell_type": "code",
   "execution_count": 83,
   "metadata": {},
   "outputs": [
    {
     "name": "stdout",
     "output_type": "stream",
     "text": [
      "H  neutrons per isotope = [0, 1, 2]\n",
      "He neutrons per isotope = [1, 2]\n"
     ]
    }
   ],
   "source": [
    "'''Data operation with list comprehension'''\n",
    "h_neutrons = [ i - hydrogen['atomic_number'] for i in hydrogen['isotopes'] ] # list comprehension (advanced operation)\n",
    "print('H  neutrons per isotope =', h_neutrons)\n",
    "\n",
    "he_neutrons = [i - helium['atomic_number'] for i in helium['isotopes'] ]     # list comprehension (advanced operation)\n",
    "print('He neutrons per isotope =', he_neutrons)"
   ]
  },
  {
   "cell_type": "code",
   "execution_count": 85,
   "metadata": {},
   "outputs": [
    {
     "name": "stdout",
     "output_type": "stream",
     "text": [
      "element =  H  neutrons per isotope  [1, 2, 3]  = [0, 1, 2]\n",
      "element =  He  neutrons per isotope  [3, 4]  = [1, 2]\n",
      "element =  Li  neutrons per isotope  [6, 7]  = [3, 4]\n",
      "element =  Be  neutrons per isotope  [9, 10]  = [5, 6]\n",
      "element =  B  neutrons per isotope  [10, 11]  = [5, 6]\n"
     ]
    }
   ],
   "source": [
    "'''Systematic operation on all elements of a periodic table'''\n",
    "periodic_table = {'hydrogen':hydrogen, 'helium':helium, 'lithium':lithium, 'beryllium':beryllium, 'boron':boron}\n",
    "\n",
    "for key in periodic_table.keys():  # loop statement\n",
    "    element = periodic_table[key]  # note indentation\n",
    "    neutrons_per_isotopes = [i - element['atomic_number'] for i in element['isotopes'] ]\n",
    "    print('element = ', element['symbol'],' neutrons per isotope ',element['isotopes'],' =', neutrons_per_isotopes)"
   ]
  },
  {
   "cell_type": "markdown",
   "metadata": {},
   "source": [
    "## Practicing w/ Tuples<a id=\"tuples\"></a>"
   ]
  },
  {
   "cell_type": "code",
   "execution_count": 106,
   "metadata": {},
   "outputs": [
    {
     "name": "stdout",
     "output_type": "stream",
     "text": [
      "concatenate:  (1.2, -3.2, 5.0, 0.0, 3.0, 0.12)\n"
     ]
    }
   ],
   "source": [
    "'''Tuples have limited operations'''\n",
    "velo_a = (1.2, -3.2, 5.0)\n",
    "velo_b = (0.0, 3.0, 0.12)\n",
    "print('concatenate: ', velo_a + velo_b)   # surprise: concatenation under + operator"
   ]
  },
  {
   "cell_type": "markdown",
   "metadata": {},
   "source": [
    "## Practicing w/ Sets<a id=\"sets\"></a>"
   ]
  },
  {
   "cell_type": "code",
   "execution_count": null,
   "metadata": {},
   "outputs": [],
   "source": []
  }
 ],
 "metadata": {
  "kernelspec": {
   "display_name": "Python 3",
   "language": "python",
   "name": "python3"
  },
  "language_info": {
   "codemirror_mode": {
    "name": "ipython",
    "version": 3
   },
   "file_extension": ".py",
   "mimetype": "text/x-python",
   "name": "python",
   "nbconvert_exporter": "python",
   "pygments_lexer": "ipython3",
   "version": "3.6.5"
  }
 },
 "nbformat": 4,
 "nbformat_minor": 2
}
