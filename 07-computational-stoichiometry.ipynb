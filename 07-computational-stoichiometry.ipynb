{
 "cells": [
  {
   "cell_type": "markdown",
   "metadata": {},
   "source": [
    "ChEn-3170: Computational Methods in Chemical Engineering Fall 2018 UMass Lowell; Prof. V. F. de Almeida **11Oct2018**\n",
    "\n",
    "# 07. Computational Stoichiometry\n",
    "$  \n",
    "  \\newcommand{\\Amtrx}{\\boldsymbol{\\mathsf{A}}}\n",
    "  \\newcommand{\\Bmtrx}{\\boldsymbol{\\mathsf{B}}}\n",
    "  \\newcommand{\\Mmtrx}{\\boldsymbol{\\mathsf{M}}}\n",
    "  \\newcommand{\\Imtrx}{\\boldsymbol{\\mathsf{I}}}\n",
    "  \\newcommand{\\Pmtrx}{\\boldsymbol{\\mathsf{P}}}\n",
    "  \\newcommand{\\Lmtrx}{\\boldsymbol{\\mathsf{L}}}\n",
    "  \\newcommand{\\Umtrx}{\\boldsymbol{\\mathsf{U}}}\n",
    "  \\newcommand{\\xvec}{\\boldsymbol{\\mathsf{x}}}\n",
    "  \\newcommand{\\avec}{\\boldsymbol{\\mathsf{a}}}\n",
    "  \\newcommand{\\bvec}{\\boldsymbol{\\mathsf{b}}}\n",
    "  \\newcommand{\\cvec}{\\boldsymbol{\\mathsf{c}}}\n",
    "  \\newcommand{\\rvec}{\\boldsymbol{\\mathsf{r}}}\n",
    "  \\newcommand{\\norm}[1]{\\bigl\\lVert{#1}\\bigr\\rVert}\n",
    "  \\DeclareMathOperator{\\rank}{rank}\n",
    "$"
   ]
  },
  {
   "cell_type": "markdown",
   "metadata": {},
   "source": [
    "---\n",
    "## Table of Contents\n",
    "* [Introduction](#intro)\n",
    "* [Stoichiometric matrix](#stoicmtrx)\n",
    "* [Linear independent](#indepen)\n",
    "* [Full-rank, sub-reaction mechanism](#subreact)\n",
    "* [Reaction frequency](#rxnfreq)\n",
    "---"
   ]
  },
  {
   "cell_type": "markdown",
   "metadata": {},
   "source": [
    "## Introduction<a id=\"intro\"></a>\n",
    "\"Stoichiometry is essentially the bookkeeping of the material components of a chemical system.\" Rutherford Aris in Elementary Chemical Reactor Analysis. Computational stoichiometry is the matrix analysis of the stoichiometric matrix of a chemical reaction mechanism. We will use it for two purposes: \n",
    " + Evaluate sets of independent reactions\n",
    " + Obtain basic insight on reaction mechanisms from a linear algebra standpoint\n",
    " + Evaluate reaction rates and species production rates\n",
    "\n",
    "Recall [linear algebra notes.](https://studentuml-my.sharepoint.com/:o:/g/personal/valmor_dealmeida_uml_edu/ErfDAD_jL1tHkDrx29w89-MBcOgK4JAnEYSheRoxkL_0sw?e=fpzG5K)\n",
    "\n",
    "[Notes](https://studentuml-my.sharepoint.com/:o:/g/personal/valmor_dealmeida_uml_edu/Evb2l8y2WNJCgNvJhcF0Pc4B-_TOOflJkiEAgCfICZwNVA?e=sV9YK0) on computational stoichiometry including an introduction to the linear, full-rank, least-squares method."
   ]
  },
  {
   "cell_type": "markdown",
   "metadata": {},
   "source": [
    "## Stoichiometric matrix<a id=\"stoicmtrx\"></a>\n",
    "After reading a reaction mechanism from file, and storing the input data into data types, construct the stoichiometric coefficient matrix."
   ]
  },
  {
   "cell_type": "code",
   "execution_count": null,
   "metadata": {},
   "outputs": [],
   "source": [
    "'''Open file for an ammonia oxidation reaction mechanism'''\n",
    "\n",
    "# open file in reading mode 'r' (default), text 't' (default)\n",
    "finput = open('data/ammonia-rxn.txt','rt')\n",
    "\n",
    "!cat 'data/ammonia-rxn.txt'\n"
   ]
  },
  {
   "cell_type": "code",
   "execution_count": null,
   "metadata": {},
   "outputs": [],
   "source": [
    "'''Build the reactions list'''\n",
    "\n",
    "reactions = list()\n",
    "for line in finput:\n",
    "    reactions.append( line.strip() )\n",
    "for r in reactions: \n",
    "    i = reactions.index(r)\n",
    "    print('r%s'%i,': ',r)\n",
    "\n",
    "finput.close()"
   ]
  },
  {
   "cell_type": "code",
   "execution_count": null,
   "metadata": {},
   "outputs": [],
   "source": [
    "'''Shuffle the order of reactions to avoid any bias'''\n",
    "\n",
    "import random\n",
    "random.shuffle( reactions )\n",
    "for r in reactions: \n",
    "    i = reactions.index(r)\n",
    "    print('r%s'%i,': ',r)"
   ]
  },
  {
   "cell_type": "code",
   "execution_count": null,
   "metadata": {
    "scrolled": true
   },
   "outputs": [],
   "source": [
    "'''Create the species list'''\n",
    "\n",
    "species_tmp = list()  # temporary list for species\n",
    "for r in reactions:\n",
    "    left = r.split('<')\n",
    "    right = r.split('>')\n",
    "    species_left = left[0].split('+')\n",
    "    species_right = right[1].split('+')\n",
    "    species_rxn = species_left + species_right\n",
    "    print('species_rxn =',species_rxn)\n",
    "    for i in species_rxn:\n",
    "        species_tmp.append( i.split(' ')[1] )    \n",
    "print('\\nspecies_tmp =',species_tmp)\n",
    "\n",
    "species_filter = set(species_tmp) # filter species as a set\n",
    "\n",
    "species = list( species_filter )  # convert species set to list \n",
    "print('\\nspecies =\\n',species)\n",
    "print('# of species =',len(species))"
   ]
  },
  {
   "cell_type": "code",
   "execution_count": null,
   "metadata": {},
   "outputs": [],
   "source": [
    "'''Create the stoichiometric matrix'''\n",
    "\n",
    "import numpy as np\n",
    "s_mtrx = np.zeros((len(reactions),len(species)))\n",
    "for r in reactions:\n",
    "    left = r.split('<')\n",
    "    left_terms = left[0].split('+')\n",
    "    for t in left_terms:\n",
    "        coeff = float(t.split(' ')[0])\n",
    "        i_row = reactions.index(r)\n",
    "        species_member = t.split(' ')[1]\n",
    "        j_col = species.index(species_member)\n",
    "        s_mtrx[i_row,j_col] = -1.0 * coeff\n",
    "        \n",
    "    right = r.split('>')\n",
    "    right_terms = right[1].split('+')\n",
    "    for t in right_terms:\n",
    "        coeff = float(t.split(' ')[0])\n",
    "        i_row = reactions.index(r)\n",
    "        species_member = t.split(' ')[1]\n",
    "        j_col = species.index(species_member)\n",
    "        s_mtrx[i_row,j_col] = 1.0 * coeff\n",
    "        \n",
    "print('species',species)\n",
    "print('s_mtrx =\\n',s_mtrx)\n",
    "print('m x n =',s_mtrx.shape)"
   ]
  },
  {
   "cell_type": "markdown",
   "metadata": {},
   "source": [
    "## Linearly independent reactions<a id=\"indepen\"></a>\n",
    "The stoichiometric matrix represents a linear system of equations in two different instances. First, a mass balance when the molar masses of the species involved are used as a vector. The product of the stoichiometric matrix and this vector must result in the zero vector. Second, the reaction rates are related to the species production rates in a similar way. In both cases the system of equations lead to a rectangular system. Here we compute the rank of the stoichiomtric matrix to discover how many of the reactions are linearly independent."
   ]
  },
  {
   "cell_type": "code",
   "execution_count": null,
   "metadata": {},
   "outputs": [],
   "source": [
    "'''How many reactions are independent?'''\n",
    "\n",
    "from chen_3170.toolkit import lu_factorization\n",
    "\n",
    "# using complete pivoting\n",
    "(p_mtrx, q_mtrx, l_mtrx, u_mtrx, s_rank) = lu_factorization( s_mtrx, 'complete', pivot_tol=1e-8 )\n",
    "\n",
    "print('my rank =',s_rank)\n",
    "print('numpy rank = ',np.linalg.matrix_rank( s_mtrx, tol=1e-8 ))\n",
    "np.set_printoptions(precision=2)\n",
    "print('u_mtrx =\\n',u_mtrx)"
   ]
  },
  {
   "cell_type": "code",
   "execution_count": null,
   "metadata": {},
   "outputs": [],
   "source": [
    "'''How many reactions are independent?'''\n",
    "\n",
    "# partial pivoting could fail\n",
    "(p_mtrx, l_mtrx, u_mtrx, rank) = lu_factorization( s_mtrx, 'partial', pivot_tol=1e-8 )\n",
    "\n",
    "print('my rank =',rank)\n",
    "print('u_mtrx =\\n',u_mtrx)"
   ]
  },
  {
   "cell_type": "code",
   "execution_count": null,
   "metadata": {},
   "outputs": [],
   "source": [
    "'''How many reactions are independent? Let's break partial pivoting'''\n",
    "\n",
    "# partial pivoting could fail; try all cases of reaction permutation\n",
    "import math\n",
    "import itertools\n",
    "rxn_permutations = list( itertools.permutations(range(len(reactions))) )\n",
    "print('# of permutations = ', len(rxn_permutations))\n",
    "print('# of reactions!   = ',math.factorial(len(reactions)))\n",
    "\n",
    "print(s_mtrx)\n",
    "print(rxn_permutations[1200])\n",
    "print(s_mtrx[rxn_permutations[1200],:])\n",
    "#print(s_mtrx[[0,5,2,1,4,3,6],:])\n",
    "\n",
    "for perm in rxn_permutations:\n",
    "    (p_mtrx, l_mtrx, u_mtrx, rank) = lu_factorization( s_mtrx[perm,:], 'partial', pivot_tol=1e-8 )    \n",
    "    assert rank == 3\n",
    "\n",
    "print('done')"
   ]
  },
  {
   "cell_type": "code",
   "execution_count": null,
   "metadata": {},
   "outputs": [],
   "source": [
    "'''How many reactions are independent?'''\n",
    "\n",
    "# no pivoting will fail\n",
    "(p_mtrx, l_mtrx, u_mtrx, rank) = lu_factorization( s_mtrx, pivot_tol=1e-8 )"
   ]
  },
  {
   "cell_type": "markdown",
   "metadata": {},
   "source": [
    "## Full-rank, sub-reaction mechanisms<a id=\"subreact\"></a>\n",
    "Here we form all possible combination of full-rank sub-reaction mechanisms."
   ]
  },
  {
   "cell_type": "code",
   "execution_count": null,
   "metadata": {},
   "outputs": [],
   "source": [
    "'''Total number of rank-reaction sets'''\n",
    "\n",
    "# n_reactions choose s_rank binomial formula\n",
    "import math\n",
    "print('# of binomial terms =',\n",
    "      math.factorial(n_reactions)/math.factorial(n_reactions-s_rank)/math.factorial(s_rank))\n",
    "\n",
    "from itertools import combinations\n",
    "n_reactions = len(reactions)\n",
    "tmp = combinations(range(n_reactions),s_rank)\n",
    "reaction_sets = [i for i in tmp]\n",
    "\n",
    "print(reaction_sets)"
   ]
  },
  {
   "cell_type": "code",
   "execution_count": null,
   "metadata": {},
   "outputs": [],
   "source": [
    "'''Finding sets of linearly independent reactions'''\n",
    "\n",
    "sub_reactions = list()\n",
    "for r in reaction_sets:\n",
    "    s_mtrx_k = s_mtrx[r,:]\n",
    "    (p_mtrx, q_mtrx, l_mtrx, u_mtrx, rank) = lu_factorization( s_mtrx_k, 'complete', pivot_tol=1e-8 )\n",
    "#   rank = np.linalg.matrix_rank( s_mtrx_k, tol=1e-8 )\n",
    "    if rank == s_rank:\n",
    "        sub_reactions.append( [r, [reactions[i] for i in r]] )  # list elements\n",
    "\n",
    "print('# of sub_reactions =',len(sub_reactions))        \n",
    "print(sub_reactions)\n",
    "\n",
    "for s in sub_reactions:\n",
    "    print('Linearly Independent Reaction Set %s'%sub_reactions.index(s))\n",
    "    for (i,r) in zip(s[0],s[1]):\n",
    "        print('r%s'%i,r)"
   ]
  },
  {
   "cell_type": "markdown",
   "metadata": {},
   "source": [
    "## Reaction frequency analysis<a id=\"rxnfreq\"></a>\n"
   ]
  },
  {
   "cell_type": "code",
   "execution_count": null,
   "metadata": {},
   "outputs": [],
   "source": [
    "'''How often a reaction appears on a reaction sub-mechanisms'''\n",
    "\n",
    "reactions_hits = np.zeros(n_reactions)\n",
    "for s in sub_reactions:\n",
    "    for i in s[0]:\n",
    "        reactions_hits[i] += 1\n",
    "        \n",
    "print(reactions_hits/len(sub_reactions))    "
   ]
  },
  {
   "cell_type": "code",
   "execution_count": null,
   "metadata": {},
   "outputs": [],
   "source": [
    "'''Plot the frequency of appearance of reactions in sub-mechanisms'''\n",
    "\n",
    "import matplotlib.pyplot as plt\n",
    "plt.rcParams['figure.figsize'] = [25, 4]\n",
    "\n",
    "fig, ax = plt.subplots(figsize=(20,6))\n",
    "sort_results = sorted( zip(reactions,reactions_hits/len(sub_reactions)*100), key=lambda entry: entry[1], reverse=True )\n",
    "reactions_sorted = [a for (a,b) in sort_results]\n",
    "hits_sorted = [b for (a,b) in sort_results]\n",
    "ax.bar(reactions_sorted, hits_sorted,color='orange')\n",
    "for r in reactions_sorted:\n",
    "    idx = reactions.index(r)\n",
    "    i = reactions_sorted.index(r)\n",
    "    reactions_sorted[i] = 'r'+str(idx)+': '+ r\n",
    "plt.xticks(range(len(reactions)),reactions_sorted,rotation=60,fontsize=14)\n",
    "ax.set_ylabel('Frequency [%]',fontsize=16)\n",
    "ax.xaxis.grid(True,linestyle='-',which='major',color='lightgrey',alpha=0.9)\n",
    "fig.suptitle('Reaction Appearance Frequency Analysis for Rank = '+str(s_rank),fontsize=20)\n",
    "plt.show()"
   ]
  },
  {
   "cell_type": "code",
   "execution_count": null,
   "metadata": {},
   "outputs": [],
   "source": [
    "'''Sorting reaction sub-mechanisms based on frequency'''\n",
    "\n",
    "sub_reactions_score = list()\n",
    "for s in sub_reactions:\n",
    "    score = 0\n",
    "    for i in s[0]:\n",
    "        score += reactions_hits[i]\n",
    "    sub_reactions_score.append( score )\n",
    "\n",
    "sub_reactions_score = np.array(sub_reactions_score) \n",
    "sub_reactions_score /= sub_reactions_score.max()\n",
    "sub_reactions_score *= 10.0\n",
    "\n",
    "\n",
    "results = sorted( zip(sub_reactions,sub_reactions_score), key=lambda entry: entry[1], reverse=True )\n",
    "\n",
    "sub_reactions       = [a for (a,b) in results]\n",
    "sub_reactions_score = [b for (a,b) in results]\n",
    "\n",
    "# encode score in to sub_reactions mech. data structure\n",
    "for (sr,score) in zip(sub_reactions,sub_reactions_score):\n",
    "    sr += [score]"
   ]
  },
  {
   "cell_type": "code",
   "execution_count": null,
   "metadata": {},
   "outputs": [],
   "source": [
    "'''Principal reaction mechanisms'''\n",
    "\n",
    "max_score = max([sr[2] for sr in sub_reactions])\n",
    "\n",
    "for sr  in sub_reactions:\n",
    "    if sr[2] < max_score: continue\n",
    "    print('Linearly Independent Reaction Set %s score %s'%(sub_reactions.index(sr),sr[2]))\n",
    "    for (i,r) in zip(sr[0],sr[1]):\n",
    "        print('r%s'%i,r)"
   ]
  },
  {
   "cell_type": "code",
   "execution_count": null,
   "metadata": {},
   "outputs": [],
   "source": [
    "fig, ax = plt.subplots(figsize=(20,6))\n",
    "ax.bar(range(len(sub_reactions)), [sr[2] for sr in sub_reactions],color='green')\n",
    "plt.xticks(range(len(sub_reactions)),[sr[0] for sr in sub_reactions],rotation=60,fontsize=14)\n",
    "ax.set_ylabel('Score [1->10]',fontsize=16)\n",
    "ax.set_xlabel('Sub-Reaction Mechanisms',fontsize=16)\n",
    "ax.xaxis.grid(True,linestyle='-',which='major',color='lightgrey',alpha=0.9)\n",
    "fig.suptitle('Scoring of Sub-Reaction Mechanisms for Rank = '+str(s_rank),fontsize=20)\n",
    "plt.show()"
   ]
  },
  {
   "cell_type": "code",
   "execution_count": null,
   "metadata": {},
   "outputs": [],
   "source": []
  }
 ],
 "metadata": {
  "kernelspec": {
   "display_name": "Python 3",
   "language": "python",
   "name": "python3"
  },
  "language_info": {
   "codemirror_mode": {
    "name": "ipython",
    "version": 3
   },
   "file_extension": ".py",
   "mimetype": "text/x-python",
   "name": "python",
   "nbconvert_exporter": "python",
   "pygments_lexer": "ipython3",
   "version": "3.6.5"
  },
  "latex_envs": {
   "LaTeX_envs_menu_present": true,
   "autoclose": false,
   "autocomplete": true,
   "bibliofile": "biblio.bib",
   "cite_by": "apalike",
   "current_citInitial": 1,
   "eqLabelWithNumbers": true,
   "eqNumInitial": 1,
   "hotkeys": {
    "equation": "Ctrl-E",
    "itemize": "Ctrl-I"
   },
   "labels_anchors": false,
   "latex_user_defs": false,
   "report_style_numbering": false,
   "user_envs_cfg": false
  }
 },
 "nbformat": 4,
 "nbformat_minor": 2
}
