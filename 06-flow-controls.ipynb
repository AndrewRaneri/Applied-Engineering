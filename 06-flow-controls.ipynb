{
 "cells": [
  {
   "cell_type": "markdown",
   "metadata": {},
   "source": [
    "ChEn-3170: Computational Methods in Chemical Engineering Fall 2018 UMass Lowell; Prof. V. F. de Almeida **01Oct2018**\n",
    "\n",
    "# 06. Basic Flow Controls in Python\n",
    "$  \n",
    "  \\newcommand{\\Amtrx}{\\boldsymbol{\\mathsf{A}}}\n",
    "  \\newcommand{\\Bmtrx}{\\boldsymbol{\\mathsf{B}}}\n",
    "  \\newcommand{\\Mmtrx}{\\boldsymbol{\\mathsf{M}}}\n",
    "  \\newcommand{\\Imtrx}{\\boldsymbol{\\mathsf{I}}}\n",
    "  \\newcommand{\\Pmtrx}{\\boldsymbol{\\mathsf{P}}}\n",
    "  \\newcommand{\\Lmtrx}{\\boldsymbol{\\mathsf{L}}}\n",
    "  \\newcommand{\\Umtrx}{\\boldsymbol{\\mathsf{U}}}\n",
    "  \\newcommand{\\xvec}{\\boldsymbol{\\mathsf{x}}}\n",
    "  \\newcommand{\\avec}{\\boldsymbol{\\mathsf{a}}}\n",
    "  \\newcommand{\\bvec}{\\boldsymbol{\\mathsf{b}}}\n",
    "  \\newcommand{\\cvec}{\\boldsymbol{\\mathsf{c}}}\n",
    "  \\newcommand{\\rvec}{\\boldsymbol{\\mathsf{r}}}\n",
    "  \\newcommand{\\norm}[1]{\\bigl\\lVert{#1}\\bigr\\rVert}\n",
    "  \\DeclareMathOperator{\\rank}{rank}\n",
    "$"
   ]
  },
  {
   "cell_type": "markdown",
   "metadata": {},
   "source": [
    "---\n",
    "## Table of Contents\n",
    "* [Modules](#modules)\n",
    "* [Loops](#loops)\n",
    " + [For](#for)\n",
    " + [While](#while)\n",
    "* [Conditionals](#conditionals)\n",
    " + [Assert](#assert)\n",
    " + [If](#if)\n",
    "* [Functions](#functions)\n",
    "---"
   ]
  },
  {
   "cell_type": "markdown",
   "metadata": {},
   "source": [
    "## Modules<a id=\"modules\"></a>\n",
    "We have been using `import` packages into the Python notebook (*e.g* `import numpy as np`). We can use this to simplify our future coding experience and accelerate learning. For instance, we can use import of our own codes. In this course a directory named `chen_3170` was created in the [repository](https://github.com/dpploy/chen-3170) file system to store course-related Python code. The syntax to import codes in the repository is as follows:"
   ]
  },
  {
   "cell_type": "code",
   "execution_count": null,
   "metadata": {},
   "outputs": [],
   "source": [
    "'''To view what is available'''\n",
    "\n",
    "import chen_3170\n",
    "help(chen_3170) # or help(ce)"
   ]
  },
  {
   "cell_type": "code",
   "execution_count": null,
   "metadata": {},
   "outputs": [],
   "source": [
    "'''Check individual packages'''\n",
    "\n",
    "import chen_3170.matrix\n",
    "help(chen_3170.matrix)"
   ]
  },
  {
   "cell_type": "code",
   "execution_count": null,
   "metadata": {},
   "outputs": [],
   "source": [
    "'''Import the get_triangular_matrix function'''\n",
    "\n",
    "from chen_3170.matrix import get_triangular_matrix\n",
    "help(get_triangular_matrix)"
   ]
  },
  {
   "cell_type": "code",
   "execution_count": null,
   "metadata": {},
   "outputs": [],
   "source": [
    "'''Practice using the function'''\n",
    "\n",
    "a_mtrx = get_triangular_matrix('lower',5) # lower triangular random matrix 5 x 5\n",
    "print('a_mtrx =\\n',a_mtrx)\n",
    "\n",
    "a_mtrx = get_triangular_matrix('upper',5) # upper triangular random matrix 5 x 5\n",
    "print('a_mtrx =\\n',a_mtrx)\n",
    "\n",
    "import numpy as np\n",
    "ones = np.ones((5,5))\n",
    "a_mtrx = get_triangular_matrix('lower',mtrx=ones)\n",
    "print('a_mtrx =\\n',a_mtrx)"
   ]
  },
  {
   "cell_type": "markdown",
   "metadata": {},
   "source": [
    "<div class=\"alert alert-block alert-warning\">\n",
    "The source code should be inspected for correctness and as a source of information for future programing. This is how the source code can be viewed and copied to a notebook cell.\n",
    "</div>"
   ]
  },
  {
   "cell_type": "code",
   "execution_count": null,
   "metadata": {},
   "outputs": [],
   "source": [
    "'''View the source code in the notebook'''\n",
    "\n",
    "!cat \"chen_3170/matrix.py\" # ugly but works for now"
   ]
  },
  {
   "cell_type": "markdown",
   "metadata": {},
   "source": [
    "Copying the source code (ignore the *def* statement) to this cell and rendering it with code fences gives:\n",
    "\n",
    "```python\n",
    "    assert ndim is None or mtrx is None, 'ndim or mtrx must be given; not both.'\n",
    "    assert mode =='lower' or mode =='upper', 'invalid mode %r.'%mode\n",
    "    \n",
    "    if mtrx is None:\n",
    "        import numpy as np\n",
    "        mtrx = np.random.random((ndim,ndim))\n",
    "    else:\n",
    "        assert mtrx.shape[0] == mtrx.shape[1], 'matrix not square.' \n",
    "    \n",
    "    # ready to return matrix  \n",
    "    if mode == 'lower':\n",
    "        for i in range(mtrx.shape[0]):\n",
    "            mtrx[i,i+1:] = 0.0\n",
    "    elif mode == 'upper':\n",
    "        for j in range(mtrx.shape[1]):\n",
    "            mtrx[j+1:,j] = 0.0\n",
    "    else:\n",
    "        assert False, 'oops. something is very wrong.'\n",
    "        \n",
    "    return mtrx     \n",
    "```"
   ]
  },
  {
   "cell_type": "markdown",
   "metadata": {},
   "source": [
    "## Conditionals<a id=\"conditionals\"></a>\n",
    "Constructs that allow branching of operations. The most importants are:\n",
    " 1. `assert` statement\n",
    " 1. `if` statement"
   ]
  },
  {
   "cell_type": "markdown",
   "metadata": {},
   "source": [
    "### `Assert` statement<a id=\"assert\"></a>\n",
    "The general format is:\n",
    "```python\n",
    "    assert test, string(formatted)\n",
    "```"
   ]
  },
  {
   "cell_type": "markdown",
   "metadata": {},
   "source": [
    "### Examples\n",
    "```python\n",
    "    assert ndim is None or mtrx is None, 'ndim or mtrx must be given; not both.'\n",
    "    assert mode =='lower' or mode =='upper', 'invalid mode %r.'%mode\n",
    "```"
   ]
  },
  {
   "cell_type": "code",
   "execution_count": null,
   "metadata": {},
   "outputs": [],
   "source": [
    "'''Testing examples'''\n",
    "\n",
    "import numpy as np\n",
    "ndim = None\n",
    "mtrx = np.random.random((3,4))\n",
    "assert ndim is None or mtrx is None, 'ndim or mtrx must be given; not both'\n",
    "\n",
    "#mode = 'dontknow'\n",
    "#\n",
    "assert mode =='lower' or mode =='upper', 'invalid mode %r.'%mode"
   ]
  },
  {
   "cell_type": "markdown",
   "metadata": {},
   "source": [
    "### `If` statement<a id='if'></a>\n",
    "The general format is:\n",
    "```python\n",
    "if test1:        # if test\n",
    "    statements1  # associated block\n",
    "elif test2:      # optional elifs\n",
    "    statements2\n",
    "elif test3:      # more optional elifs etc.\n",
    "    statements3\n",
    "else:            # optional final else\n",
    "    statements4\n",
    "```"
   ]
  },
  {
   "cell_type": "markdown",
   "metadata": {},
   "source": [
    "### Example\n",
    "If-else example:\n",
    "```python\n",
    "    if mtrx is None:      # test if mtrx has type None\n",
    "        import numpy as np\n",
    "        mtrx = np.random.random((n,n))  # associated block\n",
    "    else:                 # final test\n",
    "        assert mtrx.shape[0] == mtrx.shape[1] # l_mtrx must be square\n",
    "```"
   ]
  },
  {
   "cell_type": "code",
   "execution_count": null,
   "metadata": {},
   "outputs": [],
   "source": [
    "'''Testing example'''\n",
    "\n",
    "test = 1 # change this to 1, 2 or 3\n",
    "\n",
    "# test setup (uses multiway branching)\n",
    "if test == 1:\n",
    "    mtrx = None\n",
    "    n = 4\n",
    "elif test == 2:\n",
    "    import numpy as np\n",
    "    mtrx = np.array([[3.4, 2.1, 4.5],\n",
    "                     [0.0, 2.0, 1.0]])\n",
    "elif test == 3:\n",
    "    import numpy as np\n",
    "    mtrx = np.array([[ 3.4,  2.1,  4.5],\n",
    "                     [ 0.0,  2.0,  1.0],\n",
    "                     [-1.0, -3.0, -5.0]\n",
    "                    ])\n",
    "else:\n",
    "    assert False,'test must be 1, 2, or 3.'\n",
    "\n",
    "# What we are really testing\n",
    "#---------------------------------------------------------------    \n",
    "if mtrx is None:      # test if mtrx has type None\n",
    "    import numpy as np\n",
    "    mtrx = np.random.random((n,n))  # associated block\n",
    "else:                 # final test\n",
    "    assert mtrx.shape[0] == mtrx.shape[1],'matrix not square.'\n",
    "#---------------------------------------------------------------\n",
    "    \n",
    "print(mtrx)"
   ]
  },
  {
   "cell_type": "markdown",
   "metadata": {},
   "source": [
    "### Example\n",
    "Multiway branching example:\n",
    "```python\n",
    "    # ready to return matrix  \n",
    "    if mode == 'lower':                 # test if mode is 'lower'\n",
    "        for i in range(mtrx.shape[0]):  # associated block of statements\n",
    "            mtrx[i,i+1:] = 0.0\n",
    "    elif mode == 'upper':               # test if mode is 'upper'\n",
    "        for j in range(mtrx.shape[1]):  # associated block of statements\n",
    "            mtrx[j+1:,j] = 0.0\n",
    "    else:                               # final test\n",
    "        assert False, 'oops. something is very wrong.' # associated block\n",
    "```"
   ]
  },
  {
   "cell_type": "code",
   "execution_count": null,
   "metadata": {},
   "outputs": [],
   "source": [
    "'''Testing example'''\n",
    "\n",
    "import numpy as np\n",
    "test = 1  # change this to 1 or 2\n",
    "mtrx = np.array([[ 3.4,  2.1,  4.5],\n",
    "                 [ 0.0,  2.0,  1.0],\n",
    "                 [-1.0, -3.0, -5.0]\n",
    "                ])\n",
    "# test setup (uses multiway branching)\n",
    "if test == 1:\n",
    "    mode = 'lower'\n",
    "    \n",
    "elif test == 2:\n",
    "    mode = 'upper'\n",
    "else:\n",
    "    assert False,'test must be 1 or 2.'\n",
    "#---------------------------------------------------------------    \n",
    "# ready to return matrix  \n",
    "if mode == 'lower':                 # test if mode is 'lower'\n",
    "    for i in range(mtrx.shape[0]):  # associated block of statements\n",
    "            mtrx[i,i+1:] = 0.0\n",
    "elif mode == 'upper':               # test if mode is 'upper'\n",
    "    for j in range(mtrx.shape[1]):  # associated block of statements\n",
    "        mtrx[j+1:,j] = 0.0\n",
    "else:                               # final test\n",
    "    assert False, 'oops. something is very wrong.' # associated block\n",
    "#---------------------------------------------------------------\n",
    "    \n",
    "print(mtrx)"
   ]
  },
  {
   "cell_type": "markdown",
   "metadata": {},
   "source": [
    "## Loops<a id=\"loops\"></a>\n",
    "Contructs that allow repetitive actions on data. There are two basic types: \n",
    " 1. `for` loops\n",
    " 2. `while` loops"
   ]
  },
  {
   "cell_type": "markdown",
   "metadata": {},
   "source": [
    "### `For` loops<a id='for'></a>\n",
    "The general format is:\n",
    "```python\n",
    "for target in object: # assign object items to target\n",
    "    statements        # repeated loop body: (possibly) use target\n",
    "    if test: \n",
    "        break         # exit loop now; skip else\n",
    "    if test: \n",
    "        continue      # go to top of the loop now\n",
    "else:                 # optional else part\n",
    "    statements        # if did not hit a `break`\n",
    "```"
   ]
  },
  {
   "cell_type": "markdown",
   "metadata": {},
   "source": [
    "### Example\n",
    "```python\n",
    "for i in range(mtrx.shape[0]):  # assign i to objects in range(mtrx.shape[0])\n",
    "    mtrx[i,i+1:] = 0.0          # loop over this statement with varying i\n",
    "```"
   ]
  },
  {
   "cell_type": "code",
   "execution_count": null,
   "metadata": {},
   "outputs": [],
   "source": [
    "'''Testing example'''\n",
    "\n",
    "import numpy as np\n",
    "mtrx = np.random.random((5,5))\n",
    "print(mtrx)\n",
    "for i in range(mtrx.shape[0]):  # assign i to objects in range(mtrx.shape[0])\n",
    "    print('i =',i)\n",
    "    mtrx[i,i+1:] = 0.0    \n",
    "print(mtrx)"
   ]
  },
  {
   "cell_type": "markdown",
   "metadata": {},
   "source": [
    "### `While` loops\n",
    "We will revisit this when we need this construct."
   ]
  },
  {
   "cell_type": "markdown",
   "metadata": {},
   "source": [
    "## Functions<a id=\"functions\"></a>\n",
    "In simple terms, functions are an efficient alternative to *cutting and pasting* code. They increase code reuse, allow for modularity, and are indispensible to software/code design. An initial format of the functions we will use is:\n",
    "```python\n",
    "def name(arg1, arg2,... argN):\n",
    "    statements\n",
    "    ...\n",
    "    return result # optional but almost always present\n",
    "```\n",
    "The function block has its own scope and no variable name is accessible inside the function unless it is passed through the argument list."
   ]
  },
  {
   "cell_type": "markdown",
   "metadata": {},
   "source": [
    "### Example\n",
    "```python\n",
    "def get_triangular_matrix( mode='lower', ndim=None, mtrx=None ):\n",
    "\n",
    "    assert ndim is None or mtrx is None, 'ndim or mtrx must be given; not both.'\n",
    "    assert mode =='lower' or mode =='upper', 'invalid mode %r.'%mode\n",
    "    \n",
    "    if mtrx is None:\n",
    "        import numpy as np\n",
    "        mtrx = np.random.random((ndim,ndim))\n",
    "    else:\n",
    "        assert mtrx.shape[0] == mtrx.shape[1], 'matrix not square.' \n",
    "    \n",
    "    # ready to return matrix  \n",
    "    if mode == 'lower':\n",
    "        for i in range(mtrx.shape[0]):\n",
    "            mtrx[i,i+1:] = 0.0\n",
    "    elif mode == 'upper':\n",
    "        for j in range(mtrx.shape[1]):\n",
    "            mtrx[j+1:,j] = 0.0\n",
    "    else:\n",
    "        assert False, 'oops. something is very wrong.'\n",
    "        \n",
    "    return mtrx     \n",
    "```"
   ]
  },
  {
   "cell_type": "code",
   "execution_count": null,
   "metadata": {},
   "outputs": [],
   "source": [
    "'''Testing the example'''\n",
    "import numpy as np\n",
    "np.set_printoptions(precision=3) \n",
    "\n",
    "#a_mtrx = get_triangular_matrix() # no arguments\n",
    "\n",
    "# one-argument call\n",
    "size = 5\n",
    "out_mtrx = get_triangular_matrix(ndim=size)\n",
    "print('out_mtrx =\\n',out_mtrx)\n",
    "\n",
    "# one-argument call\n",
    "in_mtrx = np.random.random((size,size))\n",
    "out_mtrx = get_triangular_matrix(mtrx=in_mtrx)\n",
    "print('out_mtrx =\\n',out_mtrx)\n",
    "\n",
    "# two-argument conflicting call\n",
    "#out_mtrx = get_triangular_matrix(ndim=size, mtrx=in_mtrx)\n",
    "\n",
    "# passing argument by object reference\n",
    "in_mtrx = np.random.random((size,size))\n",
    "print('in_mtrx before =\\n',in_mtrx)\n",
    "out_mtrx = get_triangular_matrix(mtrx=in_mtrx)\n",
    "print('in_mtrx after =\\n',in_mtrx)\n",
    "print('out_mtrx =\\n',out_mtrx)"
   ]
  },
  {
   "cell_type": "code",
   "execution_count": null,
   "metadata": {},
   "outputs": [],
   "source": []
  }
 ],
 "metadata": {
  "kernelspec": {
   "display_name": "Python 3",
   "language": "python",
   "name": "python3"
  },
  "language_info": {
   "codemirror_mode": {
    "name": "ipython",
    "version": 3
   },
   "file_extension": ".py",
   "mimetype": "text/x-python",
   "name": "python",
   "nbconvert_exporter": "python",
   "pygments_lexer": "ipython3",
   "version": "3.6.5"
  },
  "latex_envs": {
   "LaTeX_envs_menu_present": true,
   "autoclose": false,
   "autocomplete": true,
   "bibliofile": "biblio.bib",
   "cite_by": "apalike",
   "current_citInitial": 1,
   "eqLabelWithNumbers": true,
   "eqNumInitial": 1,
   "hotkeys": {
    "equation": "Ctrl-E",
    "itemize": "Ctrl-I"
   },
   "labels_anchors": false,
   "latex_user_defs": false,
   "report_style_numbering": false,
   "user_envs_cfg": false
  }
 },
 "nbformat": 4,
 "nbformat_minor": 2
}
