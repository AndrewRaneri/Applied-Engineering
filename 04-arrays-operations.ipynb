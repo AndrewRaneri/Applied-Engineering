{
 "cells": [
  {
   "cell_type": "markdown",
   "metadata": {},
   "source": [
    "ChEn-3170: Computational Methods in Chemical Engineering Fall 2018 UMass Lowell; Prof. V. F. de Almeida **16Sep2018**\n",
    "\n",
    "# 04. Arrays Operations"
   ]
  },
  {
   "cell_type": "markdown",
   "metadata": {},
   "source": [
    "---\n",
    "## Table of Contents\n",
    "* [Vectors](#vectors)\n",
    "* [Matrices](#matrices)\n",
    "---"
   ]
  },
  {
   "cell_type": "code",
   "execution_count": null,
   "metadata": {},
   "outputs": [],
   "source": [
    "'''Python packages are accessed with an import directive as such:'''\n",
    "\n",
    "import numpy as np  # import the package and create the alias: np"
   ]
  },
  {
   "cell_type": "markdown",
   "metadata": {},
   "source": [
    "## Vectors<a id=\"vectors\"></a>"
   ]
  },
  {
   "cell_type": "code",
   "execution_count": null,
   "metadata": {},
   "outputs": [],
   "source": [
    "'''Element-by-element addition or subtraction'''\n",
    "\n",
    "vec1 = np.array(np.random.random(5))\n",
    "print('vec1     =',vec1)\n",
    "vec2 = np.array(np.random.random(5))\n",
    "print('vec2     =',vec2)\n",
    "result = vec1 + vec2         # element-by-element sum\n",
    "print('addition   =',result)\n",
    "result = vec1 - vec2         # element-by-element subtraction\n",
    "print('difference =',result)"
   ]
  },
  {
   "cell_type": "code",
   "execution_count": null,
   "metadata": {},
   "outputs": [],
   "source": [
    "'''Element-by-element product or division'''\n",
    "\n",
    "vec1 = np.array(np.random.random(5))\n",
    "print('vec1    =',vec1)\n",
    "vec2 = np.array(np.random.random(5))\n",
    "print('vec2    =',vec2)\n",
    "result = vec1 * vec2        # element-by-element product\n",
    "print('product  =',result)\n",
    "result = vec1 / vec2        # element-by-element division\n",
    "print('division =',result)"
   ]
  },
  {
   "cell_type": "code",
   "execution_count": null,
   "metadata": {},
   "outputs": [],
   "source": [
    "'''Vector scalar product'''\n",
    "\n",
    "vec1 = np.array(np.random.random(5))\n",
    "print('vec1           =',vec1)\n",
    "vec2 = np.array(np.random.random(5))\n",
    "print('vec2           =',vec2)\n",
    "result = np.dot(vec1, vec2)     # scalar or dot product\n",
    "print('scalar product =',result)"
   ]
  },
  {
   "cell_type": "code",
   "execution_count": null,
   "metadata": {},
   "outputs": [],
   "source": [
    "'''Scaling of a vector'''\n",
    "\n",
    "vec = np.array(np.random.random(5))\n",
    "print('vec    =',vec)\n",
    "factor = 0.345\n",
    "scaled = factor * vec           # scaling of vec element-by-element product\n",
    "print('scaled =', scaled)"
   ]
  },
  {
   "cell_type": "markdown",
   "metadata": {},
   "source": [
    "## Matrices<a id=\"matrices\"></a>"
   ]
  },
  {
   "cell_type": "code",
   "execution_count": null,
   "metadata": {},
   "outputs": [],
   "source": [
    "'''Element-by-element addition or subtraction'''\n",
    "\n",
    "mat1 = np.random.random((3,3))\n",
    "print('mat1     =\\n',mat1)\n",
    "mat2 = np.random.random((3,3))\n",
    "print('mat2     =\\n',mat2)\n",
    "result = mat1 + mat2              # element-by-element sum\n",
    "print('addition   =\\n',result)\n",
    "result = mat1 - mat2              # element-by-element subtraction\n",
    "print('difference =\\n',result)"
   ]
  },
  {
   "cell_type": "code",
   "execution_count": null,
   "metadata": {},
   "outputs": [],
   "source": []
  }
 ],
 "metadata": {
  "kernelspec": {
   "display_name": "Python 3",
   "language": "python",
   "name": "python3"
  },
  "language_info": {
   "codemirror_mode": {
    "name": "ipython",
    "version": 3
   },
   "file_extension": ".py",
   "mimetype": "text/x-python",
   "name": "python",
   "nbconvert_exporter": "python",
   "pygments_lexer": "ipython3",
   "version": "3.6.5"
  }
 },
 "nbformat": 4,
 "nbformat_minor": 2
}
