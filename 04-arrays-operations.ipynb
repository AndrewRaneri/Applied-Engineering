{
 "cells": [
  {
   "cell_type": "markdown",
   "metadata": {},
   "source": [
    "ChEn-3170: Computational Methods in Chemical Engineering Fall 2018 UMass Lowell; Prof. V. F. de Almeida **16Sep2018**\n",
    "\n",
    "# 04. Arrays Operations"
   ]
  },
  {
   "cell_type": "markdown",
   "metadata": {},
   "source": [
    "---\n",
    "## Table of Contents\n",
    "* [Vectors](#vectors)\n",
    "* [Matrices](#matrices)\n",
    "---"
   ]
  },
  {
   "cell_type": "code",
   "execution_count": null,
   "metadata": {},
   "outputs": [],
   "source": [
    "'''Python packages are accessed with an import directive as such:'''\n",
    "\n",
    "import numpy as np  # import the package and create the alias: np"
   ]
  },
  {
   "cell_type": "markdown",
   "metadata": {},
   "source": [
    "## Vectors<a id=\"vectors\"></a>"
   ]
  },
  {
   "cell_type": "code",
   "execution_count": null,
   "metadata": {},
   "outputs": [],
   "source": [
    "'''Element-by-element addition or subtraction'''\n",
    "\n",
    "vec1 = np.array(np.random.random(5))\n",
    "print('vec1     =',vec1)\n",
    "vec2 = np.array(np.random.random(5))\n",
    "print('vec2     =',vec2)\n",
    "result = vec1 + vec2         # element-by-element sum\n",
    "print('addition   =',result)\n",
    "result = vec1 - vec2         # element-by-element subtraction\n",
    "print('difference =',result)"
   ]
  },
  {
   "cell_type": "code",
   "execution_count": null,
   "metadata": {},
   "outputs": [],
   "source": [
    "'''Element-by-element product or division'''\n",
    "\n",
    "vec1 = np.array(np.random.random(5))\n",
    "print('vec1    =',vec1)\n",
    "vec2 = np.array(np.random.random(5))\n",
    "print('vec2    =',vec2)\n",
    "result = vec1 * vec2        # element-by-element product\n",
    "print('product  =',result)\n",
    "result = vec1 / vec2        # element-by-element division\n",
    "print('division =',result)"
   ]
  },
  {
   "cell_type": "code",
   "execution_count": null,
   "metadata": {},
   "outputs": [],
   "source": [
    "'''Vector scalar product'''\n",
    "\n",
    "vec1 = np.array(np.random.random(5))\n",
    "print('vec1           =',vec1)\n",
    "vec2 = np.array(np.random.random(5))\n",
    "print('vec2           =',vec2)\n",
    "result = np.dot(vec1, vec2)     # scalar or dot product\n",
    "print('scalar product =',result)"
   ]
  },
  {
   "cell_type": "code",
   "execution_count": null,
   "metadata": {},
   "outputs": [],
   "source": [
    "'''Scaling of a vector'''\n",
    "\n",
    "vec = np.array(np.random.random(5))\n",
    "print('vec    =',vec)\n",
    "factor = 0.345\n",
    "scaled = factor * vec     # scaling of vec element-by-element product\n",
    "print('scaled =', scaled) # assigned to new variable `scaled`\n",
    "\n",
    "vec *= factor          # in-place scaling\n",
    "print('vec    =',vec)"
   ]
  },
  {
   "cell_type": "markdown",
   "metadata": {},
   "source": [
    "## Matrices<a id=\"matrices\"></a>"
   ]
  },
  {
   "cell_type": "code",
   "execution_count": null,
   "metadata": {},
   "outputs": [],
   "source": [
    "'''Element-by-element addition or subtraction'''\n",
    "\n",
    "mat1 = np.random.random((3,3))\n",
    "print('mat1     =\\n',mat1)\n",
    "mat2 = np.random.random((3,3))\n",
    "print('mat2     =\\n',mat2)\n",
    "result = mat1 + mat2              # element-by-element sum\n",
    "print('addition   =\\n',result)\n",
    "result = mat1 - mat2              # element-by-element subtraction\n",
    "print('difference =\\n',result)"
   ]
  },
  {
   "cell_type": "code",
   "execution_count": null,
   "metadata": {},
   "outputs": [],
   "source": [
    "'''Element-by-element product or division'''\n",
    "\n",
    "mat1 = np.random.random((3,3))\n",
    "print('mat1     =\\n',mat1)\n",
    "mat2 = np.random.random((3,3))\n",
    "print('mat2     =\\n',mat2)\n",
    "result = mat1 * mat2          # element-by-element product\n",
    "print('product   =\\n',result)\n",
    "result = mat1 / mat2          # element-by-element division (cross your fingers)\n",
    "print('division =\\n',result)"
   ]
  },
  {
   "cell_type": "code",
   "execution_count": null,
   "metadata": {},
   "outputs": [],
   "source": [
    "'''Produce Noise on a Matrix Image'''\n",
    "\n",
    "from matplotlib import pyplot as plt     # import the pyplot function of the matplotlib package\n",
    "plt.rcParams['figure.figsize'] = [20, 4] # extend the figure size on screen output\n",
    "# copy URL of image in the images/ course repository;\n",
    "# click on the image link, use the Download buttom to create this URL\n",
    "block = plt.imread('https://raw.githubusercontent.com/dpploy/chen-3170/master/images/glacier.png',format='png')\n",
    "\n",
    "plt.imshow(block)\n",
    "plt.title('Matrix Reloaded',fontsize=14)\n",
    "print('mtrx shape =',block.shape)  # inspect the array shape"
   ]
  },
  {
   "cell_type": "code",
   "execution_count": null,
   "metadata": {},
   "outputs": [],
   "source": [
    "'''Use Matrix Multiplication'''\n",
    "\n",
    "shape = block.shape[0:2]                  # use the shape to automate noise_mtrx generation\n",
    "noise_mtrx = np.random.random(shape)      # generate random matrix\n",
    "block_noise = block[:,:,2] * noise_mtrx   # apply noise to the blue channel\n",
    "plt.imshow(block_noise)\n",
    "plt.title('Noisy Matrix',fontsize=14)"
   ]
  },
  {
   "cell_type": "code",
   "execution_count": null,
   "metadata": {},
   "outputs": [],
   "source": [
    "'''Matrix Scaling'''\n",
    "\n",
    "mat1 = np.random.random((3,3))\n",
    "print('mat1     =\\n',mat1)\n",
    "factor = 3.21\n",
    "result = factor * mat1        # scaling of mat1 element-by-element product with factor\n",
    "print('product   =\\n',result)"
   ]
  },
  {
   "cell_type": "code",
   "execution_count": null,
   "metadata": {},
   "outputs": [],
   "source": [
    "'''Matrix Scaling of an Image'''\n",
    "\n",
    "factor = 0.345\n",
    "scaled_mtrx = block[:,:,0] * factor  # multiply factor to the red channel\n",
    "plt.imshow(scaled_mtrx)\n",
    "plt.title('Matrix Scaling',fontsize=14)"
   ]
  },
  {
   "cell_type": "code",
   "execution_count": null,
   "metadata": {},
   "outputs": [],
   "source": []
  }
 ],
 "metadata": {
  "kernelspec": {
   "display_name": "Python 3",
   "language": "python",
   "name": "python3"
  },
  "language_info": {
   "codemirror_mode": {
    "name": "ipython",
    "version": 3
   },
   "file_extension": ".py",
   "mimetype": "text/x-python",
   "name": "python",
   "nbconvert_exporter": "python",
   "pygments_lexer": "ipython3",
   "version": "3.6.5"
  }
 },
 "nbformat": 4,
 "nbformat_minor": 2
}
