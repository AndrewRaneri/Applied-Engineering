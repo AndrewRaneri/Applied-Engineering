{
 "cells": [
  {
   "cell_type": "markdown",
   "metadata": {},
   "source": [
    "ChEn-3170: Computational Methods in Chemical Engineering Fall 2018 UMass Lowell; Prof. V. F. de Almeida **05Nov2018**\n",
    "\n",
    "# 15. Continuous Stirred-Tank Reactor w/ Heating \n",
    "$  \n",
    "  \\newcommand{\\Amtrx}{\\boldsymbol{\\mathsf{A}}}\n",
    "  \\newcommand{\\Bmtrx}{\\boldsymbol{\\mathsf{B}}}\n",
    "  \\newcommand{\\Mmtrx}{\\boldsymbol{\\mathsf{M}}}\n",
    "  \\newcommand{\\Imtrx}{\\boldsymbol{\\mathsf{I}}}\n",
    "  \\newcommand{\\Pmtrx}{\\boldsymbol{\\mathsf{P}}}\n",
    "  \\newcommand{\\Lmtrx}{\\boldsymbol{\\mathsf{L}}}\n",
    "  \\newcommand{\\Umtrx}{\\boldsymbol{\\mathsf{U}}}\n",
    "  \\newcommand{\\Smtrx}{\\boldsymbol{\\mathsf{S}}}\n",
    "  \\newcommand{\\xvec}{\\boldsymbol{\\mathsf{x}}}\n",
    "  \\newcommand{\\avec}{\\boldsymbol{\\mathsf{a}}}\n",
    "  \\newcommand{\\bvec}{\\boldsymbol{\\mathsf{b}}}\n",
    "  \\newcommand{\\cvec}{\\boldsymbol{\\mathsf{c}}}\n",
    "  \\newcommand{\\rvec}{\\boldsymbol{\\mathsf{r}}}\n",
    "  \\newcommand{\\mvec}{\\boldsymbol{\\mathsf{m}}}\n",
    "  \\newcommand{\\gvec}{\\boldsymbol{\\mathsf{g}}}\n",
    "  \\newcommand{\\zerovec}{\\boldsymbol{\\mathsf{0}}}\n",
    "  \\newcommand{\\norm}[1]{\\bigl\\lVert{#1}\\bigr\\rVert}\n",
    "  \\newcommand{\\transpose}[1]{{#1}^\\top}\n",
    "  \\DeclareMathOperator{\\rank}{rank}\n",
    "$"
   ]
  },
  {
   "cell_type": "markdown",
   "metadata": {},
   "source": [
    "---\n",
    "## Table of Contents\n",
    "* [Data](#data)\n",
    "* [Degrees of Freedom](#dof)\n",
    "* [Total Mass Balance](#mb)\n",
    "* [Species Mass Balance](#smb)\n",
    "* [Energy Balance](#eb)\n",
    "* [Final Comments](#fc)\n",
    "---"
   ]
  },
  {
   "cell_type": "markdown",
   "metadata": {},
   "source": [
    "## Data<a id=\"data\"></a>\n",
    "\n",
    "This problem was provided by Prof. Donatelli (2018) from ChEn-4130 Process Control class.\n",
    "\n",
    "Name                        | Parameter     | Value                | Unit              |\n",
    "----------------------------|----------------------------------------------------------| \n",
    "mass flow rate              | w             | 10                   | kg/s              | \n",
    "inflow concentration of A   | $c_{Ai}$      | 1.2                  | kgmol/$\\text{m}^3$| \n",
    "inflow concentration of B   | $c_{Bi}$      | 0.0                  | kgmol/$\\text{m}^3$| \n",
    "inflow temperature          | $T_i$         | 425                  | K                 | \n",
    "holdup volume               | $V$           | 0.2                  | $\\text{m}^3$      | \n",
    "mass density                | $\\rho$        | 1000                 | kg/$\\text{m}^3$   |\n",
    "heat capacity               | $C$           | 4184                 | J/(kg K)          |\n",
    "heat of reaction            | $\\Delta H_R$  | $6.69 \\times 10^8$   | J/kgmol           |\n",
    "activation temperature      | $E/R$         | 20000                | K                 |\n",
    "Arrhenius frequency         | $k_0$         | $1.97\\times 1024$    | $\\text{s}^{-1}$   |\n",
    "S.S.    reactor temperature | $T(\\infty)$   | 350                  | K                 |\n",
    "\n",
    "Note that this is an endothermic reaction A -> 2B and the reactor temperature at steady state is lower than the temperature of the inflow stream."
   ]
  },
  {
   "cell_type": "markdown",
   "metadata": {},
   "source": [
    "## Degrees of Freedom<a id=\"dof\"></a>\n",
    "There exists three equations (below), the total mass balance forces the volumetric flow rate to be a constant because the flow is incompressible, therefore $q$ must be specified. There exists three unknowns, namely the molarity of species A, $c_A(t)$, and B, $c_B(t)$, and the temperature of the reactor, $T(t)$. Therefore there are as many unknowns as there are equations and the problem is potentially solvable given the initial conditions for the unknowns, and all the values of the parameters in the foregoing table."
   ]
  },
  {
   "cell_type": "markdown",
   "metadata": {},
   "source": [
    "## Total Mass Balance<a id=\"mb\"></a>\n",
    "\n",
    "\\begin{equation*}\n",
    "q = q_i = \\text{constant} \n",
    "\\end{equation*}\n"
   ]
  },
  {
   "cell_type": "markdown",
   "metadata": {},
   "source": [
    "## Species Mass Balance<a id=\"smb\"></a>\n",
    "\n",
    "\\begin{equation*}\n",
    "V\\,\\frac{dc_A}{dt} = q\\bigl(c_{Ai}-c_A\\bigr) - V\\,k\\,c_A ,\\\\\n",
    "V\\,\\frac{dc_B}{dt} = q\\bigl(c_{Bi}-c_B\\bigr) + V\\,2\\,k\\,c_A ,\n",
    "\\end{equation*}\n",
    "\n",
    "where $k = k_0\\,e^{\\frac{-E}{R\\,T}}$."
   ]
  },
  {
   "cell_type": "markdown",
   "metadata": {},
   "source": [
    "## Energy Balance<a id=\"eb\"></a>\n",
    "\n",
    "\\begin{equation*}\n",
    "V\\,\\rho C\\,\\frac{dT}{dt} = w\\,C\\,\\bigl(T_i-T\\bigr) + \\bigl(-\\Delta H_R\\bigr)\\,V\\,k\\,c_A + Q\n",
    "\\end{equation*}\n",
    "\n",
    "where $w$ is the mass flow rate $w = \\rho\\,q$."
   ]
  },
  {
   "cell_type": "markdown",
   "metadata": {},
   "source": [
    "## Steady State Concentration of A<a id=\"ssa\"></a>\n",
    "\n",
    "From the species mass balance\n",
    "\n",
    "\\begin{equation*}\n",
    "c_A(\\infty) = \\frac{q\\,c_{Ai}}{V\\,k + q}\n",
    "\\end{equation*}"
   ]
  },
  {
   "cell_type": "markdown",
   "metadata": {},
   "source": [
    "## Steady State Concentration of B<a id=\"ssa\"></a>\n",
    "\n",
    "From the species mass balance\n",
    "\n",
    "\\begin{equation*}\n",
    "c_B(\\infty) = c_{Bi} + \\frac{V\\,2\\,k\\,c_A}{q}\n",
    "\\end{equation*}"
   ]
  },
  {
   "cell_type": "markdown",
   "metadata": {},
   "source": [
    "## Steady State Temperature<a id=\"ssa\"></a>\n",
    "\n",
    "From the energy balance\n",
    "\n",
    "\\begin{equation*}\n",
    "Q = w\\,C\\,\\bigl(T(\\infty)-T_i\\bigr) + \\Delta H_R\\,V\\,k\\,c_A\n",
    "\\end{equation*}"
   ]
  },
  {
   "cell_type": "code",
   "execution_count": 21,
   "metadata": {},
   "outputs": [],
   "source": [
    "'''Parameters'''\n",
    "\n",
    "w_flow          =   10.0      # kgmol/s\n",
    "c_ai            =   1.2       # kgmol/m^3\n",
    "c_bi            =   0.0       # kgmol/m^3\n",
    "temp_i          =   425.0     # K\n",
    "volume          =   0.2       # m^3\n",
    "rho             =   1000.0    # kg/m^3\n",
    "heat_capacity   =   4184.0    # J/kg/K\n",
    "enthalpy_rxn    =   6.69e8    # J/kgmol\n",
    "energy_a_over_r =   20000.0   # K\n",
    "k_0             =   1.97e24   # 1/s\n",
    "temp_infty      =   350.0     # K\n",
    "\n",
    "time_final = 150 # s"
   ]
  },
  {
   "cell_type": "code",
   "execution_count": 22,
   "metadata": {},
   "outputs": [
    {
     "name": "stdout",
     "output_type": "stream",
     "text": [
      "c_A(S.S.) = 1.71254e-01 [kgmol/m^3]\n"
     ]
    }
   ],
   "source": [
    "'''Steady state concentration of A'''\n",
    "\n",
    "import math\n",
    "q_flow = w_flow/rho\n",
    "k_cte = k_0 * math.exp( -energy_a_over_r/temp_infty )\n",
    "c_a_infty = q_flow * c_ai / (volume*k_cte + q_flow)\n",
    "\n",
    "print('c_A(S.S.) = %5.5e [kgmol/m^3]'%c_a_infty)"
   ]
  },
  {
   "cell_type": "code",
   "execution_count": 23,
   "metadata": {},
   "outputs": [
    {
     "name": "stdout",
     "output_type": "stream",
     "text": [
      "c_B(S.S.) = 2.05749e+00 [kgmol/m^3]\n"
     ]
    }
   ],
   "source": [
    "'''Steady state concentration of B'''\n",
    "\n",
    "c_b_infty = c_bi + volume * 2 * k_cte * c_a_infty / q_flow\n",
    "\n",
    "print('c_B(S.S.) = %5.5e [kgmol/m^3]'%c_b_infty)"
   ]
  },
  {
   "cell_type": "code",
   "execution_count": 24,
   "metadata": {},
   "outputs": [
    {
     "name": "stdout",
     "output_type": "stream",
     "text": [
      "Q(S.S.) = 3.74431e+03 [kW]\n"
     ]
    }
   ],
   "source": [
    "'''Steady state heating power'''\n",
    "\n",
    "q_heat_power_ss = w_flow * heat_capacity * (temp_infty - temp_i) + enthalpy_rxn * volume * k_cte * c_a_infty\n",
    "\n",
    "print('Q(S.S.) = %5.5e [kW]'%(q_heat_power_ss/1000))"
   ]
  },
  {
   "cell_type": "markdown",
   "metadata": {},
   "source": [
    "Heat is provided to the system to keep the reactor temperature from dropping too far below the inflow temperature."
   ]
  },
  {
   "cell_type": "code",
   "execution_count": 25,
   "metadata": {},
   "outputs": [],
   "source": [
    "'''RHS of ODEs'''\n",
    "\n",
    "def rhs_fn( t, u_vec,\n",
    "            volume, q_flow, c_ai, c_bi, k_0, energy_a_over_r,\n",
    "            rho, heat_capacity, temp_i, enthalpy_rxn, q_heat_power  ):\n",
    "    \n",
    "    c_a  = u_vec[0]\n",
    "    c_b  = u_vec[1]\n",
    "    temp = u_vec[2]\n",
    "    \n",
    "    assert temp >= 0.0\n",
    "    import math\n",
    "\n",
    "    k = k_0 * math.exp(-energy_a_over_r/temp)\n",
    "    \n",
    "    du_dt_0 = q_flow/volume*(c_ai - c_a) - k * c_a\n",
    "    \n",
    "    du_dt_1 = q_flow/volume*(c_bi - c_b) + 2 * k * c_a\n",
    "    \n",
    "    w_flow = rho*q_flow\n",
    "    \n",
    "    du_dt_2 =   w_flow/volume/rho*(temp_i - temp) \\\n",
    "              - enthalpy_rxn/rho/heat_capacity * k * c_a \\\n",
    "              + q_heat_power/rho/volume/heat_capacity\n",
    "    \n",
    "    return [du_dt_0, du_dt_1, du_dt_2]"
   ]
  },
  {
   "cell_type": "code",
   "execution_count": 26,
   "metadata": {},
   "outputs": [],
   "source": [
    "'''Algorithm paraters'''\n",
    "\n",
    "n_time_steps = 50 # number of solution values in time\n",
    "max_n_steps_per_time_step = 100 # max number of nonlinear algebraic solver iterations per time step"
   ]
  },
  {
   "cell_type": "code",
   "execution_count": 27,
   "metadata": {},
   "outputs": [],
   "source": [
    "'''Read experimental data'''\n",
    "\n",
    "import numpy as np\n",
    "\n",
    "t_stamps = np.linspace(0.0, time_final, num=n_time_steps)"
   ]
  },
  {
   "cell_type": "code",
   "execution_count": 28,
   "metadata": {},
   "outputs": [
    {
     "name": "stdout",
     "output_type": "stream",
     "text": [
      "       Time [s]    c_A [kgmol/m^3]  c_B [kgmol/m^3]     T [K]\n",
      "      0.000e+00       1.713e-01       2.057e+00       3.500e+02\n",
      "      1.531e+01       5.696e-02       2.072e+00       3.568e+02\n",
      "      3.061e+01       2.180e-02       2.043e+00       3.629e+02\n",
      "      4.592e+01       1.209e-02       2.016e+00       3.668e+02\n",
      "      6.122e+01       8.947e-03       2.001e+00       3.688e+02\n",
      "      7.653e+01       7.743e-03       1.993e+00       3.698e+02\n",
      "      9.184e+01       7.234e-03       1.990e+00       3.703e+02\n",
      "      1.071e+02       7.007e-03       1.988e+00       3.705e+02\n",
      "      1.224e+02       6.904e-03       1.987e+00       3.706e+02\n",
      "      1.378e+02       6.856e-03       1.987e+00       3.706e+02\n"
     ]
    }
   ],
   "source": [
    "'''Solve ODE system'''\n",
    "\n",
    "from scipy.integrate import odeint\n",
    "\n",
    "max_n_steps_per_time_step = 100\n",
    "\n",
    "# inflow condition change\n",
    "c_ai   = 1.0\n",
    "temp_i = 440.0\n",
    "\n",
    "u_vec_0    = np.zeros(3,dtype=np.float64)\n",
    "u_vec_0[0] = c_a_infty\n",
    "u_vec_0[1] = c_b_infty\n",
    "u_vec_0[2] = temp_infty\n",
    "\n",
    "(u_vec_history, info_dict) = odeint( rhs_fn, u_vec_0, t_stamps,\n",
    "                                     args=( volume, q_flow, c_ai, c_bi, k_0, energy_a_over_r,\n",
    "                                     rho, heat_capacity, temp_i, enthalpy_rxn, q_heat_power_ss ),\n",
    "                                     rtol=1e-7, atol=1e-7, mxstep=max_n_steps_per_time_step,\n",
    "                                     full_output=True, tfirst=True )\n",
    "\n",
    "assert info_dict['message']=='Integration successful.',\\\n",
    "            'Fatal: scipy.integrate.odeint failed %r'%info_dict['message']\n",
    "\n",
    "print('       Time [s]    c_A [kgmol/m^3]  c_B [kgmol/m^3]     T [K]' )\n",
    "idx = 0\n",
    "for (t,u) in zip(t_stamps,u_vec_history):\n",
    "    if idx%5 == 0:\n",
    "        print('%15.3e %15.3e %15.3e %15.3e'%(t,u[0],u[1],u[2]))\n",
    "    idx += 1"
   ]
  },
  {
   "cell_type": "code",
   "execution_count": 29,
   "metadata": {},
   "outputs": [
    {
     "data": {
      "image/png": "[encoded data removed]",
      "text/plain": [
       "<Figure size 504x504 with 2 Axes>"
      ]
     },
     "metadata": {},
     "output_type": "display_data"
    },
    {
     "name": "stdout",
     "output_type": "stream",
     "text": [
      "\n"
     ]
    }
   ],
   "source": [
    "import matplotlib.pyplot as plt\n",
    "    \n",
    "fig, ax1 = plt.subplots(1, figsize=(7, 7))\n",
    "ax1.plot(t_stamps,u_vec_history[:,0],'b-',label='$T_i=$ '+str(temp_i) )\n",
    "\n",
    "ax1.set_xlabel(r'Time [s]',fontsize=16)\n",
    "ax1.set_ylabel(r'$c_A$ [mol/L]',fontsize=16,color='blue')\n",
    "ax1.tick_params(axis='y', labelcolor='blue', labelsize=14)\n",
    "ax1.tick_params(axis='x', labelsize=14)\n",
    "#ax1.legend(loc='best',fontsize=12)\n",
    "#ax1.grid(True)\n",
    "ax2 = ax1.twinx() \n",
    "ax2.plot(t_stamps,u_vec_history[:,1],'g-.',label='$T_i=$ '+str(temp_i) )\n",
    "ax2.set_ylabel(r'$c_B$ [mol/L]',fontsize=16,color='green')\n",
    "ax2.tick_params(axis='y', labelcolor='green', labelsize=14)\n",
    "#ax2.legend(loc='best',fontsize=12)\n",
    "#ax2.grid(True)\n",
    "plt.title('CSTR',fontsize=20)\n",
    "fig.tight_layout()  # otherwise the right y-label is slightly clipped\n",
    "plt.show()\n",
    "print('')\n"
   ]
  },
  {
   "cell_type": "code",
   "execution_count": 30,
   "metadata": {},
   "outputs": [
    {
     "data": {
      "image/png": "[encoded data removed]",
      "text/plain": [
       "<Figure size 504x504 with 1 Axes>"
      ]
     },
     "metadata": {},
     "output_type": "display_data"
    },
    {
     "name": "stdout",
     "output_type": "stream",
     "text": [
      "\n"
     ]
    }
   ],
   "source": [
    "import matplotlib.pyplot as plt\n",
    "    \n",
    "plt.figure(1, figsize=(7, 7))\n",
    "\n",
    "plt.plot(t_stamps,u_vec_history[:,2],'r-',label='$T_i=$ '+str(temp_i) )\n",
    "\n",
    "plt.xlabel(r'Time [s]',fontsize=16)\n",
    "plt.ylabel(r'$T$ [K]',fontsize=16)\n",
    "plt.title('CSTR',fontsize=20)\n",
    "\n",
    "plt.xticks(fontsize=14)\n",
    "plt.yticks(fontsize=14)\n",
    "plt.legend(loc='best',fontsize=12)\n",
    "plt.grid(True)\n",
    "plt.show()\n",
    "print('')"
   ]
  },
  {
   "cell_type": "markdown",
   "metadata": {},
   "source": [
    "## Final Comments<a id=\"fc\"></a>\n",
    "After the change in feed conditions the reactor reaches another steady state after 125 seconds as shown in the table and plots above."
   ]
  },
  {
   "cell_type": "code",
   "execution_count": null,
   "metadata": {},
   "outputs": [],
   "source": []
  }
 ],
 "metadata": {
  "kernelspec": {
   "display_name": "Python 3",
   "language": "python",
   "name": "python3"
  },
  "language_info": {
   "codemirror_mode": {
    "name": "ipython",
    "version": 3
   },
   "file_extension": ".py",
   "mimetype": "text/x-python",
   "name": "python",
   "nbconvert_exporter": "python",
   "pygments_lexer": "ipython3",
   "version": "3.6.5"
  },
  "latex_envs": {
   "LaTeX_envs_menu_present": true,
   "autoclose": false,
   "autocomplete": true,
   "bibliofile": "biblio.bib",
   "cite_by": "apalike",
   "current_citInitial": 1,
   "eqLabelWithNumbers": true,
   "eqNumInitial": 1,
   "hotkeys": {
    "equation": "Ctrl-E",
    "itemize": "Ctrl-I"
   },
   "labels_anchors": false,
   "latex_user_defs": false,
   "report_style_numbering": false,
   "user_envs_cfg": false
  }
 },
 "nbformat": 4,
 "nbformat_minor": 2
}
