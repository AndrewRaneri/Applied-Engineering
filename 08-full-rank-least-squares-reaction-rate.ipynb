{
 "cells": [
  {
   "cell_type": "markdown",
   "metadata": {},
   "source": [
    "ChEn-3170: Computational Methods in Chemical Engineering Fall 2018 UMass Lowell; Prof. V. F. de Almeida **12Oct2018**\n",
    "\n",
    "# 08. Full-Rank Least-Squares Reaction Rates\n",
    "$  \n",
    "  \\newcommand{\\Amtrx}{\\boldsymbol{\\mathsf{A}}}\n",
    "  \\newcommand{\\Bmtrx}{\\boldsymbol{\\mathsf{B}}}\n",
    "  \\newcommand{\\Mmtrx}{\\boldsymbol{\\mathsf{M}}}\n",
    "  \\newcommand{\\Imtrx}{\\boldsymbol{\\mathsf{I}}}\n",
    "  \\newcommand{\\Pmtrx}{\\boldsymbol{\\mathsf{P}}}\n",
    "  \\newcommand{\\Lmtrx}{\\boldsymbol{\\mathsf{L}}}\n",
    "  \\newcommand{\\Umtrx}{\\boldsymbol{\\mathsf{U}}}\n",
    "  \\newcommand{\\Smtrx}{\\boldsymbol{\\mathsf{S}}}\n",
    "  \\newcommand{\\xvec}{\\boldsymbol{\\mathsf{x}}}\n",
    "  \\newcommand{\\avec}{\\boldsymbol{\\mathsf{a}}}\n",
    "  \\newcommand{\\bvec}{\\boldsymbol{\\mathsf{b}}}\n",
    "  \\newcommand{\\cvec}{\\boldsymbol{\\mathsf{c}}}\n",
    "  \\newcommand{\\rvec}{\\boldsymbol{\\mathsf{r}}}\n",
    "  \\newcommand{\\mvec}{\\boldsymbol{\\mathsf{m}}}\n",
    "  \\newcommand{\\gvec}{\\boldsymbol{\\mathsf{g}}}\n",
    "  \\newcommand{\\zerovec}{\\boldsymbol{\\mathsf{0}}}\n",
    "  \\newcommand{\\norm}[1]{\\bigl\\lVert{#1}\\bigr\\rVert}\n",
    "  \\newcommand{\\transpose}[1]{{#1}^\\top}\n",
    "  \\DeclareMathOperator{\\rank}{rank}\n",
    "$"
   ]
  },
  {
   "cell_type": "markdown",
   "metadata": {},
   "source": [
    "---\n",
    "## Table of Contents\n",
    "* [Introduction](#intro)\n",
    "* [Full-Rank Reaction mechanism](#rxnmech)\n",
    "* [Full-Rank Least-Squares Reaction Rates](#lsr)\n",
    "---"
   ]
  },
  {
   "cell_type": "markdown",
   "metadata": {},
   "source": [
    "## Introduction<a id=\"intro\"></a>\n",
    "\n",
    "Recal [notes](https://studentuml-my.sharepoint.com/:o:/g/personal/valmor_dealmeida_uml_edu/Evb2l8y2WNJCgNvJhcF0Pc4B-_TOOflJkiEAgCfICZwNVA?e=sV9YK0) on computational stoichiometry including an introduction to the linear, full-rank, least-squares method.\n",
    "\n",
    "This topic is an application of the least-squares method for calculating reaction rates.\n",
    "The relation between the (instantaneous) reaction rates vector, $\\rvec$, and the (instantaneous) species production rates vector, $\\gvec$, is given by $\\transpose{\\Smtrx}\\,\\rvec = \\gvec$. Since this is often a rectangular system, it remains the problem of finding one of the infinite number of solutions when $\\Smtrx$ is full rank. Specifically if $\\Smtrx$ is $m \\times n$ with $m$ reactions and $n$ species, then $\\Smtrx^\\top$ is $n\\times m$, that is,\n",
    "$\\Smtrx^\\top = \n",
    "\\begin{pmatrix}\n",
    "S^\\top _{1,1} & S^\\top _{1,2} & \\dots  & S^\\top _{1,m} \\\\\n",
    "S^\\top _{2,1} & S^\\top _{2,2} & \\dots  & S^\\top _{2,m} \\\\\n",
    "\\vdots  & \\vdots  & \\ddots & \\vdots \\\\\n",
    "S^\\top _{n,1} & S^\\top _{n,2} & \\dots  & S^\\top _{n,m}\n",
    "\\end{pmatrix} \n",
    "$\n",
    "where $S^\\top_{i,j} = S_{j,i}$. \n",
    "\n",
    "The reaction rates and species production rates are related by the matrix\n",
    "product\n",
    "$\n",
    "\\begin{pmatrix}\n",
    "S^\\top _{1,1} & S^\\top _{1,2} & \\dots  & S^\\top _{1,m} \\\\\n",
    "S^\\top _{2,1} & S^\\top _{2,2} & \\dots  & S^\\top _{2,m} \\\\\n",
    "\\vdots  & \\vdots  & \\ddots & \\vdots \\\\\n",
    "S^\\top _{n,1} & S^\\top _{n,2} & \\dots  & S^\\top _{n,m}\n",
    "\\end{pmatrix} \n",
    "\\,\n",
    "\\begin{pmatrix}\n",
    "r_1 \\\\ \n",
    "r_2 \\\\ \n",
    "\\vdots  \\\\ \n",
    "r_m \\\\ \n",
    "\\end{pmatrix}\n",
    "=\n",
    "\\begin{pmatrix}\n",
    "g_1 \\\\ \n",
    "g_2 \\\\ \n",
    "\\vdots  \\\\ \n",
    "g_n \\\\ \n",
    "\\end{pmatrix}\n",
    "$\n",
    "which shows that each species production rate has a contribution of every reaction:\n",
    "\n",
    "\\begin{equation*}\n",
    "g_j = \\sum\\limits_{i=1}^m S^\\top _{j,i}\\, r_i \\qquad\\  \\forall \\qquad\\  j=1,\\ldots, n.\n",
    "\\end{equation*}\n",
    "\n",
    "Refer to the classroom [notes](https://studentuml-my.sharepoint.com/:o:/g/personal/valmor_dealmeida_uml_edu/Evb2l8y2WNJCgNvJhcF0Pc4B-_TOOflJkiEAgCfICZwNVA?e=sV9YK0) on computational stoichiometry including an introduction to the linear, full-rank, least-squares method. To compute the reaction rates vector $\\rvec$ for a given species production vector $\\gvec$ we need to solve:\n",
    "\n",
    "\\begin{equation*}\n",
    "\\Smtrx^\\top\\,\\rvec = \\gvec .\n",
    "\\end{equation*}\n",
    "\n",
    "There exists a **unique** least-squares solution $\\rvec_\\text{LS}$ to this problem if $\\Smtrx$ is full rank, that is,\n",
    "\n",
    "\\begin{equation*}\n",
    " \\min\\limits_\\rvec \\norm{\\gvec - \\Smtrx^\\top\\,\\rvec_\\text{LS}} \\quad\\  \\forall \\quad\\ \\rvec.\n",
    "\\end{equation*}\n",
    "\n",
    "This solution is obtained by solving:\n",
    "\n",
    "\\begin{equation*}\n",
    "\\Smtrx\\,\\Smtrx^\\top\\,\\rvec_\\text{LS}  = \\Smtrx\\,\\gvec ,\n",
    "\\end{equation*}\n",
    "\n",
    "where $\\Smtrx\\,\\Smtrx^\\top$ is square, symmetric, and non-singular. The least-squares problem is just $\\Amtrx\\,\\xvec=\\bvec$ with\n",
    "$\\Amtrx = \\Smtrx\\,\\Smtrx^\\top$ and $\\bvec = \\Smtrx\\,\\gvec$. The $\\Amtrx$ is called, the normal matrix.\n",
    "\n",
    "Once the **unique** LS reaction rates $\\rvec_\\text{LS}$ are computed, they can be used to fit reaction rate constants $k_{\\text{f}i}$ and $k_{\\text{b}i}$ (forward and backward, respectively) to experimental data using the reaction rates expressions\n",
    "\n",
    "\\begin{equation*}\n",
    " r_{\\text{LS}i} = k_{\\text{f}i}\\prod\\limits_{j=1}^n\\,c_j^{-S_{i,j}} - k_{\\text{b}i}\\prod\\limits_{j=1}^n\\,c_j^{S_{i,j}} \n",
    " \\quad\\ \\forall \\quad\\ i=1,\\ldots,m ,\n",
    "\\end{equation*}\n",
    "\n",
    "as function of the concentration of the species $c_j(t)$."
   ]
  },
  {
   "cell_type": "markdown",
   "metadata": {},
   "source": [
    "## Full-Rank reaction mechanism<a id=\"rxnmech\"></a>\n",
    "Refer to course Notebook 07."
   ]
  },
  {
   "cell_type": "code",
   "execution_count": null,
   "metadata": {},
   "outputs": [],
   "source": [
    "'''Read a reaction mechanism and create data structures'''\n",
    "\n",
    "# build the stoichiometric matrix\n",
    "from chen_3170.toolkit import reaction_mechanism\n",
    "\n",
    "(species, reactions, stoic_mtrx) = \\\n",
    "                  reaction_mechanism('data/methane-catalyst-rxn.txt')\n",
    "\n",
    "print(species)\n",
    "print('# of species =',len(species))\n",
    "print('')\n",
    "from chen_3170.help import print_reactions\n",
    "\n",
    "print_reactions(reactions)"
   ]
  },
  {
   "cell_type": "code",
   "execution_count": null,
   "metadata": {},
   "outputs": [],
   "source": [
    "'''Check the stoichiometric matrix'''\n",
    "\n",
    "from chen_3170.help import plot_matrix\n",
    "\n",
    "plot_matrix(stoic_mtrx, title='Stoichiometric Matrix')\n",
    "print('stoic_mtrx=\\n',stoic_mtrx)"
   ]
  },
  {
   "cell_type": "code",
   "execution_count": null,
   "metadata": {},
   "outputs": [],
   "source": [
    "'''Compute the rank of stoichiometric matrix'''\n",
    "\n",
    "from chen_3170.toolkit import sub_mechanisms\n",
    "\n",
    "sub_mechanisms = sub_mechanisms( species, reactions, stoic_mtrx )\n",
    "\n",
    "assert len(sub_mechanisms) == 1"
   ]
  },
  {
   "cell_type": "markdown",
   "metadata": {},
   "source": [
    "## Full-rank least-squares reaction rates<a id=\"lsr\"></a>\n",
    "Refer to course Notebook 07."
   ]
  },
  {
   "cell_type": "code",
   "execution_count": null,
   "metadata": {},
   "outputs": [],
   "source": [
    "'''Assume a species production rate as random'''\n",
    "\n",
    "import numpy as np\n",
    "g_vec = np.random.random(len(species))"
   ]
  },
  {
   "cell_type": "markdown",
   "metadata": {},
   "source": [
    "Here, let's compute $\\rvec_\\text{LS} $ for \n",
    "$\n",
    "\\Smtrx\\,\\Smtrx^\\top\\,\\rvec_\\text{LS}   = \\Smtrx\\,\\gvec .\n",
    "$"
   ]
  },
  {
   "cell_type": "code",
   "execution_count": null,
   "metadata": {},
   "outputs": [],
   "source": [
    "'''Compute the LS reaction rates for random species production rates'''\n",
    "\n",
    "# build A x = b LS problem\n",
    "a_mtrx = stoic_mtrx @ stoic_mtrx.transpose() # A = S ST, A is the normal matrix\n",
    "b_vec  = stoic_mtrx @ g_vec                  # b = S g\n",
    "\n",
    "from chen_3170.toolkit import lu_factorization\n",
    "\n",
    "# matrix LU factorization of A, the normal matrix\n",
    "(P,L,U,s_rank) = lu_factorization( a_mtrx, 'partial' ) # matrix is full rank; partial pivoting works\n",
    "assert s_rank == np.linalg.matrix_rank(stoic_mtrx)\n",
    "\n",
    "from chen_3170.help import forward_solve\n",
    "from chen_3170.toolkit import backward_solve\n",
    "\n",
    "# solve the LS problem: A x = b\n",
    "y_vec = forward_solve( L, P @ b_vec)   # L y = P b\n",
    "x_vec = backward_solve( U, y_vec)      # U x = y\n",
    "assert np.linalg.norm(x_vec - np.linalg.solve(a_mtrx,b_vec)) < 1e-12\n",
    "\n",
    "np.set_printoptions(precision=3,threshold=100,edgeitems=3)\n",
    "print('species production rates g_vec =',g_vec)\n",
    "\n",
    "r_vec = x_vec # r = x\n",
    "print('reaction rates r_vec =',r_vec)\n",
    "residual_vec = g_vec - stoic_mtrx.transpose() @ r_vec\n",
    "print('residual norm ||g - ST r|| = %8.5e'%np.linalg.norm(residual_vec))"
   ]
  },
  {
   "cell_type": "code",
   "execution_count": null,
   "metadata": {},
   "outputs": [],
   "source": [
    "'''Plot of the input species production rate'''\n",
    "\n",
    "import matplotlib.pyplot as plt\n",
    "plt.rcParams['figure.figsize'] = [25, 4]\n",
    "\n",
    "fig, ax = plt.subplots(figsize=(20,6))\n",
    "\n",
    "ax.bar(range(len(species)), g_vec, color='blue')\n",
    "\n",
    "plt.xticks(range(len(species)),species,rotation=60,fontsize=14)\n",
    "\n",
    "ax.set_ylabel('Species Production Rate',fontsize=16)\n",
    "ax.set_xlabel('Species',fontsize=16)\n",
    "ax.xaxis.grid(True,linestyle='-',which='major',color='lightgrey',alpha=0.9)\n",
    "fig.suptitle('Input Species Production Rates ('+str(len(species))+')',fontsize=20)\n",
    "plt.show()"
   ]
  },
  {
   "cell_type": "code",
   "execution_count": null,
   "metadata": {},
   "outputs": [],
   "source": [
    "'''Plot least-squares reaction rates'''\n",
    "\n",
    "import matplotlib.pyplot as plt\n",
    "plt.rcParams['figure.figsize'] = [25, 4]\n",
    "\n",
    "fig, ax = plt.subplots(figsize=(20,6))\n",
    "\n",
    "ax.bar(range(len(reactions)), r_vec, color='orange')\n",
    "\n",
    "plt.xticks(range(len(reactions)),reactions,rotation=60,fontsize=14)\n",
    "\n",
    "ax.set_ylabel('Reaction rate',fontsize=16)\n",
    "ax.set_xlabel('Reaction',fontsize=16)\n",
    "ax.xaxis.grid(True,linestyle='-',which='major',color='lightgrey',alpha=0.9)\n",
    "fig.suptitle('Unique LS Reaction Rates (%s)'%str(s_rank),fontsize=20)\n",
    "plt.show()"
   ]
  },
  {
   "cell_type": "code",
   "execution_count": null,
   "metadata": {},
   "outputs": [],
   "source": []
  }
 ],
 "metadata": {
  "kernelspec": {
   "display_name": "Python 3",
   "language": "python",
   "name": "python3"
  },
  "language_info": {
   "codemirror_mode": {
    "name": "ipython",
    "version": 3
   },
   "file_extension": ".py",
   "mimetype": "text/x-python",
   "name": "python",
   "nbconvert_exporter": "python",
   "pygments_lexer": "ipython3",
   "version": "3.6.5"
  },
  "latex_envs": {
   "LaTeX_envs_menu_present": true,
   "autoclose": false,
   "autocomplete": true,
   "bibliofile": "biblio.bib",
   "cite_by": "apalike",
   "current_citInitial": 1,
   "eqLabelWithNumbers": true,
   "eqNumInitial": 1,
   "hotkeys": {
    "equation": "Ctrl-E",
    "itemize": "Ctrl-I"
   },
   "labels_anchors": false,
   "latex_user_defs": false,
   "report_style_numbering": false,
   "user_envs_cfg": false
  }
 },
 "nbformat": 4,
 "nbformat_minor": 2
}
