{
 "cells": [
  {
   "cell_type": "markdown",
   "metadata": {},
   "source": [
    "ChEn-3170: Computational Methods in Chemical Engineering Fall 2018 UMass Lowell; Prof. V. F. de Almeida **05Nov2018**\n",
    "\n",
    "# 16. Continuous Stirred-Tank Reactor w/ Cooling Coil \n",
    "$  \n",
    "  \\newcommand{\\Amtrx}{\\boldsymbol{\\mathsf{A}}}\n",
    "  \\newcommand{\\Bmtrx}{\\boldsymbol{\\mathsf{B}}}\n",
    "  \\newcommand{\\Mmtrx}{\\boldsymbol{\\mathsf{M}}}\n",
    "  \\newcommand{\\Imtrx}{\\boldsymbol{\\mathsf{I}}}\n",
    "  \\newcommand{\\Pmtrx}{\\boldsymbol{\\mathsf{P}}}\n",
    "  \\newcommand{\\Lmtrx}{\\boldsymbol{\\mathsf{L}}}\n",
    "  \\newcommand{\\Umtrx}{\\boldsymbol{\\mathsf{U}}}\n",
    "  \\newcommand{\\Smtrx}{\\boldsymbol{\\mathsf{S}}}\n",
    "  \\newcommand{\\xvec}{\\boldsymbol{\\mathsf{x}}}\n",
    "  \\newcommand{\\avec}{\\boldsymbol{\\mathsf{a}}}\n",
    "  \\newcommand{\\bvec}{\\boldsymbol{\\mathsf{b}}}\n",
    "  \\newcommand{\\cvec}{\\boldsymbol{\\mathsf{c}}}\n",
    "  \\newcommand{\\rvec}{\\boldsymbol{\\mathsf{r}}}\n",
    "  \\newcommand{\\mvec}{\\boldsymbol{\\mathsf{m}}}\n",
    "  \\newcommand{\\gvec}{\\boldsymbol{\\mathsf{g}}}\n",
    "  \\newcommand{\\zerovec}{\\boldsymbol{\\mathsf{0}}}\n",
    "  \\newcommand{\\norm}[1]{\\bigl\\lVert{#1}\\bigr\\rVert}\n",
    "  \\newcommand{\\transpose}[1]{{#1}^\\top}\n",
    "  \\DeclareMathOperator{\\rank}{rank}\n",
    "$"
   ]
  },
  {
   "cell_type": "markdown",
   "metadata": {},
   "source": [
    "---\n",
    "## Table of Contents\n",
    "* [Data](#data)\n",
    "* [Degrees of Freedom](#dof)\n",
    "* [Total Mass Balance](#mb)\n",
    "* [Species Mass Balance](#smb)\n",
    "* [Energy Balance](#eb)\n",
    "---"
   ]
  },
  {
   "cell_type": "markdown",
   "metadata": {},
   "source": [
    "## Data<a id=\"data\"></a>\n",
    "\n",
    "This problem is extracted from Example 2.5 in the book: Process Dynamics and Control, Seborg, Edgar, Mellichamp, and Doyle, 4$^\\text{th}$ edition, 2017.\n",
    "\n",
    "Name                        | Parameter     | Value                | Unit             |\n",
    "----------------------------|---------------------------------------------------------| \n",
    "volumetric flow rate        | q             | 100                  | L/min            | \n",
    "inflow molarity of A        | $c_{Ai}$      | 1                    | mol/L            | \n",
    "inflow temperature          | $T_i$         | 350                  | K                | \n",
    "holdup volume               | $V$           | 100                  | L                | \n",
    "mass density                | $\\rho$        | 1000                 | g/L              |\n",
    "heat capacity               | $C$           | 0.239                | J/(g K)          |\n",
    "heat of reaction            | $-\\Delta H_R$ | $5 \\times 10^4$      | J/mol            |\n",
    "activation temperature      | $E/R$         | 8750                 | K                |\n",
    "Arrhenius frequency         | $k_0$         | $7.2 \\times 10^{10}$ | $\\text{min}^{-1}$|\n",
    "coolant heat transfer coeff.| $UA$          | $5 \\times 10^{4}$    | J/(min K)        |\n",
    "coolant temperature         | $T_c(0)$      | 300                  | K                |\n",
    "initial reactor molarity    | $c_A(0)$      | 0.5                  | mol/L            |\n",
    "initial reactor temperature | $T(0)$        | 350                  | K                |\n",
    "\n",
    "Note this is an exothermic reaction of production of A -> B and heat is removed from the system to prevent the temperature from increasing too much above the inflow stream temperature."
   ]
  },
  {
   "cell_type": "markdown",
   "metadata": {},
   "source": [
    "## Degrees of Freedom<a id=\"dof\"></a>\n",
    "There exists three equations (below), the total mass balance forces the volumetric flow rate to be a constant because the flow is incompressible, therefore $q$ must be specified. There exists two unknowns, namely the molarity of species A, $c_A(t)$, and the temperature of the reactor, $T(t)$. Therefore there are as many unknowns as there are equations and the problem is potentially solvable give the initial conditions for the unknowns, and all the values of the parameters in foregoing table."
   ]
  },
  {
   "cell_type": "markdown",
   "metadata": {},
   "source": [
    "## Total Mass Balance<a id=\"mb\"></a>\n",
    "\n",
    "\\begin{equation*}\n",
    "q = q_i = \\text{constant} \n",
    "\\end{equation*}\n"
   ]
  },
  {
   "cell_type": "markdown",
   "metadata": {},
   "source": [
    "## Species Mass Balance<a id=\"smb\"></a>\n",
    "\n",
    "\\begin{equation*}\n",
    "V\\,\\frac{dc_A}{dt} = q\\bigl(c_{Ai}-c_A\\bigr) - V\\,k\\,c_A ,\n",
    "\\end{equation*}\n",
    "\n",
    "where $k = k_0\\,e^{\\frac{-E}{R\\,T}}$."
   ]
  },
  {
   "cell_type": "markdown",
   "metadata": {},
   "source": [
    "## Energy Balance<a id=\"eb\"></a>\n",
    "\n",
    "\\begin{equation*}\n",
    "V\\,\\rho C\\,\\frac{dT}{dt} = w\\,C\\,\\bigl(T_i-T\\bigr) + \\bigl(-\\Delta H_R\\bigr)\\,V\\,k\\,c_A + UA\\,\\bigl(T_c-T\\bigr)\n",
    "\\end{equation*}\n",
    "\n",
    "where $w$ is the mass flow rate $w = \\rho\\,q$."
   ]
  },
  {
   "cell_type": "code",
   "execution_count": 9,
   "metadata": {},
   "outputs": [],
   "source": [
    "'''RHS of ODEs'''\n",
    "\n",
    "def rhs_fn( t, u_vec,\n",
    "            volume, q_flow, c_ai, k_0, energy_a_over_r,\n",
    "            rho, heat_capacity, temp_i, enthalpy_rxn, u_a, temp_c_0  ):\n",
    "    \n",
    "    c_a  = u_vec[0]\n",
    "    temp = u_vec[1]\n",
    "    \n",
    "    import math\n",
    "    k = k_0 * math.exp(-energy_a_over_r/temp)\n",
    "    \n",
    "    du_dt_0 = q_flow/volume*(c_ai - c_a) - k * c_a\n",
    "    \n",
    "    w_flow = rho*q_flow\n",
    "    \n",
    "    du_dt_1 =   w_flow/volume/rho*(temp_i - temp) \\\n",
    "              - enthalpy_rxn/rho/heat_capacity * k * c_a \\\n",
    "              + u_a/volume/rho/heat_capacity*(temp_c_0-temp)\n",
    "    \n",
    "    return [du_dt_0, du_dt_1]"
   ]
  },
  {
   "cell_type": "code",
   "execution_count": 10,
   "metadata": {},
   "outputs": [],
   "source": [
    "'''Manipulated input variable'''\n",
    "\n",
    "#temp_c_0        =   290.0  # K\n",
    "#temp_c_0        =   300.0  # K\n",
    "temp_c_0        =   305.0  # K"
   ]
  },
  {
   "cell_type": "code",
   "execution_count": 11,
   "metadata": {},
   "outputs": [],
   "source": [
    "'''Parameters'''\n",
    "\n",
    "q_flow          =   100.0  # L/min\n",
    "c_ai            =   1.0    # mol/L\n",
    "temp_i          =   350.0  # K\n",
    "volume          =   100.0  # L\n",
    "rho             =   1000.0 # g/L\n",
    "heat_capacity   =   0.239  # J/g/K\n",
    "enthalpy_rxn    = - 5.0e4  # J/mol\n",
    "energy_a_over_r =   8750.0 # K\n",
    "k_0             =   7.2e10 # 1/min\n",
    "u_a             =   5.0e4  # J/min/K\n",
    "c_a_0           =   0.5    # mol/L\n",
    "temp_0          =   350.0  # K\n",
    "\n",
    "time_final   = 10.0 # min"
   ]
  },
  {
   "cell_type": "code",
   "execution_count": 12,
   "metadata": {},
   "outputs": [],
   "source": [
    "'''Algorithm paraters'''\n",
    "\n",
    "n_time_steps = 200 # number of solution values in time\n",
    "max_n_steps_per_time_step = 100 # max number of nonlinear algebraic solver iterations per time step"
   ]
  },
  {
   "cell_type": "code",
   "execution_count": 13,
   "metadata": {},
   "outputs": [],
   "source": [
    "'''Read experimental data'''\n",
    "\n",
    "import numpy as np\n",
    "\n",
    "t_stamps = np.linspace(0.0, time_final, num=n_time_steps)"
   ]
  },
  {
   "cell_type": "code",
   "execution_count": 14,
   "metadata": {},
   "outputs": [],
   "source": [
    "'''Solve ODE system'''\n",
    "\n",
    "from scipy.integrate import odeint\n",
    "\n",
    "max_n_steps_per_time_step = 100\n",
    "\n",
    "u_vec_0    = np.zeros(2,dtype=np.float64)\n",
    "u_vec_0[0] = c_a_0\n",
    "u_vec_0[1] = temp_0\n",
    "\n",
    "(u_vec_history, info_dict) = odeint( rhs_fn, u_vec_0, t_stamps,\n",
    "                                     args=( volume, q_flow, c_ai, k_0, energy_a_over_r,\n",
    "                                     rho, heat_capacity, temp_i, enthalpy_rxn, u_a, temp_c_0 ),\n",
    "                                     rtol=1e-7, atol=1e-7, mxstep=max_n_steps_per_time_step,\n",
    "                                     full_output=True, tfirst=True )\n",
    "\n",
    "assert info_dict['message']=='Integration successful.',\\\n",
    "            'Fatal: scipy.integrate.odeint failed %r'%info_dict['message']\n"
   ]
  },
  {
   "cell_type": "code",
   "execution_count": 15,
   "metadata": {},
   "outputs": [
    {
     "data": {
      "image/png": "[encoded data removed]",
      "text/plain": [
       "<Figure size 504x504 with 1 Axes>"
      ]
     },
     "metadata": {},
     "output_type": "display_data"
    },
    {
     "name": "stdout",
     "output_type": "stream",
     "text": [
      "\n"
     ]
    }
   ],
   "source": [
    "import matplotlib.pyplot as plt\n",
    "    \n",
    "plt.figure(1, figsize=(7, 7))\n",
    "\n",
    "plt.plot(t_stamps,u_vec_history[:,0],'b-',label='$T_c=$ '+str(temp_c_0) )\n",
    "\n",
    "plt.xlabel(r'Time [min]',fontsize=16)\n",
    "plt.ylabel(r'$c_A$ [mol/L]',fontsize=16)\n",
    "plt.title('CSTR',fontsize=20)\n",
    "\n",
    "plt.xticks(fontsize=14)\n",
    "plt.yticks(fontsize=14)\n",
    "plt.legend(loc='best',fontsize=12)\n",
    "plt.grid(True)\n",
    "plt.show()\n",
    "print('')\n"
   ]
  },
  {
   "cell_type": "code",
   "execution_count": 16,
   "metadata": {},
   "outputs": [
    {
     "data": {
      "image/png": "[encoded data removed]",
      "text/plain": [
       "<Figure size 504x504 with 1 Axes>"
      ]
     },
     "metadata": {},
     "output_type": "display_data"
    },
    {
     "name": "stdout",
     "output_type": "stream",
     "text": [
      "\n"
     ]
    }
   ],
   "source": [
    "import matplotlib.pyplot as plt\n",
    "    \n",
    "plt.figure(1, figsize=(7, 7))\n",
    "\n",
    "plt.plot(t_stamps,u_vec_history[:,1],'r-',label='$T_c=$ '+str(temp_c_0) )\n",
    "\n",
    "plt.xlabel(r'Time [min]',fontsize=16)\n",
    "plt.ylabel(r'$T$ [K]',fontsize=16)\n",
    "plt.title('CSTR',fontsize=20)\n",
    "\n",
    "plt.xticks(fontsize=14)\n",
    "plt.yticks(fontsize=14)\n",
    "plt.legend(loc='best',fontsize=12)\n",
    "plt.grid(True)\n",
    "plt.show()\n",
    "print('')"
   ]
  },
  {
   "cell_type": "code",
   "execution_count": null,
   "metadata": {},
   "outputs": [],
   "source": []
  }
 ],
 "metadata": {
  "kernelspec": {
   "display_name": "Python 3",
   "language": "python",
   "name": "python3"
  },
  "language_info": {
   "codemirror_mode": {
    "name": "ipython",
    "version": 3
   },
   "file_extension": ".py",
   "mimetype": "text/x-python",
   "name": "python",
   "nbconvert_exporter": "python",
   "pygments_lexer": "ipython3",
   "version": "3.6.5"
  },
  "latex_envs": {
   "LaTeX_envs_menu_present": true,
   "autoclose": false,
   "autocomplete": true,
   "bibliofile": "biblio.bib",
   "cite_by": "apalike",
   "current_citInitial": 1,
   "eqLabelWithNumbers": true,
   "eqNumInitial": 1,
   "hotkeys": {
    "equation": "Ctrl-E",
    "itemize": "Ctrl-I"
   },
   "labels_anchors": false,
   "latex_user_defs": false,
   "report_style_numbering": false,
   "user_envs_cfg": false
  }
 },
 "nbformat": 4,
 "nbformat_minor": 2
}
