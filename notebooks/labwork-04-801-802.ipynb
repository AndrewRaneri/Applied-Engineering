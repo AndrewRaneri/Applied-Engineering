{
 "cells": [
  {
   "cell_type": "markdown",
   "metadata": {},
   "source": [
    "ChEn-3170: Computational Methods in Chemical Engineering Fall 2018 UMass Lowell; Prof. V. F. de Almeida **27Sep2018**\n",
    "\n",
    "# Laboratory Work 04 27Sep2018 Session 801/802\n",
    "$\n",
    "  \\newcommand{\\Amtrx}{\\boldsymbol{\\mathsf{A}}}\n",
    "  \\newcommand{\\Bmtrx}{\\boldsymbol{\\mathsf{B}}}\n",
    "  \\newcommand{\\Cmtrx}{\\boldsymbol{\\mathsf{C}}}\n",
    "  \\newcommand{\\Mmtrx}{\\boldsymbol{\\mathsf{M}}}\n",
    "  \\newcommand{\\Imtrx}{\\boldsymbol{\\mathsf{I}}}\n",
    "  \\newcommand{\\Pmtrx}{\\boldsymbol{\\mathsf{P}}}\n",
    "  \\newcommand{\\Lmtrx}{\\boldsymbol{\\mathsf{L}}}\n",
    "  \\newcommand{\\Umtrx}{\\boldsymbol{\\mathsf{U}}}\n",
    "  \\newcommand{\\xvec}{\\boldsymbol{\\mathsf{x}}}\n",
    "  \\newcommand{\\yvec}{\\boldsymbol{\\mathsf{y}}}\n",
    "  \\newcommand{\\zvec}{\\boldsymbol{\\mathsf{z}}}\n",
    "  \\newcommand{\\avec}{\\boldsymbol{\\mathsf{a}}}\n",
    "  \\newcommand{\\bvec}{\\boldsymbol{\\mathsf{b}}}\n",
    "  \\newcommand{\\cvec}{\\boldsymbol{\\mathsf{c}}}\n",
    "  \\newcommand{\\rvec}{\\boldsymbol{\\mathsf{r}}}\n",
    "  \\newcommand{\\norm}[1]{\\bigl\\lVert{#1}\\bigr\\rVert}\n",
    "  \\DeclareMathOperator{\\rank}{rank}\n",
    "$"
   ]
  },
  {
   "cell_type": "markdown",
   "metadata": {},
   "source": [
    "### Name: `your name`"
   ]
  },
  {
   "cell_type": "markdown",
   "metadata": {},
   "source": [
    "### Rubric for each assignment: \n",
    "\n",
    "|                             |  Points |\n",
    "| -----------------------     | ------- |\n",
    "| Precision of the answer     |   80%   |\n",
    "| Answer Markdown readability |   10%   |\n",
    "| Code readability            |   10%   |\n",
    "    "
   ]
  },
  {
   "cell_type": "markdown",
   "metadata": {},
   "source": [
    "### <span style=\"color:red\">Guidance:</span>\n",
    " +  <span style=\"color:red\"> \n",
    "    Save your work frequently to a file locally to your computer.\n",
    "    </span>\n",
    " +  <span style=\"color:red\">\n",
    "    During your work and before submitting the final version do: `Kernel` -> `Restart & Run All`, to verify your notebook runs correctly.\n",
    "    </span>\n",
    " +  <span style=\"color:red\">\n",
    "    Save your file again.\n",
    "    </span>"
   ]
  },
  {
   "cell_type": "markdown",
   "metadata": {},
   "source": [
    "## <span style=\"color:blue\">Assignment 1 (40 pts): For each item below respond in a separate notebook cell.</span>\n",
    "<span style=\"color:blue\">\n",
    "Given the matrix $\\Amtrx = \\begin{pmatrix}\n",
    "3.5 & 7.6 & 8.9 & -1.3 \\\\\n",
    "2.1 & 4.5 & 1.9 & -2.4 \\\\\n",
    "1.0 & 13.1 & 0.4 & 5.3 \\\\\n",
    "0.4 & -0.1 & 5.4 & 0.2 \n",
    "\\end{pmatrix} $ \n",
    "and the vector $\\bvec = \\begin{pmatrix} 5.4\\\\8.1\\\\9.\\\\0.1\\end{pmatrix} $ :\n",
    "</span>\n",
    "* <span style=\"color:blue\">Compute the product \n",
    "$\\yvec = \\Amtrx\\,\\bvec$ and print the results with up to 3 decimals precision.\n",
    "</span>\n",
    "* <span style=\"color:blue\">Compute the norm\n",
    "$\\norm{\\yvec}$ and print the result in exponential scientific format with 4 decimals.\n",
    "</span>\n",
    "* <span style=\"color:blue\">Compute the product \n",
    "$\\zvec = \\Amtrx^\\top\\,\\bvec$, where $\\Amtrx^\\top$ is the transpose of $\\Amtrx$, and print the results with up to 3 decimals precision.\n",
    "</span>\n",
    "* <span style=\"color:blue\">Compute the norm\n",
    "$\\norm{\\zvec}$ and print the result in exponential scientific format with 4 decimals.\n",
    "</span>\n",
    "* <span style=\"color:blue\">Compute the product \n",
    "$\\Bmtrx = \\Amtrx^\\top\\,\\Amtrx$\n",
    "</span>\n",
    "* <span style=\"color:blue\">Compute the product \n",
    "$\\Cmtrx = \\Amtrx\\,\\Amtrx^\\top$\n",
    "</span>\n",
    "* <span style=\"color:blue\"> Is $\\Cmtrx = \\Bmtrx$? Explain.\n",
    "</span>\n",
    "</span>\n",
    "* <span style=\"color:blue\"> Compute $\\Bmtrx - \\Bmtrx^\\top$. Explain the result.\n",
    "</span>"
   ]
  },
  {
   "cell_type": "code",
   "execution_count": 50,
   "metadata": {},
   "outputs": [
    {
     "name": "stdout",
     "output_type": "stream",
     "text": [
      "y = A b =  [160.43  64.65 115.64  49.97]\n"
     ]
    }
   ],
   "source": []
  },
  {
   "cell_type": "code",
   "execution_count": 51,
   "metadata": {},
   "outputs": [
    {
     "name": "stdout",
     "output_type": "stream",
     "text": [
      "||y|| = 2.1398e+02\n"
     ]
    }
   ],
   "source": []
  },
  {
   "cell_type": "code",
   "execution_count": 52,
   "metadata": {},
   "outputs": [
    {
     "name": "stdout",
     "output_type": "stream",
     "text": [
      "z = A^T b =  [ 44.95 195.38  67.59  21.26]\n"
     ]
    }
   ],
   "source": []
  },
  {
   "cell_type": "code",
   "execution_count": 53,
   "metadata": {},
   "outputs": [
    {
     "name": "stdout",
     "output_type": "stream",
     "text": [
      "||z|| = 2.1264e+02\n"
     ]
    }
   ],
   "source": []
  },
  {
   "cell_type": "code",
   "execution_count": 54,
   "metadata": {},
   "outputs": [
    {
     "name": "stdout",
     "output_type": "stream",
     "text": [
      "B = A^T A =\n",
      " [[ 17.82  49.11  37.7   -4.21]\n",
      " [ 49.11 249.63  80.89  48.73]\n",
      " [ 37.7   80.89 112.14 -12.93]\n",
      " [ -4.21  48.73 -12.93  35.58]]\n"
     ]
    }
   ],
   "source": []
  },
  {
   "cell_type": "code",
   "execution_count": 55,
   "metadata": {},
   "outputs": [
    {
     "name": "stdout",
     "output_type": "stream",
     "text": [
      "C = A A^T =\n",
      " [[150.91  61.58  99.73  48.44]\n",
      " [ 61.58  34.03  49.09  10.17]\n",
      " [ 99.73  49.09 200.86   2.31]\n",
      " [ 48.44  10.17   2.31  29.37]]\n"
     ]
    }
   ],
   "source": []
  },
  {
   "cell_type": "code",
   "execution_count": 56,
   "metadata": {},
   "outputs": [
    {
     "name": "stdout",
     "output_type": "stream",
     "text": [
      "B - C =\n",
      " [[-133.09  -12.47  -62.03  -52.65]\n",
      " [ -12.47  215.6    31.8    38.56]\n",
      " [ -62.03   31.8   -88.72  -15.24]\n",
      " [ -52.65   38.56  -15.24    6.21]]\n"
     ]
    }
   ],
   "source": []
  },
  {
   "cell_type": "markdown",
   "metadata": {},
   "source": [
    "$\\Bmtrx$ is not equal to $\\Cmtrx$ because..."
   ]
  },
  {
   "cell_type": "code",
   "execution_count": 57,
   "metadata": {},
   "outputs": [
    {
     "name": "stdout",
     "output_type": "stream",
     "text": [
      "B - B^T =\n",
      " [[0. 0. 0. 0.]\n",
      " [0. 0. 0. 0.]\n",
      " [0. 0. 0. 0.]\n",
      " [0. 0. 0. 0.]]\n"
     ]
    }
   ],
   "source": []
  },
  {
   "cell_type": "markdown",
   "metadata": {},
   "source": [
    "$\\Bmtrx$ and $\\Bmtrx^\\top$ are equal because..."
   ]
  },
  {
   "cell_type": "markdown",
   "metadata": {},
   "source": [
    "## <span style=\"color:blue\">Assignment 2 (40 pts): For each item below respond in a separate notebook cell.</span>\n",
    "* <span style=\"color:blue\">Compute $\\rank(\\Amtrx)$. What insight does the result give you?\n",
    "</span>\n",
    "* <span style=\"color:blue\">Compute the solution of $\\Amtrx\\,\\xvec = \\bvec$ and its norm $\\norm{\\xvec}$.\n",
    "* <span style=\"color:blue\">Plot the components of $\\xvec$. </span>\n",
    "* <span style=\"color:blue\">Permute the second and last rows of $\\Amtrx$ using a permutation matrix, *i.e.* \n",
    "$\\Pmtrx\\,\\Amtrx$.\n",
    "</span>\n",
    "* <span style=\"color:blue\">Compute the solution of $\\Pmtrx\\,\\Amtrx\\,\\yvec = \\bvec$ and its norm $\\norm{\\yvec}$.\n",
    "Compare $\\yvec$ to $\\xvec$ and explain any differences.\n",
    "</span>\n",
    "* <span style=\"color:blue\">Compute the $\\Pmtrx\\,\\Lmtrx\\,\\Umtrx$ factorization of $\\Amtrx$.\n",
    "Verify $\\Amtrx = \\Pmtrx\\,\\Lmtrx\\,\\Umtrx$.\n",
    "</span>"
   ]
  },
  {
   "cell_type": "code",
   "execution_count": 58,
   "metadata": {},
   "outputs": [
    {
     "name": "stdout",
     "output_type": "stream",
     "text": [
      "rank(A) = 4\n"
     ]
    }
   ],
   "source": []
  },
  {
   "cell_type": "markdown",
   "metadata": {},
   "source": [
    "Explain..."
   ]
  },
  {
   "cell_type": "code",
   "execution_count": 59,
   "metadata": {},
   "outputs": [
    {
     "name": "stdout",
     "output_type": "stream",
     "text": [
      "x =  [-11.914   3.847   1.182  -5.652]\n",
      "||x|| = 1.3787e+01\n"
     ]
    }
   ],
   "source": []
  },
  {
   "cell_type": "code",
   "execution_count": 60,
   "metadata": {},
   "outputs": [
    {
     "name": "stdout",
     "output_type": "stream",
     "text": [
      "\n"
     ]
    },
    {
     "data": {
      "image/png": "[encoded data removed]",
      "text/plain": [
       "<Figure size 432x288 with 1 Axes>"
      ]
     },
     "metadata": {},
     "output_type": "display_data"
    }
   ],
   "source": [
    "\n",
    "plt.plot(range(x_vec.shape[0]),x_vec,'*r') # plot diagonal intensity\n"
   ]
  },
  {
   "cell_type": "code",
   "execution_count": 61,
   "metadata": {},
   "outputs": [
    {
     "name": "stdout",
     "output_type": "stream",
     "text": [
      "P  =\n",
      " [[1. 0. 0. 0.]\n",
      " [0. 0. 0. 1.]\n",
      " [0. 0. 1. 0.]\n",
      " [0. 1. 0. 0.]]\n",
      "A  =\n",
      " [[ 3.5  7.6  8.9 -1.3]\n",
      " [ 2.1  4.5  1.9 -2.4]\n",
      " [ 1.  13.1  0.4  5.3]\n",
      " [ 0.4 -0.1  5.4  0.2]]\n",
      "PA =\n",
      " [[ 3.5  7.6  8.9 -1.3]\n",
      " [ 0.4 -0.1  5.4  0.2]\n",
      " [ 1.  13.1  0.4  5.3]\n",
      " [ 2.1  4.5  1.9 -2.4]]\n"
     ]
    }
   ],
   "source": []
  },
  {
   "cell_type": "code",
   "execution_count": 62,
   "metadata": {},
   "outputs": [
    {
     "name": "stdout",
     "output_type": "stream",
     "text": [
      "y     =  [-11.914   3.847   1.182  -5.652]\n",
      "||y|| = 1.5421e+01\n",
      "y - x =  [-2.319 -0.516  1.585  1.592]\n"
     ]
    }
   ],
   "source": []
  },
  {
   "cell_type": "markdown",
   "metadata": {},
   "source": [
    "$\\yvec$ is not equal to $\\xvec$ because..."
   ]
  },
  {
   "cell_type": "code",
   "execution_count": 63,
   "metadata": {},
   "outputs": [
    {
     "name": "stdout",
     "output_type": "stream",
     "text": [
      "P =\n",
      " [[1. 0. 0. 0.]\n",
      " [0. 0. 0. 1.]\n",
      " [0. 1. 0. 0.]\n",
      " [0. 0. 1. 0.]]\n",
      "L =\n",
      " [[ 1.     0.     0.     0.   ]\n",
      " [ 0.286  1.     0.     0.   ]\n",
      " [ 0.114 -0.089  1.     0.   ]\n",
      " [ 0.6   -0.005 -0.823  1.   ]]\n",
      "U =\n",
      " [[ 3.5    7.6    8.9   -1.3  ]\n",
      " [ 0.    10.929 -2.143  5.671]\n",
      " [ 0.     0.     4.193  0.851]\n",
      " [ 0.     0.     0.    -0.888]]\n",
      "Checking...\n",
      "PLU - A =\n",
      " [[ 0.000e+00  0.000e+00  0.000e+00  0.000e+00]\n",
      " [ 0.000e+00  0.000e+00  2.220e-16  0.000e+00]\n",
      " [ 0.000e+00  0.000e+00 -1.110e-16 -8.882e-16]\n",
      " [-5.551e-17  2.776e-17  0.000e+00 -5.551e-17]]\n"
     ]
    }
   ],
   "source": [
    "from scipy import linalg\n"
   ]
  },
  {
   "cell_type": "markdown",
   "metadata": {},
   "source": [
    "## <span style=\"color:blue\">Assignment 3 (20 pts): For each item below respond in a separate notebook cell.</span>\n",
    "* <span style=\"color:blue\">Concatenate matrix $\\Amtrx$ in the vertical direction.</span>\n",
    "* <span style=\"color:blue\">Compute the rank of the augmented matrix. Explain the result.</span>"
   ]
  },
  {
   "cell_type": "code",
   "execution_count": 64,
   "metadata": {},
   "outputs": [
    {
     "name": "stdout",
     "output_type": "stream",
     "text": [
      "A augmented =\n",
      " [[ 3.5  7.6  8.9 -1.3]\n",
      " [ 2.1  4.5  1.9 -2.4]\n",
      " [ 1.  13.1  0.4  5.3]\n",
      " [ 0.4 -0.1  5.4  0.2]\n",
      " [ 3.5  7.6  8.9 -1.3]\n",
      " [ 2.1  4.5  1.9 -2.4]\n",
      " [ 1.  13.1  0.4  5.3]\n",
      " [ 0.4 -0.1  5.4  0.2]]\n",
      "# rows, # cols = (8, 4)\n"
     ]
    }
   ],
   "source": []
  },
  {
   "cell_type": "code",
   "execution_count": 65,
   "metadata": {},
   "outputs": [
    {
     "name": "stdout",
     "output_type": "stream",
     "text": [
      "k = 4\n"
     ]
    }
   ],
   "source": []
  },
  {
   "cell_type": "markdown",
   "metadata": {},
   "source": [
    "The rank is 4 because ..."
   ]
  }
 ],
 "metadata": {
  "kernelspec": {
   "display_name": "Python 3",
   "language": "python",
   "name": "python3"
  },
  "language_info": {
   "codemirror_mode": {
    "name": "ipython",
    "version": 3
   },
   "file_extension": ".py",
   "mimetype": "text/x-python",
   "name": "python",
   "nbconvert_exporter": "python",
   "pygments_lexer": "ipython3",
   "version": "3.6.5"
  },
  "latex_envs": {
   "LaTeX_envs_menu_present": true,
   "autoclose": false,
   "autocomplete": true,
   "bibliofile": "biblio.bib",
   "cite_by": "apalike",
   "current_citInitial": 1,
   "eqLabelWithNumbers": true,
   "eqNumInitial": 1,
   "hotkeys": {
    "equation": "Ctrl-E",
    "itemize": "Ctrl-I"
   },
   "labels_anchors": false,
   "latex_user_defs": false,
   "report_style_numbering": false,
   "user_envs_cfg": false
  }
 },
 "nbformat": 4,
 "nbformat_minor": 2
}
