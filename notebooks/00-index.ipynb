{
 "cells": [
  {
   "cell_type": "markdown",
   "metadata": {},
   "source": [
    "ChEn-3170: Computational Methods in Chemical Engineering Spring 2020 UMass Lowell; Prof. V. F. de Almeida **20Jan2020**\n",
    "\n",
    "# 00. ChEn-3170 Computational Methods in Chemical Engineering\n",
    "    University of Massachusetts Lowell, Spring 2020  \n",
    "    Prof. Valmor F. de Almeida (valmor_dealmeida@uml.edu)\n",
    "\n",
    "List of notebooks (in progress).\n",
    "+ [00 This Index](https://github.com/dpploy/chen-3170/blob/master/notebooks/00-index.ipynb)\n",
    "+ [01 Introduction](https://github.com/dpploy/chen-3170/blob/master/notebooks/01-introduction.ipynb)\n",
    "+ [02 Variables, Types, and Structures](https://github.com/dpploy/chen-3170/blob/master/02-variables-types-structures.ipynb)\n",
    "+ [03 Arrays](https://github.com/dpploy/chen-3170/blob/master/03-arrays.ipynb)"
   ]
  },
  {
   "cell_type": "code",
   "execution_count": null,
   "metadata": {},
   "outputs": [],
   "source": []
  }
 ],
 "metadata": {
  "kernelspec": {
   "display_name": "Python 3",
   "language": "python",
   "name": "python3"
  },
  "language_info": {
   "codemirror_mode": {
    "name": "ipython",
    "version": 3
   },
   "file_extension": ".py",
   "mimetype": "text/x-python",
   "name": "python",
   "nbconvert_exporter": "python",
   "pygments_lexer": "ipython3",
   "version": "3.7.1"
  },
  "latex_envs": {
   "LaTeX_envs_menu_present": true,
   "autoclose": false,
   "autocomplete": true,
   "bibliofile": "biblio.bib",
   "cite_by": "apalike",
   "current_citInitial": 1,
   "eqLabelWithNumbers": true,
   "eqNumInitial": 1,
   "hotkeys": {
    "equation": "Ctrl-E",
    "itemize": "Ctrl-I"
   },
   "labels_anchors": false,
   "latex_user_defs": false,
   "report_style_numbering": false,
   "user_envs_cfg": false
  }
 },
 "nbformat": 4,
 "nbformat_minor": 2
}
