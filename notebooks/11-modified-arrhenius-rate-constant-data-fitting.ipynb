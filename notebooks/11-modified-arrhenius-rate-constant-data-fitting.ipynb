{
 "cells": [
  {
   "cell_type": "markdown",
   "metadata": {},
   "source": [
    "ChEn-3170: Computational Methods in Chemical Engineering Spring 2020 UMass Lowell; Prof. V. F. de Almeida **23Mar20**\n",
    "\n",
    "# 11. Modified Arrhenius Rate Constant Data Fitting\n",
    "$  \n",
    "  \\newcommand{\\Amtrx}{\\boldsymbol{\\mathsf{A}}}\n",
    "  \\newcommand{\\Bmtrx}{\\boldsymbol{\\mathsf{B}}}\n",
    "  \\newcommand{\\Mmtrx}{\\boldsymbol{\\mathsf{M}}}\n",
    "  \\newcommand{\\Imtrx}{\\boldsymbol{\\mathsf{I}}}\n",
    "  \\newcommand{\\Pmtrx}{\\boldsymbol{\\mathsf{P}}}\n",
    "  \\newcommand{\\Lmtrx}{\\boldsymbol{\\mathsf{L}}}\n",
    "  \\newcommand{\\Umtrx}{\\boldsymbol{\\mathsf{U}}}\n",
    "  \\newcommand{\\Smtrx}{\\boldsymbol{\\mathsf{S}}}\n",
    "  \\newcommand{\\xvec}{\\boldsymbol{\\mathsf{x}}}\n",
    "  \\newcommand{\\avec}{\\boldsymbol{\\mathsf{a}}}\n",
    "  \\newcommand{\\bvec}{\\boldsymbol{\\mathsf{b}}}\n",
    "  \\newcommand{\\cvec}{\\boldsymbol{\\mathsf{c}}}\n",
    "  \\newcommand{\\rvec}{\\boldsymbol{\\mathsf{r}}}\n",
    "  \\newcommand{\\mvec}{\\boldsymbol{\\mathsf{m}}}\n",
    "  \\newcommand{\\gvec}{\\boldsymbol{\\mathsf{g}}}\n",
    "  \\newcommand{\\zerovec}{\\boldsymbol{\\mathsf{0}}}\n",
    "  \\newcommand{\\norm}[1]{\\bigl\\lVert{#1}\\bigr\\rVert}\n",
    "  \\newcommand{\\transpose}[1]{{#1}^\\top}\n",
    "  \\DeclareMathOperator{\\rank}{rank}\n",
    "$"
   ]
  },
  {
   "cell_type": "markdown",
   "metadata": {},
   "source": [
    "---\n",
    "## Table of Contents\n",
    "* [Introduction](#intro)\n",
    "* [Modified Arrhenius Data Fitting](#madf)\n",
    "* [Experimental Data (10 points)](#ed10)\n",
    " * [Linear System](#ls10)\n",
    " * [LS Data Fitting](#lsdf10)\n",
    " * [LS Residual](#lsr10)\n",
    "* [Experimental Data (30 points)](#ed30)\n",
    " * [Linear System](#ls30)\n",
    " * [LS Data Fitting](#lsdf30)\n",
    " * [LS Residual](#lsr30)\n",
    "* [Experimental Data (90 points)](#ed90)\n",
    " * [Linear System](#ls90)\n",
    " * [LS Data Fitting](#lsdf90)\n",
    " * [LS Residual](#lsr90)\n",
    "* [Results Comparison](#res)\n",
    "---"
   ]
  },
  {
   "cell_type": "markdown",
   "metadata": {},
   "source": [
    "## Introduction<a id=\"intro\"></a>\n",
    "The background theory for this notebook can be found in Notebook 10."
   ]
  },
  {
   "cell_type": "markdown",
   "metadata": {},
   "source": [
    "## Modified Arrhenius Data Fitting<a id=\"madf\"></a>\n",
    "The modified Arrhenius expression includes an additional term dependent on the power of $T$, namely\n",
    "\n",
    "\\begin{equation*}\n",
    "k(T) = k_0 \\, T^{\\alpha} e^{-\\frac{E_\\text{a}}{R\\,T}}.\n",
    "\\end{equation*}\n",
    "\n",
    "In terms of the coldness variable $\\beta$, it reads\n",
    "\n",
    "\\begin{equation*}\n",
    "k(\\beta) = k_0 \\, \\bigl(R\\,\\beta\\bigr)^{-\\alpha} e^{-\\beta\\,E_\\text{a}}.\n",
    "\\end{equation*}\n",
    "\n",
    "The pre-exponential factor (frequency parameter), $k_0$, the power-law exponent $\\alpha$, and the energy of activation, $E_\\text{a}$, are the sought parameters in this expression. The linear least squares method for finding the optimal values of $k_0$, $\\alpha$, and $E_\\text{a}$ can be used in a similar way as in Notebook 10. The purpose of this notebook is to sketch how to go about computing these parameters. Likewise the Arrhenius expression the modified version needs to be transformed into a linear form. After this step, the analysis follows very closely the \n",
    "calculations done in Notebook 10."
   ]
  },
  {
   "cell_type": "markdown",
   "metadata": {},
   "source": [
    "## Experimental Data (10 points)<a id=\"ed10\"></a>\n",
    "Data will be provided for exercises as ASCII files in the `data/` directory of the course [repository](https://github.com/dpploy/chen-3170/tree/master/notebooks/data). The data is organized in two columns of $T$ versus $k$. For example `data/modified-k_x_T_10pts.dat`:"
   ]
  },
  {
   "cell_type": "code",
   "execution_count": 10,
   "metadata": {},
   "outputs": [
    {
     "name": "stdout",
     "output_type": "stream",
     "text": [
      "R = 8.314 [J/(mol.K)]\n",
      "m =  10\n",
      "T = [373.15 402.93 432.71 462.48 492.26 522.04 551.82 581.59 611.37 641.15]\n",
      "k = [ 9.63 10.35 10.31 11.12 11.18 11.5  11.6  11.64 12.15 12.41]\n"
     ]
    },
    {
     "data": {
      "image/png": "[encoded data removed]",
      "text/plain": [
       "<Figure size 504x504 with 1 Axes>"
      ]
     },
     "metadata": {
      "needs_background": "light"
     },
     "output_type": "display_data"
    },
    {
     "name": "stdout",
     "output_type": "stream",
     "text": [
      "\n"
     ]
    }
   ],
   "source": [
    "'''Read and plot experimental data'''\n",
    "\n",
    "from chen_3170.help import read_arrhenius_experimental_data\n",
    "\n",
    "import numpy as np\n",
    "(r_cte, r_cte_units, n_pts, temp, k_cte) = read_arrhenius_experimental_data('data/modified-k_x_T_10pts.dat')\n",
    "        \n",
    "print('R = %4.3f %s'%(r_cte,r_cte_units))\n",
    "print('m = ',n_pts)\n",
    "np.set_printoptions(precision=2)\n",
    "print('T =',temp)\n",
    "print('k =', k_cte)\n",
    "\n",
    "from chen_3170.help import plot_arrhenius_experimental_data\n",
    "\n",
    "plot_arrhenius_experimental_data(temp, k_cte)"
   ]
  },
  {
   "cell_type": "markdown",
   "metadata": {},
   "source": [
    "### Linear System<a id=\"ls10\"></a>"
   ]
  },
  {
   "cell_type": "code",
   "execution_count": 5,
   "metadata": {},
   "outputs": [
    {
     "name": "stdout",
     "output_type": "stream",
     "text": [
      "a_mtrx =\n",
      " [[ 1.00e+00 -3.22e-04  5.92e+00]\n",
      " [ 1.00e+00 -2.99e-04  6.00e+00]\n",
      " [ 1.00e+00 -2.78e-04  6.07e+00]\n",
      " [ 1.00e+00 -2.60e-04  6.14e+00]\n",
      " [ 1.00e+00 -2.44e-04  6.20e+00]\n",
      " [ 1.00e+00 -2.30e-04  6.26e+00]\n",
      " [ 1.00e+00 -2.18e-04  6.31e+00]\n",
      " [ 1.00e+00 -2.07e-04  6.37e+00]\n",
      " [ 1.00e+00 -1.97e-04  6.42e+00]\n",
      " [ 1.00e+00 -1.88e-04  6.46e+00]]\n",
      "b_vec = [2.27 2.34 2.33 2.41 2.41 2.44 2.45 2.45 2.5  2.52]\n",
      "my rank(A) = 3\n",
      "np.linalg rank(A) = 3\n"
     ]
    }
   ],
   "source": [
    "'''Build the matrix system'''\n",
    "\n",
    "try:    \n",
    "    from chen_3170.toolkit import build_mod_arrhenius_matrix   \n",
    "except ModuleNotFoundError:\n",
    "    assert False, 'You need to provide your own build_mod_arrhenius_matrix function here. Bailing out.'\n",
    "    \n",
    "(a_mtrx, b_vec) = build_mod_arrhenius_matrix( r_cte, temp, k_cte )\n",
    "\n",
    "print('a_mtrx =\\n',a_mtrx)\n",
    "print('b_vec =',b_vec)\n",
    "\n",
    "#from chen_3170 import toolkit\n",
    "#print('rank(A) =',toolkit.matrix_rank(a_mtrx))\n",
    "\n",
    "try:    \n",
    "    from chen_3170.toolkit import matrix_rank   \n",
    "except ModuleNotFoundError:\n",
    "    assert False, 'You need to provide your own matrix_rank function here. Bailing out.'\n",
    "\n",
    "print('my rank(A) =',matrix_rank(a_mtrx))\n",
    "print('np.linalg rank(A) =',np.linalg.matrix_rank(a_mtrx))"
   ]
  },
  {
   "cell_type": "markdown",
   "metadata": {},
   "source": [
    "### LS Data Fitting<a id=\"lsdf10\"></a>\n",
    "\n",
    "Let's build the LS normal equations and solve\n",
    "\n",
    "\\begin{equation*}\n",
    "\\Amtrx^\\top\\Amtrx\\,\\xvec_\\text{LS}  = \\Amtrx^\\top\\,\\bvec .\n",
    "\\end{equation*}\n",
    "\n",
    "The least squares solution $\\xvec_\\text{LS}$ gives the optimal values of the coefficients $\\ln k_0$ and $E_\\text{a}$ for the Arrhenius fit."
   ]
  },
  {
   "cell_type": "code",
   "execution_count": 18,
   "metadata": {},
   "outputs": [
    {
     "name": "stdout",
     "output_type": "stream",
     "text": [
      "x_vec = [ 3.894e+00  2.320e+03 -1.473e-01]\n",
      "k_0   = 4.91257e+01 [1/s]\n",
      "E_a   = 2.31978e+03 [J/mol]\n",
      "alpha = -1.47323e-01 []\n"
     ]
    }
   ],
   "source": [
    "'''Build and solve the normal equations'''\n",
    "\n",
    "#x_vec = toolkit.solve( a_mtrx.transpose()@a_mtrx, a_mtrx.transpose()@b_vec )\n",
    "try:    \n",
    "    from chen_3170.toolkit import solve   \n",
    "except ModuleNotFoundError:\n",
    "    assert False, 'You need to provide your own solve function here. Bailing out.'\n",
    "    \n",
    "x_vec = solve( a_mtrx.transpose()@a_mtrx, a_mtrx.transpose()@b_vec )    \n",
    "assert np.linalg.norm(x_vec-np.linalg.solve( a_mtrx.transpose()@a_mtrx, a_mtrx.transpose()@b_vec )) < 1e-6\n",
    "\n",
    "np.set_printoptions(precision=3,threshold=100,edgeitems=3)\n",
    "print('x_vec =',x_vec)\n",
    "\n",
    "import math\n",
    "k_0      = math.exp(x_vec[0])\n",
    "energy_a = x_vec[1]\n",
    "alpha    = x_vec[2]\n",
    "\n",
    "print('k_0   = %8.5e [1/s]'%k_0)\n",
    "print('E_a   = %8.5e [J/mol]'%energy_a)\n",
    "print('alpha = %8.5e []'%alpha)"
   ]
  },
  {
   "cell_type": "code",
   "execution_count": 19,
   "metadata": {},
   "outputs": [
    {
     "ename": "NameError",
     "evalue": "name 'plot_fit_transformed' is not defined",
     "output_type": "error",
     "traceback": [
      "\u001b[0;31m---------------------------------------------------------------------------\u001b[0m",
      "\u001b[0;31mNameError\u001b[0m                                 Traceback (most recent call last)",
      "\u001b[0;32m<ipython-input-19-f120aa6f1856>\u001b[0m in \u001b[0;36m<module>\u001b[0;34m\u001b[0m\n\u001b[1;32m      1\u001b[0m \u001b[0;34m'''Plot the fit in the transformed plane'''\u001b[0m\u001b[0;34m\u001b[0m\u001b[0;34m\u001b[0m\u001b[0m\n\u001b[1;32m      2\u001b[0m \u001b[0;34m\u001b[0m\u001b[0m\n\u001b[0;32m----> 3\u001b[0;31m \u001b[0mplot_fit_transformed\u001b[0m\u001b[0;34m(\u001b[0m\u001b[0mr_cte\u001b[0m\u001b[0;34m,\u001b[0m \u001b[0mtemp\u001b[0m\u001b[0;34m,\u001b[0m \u001b[0mk_cte\u001b[0m\u001b[0;34m,\u001b[0m \u001b[0mk_0\u001b[0m\u001b[0;34m,\u001b[0m \u001b[0menergy_a\u001b[0m\u001b[0;34m,\u001b[0m \u001b[0malpha\u001b[0m\u001b[0;34m)\u001b[0m\u001b[0;34m\u001b[0m\u001b[0;34m\u001b[0m\u001b[0m\n\u001b[0m",
      "\u001b[0;31mNameError\u001b[0m: name 'plot_fit_transformed' is not defined"
     ]
    }
   ],
   "source": [
    "'''Plot the fit in the transformed plane'''\n",
    "\n",
    "plot_fit_transformed(r_cte, temp, k_cte, k_0, energy_a, alpha)"
   ]
  },
  {
   "cell_type": "code",
   "execution_count": 20,
   "metadata": {},
   "outputs": [
    {
     "ename": "NameError",
     "evalue": "name 'plot_fit_cartesian' is not defined",
     "output_type": "error",
     "traceback": [
      "\u001b[0;31m---------------------------------------------------------------------------\u001b[0m",
      "\u001b[0;31mNameError\u001b[0m                                 Traceback (most recent call last)",
      "\u001b[0;32m<ipython-input-20-0ac130c17564>\u001b[0m in \u001b[0;36m<module>\u001b[0;34m\u001b[0m\n\u001b[1;32m      1\u001b[0m \u001b[0;34m'''Plot the fit in the Cartesian plane'''\u001b[0m\u001b[0;34m\u001b[0m\u001b[0;34m\u001b[0m\u001b[0m\n\u001b[1;32m      2\u001b[0m \u001b[0;34m\u001b[0m\u001b[0m\n\u001b[0;32m----> 3\u001b[0;31m \u001b[0mplot_fit_cartesian\u001b[0m\u001b[0;34m(\u001b[0m\u001b[0mr_cte\u001b[0m\u001b[0;34m,\u001b[0m \u001b[0mtemp\u001b[0m\u001b[0;34m,\u001b[0m \u001b[0mk_cte\u001b[0m\u001b[0;34m,\u001b[0m \u001b[0mk_0\u001b[0m\u001b[0;34m,\u001b[0m \u001b[0menergy_a\u001b[0m\u001b[0;34m,\u001b[0m \u001b[0malpha\u001b[0m\u001b[0;34m)\u001b[0m\u001b[0;34m\u001b[0m\u001b[0;34m\u001b[0m\u001b[0m\n\u001b[0m",
      "\u001b[0;31mNameError\u001b[0m: name 'plot_fit_cartesian' is not defined"
     ]
    }
   ],
   "source": [
    "'''Plot the fit in the Cartesian plane'''\n",
    "\n",
    "plot_fit_cartesian(r_cte, temp, k_cte, k_0, energy_a, alpha)"
   ]
  },
  {
   "cell_type": "markdown",
   "metadata": {},
   "source": [
    "### LS Residual<a id=\"lsr10\"></a>\n",
    "\n",
    "Let's calculate the residual\n",
    "\n",
    "\\begin{equation*}\n",
    "\\rvec = \\bvec - \\Amtrx\\,\\xvec_\\text{LS} \n",
    "\\end{equation*}\n",
    "\n",
    "and its norm squared at the $\\xvec$ point, that is, the objective function of the LS problem:\n",
    "\n",
    "\\begin{equation*}\n",
    "\\phi(\\xvec_\\text{LS}) = \\norm{\\rvec}^2.\n",
    "\\end{equation*}\n",
    "\n",
    "Let's show graphically that \n",
    "\n",
    "\\begin{equation*}\n",
    "\\phi(\\xvec_\\text{LS}) = \\min\\limits_{\\xvec} \\norm{\\rvec}^2 .\n",
    "\\end{equation*}\n",
    "\n",
    "Information on `matplotlib` plots in 3D is found [here](https://matplotlib.org/tutorials/toolkits/mplot3d.html#sphx-glr-tutorials-toolkits-mplot3d-py)."
   ]
  },
  {
   "cell_type": "code",
   "execution_count": null,
   "metadata": {},
   "outputs": [],
   "source": [
    "'''Examining the residual'''\n",
    "\n",
    "r_vec = b_vec - a_mtrx @ x_vec\n",
    "phi_ls = np.linalg.norm(r_vec)**2\n",
    "\n",
    "print('phi(x_LS)       = %8.3e'%phi_ls)\n",
    "print('sqrt(phi(x_LS)) = %8.3e'%math.sqrt(phi_ls))\n",
    "print('goodness of fit = %8.3e'%math.sqrt(phi_ls/n_pts))"
   ]
  },
  {
   "cell_type": "code",
   "execution_count": null,
   "metadata": {},
   "outputs": [],
   "source": [
    "'''Function: plot the objective function around the minimum'''\n",
    "\n",
    "def plot_objective_function(a_mtrx, x_vec, b_vec):\n",
    "    \n",
    "    import numpy as np\n",
    "    \n",
    "    # create the objective function array\n",
    "    n_plot_pts = 150\n",
    "    ln_k_0_pts = np.linspace( 0.9*x_vec[0], x_vec[0]*1.1, n_plot_pts )\n",
    "    energy_pts = np.linspace( 0.9*x_vec[1], x_vec[1]*1.1, n_plot_pts )\n",
    "    alpha      = x_vec[2]\n",
    "    phi = np.zeros((n_plot_pts,n_plot_pts))\n",
    "    i = -1\n",
    "    for ln_k_0 in ln_k_0_pts:\n",
    "        i += 1\n",
    "        j = -1\n",
    "        for e_a in energy_pts:\n",
    "            j += 1\n",
    "            res = b_vec - a_mtrx @ np.array([ln_k_0,e_a,alpha])\n",
    "            phi[i,j] = np.dot(res,res);\n",
    "\n",
    "    # 3D-plot the surface of the objective function\n",
    "    import numpy as np\n",
    "    import matplotlib.pyplot as plt\n",
    "    from matplotlib import cm\n",
    "    from mpl_toolkits.mplot3d import Axes3D\n",
    "\n",
    "    #fig = plt.figure(3,figsize=(8, 8))\n",
    "    #ax = Axes3D(fig)\n",
    "    #ax.plot_surface(ln_k_0_pts, energy_pts, np.sqrt(phi), rstride=1, cstride=1, cmap=cm.viridis)\n",
    "    #ax.view_init(azim=10)\n",
    "\n",
    "    #ax.set_xlabel(r'$\\ln k_0$ [ ]',fontsize=16)\n",
    "    #ax.set_ylabel(r'$E_a$ [J/mol]',fontsize=16)\n",
    "    #ax.set_zlabel(r'$\\phi$',fontsize=16)\n",
    "\n",
    "    #plt.show()\n",
    "    \n",
    "    # plot the contour curves of the objective function\n",
    "    from matplotlib import ticker, cm\n",
    "    fig, ax = plt.subplots(figsize=(8, 8))\n",
    "    delta = np.min(np.min(phi))/100.0 * 1.5 # 0.06% variation near the minimum\n",
    "    cv = np.linspace(np.min(np.min(phi))+delta,np.max(np.max(phi)),10);\n",
    "    cs = ax.contour(ln_k_0_pts, energy_pts, phi, cv)\n",
    "    xpos = x_vec[0]\n",
    "    ypos = x_vec[1]\n",
    "    plt.text(xpos,ypos,r'* ($\\ln k_0$=%5.2e, $E_a$=%5.2e)'%(x_vec[0],x_vec[1]),color='r',fontsize=14);\n",
    "    plt.xlabel(r'$\\ln k_0$ []',fontsize=14)\n",
    "    plt.ylabel(r'$E_a$ [J/mol]',fontsize=14)\n",
    "\n",
    "    plt.show()\n",
    "    return"
   ]
  },
  {
   "cell_type": "code",
   "execution_count": null,
   "metadata": {},
   "outputs": [],
   "source": [
    "'''Plot the objective function around the minimum'''\n",
    "\n",
    "plot_objective_function(a_mtrx, x_vec, b_vec)"
   ]
  },
  {
   "cell_type": "markdown",
   "metadata": {},
   "source": [
    "## Experimental Data (30 points)<a id=\"ed30\"></a>\n",
    "Data will be provided for exercises as ASCII files in the `data/` directory of the course [repository](https://github.com/dpploy/chen-3170/data). The data is organized in two columns of $T$ versus $k$. For example `data/modified-k_x_T_30pts.dat`:"
   ]
  },
  {
   "cell_type": "code",
   "execution_count": null,
   "metadata": {},
   "outputs": [],
   "source": [
    "'''Read and plot experimental data'''\n",
    "\n",
    "from chen_3170.help import read_arrhenius_experimental_data\n",
    "\n",
    "import numpy as np\n",
    "(r_cte, r_cte_units, n_pts, temp, k_cte) = read_arrhenius_experimental_data('data/modified-k_x_T_30pts.dat')\n",
    "        \n",
    "print('R = %4.3f %s'%(r_cte,r_cte_units))\n",
    "print('m = ',n_pts)\n",
    "np.set_printoptions(precision=2)\n",
    "print('T =',temp)\n",
    "print('k =', k_cte)\n",
    "\n",
    "from chen_3170.help import plot_arrhenius_experimental_data\n",
    "\n",
    "plot_arrhenius_experimental_data(temp, k_cte)"
   ]
  },
  {
   "cell_type": "markdown",
   "metadata": {},
   "source": [
    "### Linear System<a id=\"ls30\"></a>"
   ]
  },
  {
   "cell_type": "code",
   "execution_count": null,
   "metadata": {},
   "outputs": [],
   "source": [
    "'''Build the matrix system'''\n",
    "\n",
    "(a_mtrx, b_vec) = build_linear_system( r_cte, temp, k_cte )\n",
    "\n",
    "#print('a_mtrx =\\n',a_mtrx)\n",
    "#print('b_vec =',b_vec)\n",
    "\n",
    "#from chen_3170 import toolkit \n",
    "#print('rank(A) =',toolkit.matrix_rank(a_mtrx))\n",
    "\n",
    "print('rank(A) =',np.linalg.matrix_rank(a_mtrx))"
   ]
  },
  {
   "cell_type": "markdown",
   "metadata": {},
   "source": [
    "### LS Data Fitting<a id=\"lsdf30\"></a>"
   ]
  },
  {
   "cell_type": "code",
   "execution_count": null,
   "metadata": {
    "scrolled": true
   },
   "outputs": [],
   "source": [
    "'''Build and solve the normal equations'''\n",
    "\n",
    "#x_vec = toolkit.solve( a_mtrx.transpose()@a_mtrx, a_mtrx.transpose()@b_vec )\n",
    "x_vec = np.linalg.solve( a_mtrx.transpose()@a_mtrx, a_mtrx.transpose()@b_vec )\n",
    "print('x_vec =',x_vec)\n",
    "\n",
    "import math\n",
    "k_0      = math.exp(x_vec[0])\n",
    "energy_a = x_vec[1]\n",
    "alpha    = x_vec[2]\n",
    "\n",
    "print('k_0   = %8.5e [1/s]'%k_0)\n",
    "print('E_a   = %8.5e [J/mol]'%energy_a)\n",
    "print('alpha = %8.5e []'%alpha)"
   ]
  },
  {
   "cell_type": "code",
   "execution_count": null,
   "metadata": {
    "scrolled": false
   },
   "outputs": [],
   "source": [
    "'''Plot the fit in the transformed plane'''\n",
    "\n",
    "plot_fit_transformed(r_cte, temp, k_cte, k_0, energy_a, alpha)"
   ]
  },
  {
   "cell_type": "code",
   "execution_count": null,
   "metadata": {},
   "outputs": [],
   "source": [
    "'''Plot the fit in the Cartesian plane'''\n",
    "\n",
    "plot_fit_cartesian(r_cte, temp, k_cte, k_0, energy_a, alpha)"
   ]
  },
  {
   "cell_type": "markdown",
   "metadata": {},
   "source": [
    "### LS Residual<a id=\"lsr30\"></a>"
   ]
  },
  {
   "cell_type": "code",
   "execution_count": null,
   "metadata": {},
   "outputs": [],
   "source": [
    "'''Examining the residual'''\n",
    "\n",
    "r_vec = b_vec - a_mtrx @ x_vec\n",
    "phi_ls = np.linalg.norm(r_vec)**2\n",
    "\n",
    "print('phi(x_LS)       = %8.3e'%phi_ls)\n",
    "print('sqrt(phi(x_LS)) = %8.3e'%math.sqrt(phi_ls))\n",
    "print('goodness of fit = %8.3e'%math.sqrt(phi_ls/n_pts))"
   ]
  },
  {
   "cell_type": "code",
   "execution_count": null,
   "metadata": {},
   "outputs": [],
   "source": [
    "'''Plot the objective function around the minimum'''\n",
    "\n",
    "plot_objective_function(a_mtrx, x_vec, b_vec)"
   ]
  },
  {
   "cell_type": "markdown",
   "metadata": {},
   "source": [
    "## Experimental Data (90 points)<a id=\"ed90\"></a>\n",
    "Data will be provided for exercises as ASCII files in the `data/` directory of the course [repository](https://github.com/dpploy/chen-3170/data). The data is organized in two columns of $T$ versus $k$. For example `data/modified-k_x_T_90pts.dat`."
   ]
  },
  {
   "cell_type": "code",
   "execution_count": null,
   "metadata": {},
   "outputs": [],
   "source": [
    "'''Read and plot experimental data'''\n",
    "\n",
    "from chen_3170.help import read_arrhenius_experimental_data\n",
    "\n",
    "import numpy as np\n",
    "(r_cte, r_cte_units, n_pts, temp, k_cte) = read_arrhenius_experimental_data('data/modified-k_x_T_90pts.dat')\n",
    "        \n",
    "print('R = %4.3f %s'%(r_cte,r_cte_units))\n",
    "print('m = ',n_pts)\n",
    "np.set_printoptions(precision=2)\n",
    "print('T =',temp)\n",
    "print('k =', k_cte)\n",
    "\n",
    "from chen_3170.help import plot_arrhenius_experimental_data\n",
    "\n",
    "plot_arrhenius_experimental_data(temp, k_cte)"
   ]
  },
  {
   "cell_type": "markdown",
   "metadata": {},
   "source": [
    "### Linear System<a id=\"ls90\"></a>"
   ]
  },
  {
   "cell_type": "code",
   "execution_count": null,
   "metadata": {},
   "outputs": [],
   "source": [
    "'''Build the matrix system'''\n",
    "\n",
    "(a_mtrx, b_vec) = build_linear_system( r_cte, temp, k_cte )\n",
    "\n",
    "#print('a_mtrx =\\n',a_mtrx)\n",
    "#print('b_vec =',b_vec)\n",
    "\n",
    "#from chen_3170 import toolkit \n",
    "#print('rank(A) =',toolkit.matrix_rank(a_mtrx))\n",
    "\n",
    "print('rank(A) =',np.linalg.matrix_rank(a_mtrx))"
   ]
  },
  {
   "cell_type": "markdown",
   "metadata": {},
   "source": [
    "### LS Data Fitting<a id=\"lsdf90\"></a>"
   ]
  },
  {
   "cell_type": "code",
   "execution_count": null,
   "metadata": {},
   "outputs": [],
   "source": [
    "'''Build and solve the normal equations'''\n",
    "\n",
    "#x_vec = toolkit.solve( a_mtrx.transpose()@a_mtrx, a_mtrx.transpose()@b_vec )\n",
    "x_vec = np.linalg.solve( a_mtrx.transpose()@a_mtrx, a_mtrx.transpose()@b_vec )\n",
    "print('x_vec =',x_vec)\n",
    "\n",
    "import math\n",
    "k_0      = math.exp(x_vec[0])\n",
    "energy_a = x_vec[1]\n",
    "alpha    = x_vec[2]\n",
    "\n",
    "print('k_0   = %8.5e [1/s]'%k_0)\n",
    "print('E_a   = %8.5e [J/mol]'%energy_a)\n",
    "print('alpha = %8.5e []'%alpha)"
   ]
  },
  {
   "cell_type": "code",
   "execution_count": null,
   "metadata": {},
   "outputs": [],
   "source": [
    "'''Plot the fit in the transformed plane'''\n",
    "\n",
    "plot_fit_transformed(r_cte, temp, k_cte, k_0, energy_a, alpha)"
   ]
  },
  {
   "cell_type": "code",
   "execution_count": null,
   "metadata": {},
   "outputs": [],
   "source": [
    "'''Plot the fit in the Cartesian plane'''\n",
    "\n",
    "plot_fit_cartesian(r_cte, temp, k_cte, k_0, energy_a, alpha)"
   ]
  },
  {
   "cell_type": "markdown",
   "metadata": {},
   "source": [
    "### LS Residual<a id=\"lsr90\"></a>"
   ]
  },
  {
   "cell_type": "code",
   "execution_count": null,
   "metadata": {},
   "outputs": [],
   "source": [
    "'''Examining the residual'''\n",
    "\n",
    "r_vec = b_vec - a_mtrx @ x_vec\n",
    "phi_ls = np.linalg.norm(r_vec)**2\n",
    "\n",
    "print('phi(x_LS)       = %8.3e'%phi_ls)\n",
    "print('sqrt(phi(x_LS)) = %8.3e'%math.sqrt(phi_ls))\n",
    "print('goodness of fit = %8.3e'%math.sqrt(phi_ls/n_pts))"
   ]
  },
  {
   "cell_type": "code",
   "execution_count": null,
   "metadata": {},
   "outputs": [],
   "source": [
    "'''Plot the objective function around the minimum'''\n",
    "\n",
    "plot_objective_function(a_mtrx, x_vec, b_vec)"
   ]
  },
  {
   "cell_type": "markdown",
   "metadata": {},
   "source": [
    "## Results Comparison<a id=\"res\"></a>\n",
    "\n",
    "|       Parameters                                |  10 pts  |  30 pts  | 90 pts   |\n",
    "| ------------------------------------- | -------- | -------  | -------- |\n",
    "| Pre-exponential factor, $k_0$, 1/s    | 4.91e+01 | 2.14e+00 | 1.39     |\n",
    "| Energy of activation, $E_a$, J/mol    | 2.32e+03 | 4.55e+02 | 2.70e+02 |\n",
    "| Power law exponent, $\\alpha$          |-1.47e-01 | 2.82e-01 | 3.45e-01 |\n",
    "| Residual norm                         | 4.59e-02 | 9.51e-02 | 1.75e-01 |\n",
    "| Goodness of fit                       | 1.45e-02 | 1.74e-02 | 1.84e-02 |"
   ]
  },
  {
   "cell_type": "code",
   "execution_count": null,
   "metadata": {},
   "outputs": [],
   "source": []
  }
 ],
 "metadata": {
  "kernelspec": {
   "display_name": "Python 3",
   "language": "python",
   "name": "python3"
  },
  "language_info": {
   "codemirror_mode": {
    "name": "ipython",
    "version": 3
   },
   "file_extension": ".py",
   "mimetype": "text/x-python",
   "name": "python",
   "nbconvert_exporter": "python",
   "pygments_lexer": "ipython3",
   "version": "3.7.1"
  },
  "latex_envs": {
   "LaTeX_envs_menu_present": true,
   "autoclose": false,
   "autocomplete": true,
   "bibliofile": "biblio.bib",
   "cite_by": "apalike",
   "current_citInitial": 1,
   "eqLabelWithNumbers": true,
   "eqNumInitial": 1,
   "hotkeys": {
    "equation": "Ctrl-E",
    "itemize": "Ctrl-I"
   },
   "labels_anchors": false,
   "latex_user_defs": false,
   "report_style_numbering": false,
   "user_envs_cfg": false
  }
 },
 "nbformat": 4,
 "nbformat_minor": 2
}
