{
 "cells": [
  {
   "cell_type": "markdown",
   "metadata": {
    "slideshow": {
     "slide_type": "slide"
    }
   },
   "source": [
    "ChEn-3170: Computational Methods in Chemical Engineering Spring 2020 UMass Lowell; Prof. V. F. de Almeida **21Jan20**\n",
    "\n",
    "# 03. Arrays"
   ]
  },
  {
   "cell_type": "markdown",
   "metadata": {
    "slideshow": {
     "slide_type": "slide"
    }
   },
   "source": [
    "---\n",
    "## Table of Contents\n",
    "* [Introduction (NumPy](#introduction)\n",
    "* [NumPy Package](#numpy)\n",
    " - [1-D (vector)](#1d)\n",
    " - [2-D (matrix)](#2d)\n",
    " - [3-D (brick or block or cube)](#3d)\n",
    "* [Array Slicing (or Views)](#views)\n",
    " - [Sampling (Filtering)](#sampling)\n",
    "* [Notable Matrices](#zeros)\n",
    "---"
   ]
  },
  {
   "cell_type": "markdown",
   "metadata": {
    "slideshow": {
     "slide_type": "slide"
    }
   },
   "source": [
    "## Introduction<a id=\"introduction\"></a>\n",
    "Arrays are containers of data in a structured form, *i.e.* in a *block* layout. This course uses the n-dimensional array Python package:\n",
    "+ [NumPy](http://www.numpy.org/): `ndarray` (n-dimensional or multi-dimensional array).\n",
    "+ [Quick-start tutorial](https://docs.scipy.org/doc/numpy/user/quickstart.html):\n",
    "we need to import `numpy` into the Python interpreter."
   ]
  },
  {
   "cell_type": "markdown",
   "metadata": {
    "slideshow": {
     "slide_type": "slide"
    }
   },
   "source": [
    "## NumPy Package<a id=\"numpy\"></a>\n",
    "All packages in Python are imported into your session using the `import` *statement*."
   ]
  },
  {
   "cell_type": "code",
   "execution_count": null,
   "metadata": {
    "collapsed": true,
    "slideshow": {
     "slide_type": "slide"
    }
   },
   "outputs": [],
   "source": [
    "'''Python packages are accessed with an import directive as such:'''\n",
    "\n",
    "import numpy as np  # import the package and create the alias: np"
   ]
  },
  {
   "cell_type": "markdown",
   "metadata": {
    "slideshow": {
     "slide_type": "slide"
    }
   },
   "source": [
    "### One-dimensional array (or vector)<a id=\"1d\"></a>\n",
    "A one-dimensional array or vector is an ordered sequence of numbers."
   ]
  },
  {
   "cell_type": "code",
   "execution_count": null,
   "metadata": {
    "collapsed": true,
    "scrolled": true,
    "slideshow": {
     "slide_type": "slide"
    }
   },
   "outputs": [],
   "source": [
    "'''Loading data into \"ndarray\" using built-in Python data types and the \"np.array()\" method'''\n",
    "\n",
    "pylist = [4.5, 8, 90, 1e12, 2.3e-5]        # create a native Python list\n",
    "mass_cc = np.array(pylist)                 # array() takes a list and converts it into a ndarray\n",
    "print('mass_cc type =',type(mass_cc))\n",
    "print('mass_cc length =',mass_cc.size)        # check size with help(np.size)\n",
    "print('mass_cc shape =',mass_cc.shape) \n",
    "print('mass_cc =',mass_cc)\n",
    "print('mass_cc entry dtype =',mass_cc.dtype)  # check type with help(np.dtype)\n",
    "print('')\n",
    "\n",
    "species_set = {'water','argon','O2','N2'}\n",
    "species = np.array(species_set)  \n",
    "print('species type =',type(species))\n",
    "print('***species length*** =',species.size)\n",
    "print('species =',species)\n",
    "print('***species entry dtype*** =',species.dtype)\n",
    "print('')"
   ]
  },
  {
   "cell_type": "code",
   "execution_count": null,
   "metadata": {
    "collapsed": true,
    "slideshow": {
     "slide_type": "slide"
    }
   },
   "outputs": [],
   "source": [
    "'''Build an ndarray with the workhorse \"np.linspace()\" method'''\n",
    "\n",
    "data = np.linspace(1e-3,1.0,8)        # linspace() is a method of numpy\n",
    "print('data type =',type(data))\n",
    "print('data length =',data.size)\n",
    "print('data =',data)\n",
    "print('data entry dtype =',data.dtype)\n",
    "\n",
    "'''Now create a mole fraction data array'''\n",
    "data_sum = data.sum()                     # \"sum()\" method adds all elements in \"data\"\n",
    "mole_frac = data / data_sum                 # operation: the \"data\" array is divided by the \"data_sum\"\n",
    "print('')\n",
    "print('mole_frac =',mole_frac)\n",
    "print('sum       =',mole_frac.sum())     # using sum method of mole_frac"
   ]
  },
  {
   "cell_type": "code",
   "execution_count": null,
   "metadata": {
    "collapsed": true,
    "scrolled": false
   },
   "outputs": [],
   "source": [
    "dir(mole_frac)   # list of methods and attributes available for the `mole_frac` object"
   ]
  },
  {
   "cell_type": "code",
   "execution_count": null,
   "metadata": {
    "collapsed": true,
    "scrolled": true
   },
   "outputs": [],
   "source": [
    "help(mole_frac.sum)  # help for the sum method of `mole_frac` or `ndarray`"
   ]
  },
  {
   "cell_type": "code",
   "execution_count": null,
   "metadata": {
    "collapsed": true,
    "scrolled": false,
    "slideshow": {
     "slide_type": "slide"
    }
   },
   "outputs": [],
   "source": [
    "help(np.sum)  # help for the build-in function in `numpy`"
   ]
  },
  {
   "cell_type": "code",
   "execution_count": null,
   "metadata": {
    "collapsed": true
   },
   "outputs": [],
   "source": [
    "print('sum =', np.sum(mole_frac))   # another way to sum using numpy built-in function np.sum()"
   ]
  },
  {
   "cell_type": "code",
   "execution_count": null,
   "metadata": {
    "collapsed": true,
    "slideshow": {
     "slide_type": "slide"
    }
   },
   "outputs": [],
   "source": [
    "'''Accessing \"ndarray\" data with the indexing operator []'''\n",
    "\n",
    "print('mole_frac =\\n',mole_frac,'\\n')\n",
    "print('mole_frac[0] =',mole_frac[0])   # access the offset 0 item\n",
    "print('mole_frac[4] =',mole_frac[4])   # access the offset 4 item\n",
    "\n",
    "'''Accessing slices'''\n",
    "print('')\n",
    "print('mole_frac[3:6]       =',mole_frac[3:6])    # print from offset 3 to offset 6\n",
    "\n",
    "'''Modify slice data'''\n",
    "\n",
    "mole_frac[3:6] *= 3.2                              # modify the slice by multiplying in-place by 3.2\n",
    "print('mole_frac[3:6] * 3.2 =', mole_frac[3:6])    # print result\n",
    "\n",
    "# same as this\n",
    "#tmp = mole_frac[3:6] * 3.2\n",
    "#mole_frac[3:6] = tmp"
   ]
  },
  {
   "cell_type": "code",
   "execution_count": null,
   "metadata": {
    "collapsed": true
   },
   "outputs": [],
   "source": [
    "'''Vector magnitude'''\n",
    "\n",
    "'''one way'''\n",
    "tmp = mole_frac * mole_frac              # element-by-element multiplication of the vector\n",
    "print('tmp =\\n',tmp)\n",
    "mag = np.sqrt( tmp.sum() )               # sum of all elements in tmp and take the sqrt\n",
    "print('magnitude of mole_frac = ', mag )\n",
    "\n",
    "'''another way'''\n",
    "print('')\n",
    "mag = np.sqrt( np.dot(mole_frac, mole_frac) )  # use the scalar product\n",
    "print('magnitude of mole_frac = ', mag )\n"
   ]
  },
  {
   "cell_type": "markdown",
   "metadata": {},
   "source": [
    "**NB<a id=\"nb\"></a>: Shared data concept in vectors extend to all arrays.**"
   ]
  },
  {
   "cell_type": "code",
   "execution_count": null,
   "metadata": {
    "collapsed": true
   },
   "outputs": [],
   "source": [
    "'''Vector View (Shared Data)'''\n",
    "\n",
    "a_vec = np.random.random(8)       \n",
    "print('a_vec =', a_vec)\n",
    "\n",
    "b_vec = a_vec           # this is a \"view\" or alias of the entire a_vec\n",
    "\n",
    "b_vec[1] = 0.0          # this will change a_vec too\n",
    "print('b_vec =', b_vec)\n",
    "\n",
    "print('a_vec =', a_vec)"
   ]
  },
  {
   "cell_type": "code",
   "execution_count": null,
   "metadata": {
    "collapsed": true
   },
   "outputs": [],
   "source": [
    "'''Vector View (Shared Data)'''\n",
    "\n",
    "a_vec = np.random.random(8)       \n",
    "print('a_vec =', a_vec)\n",
    "\n",
    "print('')\n",
    "b_vec = a_vec[3:6]      # this is a view of a_vec data; not a copy\n",
    "print('b_vec =', b_vec)\n",
    "\n",
    "b_vec[:] = 0            # setting all elements of b_vec to zero\n",
    "print('b_vec =', b_vec)\n",
    "\n",
    "print('a_vec =', a_vec) # a_vec is also changed; shared data\n",
    "\n",
    "b_vec = 0               # this assigns a new object to b_vec\n",
    "print('b_vec =', b_vec)\n",
    "\n",
    "print('a_vec =', a_vec) # note a_vec is left as before b_vec reassigned\n"
   ]
  },
  {
   "cell_type": "markdown",
   "metadata": {},
   "source": [
    "**If you intend to use a copy of the data, use the `np.copy()` method**"
   ]
  },
  {
   "cell_type": "code",
   "execution_count": null,
   "metadata": {
    "collapsed": true
   },
   "outputs": [],
   "source": [
    "'''Vector Copy'''\n",
    "\n",
    "a_vec = np.random.random(8)\n",
    "print('a_vec =', a_vec)\n",
    "\n",
    "b_vec = np.copy(a_vec)      # this is an independent copy of a_vec\n",
    "\n",
    "b_vec[0] = 0.0              # this will change mole_frac too\n",
    "print('b_vec =', b_vec)\n",
    "\n",
    "print('')\n",
    "print('a_vec =', a_vec)"
   ]
  },
  {
   "cell_type": "markdown",
   "metadata": {
    "slideshow": {
     "slide_type": "slide"
    }
   },
   "source": [
    "### Two-dimensional array (or matrix)<a id=\"2d\"></a>\n",
    "A two-dimensional array or matrix, is a collection of numbers ordered into rows and columns."
   ]
  },
  {
   "cell_type": "code",
   "execution_count": null,
   "metadata": {
    "collapsed": true,
    "slideshow": {
     "slide_type": "slide"
    }
   },
   "outputs": [],
   "source": [
    "'''Using \"array()\" to create a 2-D \"np.ndarray\"'''\n",
    "\n",
    "data = [[4.5, 8, 90, 1e12, 2.3e-5, -8],     # note line continuation\n",
    "        [0, 3.1, 10, 3000, 0.1234, -1.2],\n",
    "        [3, 5.9, 40, 1e-2, 2.3301, 78]\n",
    "       ]\n",
    "mass_cc = np.array(data)\n",
    "print('mass_cc type =',type(mass_cc))\n",
    "print('mass_cc length =',mass_cc.size)        # check size with help(np.size)\n",
    "print('mass_cc shape =',mass_cc.shape)        # check shape with help(np.shape)\n",
    "print('mass_cc =\\n',mass_cc)\n",
    "print('mass_cc entry dtype =',mass_cc.dtype)  # check type with help(np.dtype)"
   ]
  },
  {
   "cell_type": "code",
   "execution_count": null,
   "metadata": {
    "collapsed": true
   },
   "outputs": [],
   "source": [
    "'''Not a matrix'''\n",
    "\n",
    "data = [[4.5, 8, 90, 1e12, 2.3e-5, -8],          # note line continuation\n",
    "        [0, 3.1, 10, 3000, 0.1234, -1.2, 7.8],   # note extra element in this row; could be unintentional\n",
    "        [3, 5.9, 40, 1e-2, 2.3301, 78]\n",
    "       ]\n",
    "not_mtrx = np.array(data)\n",
    "print('not_mtrx type =',type(not_mtrx))\n",
    "print('not_mtrx length =',not_mtrx.size)        # check size with help(np.size)\n",
    "print('not_mtrx shape =',not_mtrx.shape)        # check shape with help(np.shape)\n",
    "print('not_mtrx =\\n',not_mtrx)\n",
    "print('not_mtrx entry dtype =',not_mtrx.dtype)  # check type with help(np.dtype)"
   ]
  },
  {
   "cell_type": "code",
   "execution_count": null,
   "metadata": {
    "collapsed": true,
    "slideshow": {
     "slide_type": "slide"
    }
   },
   "outputs": [],
   "source": [
    "'''Access elements of the 2-D array; use double indexing, e.g., name[i,j]'''\n",
    "\n",
    "print('mass_cc[0,0] =', mass_cc[0,0])   # single element on the diagonal 0,0\n",
    "print('mass_cc[1,1] =', mass_cc[1,1])   # single element on the diagonal 1,1"
   ]
  },
  {
   "cell_type": "code",
   "execution_count": null,
   "metadata": {
    "collapsed": true
   },
   "outputs": [],
   "source": [
    "'''More on using \"array()\" to create a 2-D \"np.ndarray\"'''\n",
    "\n",
    "data = [np.linspace(1,5,5),         # first row   5 elements\n",
    "        range(5),                   # second row  5 elements\n",
    "        np.random.random(5)*3.0     # third row   5 elements  \n",
    "       ]\n",
    "mass_cc = np.array(data)\n",
    "print('mass_cc type =',type(mass_cc))\n",
    "print('mass_cc shape =',mass_cc.shape)        # check shape with help(np.shape)\n",
    "print('mass_cc length =',mass_cc.size)        # check size with help(np.size)\n",
    "print('mass_cc =\\n',mass_cc)\n",
    "print('mass_cc entry dtype =',mass_cc.dtype)  # check type with help(np.dtype)"
   ]
  },
  {
   "cell_type": "code",
   "execution_count": null,
   "metadata": {
    "collapsed": true,
    "scrolled": false,
    "slideshow": {
     "slide_type": "slide"
    }
   },
   "outputs": [],
   "source": [
    "'''Views of the 2-D array'''\n",
    "\n",
    "print('mass_cc 1st row =',mass_cc[0,:])  # use the colon operator inside the indexing operator\n",
    "print('mass_cc 2nd row =',mass_cc[1,:])  # use the colon operator inside the indexing operator\n",
    "print('mass_cc 3nd row =',mass_cc[2,:])  # use the colon operator inside the indexing operator\n",
    "\n",
    "print('mass_cc 1st column =',mass_cc[:,0])  # use the colon operator inside the indexing operator\n",
    "print('mass_cc 2nd column =',mass_cc[:,1])  # use the colon operator inside the indexing operator\n",
    "print('mass_cc 3rd column =',mass_cc[:,2])  # use the colon operator inside the indexing operator\n",
    "print('mass_cc 4th column =',mass_cc[:,3])  # use the colon operator inside the indexing operator\n",
    "print('mass_cc 5th column =',mass_cc[:,4])  # use the colon operator inside the indexing operator"
   ]
  },
  {
   "cell_type": "code",
   "execution_count": null,
   "metadata": {
    "collapsed": true,
    "scrolled": false
   },
   "outputs": [],
   "source": [
    "'''Visualize a matrix as image'''\n",
    "\n",
    "from matplotlib import pyplot as plt     # import the pyplot function of the matplotlib package\n",
    "\n",
    "plt.figure(1)     # create a figure placeholder\n",
    "\n",
    "'''scale the matrix to 0-1'''\n",
    "#tmp = mass_cc / mass_cc.max()    # element by element division\n",
    "#mass_cc = tmp                    # reassigment\n",
    "mass_cc /= mass_cc.max()          # scaling on the fly; same as previous two\n",
    "\n",
    "'''scale the matrix to 0-255'''\n",
    "mass_cc *= 255\n",
    "\n",
    "print(mass_cc)\n",
    "plt.imshow(mass_cc,cmap='gray')"
   ]
  },
  {
   "cell_type": "code",
   "execution_count": null,
   "metadata": {
    "collapsed": true
   },
   "outputs": [],
   "source": [
    "print('mass_cc upper left quadrant =\\n', mass_cc[0:3,0:3])"
   ]
  },
  {
   "cell_type": "code",
   "execution_count": null,
   "metadata": {
    "collapsed": true
   },
   "outputs": [],
   "source": [
    "print('mass_cc upper right quadrant =\\n', mass_cc[0:3,3:])"
   ]
  },
  {
   "cell_type": "code",
   "execution_count": null,
   "metadata": {
    "collapsed": true
   },
   "outputs": [],
   "source": [
    "'''Zeros matrix'''\n",
    "\n",
    "mass_cc = np.zeros((4,3))     # 4x3 matrix with zeros\n",
    "print('zero matrix (4,3) =\\n',mass_cc)"
   ]
  },
  {
   "cell_type": "code",
   "execution_count": null,
   "metadata": {
    "collapsed": true
   },
   "outputs": [],
   "source": [
    "'''Identity matrix: I (\"square\"; i.e.: m x m or m rows and m columns)'''\n",
    "\n",
    "mass_cc = np.eye(4,4)\n",
    "print('identity matrix (4,4) =\\n',mass_cc)"
   ]
  },
  {
   "cell_type": "code",
   "execution_count": null,
   "metadata": {
    "collapsed": true
   },
   "outputs": [],
   "source": [
    "'''Diagonal matrix (square; m x m or rows and m columns)'''\n",
    "\n",
    "mass_cc = np.diag( range(7) )    # provide the diagonal as a vector\n",
    "print('diagonal (7x7) =\\n',mass_cc)"
   ]
  },
  {
   "cell_type": "code",
   "execution_count": null,
   "metadata": {
    "collapsed": true
   },
   "outputs": [],
   "source": [
    "'''Visualize a matrix as image'''\n",
    "from matplotlib import pyplot as plt # import the pyplot function of the matplotlib package\n",
    "\n",
    "plt.figure(2)                        # create a figure placeholder\n",
    "plt.imshow(mass_cc,cmap='gray')"
   ]
  },
  {
   "cell_type": "markdown",
   "metadata": {
    "slideshow": {
     "slide_type": "slide"
    }
   },
   "source": [
    "### Three-dimensional array (brick)<a id=\"3d\"></a>"
   ]
  },
  {
   "cell_type": "code",
   "execution_count": null,
   "metadata": {
    "collapsed": true,
    "slideshow": {
     "slide_type": "slide"
    }
   },
   "outputs": [],
   "source": [
    "'''Using \"array()\" to create a 3-D \"np.ndarray\"'''\n",
    "\n",
    "data = [\n",
    "        [ [4.5, 8, 90, 1e12, 2.3e-5],     # 1st matrix\n",
    "          [0, 3.1, 10, 3000, 0.1234]\n",
    "        ],\n",
    "        [ [2.1, -7, 31, 2e12, 0.22],     # second matrix\n",
    "          [0,  1.1, 21, 3876, 1024]\n",
    "        ],\n",
    "        [ [1,   -7,  4,    0, 0.22],     # third matrix\n",
    "          [0,  1.1, 21, -3e4, -234]\n",
    "        ]\n",
    "       ]\n",
    "mass_cc = np.array(data)                      # create the ndarray\n",
    "print('mass_cc type =',type(mass_cc))\n",
    "print('mass_cc length =',mass_cc.size)        # check size with help(np.size)\n",
    "print('mass_cc shape =',mass_cc.shape)        # check shape with help(np.shape)\n",
    "print('mass_cc =\\n',mass_cc)\n",
    "print('mass_cc entry dtype =',mass_cc.dtype)  # check type with help(np.dtype)"
   ]
  },
  {
   "cell_type": "code",
   "execution_count": null,
   "metadata": {
    "collapsed": true
   },
   "outputs": [],
   "source": [
    "'''Access elements of the 3-D array; use triple indexing, e.g., variable_name[i,j,k]'''\n",
    "\n",
    "print('mass_cc[0,0,0] =',mass_cc[0,0,0])\n",
    "print('mass_cc[2,1,4] =',mass_cc[2,1,4])"
   ]
  },
  {
   "cell_type": "code",
   "execution_count": null,
   "metadata": {
    "collapsed": true
   },
   "outputs": [],
   "source": [
    "'''Views of the 3-D array'''\n",
    "\n",
    "print('mass_cc 1st stack =\\n',mass_cc[0,:,:])  # use the colon operator inside the indexing operator\n",
    "print('mass_cc 2nd stack =\\n',mass_cc[1,:,:])  # use the colon operator inside the indexing operator\n",
    "print('mass_cc 3rd stack =\\n',mass_cc[2,:,:])  # use the colon operator inside the indexing operator"
   ]
  },
  {
   "cell_type": "code",
   "execution_count": null,
   "metadata": {
    "collapsed": true
   },
   "outputs": [],
   "source": [
    "'''3D Array of Random Numbers'''\n",
    "\n",
    "mass_cc = np.random.random((8,5,6)) # random number generator in NumPy; pass only one argument; say tuple or list\n",
    "mass_cc *= 255\n",
    "mass_cc = mass_cc.astype(int)  # assign int data type\n",
    "print('mass_cc =\\n', mass_cc)"
   ]
  },
  {
   "cell_type": "code",
   "execution_count": null,
   "metadata": {
    "collapsed": true
   },
   "outputs": [],
   "source": [
    "help(plt.subplot)"
   ]
  },
  {
   "cell_type": "code",
   "execution_count": null,
   "metadata": {
    "collapsed": true
   },
   "outputs": [],
   "source": [
    "'''Visualize a 3-D Data Block'''\n",
    "\n",
    "import numpy as np\n",
    "from matplotlib import pyplot as plt     # import the pyplot function of the matplotlib package\n",
    "plt.rcParams['figure.figsize'] = [20, 4] # extend the figure size on screen output\n",
    "\n",
    "plt.figure(3)   # create a figure placeholder\n",
    "\n",
    "plt.subplot (141)   # layout of plots: 1 row 4 columns\n",
    "plt.imshow( mass_cc[0,:,:],cmap='gray' )\n",
    "plt.title('Experiment 1',fontsize=14)\n",
    "plt.xlabel('species cc',fontsize=12)\n",
    "plt.ylabel('time',fontsize=12)\n",
    "\n",
    "plt.subplot(142)\n",
    "plt.imshow( mass_cc[1,:,:],cmap='gray' )\n",
    "plt.title('Experiment 2',fontsize=14)\n",
    "plt.xlabel('species cc',fontsize=12)\n",
    "plt.ylabel('time',fontsize=12)\n",
    "\n",
    "plt.subplot(143)\n",
    "plt.imshow( mass_cc[2,:,:],cmap='gray' )\n",
    "plt.title('Experiment 3',fontsize=14)\n",
    "plt.xlabel('species cc',fontsize=12)\n",
    "plt.ylabel('time',fontsize=12)\n",
    "\n",
    "plt.subplot(144)\n",
    "plt.imshow( mass_cc[3,:,:],cmap='gray' )\n",
    "plt.title('Experiment 4',fontsize=14)\n",
    "plt.xlabel('species cc',fontsize=12)\n",
    "plt.ylabel('time',fontsize=12)"
   ]
  },
  {
   "cell_type": "code",
   "execution_count": null,
   "metadata": {
    "collapsed": true,
    "scrolled": true
   },
   "outputs": [],
   "source": [
    "'''Automate the Visualization of a 3D Block of Data'''\n",
    "\n",
    "plt.figure(4)       # create a figure place holder\n",
    "n_rows = 1\n",
    "n_columns = mass_cc.shape[0]\n",
    "print('mass_cc shape =', mass_cc.shape)\n",
    "\n",
    "for i in range(n_columns):\n",
    "    plt.subplot(n_rows,n_columns, i+1)\n",
    "    plt.imshow(mass_cc[i,:,:], cmap='gray')\n",
    "    plt.title('Experiment '+str(i+1),fontsize=14)\n",
    "    plt.xlabel('species cc',fontsize=12)\n",
    "    plt.ylabel('time',fontsize=12)"
   ]
  },
  {
   "cell_type": "code",
   "execution_count": null,
   "metadata": {
    "collapsed": true
   },
   "outputs": [],
   "source": [
    "help(plt.imshow)"
   ]
  },
  {
   "cell_type": "code",
   "execution_count": null,
   "metadata": {
    "collapsed": true,
    "scrolled": true
   },
   "outputs": [],
   "source": [
    "'''Color Image as a 3D Block Array'''\n",
    "\n",
    "plt.figure(5)       # create a figure place holder\n",
    "color_image = np.random.random((800,1200,3))  # 3 channels: R, G, B\n",
    "plt.imshow(color_image)\n",
    "plt.title('Noisy Color Image (3D Block)',fontsize=14)"
   ]
  },
  {
   "cell_type": "markdown",
   "metadata": {
    "slideshow": {
     "slide_type": "slide"
    }
   },
   "source": [
    "## Array Slicing (or Views; see [NB](#nb))<a id=\"views\"></a>\n",
    "Slicing or views are subset of data contained in a given array. Data is accessed using indexing operation, `[]`, in conjunction with the colon operator `:`."
   ]
  },
  {
   "cell_type": "code",
   "execution_count": null,
   "metadata": {
    "collapsed": true
   },
   "outputs": [],
   "source": [
    "'''Visualize Data Slice in 3D'''\n",
    "\n",
    "color_image[380:420,:] = 0   # black color stripe\n",
    "plt.figure(6)\n",
    "plt.imshow(color_image)"
   ]
  },
  {
   "cell_type": "code",
   "execution_count": null,
   "metadata": {
    "collapsed": true
   },
   "outputs": [],
   "source": [
    "'''Image Reading into a Python Session'''\n",
    "\n",
    "help(plt.imread)   # use the matplotlib package"
   ]
  },
  {
   "cell_type": "code",
   "execution_count": null,
   "metadata": {
    "collapsed": true
   },
   "outputs": [],
   "source": [
    "'''3-D Block Visualization of Color Images'''\n",
    "\n",
    "# copy URL of image in the images/ course repository;\n",
    "# click on the image link, use the Download buttom to create this URL\n",
    "block = plt.imread('images/glacier.png',format='png')\n",
    "\n",
    "#wrk_copy = np.copy(block) # if a copy is needed to work on the data\n",
    "\n",
    "plt.imshow(block)\n",
    "print('block type =',type(block))  # inspect the array shape\n",
    "print('block shape =',block.shape)  # inspect the array shape\n",
    "\n",
    "plt.imshow(block)\n",
    "print('')"
   ]
  },
  {
   "cell_type": "code",
   "execution_count": null,
   "metadata": {
    "collapsed": true
   },
   "outputs": [],
   "source": [
    "'''Vertical Slice (View)'''\n",
    "\n",
    "r_vec = block[:,200,0] # slice the red channel (stack) at column 200\n",
    "g_vec = block[:,200,1] # slice the green channel (stack) at column 200\n",
    "b_vec = block[:,200,2] # slice the blue channel (stack) at column 200\n",
    "\n",
    "n_pixels = block.shape[0] # get number of pixels in the image vertica direction\n",
    "\n",
    "plt.plot(range(n_pixels),r_vec,'r',g_vec,'g',b_vec,'b') # plot all three slices\n",
    "plt.title('Vertical Slices per Color Channel',fontsize=14)\n",
    "plt.xlabel('pixel',fontsize=12)\n",
    "plt.ylabel('intensity',fontsize=12)"
   ]
  },
  {
   "cell_type": "code",
   "execution_count": null,
   "metadata": {
    "collapsed": true
   },
   "outputs": [],
   "source": [
    "'''Indicate the Vertical Slice Position'''\n",
    "\n",
    "block_mod = block        # note block_mod shares data with block\n",
    "block_mod[:,200,:] = 0\n",
    "plt.imshow(block_mod)\n",
    "plt.title('Vertical Line at Pixel 200',fontsize=14)"
   ]
  },
  {
   "cell_type": "code",
   "execution_count": null,
   "metadata": {
    "collapsed": true
   },
   "outputs": [],
   "source": [
    "'''Change Color of the Vertical Line'''\n",
    "\n",
    "block_mod[:,200,0] = 1   # set the red channel to 1\n",
    "block_mod[:,200,1] = 0   # set the others to zero (already were)\n",
    "block_mod[:,200,2] = 0\n",
    "plt.imshow(block_mod)\n",
    "plt.title('Red Vertical Line at Pixel 200',fontsize=14)"
   ]
  },
  {
   "cell_type": "code",
   "execution_count": null,
   "metadata": {
    "collapsed": true
   },
   "outputs": [],
   "source": [
    "'''Create a View of the Data'''\n",
    "\n",
    "sub_block = block[:100,:100,:]  # upper left 100x100 sub-block of the data\n",
    "plt.imshow(sub_block)\n",
    "plt.title('Upper Left 100x100 Block',fontsize=14)"
   ]
  },
  {
   "cell_type": "code",
   "execution_count": null,
   "metadata": {
    "collapsed": true
   },
   "outputs": [],
   "source": [
    "'''Mask the 100x100 Data'''\n",
    "\n",
    "masked = block           # shared data\n",
    "\n",
    "masked[100:,:,:] = 0     # lower sub-block mask\n",
    "plt.imshow(masked)\n",
    "\n",
    "masked[:,100:,:] = 0     # right sub-block mask\n",
    "plt.imshow(masked)\n",
    "plt.title('Upper Left 100x100 Mask',fontsize=14)"
   ]
  },
  {
   "cell_type": "code",
   "execution_count": null,
   "metadata": {
    "collapsed": true
   },
   "outputs": [],
   "source": [
    "'''Red Mask the 100x100 Data'''\n",
    "\n",
    "masked = block\n",
    "\n",
    "masked[100:,:,:] = 0     # lower sub-block mask\n",
    "plt.imshow(masked)\n",
    "masked[:,100:,:] = 0     # right sub-block mask\n",
    "plt.imshow(masked)\n",
    "\n",
    "masked[100:,:,0] = 1     # lower sub-block mask\n",
    "plt.imshow(masked)\n",
    "masked[:,100:,0] = 1     # right sub-block mask\n",
    "plt.imshow(masked)\n",
    "plt.title('Upper Left 100x100 Red Mask',fontsize=14)"
   ]
  },
  {
   "cell_type": "code",
   "execution_count": null,
   "metadata": {
    "collapsed": true
   },
   "outputs": [],
   "source": [
    "'''View the Original Block'''\n",
    "\n",
    "plt.imshow(block)  # the image has been modified all along\n",
    "plt.title('Original Has Been Modified',fontsize=14)"
   ]
  },
  {
   "cell_type": "markdown",
   "metadata": {},
   "source": [
    "### Sampling or Filtering<a id=\"sampling\"></a>"
   ]
  },
  {
   "cell_type": "code",
   "execution_count": null,
   "metadata": {
    "collapsed": true
   },
   "outputs": [],
   "source": [
    "'''Reload Block Data'''\n",
    "\n",
    "# copy URL of image in the images/ course repository;\n",
    "# click on the image link, use the Download buttom to create this URL\n",
    "block = plt.imread('images/glacier.png',format='png')\n",
    "\n",
    "plt.imshow(block)\n",
    "plt.title('Matrix Reloaded',fontsize=14)\n",
    "print('block type =',type(block))  # inspect the array shape\n",
    "print('block shape =',block.shape)  # inspect the array shape"
   ]
  },
  {
   "cell_type": "code",
   "execution_count": null,
   "metadata": {
    "collapsed": true
   },
   "outputs": [],
   "source": [
    "'''Coarsening the Data'''\n",
    "\n",
    "coarse = block[::5,::5,:]   # use the step option in the colon operator indexing\n",
    "plt.imshow(coarse)\n",
    "plt.title('Low Pass Filtering I',fontsize=14)\n",
    "print('coarse shape =', coarse.shape)"
   ]
  },
  {
   "cell_type": "code",
   "execution_count": null,
   "metadata": {
    "collapsed": true
   },
   "outputs": [],
   "source": [
    "'''More Coarsening of the Data'''\n",
    "\n",
    "very_coarse = block[::10,::10,:]\n",
    "plt.imshow(very_coarse)\n",
    "plt.title('Low Pass Filtering II',fontsize=14)\n",
    "print('very_coarse =', very_coarse.shape)"
   ]
  },
  {
   "cell_type": "code",
   "execution_count": null,
   "metadata": {
    "collapsed": true
   },
   "outputs": [],
   "source": [
    "'''Reload the Vertical Slice (View)'''\n",
    "\n",
    "r_vec = block[:,200,0] # slice the red channel (stack) at column 200\n",
    "g_vec = block[:,200,1] # slice the green channel (stack) at column 200\n",
    "b_vec = block[:,200,2] # slice the blue channel (stack) at column 200\n",
    "\n",
    "plt.plot(range(block.shape[0]),r_vec,'r',g_vec,'g',b_vec,'b') # plot all three slices\n",
    "plt.title('Vertical Slices per Color Channel Again',fontsize=14)\n",
    "plt.xlabel('pixel',fontsize=12)\n",
    "plt.ylabel('intensity',fontsize=12)"
   ]
  },
  {
   "cell_type": "code",
   "execution_count": null,
   "metadata": {
    "collapsed": true
   },
   "outputs": [],
   "source": [
    "'''Corsening the Vertical Slice (View)'''\n",
    "\n",
    "r_vec = block[::8,200,0] # slice the red channel (stack) at column 200\n",
    "g_vec = block[::8,200,1] # slice the green channel (stack) at column 200\n",
    "b_vec = block[::8,200,2] # slice the blue channel (stack) at column 200\n",
    "\n",
    "n_pixels = r_vec.size\n",
    "\n",
    "plt.plot(range(n_pixels),r_vec,'r',g_vec,'g',b_vec,'b') # plot all three slices\n",
    "plt.title('Low Pass Filter',fontsize=14)\n",
    "plt.xlabel('pixel',fontsize=12)\n",
    "plt.ylabel('intensity',fontsize=12)"
   ]
  },
  {
   "cell_type": "markdown",
   "metadata": {
    "slideshow": {
     "slide_type": "slide"
    }
   },
   "source": [
    "## Notable Matrices<a id=\"zeros\"></a>"
   ]
  },
  {
   "cell_type": "code",
   "execution_count": null,
   "metadata": {
    "collapsed": true
   },
   "outputs": [],
   "source": [
    "'''Zeros'''\n",
    "\n",
    "mtrx = np.zeros((2,3))\n",
    "print('Ones matrix 2x3\\n',mtrx)"
   ]
  },
  {
   "cell_type": "code",
   "execution_count": null,
   "metadata": {
    "collapsed": true
   },
   "outputs": [],
   "source": [
    "'''Ones'''\n",
    "\n",
    "mtrx = np.ones((4,3))\n",
    "print('Ones matrix 4x3\\n',mtrx)"
   ]
  },
  {
   "cell_type": "code",
   "execution_count": null,
   "metadata": {
    "collapsed": true
   },
   "outputs": [],
   "source": [
    "'''Identity (square)'''\n",
    "\n",
    "'''one way'''\n",
    "mtrx = np.eye(4)\n",
    "print('Identity matrx 4x4 \\n',mtrx)\n",
    "\n",
    "'''another way'''\n",
    "mtrx = np.diag( np.ones(4) )\n",
    "print('Identity matrix 4x4 \\n',mtrx)"
   ]
  },
  {
   "cell_type": "code",
   "execution_count": null,
   "metadata": {
    "collapsed": true
   },
   "outputs": [],
   "source": [
    "'''Help on Diagonal usage'''\n",
    "\n",
    "help(np.diag)"
   ]
  },
  {
   "cell_type": "code",
   "execution_count": null,
   "metadata": {
    "collapsed": true
   },
   "outputs": [],
   "source": [
    "'''Empty (not really)'''\n",
    "\n",
    "mtrx = np.empty((8,5))\n",
    "print('Empty mtrx 4x5 \\n',mtrx)\n",
    "\n",
    "mtrx[:,:] = 2.0  # initialize\n",
    "print('Initialized mtrx 4x5\\n', mtrx)"
   ]
  }
 ],
 "metadata": {
  "kernelspec": {
   "display_name": "Python 3",
   "language": "python",
   "name": "python3"
  },
  "language_info": {
   "codemirror_mode": {
    "name": "ipython",
    "version": 3
   },
   "file_extension": ".py",
   "mimetype": "text/x-python",
   "name": "python",
   "nbconvert_exporter": "python",
   "pygments_lexer": "ipython3",
   "version": "3.7.1"
  },
  "latex_envs": {
   "LaTeX_envs_menu_present": true,
   "autoclose": false,
   "autocomplete": true,
   "bibliofile": "biblio.bib",
   "cite_by": "apalike",
   "current_citInitial": 1,
   "eqLabelWithNumbers": true,
   "eqNumInitial": 1,
   "hotkeys": {
    "equation": "Ctrl-E",
    "itemize": "Ctrl-I"
   },
   "labels_anchors": false,
   "latex_user_defs": false,
   "report_style_numbering": false,
   "user_envs_cfg": false
  }
 },
 "nbformat": 4,
 "nbformat_minor": 2
}
