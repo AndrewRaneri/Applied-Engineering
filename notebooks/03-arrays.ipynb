{
 "cells": [
  {
   "cell_type": "markdown",
   "metadata": {
    "slideshow": {
     "slide_type": "slide"
    }
   },
   "source": [
    "ChEn-3170: Computational Methods in Chemical Engineering Spring 2020 UMass Lowell; Prof. V. F. de Almeida **21Jan20**\n",
    "\n",
    "# 03. Arrays"
   ]
  },
  {
   "cell_type": "markdown",
   "metadata": {
    "slideshow": {
     "slide_type": "slide"
    }
   },
   "source": [
    "---\n",
    "## Table of Contents\n",
    "* [Objectives](#obj)\n",
    "* [Introduction](#introduction)\n",
    "* [NumPy Package](#numpy)\n",
    " - [1-D (vector)](#1d)\n",
    " - [2-D (matrix)](#2d)\n",
    "   + [Visualization](#plot)\n",
    " - [3-D (brick or block or cube)](#3d)\n",
    "* [Array Slicing (or Views)](#views)\n",
    " - [Sampling (Filtering)](#sampling)\n",
    "* [Notable Matrices](#zeros)\n",
    "------"
   ]
  },
  {
   "cell_type": "markdown",
   "metadata": {},
   "source": [
    "## Objectives<a id=\"obj\"></a>\n",
    "\n",
    " + Expand on data structures convered so far to include multidimensional arrays for scientific computing.\n",
    " + Cover essential elements of data layout for scientific computing.\n",
    " + Experiment with views/slices of arrays using visualization (Matplotlib)."
   ]
  },
  {
   "cell_type": "markdown",
   "metadata": {
    "slideshow": {
     "slide_type": "slide"
    }
   },
   "source": [
    "## Introduction<a id=\"introduction\"></a>\n",
    "Arrays are containers of data in a structured form, *i.e.* in a *block* layout. This course uses the n-dimensional array Python package:\n",
    "+ [NumPy](http://www.numpy.org/): `ndarray` (n-dimensional or multi-dimensional array).\n",
    "+ [Quick-start tutorial](https://docs.scipy.org/doc/numpy/user/quickstart.html):\n",
    "we need to import `numpy` into the Python interpreter."
   ]
  },
  {
   "cell_type": "markdown",
   "metadata": {
    "slideshow": {
     "slide_type": "slide"
    }
   },
   "source": [
    "## NumPy Package<a id=\"numpy\"></a>\n",
    "All packages in Python are imported into your session using the `import` *statement*."
   ]
  },
  {
   "cell_type": "code",
   "execution_count": 221,
   "metadata": {
    "slideshow": {
     "slide_type": "slide"
    }
   },
   "outputs": [],
   "source": [
    "'''Python packages are accessed with an import directive as such:'''\n",
    "\n",
    "import numpy as np  # import the package and create the alias: np"
   ]
  },
  {
   "cell_type": "markdown",
   "metadata": {
    "slideshow": {
     "slide_type": "slide"
    }
   },
   "source": [
    "### One-dimensional array (or vector)<a id=\"1d\"></a>\n",
    "A one-dimensional array or vector is an ordered sequence of data types."
   ]
  },
  {
   "cell_type": "code",
   "execution_count": 235,
   "metadata": {
    "scrolled": true,
    "slideshow": {
     "slide_type": "slide"
    }
   },
   "outputs": [
    {
     "name": "stdout",
     "output_type": "stream",
     "text": [
      "mass_cc type = <class 'numpy.ndarray'>\n",
      "mass_cc length = 5\n",
      "mass_cc shape = (5,)\n",
      "mass_cc = [4.5e+00 8.0e+00 9.0e+01 1.0e+02 2.3e-05]\n",
      "mass_cc entry dtype = float64\n"
     ]
    }
   ],
   "source": [
    "'''Loading data into \"ndarray\" using built-in Python data types and the \"np.array()\" method'''\n",
    "\n",
    "pylist = [4.5, 8, 90, 1e2, 2.3e-5]       # create a native Python list\n",
    "\n",
    "mass_cc = np.array( pylist )                 # array() takes a list and converts it into a ndarray\n",
    "\n",
    "print('mass_cc type =',type(mass_cc))\n",
    "print('mass_cc length =',mass_cc.size)        # check size with help(np.size)\n",
    "print('mass_cc shape =',mass_cc.shape) \n",
    "print('mass_cc =',mass_cc)\n",
    "print('mass_cc entry dtype =',mass_cc.dtype)  # check type with help(np.dtype)"
   ]
  },
  {
   "cell_type": "code",
   "execution_count": 233,
   "metadata": {},
   "outputs": [
    {
     "name": "stdout",
     "output_type": "stream",
     "text": [
      "Help on built-in function array in module numpy.core.multiarray:\n",
      "\n",
      "array(...)\n",
      "    array(object, dtype=None, copy=True, order='K', subok=False, ndmin=0)\n",
      "    \n",
      "    Create an array.\n",
      "    \n",
      "    Parameters\n",
      "    ----------\n",
      "    object : array_like\n",
      "        An array, any object exposing the array interface, an object whose\n",
      "        __array__ method returns an array, or any (nested) sequence.\n",
      "    dtype : data-type, optional\n",
      "        The desired data-type for the array.  If not given, then the type will\n",
      "        be determined as the minimum type required to hold the objects in the\n",
      "        sequence.  This argument can only be used to 'upcast' the array.  For\n",
      "        downcasting, use the .astype(t) method.\n",
      "    copy : bool, optional\n",
      "        If true (default), then the object is copied.  Otherwise, a copy will\n",
      "        only be made if __array__ returns a copy, if obj is a nested sequence,\n",
      "        or if a copy is needed to satisfy any of the other requirements\n",
      "        (`dtype`, `order`, etc.).\n",
      "    order : {'K', 'A', 'C', 'F'}, optional\n",
      "        Specify the memory layout of the array. If object is not an array, the\n",
      "        newly created array will be in C order (row major) unless 'F' is\n",
      "        specified, in which case it will be in Fortran order (column major).\n",
      "        If object is an array the following holds.\n",
      "    \n",
      "        ===== ========= ===================================================\n",
      "        order  no copy                     copy=True\n",
      "        ===== ========= ===================================================\n",
      "        'K'   unchanged F & C order preserved, otherwise most similar order\n",
      "        'A'   unchanged F order if input is F and not C, otherwise C order\n",
      "        'C'   C order   C order\n",
      "        'F'   F order   F order\n",
      "        ===== ========= ===================================================\n",
      "    \n",
      "        When ``copy=False`` and a copy is made for other reasons, the result is\n",
      "        the same as if ``copy=True``, with some exceptions for `A`, see the\n",
      "        Notes section. The default order is 'K'.\n",
      "    subok : bool, optional\n",
      "        If True, then sub-classes will be passed-through, otherwise\n",
      "        the returned array will be forced to be a base-class array (default).\n",
      "    ndmin : int, optional\n",
      "        Specifies the minimum number of dimensions that the resulting\n",
      "        array should have.  Ones will be pre-pended to the shape as\n",
      "        needed to meet this requirement.\n",
      "    \n",
      "    Returns\n",
      "    -------\n",
      "    out : ndarray\n",
      "        An array object satisfying the specified requirements.\n",
      "    \n",
      "    See Also\n",
      "    --------\n",
      "    empty_like : Return an empty array with shape and type of input.\n",
      "    ones_like : Return an array of ones with shape and type of input.\n",
      "    zeros_like : Return an array of zeros with shape and type of input.\n",
      "    full_like : Return a new array with shape of input filled with value.\n",
      "    empty : Return a new uninitialized array.\n",
      "    ones : Return a new array setting values to one.\n",
      "    zeros : Return a new array setting values to zero.\n",
      "    full : Return a new array of given shape filled with value.\n",
      "    \n",
      "    \n",
      "    Notes\n",
      "    -----\n",
      "    When order is 'A' and `object` is an array in neither 'C' nor 'F' order,\n",
      "    and a copy is forced by a change in dtype, then the order of the result is\n",
      "    not necessarily 'C' as expected. This is likely a bug.\n",
      "    \n",
      "    Examples\n",
      "    --------\n",
      "    >>> np.array([1, 2, 3])\n",
      "    array([1, 2, 3])\n",
      "    \n",
      "    Upcasting:\n",
      "    \n",
      "    >>> np.array([1, 2, 3.0])\n",
      "    array([ 1.,  2.,  3.])\n",
      "    \n",
      "    More than one dimension:\n",
      "    \n",
      "    >>> np.array([[1, 2], [3, 4]])\n",
      "    array([[1, 2],\n",
      "           [3, 4]])\n",
      "    \n",
      "    Minimum dimensions 2:\n",
      "    \n",
      "    >>> np.array([1, 2, 3], ndmin=2)\n",
      "    array([[1, 2, 3]])\n",
      "    \n",
      "    Type provided:\n",
      "    \n",
      "    >>> np.array([1, 2, 3], dtype=complex)\n",
      "    array([ 1.+0.j,  2.+0.j,  3.+0.j])\n",
      "    \n",
      "    Data-type consisting of more than one element:\n",
      "    \n",
      "    >>> x = np.array([(1,2),(3,4)],dtype=[('a','<i4'),('b','<i4')])\n",
      "    >>> x['a']\n",
      "    array([1, 3])\n",
      "    \n",
      "    Creating an array from sub-classes:\n",
      "    \n",
      "    >>> np.array(np.mat('1 2; 3 4'))\n",
      "    array([[1, 2],\n",
      "           [3, 4]])\n",
      "    \n",
      "    >>> np.array(np.mat('1 2; 3 4'), subok=True)\n",
      "    matrix([[1, 2],\n",
      "            [3, 4]])\n",
      "\n"
     ]
    }
   ],
   "source": [
    "help(np.array)"
   ]
  },
  {
   "cell_type": "code",
   "execution_count": 223,
   "metadata": {},
   "outputs": [
    {
     "name": "stdout",
     "output_type": "stream",
     "text": [
      "2.0 * mass_cc     =  [9.0e+00 1.6e+01 1.8e+02 2.0e+02 4.6e-05]\n",
      "2.0 / mass_cc     =  [4.44444444e-01 2.50000000e-01 2.22222222e-02 2.00000000e-02\n",
      " 8.69565217e+04]\n",
      "mass_cc**2        =  [2.025e+01 6.400e+01 8.100e+03 1.000e+04 5.290e-10]\n",
      "np.log(mass_cc)   =  [  1.5040774    2.07944154   4.49980967   4.60517019 -10.68001634]\n",
      "mass_cc - mass_cc =  [0. 0. 0. 0. 0.]\n",
      "mean(mass_cc)     =  40.5000046\n",
      "var(mass_cc)      =  1996.5996274000845\n",
      "std(mass_cc)      =  44.68332605570096\n"
     ]
    }
   ],
   "source": [
    "'''NumPy has a very rich set of algebraic operations on arrays; a few examples'''\n",
    "\n",
    "print( '2.0 * mass_cc     = ', 2*mass_cc )\n",
    "print( '2.0 / mass_cc     = ', 2/mass_cc )\n",
    "print( 'mass_cc**2        = ', mass_cc**2 )\n",
    "print( 'np.log(mass_cc)   = ', np.log(mass_cc) )\n",
    "print( 'mass_cc - mass_cc = ', mass_cc-mass_cc)\n",
    "print( 'mean(mass_cc)     = ', np.mean(mass_cc))\n",
    "print( 'var(mass_cc)      = ', np.var(mass_cc))\n",
    "print( 'std(mass_cc)      = ', np.std(mass_cc))"
   ]
  },
  {
   "cell_type": "code",
   "execution_count": 224,
   "metadata": {
    "scrolled": true,
    "slideshow": {
     "slide_type": "slide"
    }
   },
   "outputs": [
    {
     "name": "stdout",
     "output_type": "stream",
     "text": [
      "species type = <class 'numpy.ndarray'>\n",
      "***species length*** = 1\n",
      "species = {'N2', 'argon', 'O2', 'water'}\n",
      "***species entry dtype*** = object\n"
     ]
    }
   ],
   "source": [
    "'''Loading data into \"ndarray\" using built-in Python data types and the \"np.array()\" method'''\n",
    "\n",
    "species_set = {'water','argon','O2','N2'}\n",
    "\n",
    "species = np.array(species_set)  \n",
    "\n",
    "print('species type =',type(species))\n",
    "print('***species length*** =',species.size)\n",
    "print('species =',species)\n",
    "print('***species entry dtype*** =',species.dtype)"
   ]
  },
  {
   "cell_type": "code",
   "execution_count": 225,
   "metadata": {
    "slideshow": {
     "slide_type": "slide"
    }
   },
   "outputs": [
    {
     "name": "stdout",
     "output_type": "stream",
     "text": [
      "mole_vec type = <class 'numpy.ndarray'>\n",
      "mole_vec length = 6\n",
      "mole_vec = [0.001  0.2008 0.4006 0.6004 0.8002 1.    ]\n",
      "mole_vec entry dtype = float64\n",
      "\n",
      "mole_frac = [0.000333   0.06686647 0.13339993 0.1999334  0.26646687 0.33300033]\n",
      "sum       = 1.0\n"
     ]
    }
   ],
   "source": [
    "'''Build an ndarray with the workhorse \"np.linspace()\" method'''\n",
    "\n",
    "mole_vec = np.linspace( 1e-3, 1.0, 6 )             # linspace() is a method of numpy\n",
    "\n",
    "print('mole_vec type =',type(mole_vec))        # type introspection in python\n",
    "print('mole_vec length =',mole_vec.size)       # vector length or size\n",
    "print('mole_vec =',mole_vec)\n",
    "print('mole_vec entry dtype =',mole_vec.dtype) # inquire about the internal data type in numpy\n",
    "\n",
    "'''Now create a mole fraction data array'''\n",
    "mole_sum = mole_vec.sum()                 # \"sum()\" method adds all elements in \"mole_vec\"\n",
    "mole_frac = mole_vec / mole_sum           # operation: the \"mole_vec\" array is divided by the \"mole_sum\"\n",
    "print('')\n",
    "print('mole_frac =',mole_frac)\n",
    "print('sum       =',mole_frac.sum())      # using sum method of mole_frac"
   ]
  },
  {
   "cell_type": "code",
   "execution_count": null,
   "metadata": {},
   "outputs": [],
   "source": [
    "dir(mole_frac)   # list of methods and attributes available for the `mole_frac` object"
   ]
  },
  {
   "cell_type": "code",
   "execution_count": null,
   "metadata": {},
   "outputs": [],
   "source": [
    "help(mole_frac.sum)  # help for the sum method of `mole_frac` or `ndarray`"
   ]
  },
  {
   "cell_type": "code",
   "execution_count": null,
   "metadata": {
    "slideshow": {
     "slide_type": "slide"
    }
   },
   "outputs": [],
   "source": [
    "help(np.sum)  # help for the build-in function in `numpy`"
   ]
  },
  {
   "cell_type": "code",
   "execution_count": 226,
   "metadata": {},
   "outputs": [
    {
     "name": "stdout",
     "output_type": "stream",
     "text": [
      "sum = 1.0\n"
     ]
    }
   ],
   "source": [
    "print('sum =', np.sum(mole_frac))   # another way to sum using numpy built-in function np.sum()"
   ]
  },
  {
   "cell_type": "code",
   "execution_count": 227,
   "metadata": {
    "slideshow": {
     "slide_type": "slide"
    }
   },
   "outputs": [
    {
     "name": "stdout",
     "output_type": "stream",
     "text": [
      "mole_frac    =\n",
      " [0.000333   0.06686647 0.13339993 0.1999334  0.26646687 0.33300033] \n",
      "\n",
      "mole_frac[0] = 0.000333000333000333\n",
      "mole_frac[4] = 0.26646686646686646\n",
      "\n",
      "mole_frac[3:6]       = [0.1999334  0.26646687 0.33300033]\n",
      "mole_frac[3:6] * 3.2 = [0.63978688 0.85269397 1.06560107]\n"
     ]
    }
   ],
   "source": [
    "'''Accessing \"ndarray\" data with the indexing operator []'''\n",
    "\n",
    "print('mole_frac    =\\n',mole_frac,'\\n')\n",
    "print('mole_frac[0] =',mole_frac[0])   # access the offset 0 item\n",
    "print('mole_frac[4] =',mole_frac[4])   # access the offset 4 item\n",
    "\n",
    "'''Accessing slices'''\n",
    "print('')\n",
    "print('mole_frac[3:6]       =', mole_frac[3:6])    # print from index 3 to index 6-1\n",
    "\n",
    "'''Modify slice data'''\n",
    "\n",
    "mole_frac[3:6] *= 3.2                              # modify the slice by multiplying in-place by 3.2\n",
    "print('mole_frac[3:6] * 3.2 =', mole_frac[3:6])    # print result\n",
    "\n",
    "# same as this\n",
    "#tmp = mole_frac[3:6] * 3.2\n",
    "#mole_frac[3:6] = tmp"
   ]
  },
  {
   "cell_type": "code",
   "execution_count": 228,
   "metadata": {},
   "outputs": [
    {
     "name": "stdout",
     "output_type": "stream",
     "text": [
      "tmp =\n",
      " [1.10889222e-07 4.47112439e-03 1.77955422e-02 4.09327252e-01\n",
      " 7.27087011e-01 1.13550563e+00] \n",
      "\n",
      "magnitude of mole_frac =  1.5146572784421302\n",
      "\n",
      "magnitude of mole_frac =  1.5146572784421302\n"
     ]
    }
   ],
   "source": [
    "'''Vector magnitude'''\n",
    "\n",
    "'''one way'''\n",
    "tmp = mole_frac * mole_frac              # element-by-element multiplication of the vector\n",
    "print('tmp =\\n',tmp,'\\n')\n",
    "\n",
    "mag = np.sqrt( tmp.sum() )               # sum of all elements in tmp and take the sqrt\n",
    "print('magnitude of mole_frac = ', mag )\n",
    "\n",
    "'''another way'''\n",
    "print('')\n",
    "\n",
    "mag = np.sqrt( np.dot(mole_frac, mole_frac) )  # use the scalar product\n",
    "print('magnitude of mole_frac = ', mag )"
   ]
  },
  {
   "cell_type": "markdown",
   "metadata": {},
   "source": [
    "<a id=\"nb\"></a>\n",
    "<div class=\"alert alert-block alert-danger\">\n",
    "NB: Shared data concept in vectors extend to all arrays.\n",
    "</div>"
   ]
  },
  {
   "cell_type": "code",
   "execution_count": 229,
   "metadata": {},
   "outputs": [
    {
     "name": "stdout",
     "output_type": "stream",
     "text": [
      "a_vec = [0.03398918 0.04064403 0.87415324 0.07091999 0.99745704 0.1435587 ]\n",
      "b_vec = [0.03398918 0.         0.87415324 0.07091999 0.99745704 0.1435587 ]\n"
     ]
    }
   ],
   "source": [
    "'''Vector View (Shared Data)'''\n",
    "\n",
    "a_vec = np.random.random(6)  # useful of obtaining random data (0.0 to 1.0)     \n",
    "print('a_vec =', a_vec)\n",
    "\n",
    "b_vec = a_vec           # this is a \"view\" or alias of the entire a_vec\n",
    "\n",
    "b_vec[1] = 0.0          # this will change a_vec too\n",
    "print('b_vec =', b_vec)"
   ]
  },
  {
   "cell_type": "code",
   "execution_count": 230,
   "metadata": {},
   "outputs": [
    {
     "name": "stdout",
     "output_type": "stream",
     "text": [
      "a_vec = [0.03398918 0.         0.87415324 0.07091999 0.99745704 0.1435587 ]\n"
     ]
    }
   ],
   "source": [
    "print('a_vec =', a_vec)"
   ]
  },
  {
   "cell_type": "code",
   "execution_count": 231,
   "metadata": {},
   "outputs": [
    {
     "name": "stdout",
     "output_type": "stream",
     "text": [
      "a_vec = [0.42953035 0.12561447 0.0231452  0.38731653 0.7941113  0.11990137]\n",
      "\n",
      "b_vec = [0.38731653 0.7941113  0.11990137]\n",
      "b_vec = [0. 0. 0.]\n",
      "a_vec = [0.42953035 0.12561447 0.0231452  0.         0.         0.        ]\n",
      "b_vec = 0\n",
      "a_vec = [0.42953035 0.12561447 0.0231452  0.         0.         0.        ]\n"
     ]
    }
   ],
   "source": [
    "'''Vector View (Shared Data)'''\n",
    "\n",
    "a_vec = np.random.random(6)       \n",
    "print('a_vec =', a_vec)\n",
    "\n",
    "print('')\n",
    "b_vec = a_vec[3:6]      # this is a view of a_vec data; not a copy\n",
    "print('b_vec =', b_vec)\n",
    "\n",
    "b_vec[:] = 0            # setting all elements of b_vec to zero\n",
    "print('b_vec =', b_vec)\n",
    "\n",
    "print('a_vec =', a_vec) # a_vec is also changed; shared data\n",
    "\n",
    "b_vec = 0               # this assigns a new object to b_vec\n",
    "print('b_vec =', b_vec)\n",
    "\n",
    "print('a_vec =', a_vec) # note a_vec is left as before b_vec reassigned"
   ]
  },
  {
   "cell_type": "markdown",
   "metadata": {},
   "source": [
    "**If you intend to use a copy of the data, use the `np.copy()` method**"
   ]
  },
  {
   "cell_type": "code",
   "execution_count": 232,
   "metadata": {},
   "outputs": [
    {
     "name": "stdout",
     "output_type": "stream",
     "text": [
      "a_vec = [0.33465288 0.55289493 0.48933087 0.37366144 0.40644445 0.10356578\n",
      " 0.09080067 0.44811849]\n",
      "b_vec = [0.         0.55289493 0.48933087 0.37366144 0.40644445 0.10356578\n",
      " 0.09080067 0.44811849]\n",
      "\n",
      "a_vec = [0.33465288 0.55289493 0.48933087 0.37366144 0.40644445 0.10356578\n",
      " 0.09080067 0.44811849]\n"
     ]
    }
   ],
   "source": [
    "'''Vector Copy'''\n",
    "\n",
    "a_vec = np.random.random(8)\n",
    "print('a_vec =', a_vec)\n",
    "\n",
    "b_vec = np.copy(a_vec)      # this is an independent copy of a_vec\n",
    "\n",
    "b_vec[0] = 0.0              # this will change mole_frac too\n",
    "print('b_vec =', b_vec)\n",
    "\n",
    "print('')\n",
    "print('a_vec =', a_vec)"
   ]
  },
  {
   "cell_type": "markdown",
   "metadata": {
    "slideshow": {
     "slide_type": "slide"
    }
   },
   "source": [
    "### Two-dimensional array (or matrix)<a id=\"2d\"></a>\n",
    "A two-dimensional array or matrix, is a collection of data types ordered into rows and columns."
   ]
  },
  {
   "cell_type": "code",
   "execution_count": 236,
   "metadata": {
    "slideshow": {
     "slide_type": "slide"
    }
   },
   "outputs": [
    {
     "name": "stdout",
     "output_type": "stream",
     "text": [
      "mass_cc type = <class 'numpy.ndarray'>\n",
      "mass_cc length = 18\n",
      "mass_cc shape = (3, 6)\n",
      "mass_cc =\n",
      " [[ 4.5000e+00  8.0000e+00  9.0000e+01  1.0000e+12  2.3000e-05 -8.0000e+00]\n",
      " [ 0.0000e+00  3.1000e+00  1.0000e+01  3.0000e+03  1.2340e-01 -1.2000e+00]\n",
      " [ 3.0000e+00  5.9000e+00  4.0000e+01  1.0000e-02  2.3301e+00  7.8000e+01]]\n",
      "mass_cc entry dtype = float64\n"
     ]
    }
   ],
   "source": [
    "'''Using \"array()\" to create a 2-D \"np.ndarray\"'''\n",
    "\n",
    "# create a native Python list of lists \n",
    "data = [ [4.5, 8  , 90, 1e12, 2.3e-5, -8  ],    # note line continuation\n",
    "         [0  , 3.1, 10, 3000, 0.1234, -1.2],\n",
    "         [3  , 5.9, 40, 1e-2, 2.3301, 78  ]\n",
    "       ]\n",
    "mass_cc = np.array(data)   # use the np.array( ) method to create the array\n",
    "\n",
    "print('mass_cc type =',type(mass_cc))\n",
    "print('mass_cc length =',mass_cc.size)        # check size with help(np.size)\n",
    "print('mass_cc shape =',mass_cc.shape)        # check shape with help(np.shape)\n",
    "print('mass_cc =\\n',mass_cc)\n",
    "print('mass_cc entry dtype =',mass_cc.dtype)  # check type with help(np.dtype)"
   ]
  },
  {
   "cell_type": "code",
   "execution_count": 237,
   "metadata": {},
   "outputs": [
    {
     "name": "stdout",
     "output_type": "stream",
     "text": [
      "not_mtrx type = <class 'numpy.ndarray'>\n",
      "not_mtrx length = 3\n",
      "not_mtrx shape = (3,)\n",
      "not_mtrx =\n",
      " [list([4.5, 8, 90, 1000000000000.0, 2.3e-05, -8])\n",
      " list([0, 3.1, 10, 3000, 0.1234, -1.2, 7.8])\n",
      " list([3, 5.9, 40, 0.01, 2.3301, 78])]\n",
      "not_mtrx entry dtype = object\n"
     ]
    }
   ],
   "source": [
    "'''Not a matrix'''\n",
    "\n",
    "data = [ [4.5,   8, 90, 1e12, 2.3e-5,   -8     ],          # note line continuation\n",
    "         [0  , 3.1, 10, 3000, 0.1234, -1.2, 7.8],   # note extra element in this row; could be unintentional\n",
    "         [3  , 5.9, 40, 1e-2, 2.3301,   78     ]\n",
    "       ]\n",
    "not_mtrx = np.array(data)\n",
    "\n",
    "print('not_mtrx type =',type(not_mtrx))\n",
    "print('not_mtrx length =',not_mtrx.size)        # check size with help(np.size)\n",
    "print('not_mtrx shape =',not_mtrx.shape)        # check shape with help(np.shape)\n",
    "print('not_mtrx =\\n',not_mtrx)\n",
    "print('not_mtrx entry dtype =',not_mtrx.dtype)  # check type with help(np.dtype)"
   ]
  },
  {
   "cell_type": "code",
   "execution_count": 238,
   "metadata": {
    "slideshow": {
     "slide_type": "slide"
    }
   },
   "outputs": [
    {
     "name": "stdout",
     "output_type": "stream",
     "text": [
      "mass_cc[0,0] = 4.5\n",
      "mass_cc[1,1] = 3.1\n"
     ]
    }
   ],
   "source": [
    "'''Access elements of the 2-D array; use double indexing, e.g., name[i,j]'''\n",
    "# i -> row index\n",
    "# j -> column index\n",
    "\n",
    "print('mass_cc[0,0] =', mass_cc[0,0])   # single element on the diagonal 0,0\n",
    "print('mass_cc[1,1] =', mass_cc[1,1])   # single element on the diagonal 1,1"
   ]
  },
  {
   "cell_type": "code",
   "execution_count": 239,
   "metadata": {},
   "outputs": [
    {
     "name": "stdout",
     "output_type": "stream",
     "text": [
      "mass_cc type = <class 'numpy.ndarray'>\n",
      "mass_cc shape = (3, 5)\n",
      "mass_cc length = 15\n",
      "mass_cc =\n",
      " [[1.         2.         3.         4.         5.        ]\n",
      " [0.         1.         2.         3.         4.        ]\n",
      " [2.02492402 2.62913556 2.3320874  1.31031159 2.17242021]]\n",
      "mass_cc entry dtype = float64\n"
     ]
    }
   ],
   "source": [
    "'''More on using \"array()\" to create a 2-D \"np.ndarray\"'''\n",
    "\n",
    "# create a native Python list of 5-element objects \n",
    "data = [ np.linspace(1,5,5),         # first row   5 elements\n",
    "         range(5),                   # second row  5 elements\n",
    "         np.random.random(5)*3.0     # third row   5 elements  \n",
    "       ]\n",
    "mass_cc = np.array(data)\n",
    "print('mass_cc type =',type(mass_cc))\n",
    "print('mass_cc shape =',mass_cc.shape)        # check shape with help(np.shape)\n",
    "print('mass_cc length =',mass_cc.size)        # check size with help(np.size)\n",
    "print('mass_cc =\\n',mass_cc)\n",
    "print('mass_cc entry dtype =',mass_cc.dtype)  # check type with help(np.dtype)"
   ]
  },
  {
   "cell_type": "code",
   "execution_count": 240,
   "metadata": {
    "scrolled": false,
    "slideshow": {
     "slide_type": "slide"
    }
   },
   "outputs": [
    {
     "name": "stdout",
     "output_type": "stream",
     "text": [
      "mass_cc 1st row = [1. 2. 3. 4. 5.]\n",
      "mass_cc 2nd row = [0. 1. 2. 3. 4.]\n",
      "mass_cc 3nd row = [2.02492402 2.62913556 2.3320874  1.31031159 2.17242021]\n",
      "\n",
      "mass_cc 1st column = [1.         0.         2.02492402]\n",
      "mass_cc 2nd column = [2.         1.         2.62913556]\n",
      "mass_cc 3rd column = [3.        2.        2.3320874]\n",
      "mass_cc 4th column = [4.         3.         1.31031159]\n",
      "mass_cc 5th column = [5.         4.         2.17242021]\n"
     ]
    }
   ],
   "source": [
    "'''Views of the 2-D array'''\n",
    "\n",
    "print('mass_cc 1st row =',mass_cc[0,:])  # use the colon operator inside the indexing operator\n",
    "print('mass_cc 2nd row =',mass_cc[1,:])  # use the colon operator inside the indexing operator\n",
    "print('mass_cc 3nd row =',mass_cc[2,:])  # use the colon operator inside the indexing operator\n",
    "print('')\n",
    "print('mass_cc 1st column =',mass_cc[:,0])  # use the colon operator inside the indexing operator\n",
    "print('mass_cc 2nd column =',mass_cc[:,1])  # use the colon operator inside the indexing operator\n",
    "print('mass_cc 3rd column =',mass_cc[:,2])  # use the colon operator inside the indexing operator\n",
    "print('mass_cc 4th column =',mass_cc[:,3])  # use the colon operator inside the indexing operator\n",
    "print('mass_cc 5th column =',mass_cc[:,4])  # use the colon operator inside the indexing operator"
   ]
  },
  {
   "cell_type": "markdown",
   "metadata": {},
   "source": [
    "#### Visualization of matrices with [Matplotlib](https://matplotlib.org/index.html)<a id=\"plot\"></a>\n",
    "\n",
    "All packages in Python are imported into your session using the `import` *statement*.\n",
    "<div class=\"alert alert-block alert-info\">\n",
    "Plotting for the most part will use the Python package `Matplotlib`.\n",
    "</div>"
   ]
  },
  {
   "cell_type": "code",
   "execution_count": null,
   "metadata": {
    "scrolled": false
   },
   "outputs": [],
   "source": [
    "'''Visualize a matrix as image'''\n",
    "\n",
    "from matplotlib import pyplot as plt  # import the pyplot function of the matplotlib package\n",
    "\n",
    "plt.figure(1)     # create a figure placeholder\n",
    "\n",
    "'''scale the matrix to 0-1'''\n",
    "#tmp = mass_cc / mass_cc.max()    # element by element division\n",
    "#mass_cc = tmp                    # reassigment\n",
    "mass_cc /= mass_cc.max()          # scaling on the fly; same as previous two\n",
    "\n",
    "'''scale the matrix to 0-255'''\n",
    "mass_cc *= 255\n",
    "\n",
    "print(mass_cc)\n",
    "\n",
    "# show data as an image (as opposed to a plot)\n",
    "plt.imshow( mass_cc, cmap='gray' ) # method call with arguments: mass_cc, a \"named\" argument cmap\n",
    "\n",
    "plt.show()"
   ]
  },
  {
   "cell_type": "code",
   "execution_count": null,
   "metadata": {},
   "outputs": [],
   "source": [
    "print('mass_cc upper left quadrant =\\n', mass_cc[0:2,0:2])"
   ]
  },
  {
   "cell_type": "code",
   "execution_count": null,
   "metadata": {},
   "outputs": [],
   "source": [
    "print('mass_cc upper right quadrant =\\n', mass_cc[0:2,-2:])"
   ]
  },
  {
   "cell_type": "code",
   "execution_count": null,
   "metadata": {},
   "outputs": [],
   "source": [
    "'''Zeros matrix'''\n",
    "\n",
    "mass_cc = np.zeros((4,3))     # 4x3 matrix with zeros\n",
    "print('zero matrix (4,3) =\\n',mass_cc)"
   ]
  },
  {
   "cell_type": "code",
   "execution_count": null,
   "metadata": {},
   "outputs": [],
   "source": [
    "'''Identity matrix: I (\"square\"; i.e.: m x m or m rows and m columns)'''\n",
    "\n",
    "mass_cc = np.eye(4,4)\n",
    "print('identity matrix (4,4) =\\n',mass_cc)"
   ]
  },
  {
   "cell_type": "code",
   "execution_count": null,
   "metadata": {},
   "outputs": [],
   "source": [
    "'''Diagonal matrix (square; m x m or rows and m columns)'''\n",
    "\n",
    "mass_cc = np.diag( range(7) )    # provide the diagonal as a vector\n",
    "print('diagonal (7x7) =\\n',mass_cc)"
   ]
  },
  {
   "cell_type": "code",
   "execution_count": null,
   "metadata": {},
   "outputs": [],
   "source": [
    "'''Visualize a matrix as image'''\n",
    "from matplotlib import pyplot as plt # import the pyplot function of the matplotlib package\n",
    "\n",
    "plt.figure(2)                      # create a figure placeholder\n",
    "\n",
    "plt.imshow( mass_cc, cmap='gray' ) # show image data\n",
    "\n",
    "plt.show()"
   ]
  },
  {
   "cell_type": "markdown",
   "metadata": {
    "slideshow": {
     "slide_type": "slide"
    }
   },
   "source": [
    "### Three-dimensional array (brick)<a id=\"3d\"></a>"
   ]
  },
  {
   "cell_type": "code",
   "execution_count": null,
   "metadata": {
    "slideshow": {
     "slide_type": "slide"
    }
   },
   "outputs": [],
   "source": [
    "'''Using \"array()\" to create a 3-D \"np.ndarray\"'''\n",
    "\n",
    "# create a native Python list of lists of lists\n",
    "\n",
    "data = [\n",
    "        [ [4.5, 8, 90, 1e12, 2.3e-5],    # 1st matrix\n",
    "          [0, 3.1, 10, 3000, 0.1234]\n",
    "        ],\n",
    "        [ [2.1, -7, 31, 2e12, 0.22],     # second matrix\n",
    "          [0,  1.1, 21, 3876, 1024]\n",
    "        ],\n",
    "        [ [1,   -7,  4,    0, 0.22],     # third matrix\n",
    "          [0,  1.1, 21, -3e4, -234]\n",
    "        ]\n",
    "       ]\n",
    "mass_cc = np.array(data)                      # create the ndarray\n",
    "print('mass_cc type =',type(mass_cc))\n",
    "print('mass_cc length =',mass_cc.size)        # check size with help(np.size)\n",
    "print('mass_cc shape =',mass_cc.shape)        # check shape with help(np.shape)\n",
    "print('mass_cc =\\n',mass_cc)\n",
    "print('mass_cc entry dtype =',mass_cc.dtype)  # check type with help(np.dtype)"
   ]
  },
  {
   "cell_type": "code",
   "execution_count": null,
   "metadata": {},
   "outputs": [],
   "source": [
    "'''Access elements of the 3-D array; use triple indexing, e.g., variable_name[k,i,j]'''\n",
    "# k -> depth index (stacking)\n",
    "# i -> row index\n",
    "# j -> column index\n",
    "\n",
    "print('mass_cc[0,0,0] =',mass_cc[0,0,0])\n",
    "print('mass_cc[2,1,4] =',mass_cc[2,1,4])"
   ]
  },
  {
   "cell_type": "code",
   "execution_count": null,
   "metadata": {},
   "outputs": [],
   "source": [
    "'''Views of the 3-D array'''\n",
    "\n",
    "print('mass_cc 1st stack =\\n',mass_cc[0,:,:])  # use the colon operator inside the indexing operator\n",
    "print('mass_cc 2nd stack =\\n',mass_cc[1,:,:])  # use the colon operator inside the indexing operator\n",
    "print('mass_cc 3rd stack =\\n',mass_cc[2,:,:])  # use the colon operator inside the indexing operator"
   ]
  },
  {
   "cell_type": "code",
   "execution_count": null,
   "metadata": {},
   "outputs": [],
   "source": [
    "'''3D Array of Random Numbers'''\n",
    "\n",
    "# Say this is a result of an experiment measuring mass concentrations for multiple cases\n",
    "mass_cc = np.random.random( (4,5,6) ) # random number generator in NumPy; pass only one argument; say tuple or list\n",
    "mass_cc *= 255\n",
    "mass_cc = mass_cc.astype(int)  # assign int data type\n",
    "print('mass_cc =\\n', mass_cc)\n",
    "print('mass_cc shape =', mass_cc.shape)"
   ]
  },
  {
   "cell_type": "code",
   "execution_count": null,
   "metadata": {},
   "outputs": [],
   "source": [
    "'''Produce subplots for all matrix slices'''\n",
    "help(plt.subplot)"
   ]
  },
  {
   "cell_type": "code",
   "execution_count": null,
   "metadata": {},
   "outputs": [],
   "source": [
    "'''Visualize a 3-D Data Block'''\n",
    "\n",
    "import numpy as np\n",
    "from matplotlib import pyplot as plt     # import the pyplot function of the matplotlib package\n",
    "plt.rcParams['figure.figsize'] = [20, 4] # extend the figure size on screen output\n",
    "\n",
    "plt.figure(3)   # create a figure placeholder\n",
    "\n",
    "plt.subplot (141)   # layout of plots: 1 row 4 columns\n",
    "\n",
    "plt.imshow( mass_cc[0,:,:],cmap='gray' )  # show the 1st stack\n",
    "\n",
    "plt.title('Experiment 1',fontsize=14)\n",
    "plt.xlabel('species cc',fontsize=12)\n",
    "plt.ylabel('time',fontsize=12)\n",
    "\n",
    "plt.subplot(142)\n",
    "\n",
    "plt.imshow( mass_cc[1,:,:],cmap='gray' ) # show the 2nd stack\n",
    "\n",
    "plt.title('Experiment 2',fontsize=14)\n",
    "plt.xlabel('species cc',fontsize=12)\n",
    "plt.ylabel('time',fontsize=12)\n",
    "\n",
    "plt.subplot(143)\n",
    "\n",
    "plt.imshow( mass_cc[2,:,:],cmap='gray' ) # show the 3rd stack\n",
    "\n",
    "plt.title('Experiment 3',fontsize=14)\n",
    "plt.xlabel('species cc',fontsize=12)\n",
    "plt.ylabel('time',fontsize=12)\n",
    "\n",
    "plt.subplot(144)\n",
    "\n",
    "plt.imshow( mass_cc[3,:,:],cmap='gray' ) # show the 4th stack\n",
    "\n",
    "plt.title('Experiment 4',fontsize=14)\n",
    "plt.xlabel('species cc',fontsize=12)\n",
    "plt.ylabel('time',fontsize=12)\n",
    "\n",
    "plt.show()"
   ]
  },
  {
   "cell_type": "code",
   "execution_count": null,
   "metadata": {
    "scrolled": true
   },
   "outputs": [],
   "source": [
    "'''Automate the Visualization of a 3D Block of Data'''\n",
    "\n",
    "plt.figure(4)   # create a figure place holder\n",
    "n_rows = 1                     # number of rows for plotting\n",
    "n_columns = mass_cc.shape[0]   # number of columns for plotting\n",
    "print('mass_cc shape =', mass_cc.shape)\n",
    "\n",
    "# \"loop\": execution flow control\n",
    "for i in range(n_columns):\n",
    "    \n",
    "    plt.subplot(n_rows,n_columns, i+1)      # create subplot\n",
    "    \n",
    "    plt.imshow(mass_cc[i,:,:], cmap='gray') # show data in subplot\n",
    "    \n",
    "    plt.title('Experiment '+str(i+1),fontsize=14)\n",
    "    plt.xlabel('species cc',fontsize=12)\n",
    "    plt.ylabel('time',fontsize=12)\n",
    "\n",
    "plt.show()"
   ]
  },
  {
   "cell_type": "code",
   "execution_count": null,
   "metadata": {},
   "outputs": [],
   "source": [
    "help(plt.imshow)"
   ]
  },
  {
   "cell_type": "code",
   "execution_count": null,
   "metadata": {
    "scrolled": true
   },
   "outputs": [],
   "source": [
    "'''Color Image as a 3D Block Array'''\n",
    "\n",
    "# Another example of block array data structure\n",
    "\n",
    "plt.figure(5)       # create a figure place holder\n",
    "\n",
    "color_image = np.random.random( (800,1200,3) )  # 3 channels: R, G, B\n",
    "\n",
    "plt.imshow( color_image )\n",
    "plt.title('Noisy Color Image (3D Block)',fontsize=14)\n",
    "\n",
    "plt.show()"
   ]
  },
  {
   "cell_type": "markdown",
   "metadata": {
    "slideshow": {
     "slide_type": "slide"
    }
   },
   "source": [
    "## Array Slicing (or Views; see [NB](#nb))<a id=\"views\"></a>\n",
    "Slicing or views are subset of data contained in a given array. Data is accessed using indexing operation, `[]`, in conjunction with the colon operator `:`."
   ]
  },
  {
   "cell_type": "code",
   "execution_count": null,
   "metadata": {},
   "outputs": [],
   "source": [
    "'''Visualize Data Slice in 3D'''\n",
    "\n",
    "color_image[380:420,:,:] = 0   # black color stripe\n",
    "\n",
    "plt.figure(6)\n",
    "plt.imshow( color_image )\n",
    "plt.show()"
   ]
  },
  {
   "cell_type": "code",
   "execution_count": null,
   "metadata": {},
   "outputs": [],
   "source": [
    "'''Image Reading into a Python Session'''\n",
    "\n",
    "help(plt.imread)   # use the matplotlib package"
   ]
  },
  {
   "cell_type": "code",
   "execution_count": null,
   "metadata": {},
   "outputs": [],
   "source": [
    "'''3-D Block Visualization of Color Images'''\n",
    "\n",
    "# Read image from the images/ directory in the chen-3170 repo\n",
    "block = plt.imread( 'images/glacier.png', format='png' )\n",
    "\n",
    "#wrk_copy = np.copy(block) # if a copy is needed to work on the data\n",
    "\n",
    "plt.imshow(block)\n",
    "print('block type =',type(block))  # inspect the array shape\n",
    "print('block shape =',block.shape)  # inspect the array shape\n",
    "\n",
    "plt.imshow(block)\n",
    "plt.show()"
   ]
  },
  {
   "cell_type": "code",
   "execution_count": null,
   "metadata": {},
   "outputs": [],
   "source": [
    "'''Vertical Slice (View)'''\n",
    "\n",
    "r_vec = block[:,200,0] # slice the red channel (stack) at column 200\n",
    "g_vec = block[:,200,1] # slice the green channel (stack) at column 200\n",
    "b_vec = block[:,200,2] # slice the blue channel (stack) at column 200\n",
    "\n",
    "n_pixels = block.shape[0] # get number of pixels in the image's vertical direction\n",
    "\n",
    "plt.plot( range(n_pixels), r_vec,'r', g_vec,'g', b_vec,'b') # plot all three slices\n",
    "\n",
    "plt.title('Vertical Slices per Color Channel',fontsize=14)\n",
    "plt.xlabel('pixel',fontsize=12)\n",
    "plt.ylabel('intensity',fontsize=12)\n",
    "\n",
    "plt.show()"
   ]
  },
  {
   "cell_type": "code",
   "execution_count": null,
   "metadata": {},
   "outputs": [],
   "source": [
    "'''Indicate the Vertical Slice Position'''\n",
    "\n",
    "block_mod = block        # note block_mod shares data with block\n",
    "block_mod[:,200,:] = 0\n",
    "plt.imshow(block_mod)\n",
    "plt.title('Vertical Line at Pixel 200',fontsize=14)\n",
    "plt.show()"
   ]
  },
  {
   "cell_type": "code",
   "execution_count": null,
   "metadata": {},
   "outputs": [],
   "source": [
    "'''Change Color of the Vertical Line'''\n",
    "\n",
    "block_mod[:,200,0] = 1   # set the red channel to 1\n",
    "block_mod[:,200,1] = 0   # set the others to zero (already were)\n",
    "block_mod[:,200,2] = 0\n",
    "plt.imshow(block_mod)\n",
    "plt.title('Red Vertical Line at Pixel 200',fontsize=14)\n",
    "plt.show()"
   ]
  },
  {
   "cell_type": "code",
   "execution_count": null,
   "metadata": {},
   "outputs": [],
   "source": [
    "'''Create a View of the Data'''\n",
    "\n",
    "sub_block = block[:100,:100,:]  # upper left 100x100 sub-block of the data\n",
    "plt.imshow(sub_block)\n",
    "plt.title('Upper Left 100x100 Block',fontsize=14)\n",
    "plt.show()"
   ]
  },
  {
   "cell_type": "code",
   "execution_count": null,
   "metadata": {},
   "outputs": [],
   "source": [
    "'''Mask the 100x100 Data'''\n",
    "\n",
    "masked = block           # shared data\n",
    "\n",
    "masked[100:,:,:] = 0     # lower sub-block mask\n",
    "plt.imshow(masked)\n",
    "\n",
    "masked[:,100:,:] = 0     # right sub-block mask\n",
    "plt.imshow(masked)\n",
    "\n",
    "plt.title('Upper Left 100x100 Mask',fontsize=14)\n",
    "plt.show()"
   ]
  },
  {
   "cell_type": "code",
   "execution_count": null,
   "metadata": {},
   "outputs": [],
   "source": [
    "'''Red Mask the 100x100 Data'''\n",
    "\n",
    "masked = block\n",
    "\n",
    "masked[100:,:,0] = 1     # lower sub-block mask\n",
    "plt.imshow(masked)\n",
    "masked[:,100:,0] = 1     # right sub-block mask\n",
    "plt.imshow(masked)\n",
    "\n",
    "plt.title('Upper Left 100x100 Red Mask',fontsize=14)\n",
    "plt.show()"
   ]
  },
  {
   "cell_type": "code",
   "execution_count": null,
   "metadata": {},
   "outputs": [],
   "source": [
    "'''View the Original Block'''\n",
    "\n",
    "plt.imshow(block)  # the image has been modified all along\n",
    "plt.title('Original Has Been Modified',fontsize=14)\n",
    "plt.show()"
   ]
  },
  {
   "cell_type": "markdown",
   "metadata": {},
   "source": [
    "### Sampling or Filtering<a id=\"sampling\"></a>"
   ]
  },
  {
   "cell_type": "code",
   "execution_count": null,
   "metadata": {},
   "outputs": [],
   "source": [
    "'''Reload Block Data'''\n",
    "\n",
    "# Read image from the images/ directory in the chen-3170 repo\n",
    "block = plt.imread('images/glacier.png',format='png')\n",
    "\n",
    "plt.imshow(block)\n",
    "plt.title('Matrix Reloaded',fontsize=14)\n",
    "plt.show()\n",
    "print('block type =',type(block))  # inspect the array shape\n",
    "print('block shape =',block.shape)  # inspect the array shape"
   ]
  },
  {
   "cell_type": "code",
   "execution_count": null,
   "metadata": {},
   "outputs": [],
   "source": [
    "'''Coarsening the Data'''\n",
    "\n",
    "coarse = block[::5,::5,:]   # use the step option in the colon operator indexing\n",
    "\n",
    "plt.imshow(coarse)\n",
    "plt.title('Low Pass Filtering I',fontsize=14)\n",
    "plt.show()\n",
    "print('coarse shape =', coarse.shape)"
   ]
  },
  {
   "cell_type": "code",
   "execution_count": null,
   "metadata": {},
   "outputs": [],
   "source": [
    "'''More Coarsening of the Data'''\n",
    "\n",
    "very_coarse = block[::10,::10,:]\n",
    "\n",
    "plt.imshow(very_coarse)\n",
    "plt.title('Low Pass Filtering II',fontsize=14)\n",
    "plt.show()\n",
    "print('very_coarse =', very_coarse.shape)"
   ]
  },
  {
   "cell_type": "code",
   "execution_count": null,
   "metadata": {},
   "outputs": [],
   "source": [
    "'''Reload the Vertical Slice (View)'''\n",
    "\n",
    "r_vec = block[:,200,0] # slice the red channel (stack) at column 200\n",
    "g_vec = block[:,200,1] # slice the green channel (stack) at column 200\n",
    "b_vec = block[:,200,2] # slice the blue channel (stack) at column 200\n",
    "\n",
    "plt.plot(range(block.shape[0]),r_vec,'r',g_vec,'g',b_vec,'b') # plot all three slices\n",
    "plt.title('Vertical Slices per Color Channel Again',fontsize=14)\n",
    "plt.xlabel('pixel',fontsize=12)\n",
    "plt.ylabel('intensity',fontsize=12)\n",
    "plt.show()"
   ]
  },
  {
   "cell_type": "code",
   "execution_count": null,
   "metadata": {},
   "outputs": [],
   "source": [
    "'''Corsening the Vertical Slice (View)'''\n",
    "\n",
    "r_vec = block[::8,200,0] # slice the red channel (stack) at column 200\n",
    "g_vec = block[::8,200,1] # slice the green channel (stack) at column 200\n",
    "b_vec = block[::8,200,2] # slice the blue channel (stack) at column 200\n",
    "\n",
    "n_pixels = r_vec.size\n",
    "\n",
    "plt.plot(range(n_pixels),r_vec,'r',g_vec,'g',b_vec,'b') # plot all three slices\n",
    "plt.title('Low Pass Filter',fontsize=14)\n",
    "plt.xlabel('pixel',fontsize=12)\n",
    "plt.ylabel('intensity',fontsize=12)\n",
    "plt.show()"
   ]
  },
  {
   "cell_type": "markdown",
   "metadata": {
    "slideshow": {
     "slide_type": "slide"
    }
   },
   "source": [
    "## Notable Matrices<a id=\"zeros\"></a>"
   ]
  },
  {
   "cell_type": "code",
   "execution_count": null,
   "metadata": {},
   "outputs": [],
   "source": [
    "'''Zeros'''\n",
    "\n",
    "mtrx = np.zeros( (2,3) ) # single argument\n",
    "print('Ones matrix 2x3\\n',mtrx)"
   ]
  },
  {
   "cell_type": "code",
   "execution_count": null,
   "metadata": {},
   "outputs": [],
   "source": [
    "'''Ones'''\n",
    "\n",
    "mtrx = np.ones( (4,3) )  # single argument\n",
    "print('Ones matrix 4x3\\n',mtrx)"
   ]
  },
  {
   "cell_type": "code",
   "execution_count": null,
   "metadata": {},
   "outputs": [],
   "source": [
    "'''Identity (square)'''\n",
    "\n",
    "'''one way'''\n",
    "mtrx = np.eye(4)\n",
    "print('Identity matrx 4x4 \\n',mtrx)\n",
    "\n",
    "'''another way'''\n",
    "mtrx = np.diag( np.ones(4) )\n",
    "print('Identity matrix 4x4 \\n',mtrx)"
   ]
  },
  {
   "cell_type": "code",
   "execution_count": null,
   "metadata": {},
   "outputs": [],
   "source": [
    "'''Help on Diagonal usage'''\n",
    "\n",
    "help(np.diag)"
   ]
  },
  {
   "cell_type": "code",
   "execution_count": null,
   "metadata": {},
   "outputs": [],
   "source": [
    "'''Empty (not really)'''\n",
    "\n",
    "mtrx = np.empty( (6,5) )  # single argument\n",
    "print('Empty mtrx 6x5 \\n',mtrx)\n",
    "\n",
    "mtrx[:,:] = 2.0  # initialize\n",
    "print('Initialized mtrx 4x5\\n', mtrx)"
   ]
  }
 ],
 "metadata": {
  "kernelspec": {
   "display_name": "Python 3",
   "language": "python",
   "name": "python3"
  },
  "language_info": {
   "codemirror_mode": {
    "name": "ipython",
    "version": 3
   },
   "file_extension": ".py",
   "mimetype": "text/x-python",
   "name": "python",
   "nbconvert_exporter": "python",
   "pygments_lexer": "ipython3",
   "version": "3.7.1"
  },
  "latex_envs": {
   "LaTeX_envs_menu_present": true,
   "autoclose": false,
   "autocomplete": true,
   "bibliofile": "biblio.bib",
   "cite_by": "apalike",
   "current_citInitial": 1,
   "eqLabelWithNumbers": true,
   "eqNumInitial": 1,
   "hotkeys": {
    "equation": "Ctrl-E",
    "itemize": "Ctrl-I"
   },
   "labels_anchors": false,
   "latex_user_defs": false,
   "report_style_numbering": false,
   "user_envs_cfg": false
  }
 },
 "nbformat": 4,
 "nbformat_minor": 2
}
