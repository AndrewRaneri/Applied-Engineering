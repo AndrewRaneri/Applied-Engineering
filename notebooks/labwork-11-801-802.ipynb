{
 "cells": [
  {
   "cell_type": "markdown",
   "metadata": {},
   "source": [
    "ChEn-3170: Computational Methods in Chemical Engineering Fall 2018 UMass Lowell; Prof. V. F. de Almeida **28Nov2018**\n",
    "\n",
    "# Laboratory Work 11 29Nov2018 Session 801-802\n",
    "$\n",
    "  \\newcommand{\\Amtrx}{\\boldsymbol{\\mathsf{A}}}\n",
    "  \\newcommand{\\Bmtrx}{\\boldsymbol{\\mathsf{B}}}\n",
    "  \\newcommand{\\Cmtrx}{\\boldsymbol{\\mathsf{C}}}\n",
    "  \\newcommand{\\Mmtrx}{\\boldsymbol{\\mathsf{M}}}\n",
    "  \\newcommand{\\Imtrx}{\\boldsymbol{\\mathsf{I}}}\n",
    "  \\newcommand{\\Pmtrx}{\\boldsymbol{\\mathsf{P}}}\n",
    "  \\newcommand{\\Qmtrx}{\\boldsymbol{\\mathsf{Q}}}\n",
    "  \\newcommand{\\Lmtrx}{\\boldsymbol{\\mathsf{L}}}\n",
    "  \\newcommand{\\Umtrx}{\\boldsymbol{\\mathsf{U}}}\n",
    "  \\newcommand{\\xvec}{\\boldsymbol{\\mathsf{x}}}\n",
    "  \\newcommand{\\yvec}{\\boldsymbol{\\mathsf{y}}}\n",
    "  \\newcommand{\\zvec}{\\boldsymbol{\\mathsf{z}}}\n",
    "  \\newcommand{\\avec}{\\boldsymbol{\\mathsf{a}}}\n",
    "  \\newcommand{\\bvec}{\\boldsymbol{\\mathsf{b}}}\n",
    "  \\newcommand{\\cvec}{\\boldsymbol{\\mathsf{c}}}\n",
    "  \\newcommand{\\rvec}{\\boldsymbol{\\mathsf{r}}}\n",
    "  \\newcommand{\\norm}[1]{\\bigl\\lVert{#1}\\bigr\\rVert}\n",
    "  \\DeclareMathOperator{\\rank}{rank}\n",
    "  \\DeclareMathOperator{\\abs}{abs}\n",
    "$"
   ]
  },
  {
   "cell_type": "markdown",
   "metadata": {},
   "source": [
    "### Name: `your name`"
   ]
  },
  {
   "cell_type": "markdown",
   "metadata": {},
   "source": [
    "### Rubric for each assignment: \n",
    "\n",
    "|        Context          |  Points |\n",
    "| -----------------------     | ------- |\n",
    "| Precision of the answer     |   80%   |\n",
    "| Answer Markdown readability |   10%   |\n",
    "| Code readability            |   10%   |\n",
    "    "
   ]
  },
  {
   "cell_type": "markdown",
   "metadata": {},
   "source": [
    "### <span style=\"color:red\">Guidance:</span>\n",
    " +  <span style=\"color:red\"> \n",
    "    Save your work frequently to a file locally to your computer.\n",
    "    </span>\n",
    " +  <span style=\"color:red\">\n",
    "    Before submitting, `Kernel` -> `Restart & Run All`, to verify your notebook runs correctly.\n",
    "    </span>\n",
    " +  <span style=\"color:red\">\n",
    "    Save your file again.\n",
    "    </span>"
   ]
  },
  {
   "cell_type": "markdown",
   "metadata": {},
   "source": [
    "## <span style=\"color:blue\">Use the material covered in Notebooks 13 and 14.</span>"
   ]
  },
  {
   "cell_type": "markdown",
   "metadata": {},
   "source": [
    "---\n",
    "### Table of Contents\n",
    "* [Assignment 1 (50 pts)](#a1)\n",
    "* [Assignment 2 (50 pts)](#a2)\n",
    "---"
   ]
  },
  {
   "cell_type": "markdown",
   "metadata": {},
   "source": [
    "## <span style=\"color:blue\">Assignment 1 (50 pts): For each item below respond in a separate notebook cell.</span><a id=\"a1\"></a>\n",
    "<span style=\"color:blue\">\n",
    " Find the equilibrium molar fraction for the following reaction:\n",
    "$\\text{A} + \\text{B} \\overset{K_x}{\\longleftrightarrow} \\text{C}$\n",
    "\n",
    "Name                        | Parameter    | Value    | \n",
    "----------------------------|--------------|----------| \n",
    "initial mole fraction of A  | $x_{A_0}$    | 0.40     | \n",
    "initial mole fraction of B  | $x_{B_0}$    | 0.48     | \n",
    "initial mole fraction of C  | $x_{C_0}$    | residual | \n",
    "mole equilibrium constant   | $K_\\text{x}$ | 67.8     |    \n",
    "    \n",
    "</span>\n",
    " 1. <span style=\"color:blue\">\n",
    " Produce a plot of the equilibrium function as a function of the normalized extent of reaction.</span>\n",
    "</span>\n",
    " 3. <span style=\"color:blue\">\n",
    " Demonstrate the quadratic convergence of Newton's method.\n",
    "</span>\n",
    " 4. <span style=\"color:blue\">\n",
    " Plot the normalized extent of reaction at equilibrium on the equilibrium function plot.\n",
    "</span>\n",
    " 5. <span style=\"color:blue\">\n",
    " Find 3 different initial mole fractions of $A$, $B$ and $C$ that produces the same\n",
    " equilibrium molar fraction.\n",
    "</span>"
   ]
  },
  {
   "cell_type": "markdown",
   "metadata": {},
   "source": [
    "## <span style=\"color:blue\">Assignment 2 (50 pts): For each item below respond in a separate notebook cell.</span><a id=\"a2\"></a>\n",
    "<span style=\"color:blue\">\n",
    "Find the equilibrium molar fraction for the following reaction: \n",
    "$\\nu_A\\,\\text{A} + \\nu_B\\,\\text{B} \\overset{K_x}{\\longleftrightarrow} \\nu_C\\,\\text{C}$ \n",
    "\n",
    "Name                        | Parameter    | Value  | Name     | Parameter | Value |\n",
    "----------------------------|--------------|--------|----------|-----------|-------|\n",
    "initial mole fraction of A  | $x_{A_0}$    | 0.40   | stoic. A | $\\nu_A$   |  1.2  |\n",
    "initial mole fraction of B  | $x_{B_0}$    | 0.48   | stoic. B | $\\nu_B$   |  1.3  |\n",
    "initial mole fraction of C  | $x_{C_0}$    |residual| stoic. C | $\\nu_C$   |  1.1  |\n",
    "mole equilibrium constant   | $K_\\text{x}$ | 67.8   |          |           |       |\n",
    "    \n",
    "</span>\n",
    " 1. <span style=\"color:blue\">\n",
    " Produce a plot of the equilibrium function as a function of the normalized extent of reaction.</span>\n",
    "</span>\n",
    " 3. <span style=\"color:blue\">\n",
    " Demonstrate the quadratic convergence of Newton's method.\n",
    "</span>\n",
    " 4. <span style=\"color:blue\">\n",
    " Plot the normalized extent of reaction at equilibrium on the equilibrium function plot.\n",
    "</span>\n",
    " 5. <span style=\"color:blue\">\n",
    " Compare the equilibrium molar fraction obtained with the corresponding result obtained in Assignment 1. Comment on the differences.\n",
    "</span>"
   ]
  },
  {
   "cell_type": "code",
   "execution_count": null,
   "metadata": {},
   "outputs": [],
   "source": []
  }
 ],
 "metadata": {
  "kernelspec": {
   "display_name": "Python 3",
   "language": "python",
   "name": "python3"
  },
  "language_info": {
   "codemirror_mode": {
    "name": "ipython",
    "version": 3
   },
   "file_extension": ".py",
   "mimetype": "text/x-python",
   "name": "python",
   "nbconvert_exporter": "python",
   "pygments_lexer": "ipython3",
   "version": "3.7.1"
  },
  "latex_envs": {
   "LaTeX_envs_menu_present": true,
   "autoclose": false,
   "autocomplete": true,
   "bibliofile": "biblio.bib",
   "cite_by": "apalike",
   "current_citInitial": 1,
   "eqLabelWithNumbers": true,
   "eqNumInitial": 1,
   "hotkeys": {
    "equation": "Ctrl-E",
    "itemize": "Ctrl-I"
   },
   "labels_anchors": false,
   "latex_user_defs": false,
   "report_style_numbering": false,
   "user_envs_cfg": false
  }
 },
 "nbformat": 4,
 "nbformat_minor": 2
}
