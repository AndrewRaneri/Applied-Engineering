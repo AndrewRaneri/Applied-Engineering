{
 "cells": [
  {
   "cell_type": "markdown",
   "metadata": {},
   "source": [
    "ChEn-3170: Computational Methods in Chemical Engineering Fall 2018 UMass Lowell; Prof. V. F. de Almeida **06Dec2018**\n",
    "\n",
    "# Laboratory Work 12 06Dec2018 Session 801-802\n",
    "$\n",
    "  \\newcommand{\\Amtrx}{\\boldsymbol{\\mathsf{A}}}\n",
    "  \\newcommand{\\Bmtrx}{\\boldsymbol{\\mathsf{B}}}\n",
    "  \\newcommand{\\Cmtrx}{\\boldsymbol{\\mathsf{C}}}\n",
    "  \\newcommand{\\Mmtrx}{\\boldsymbol{\\mathsf{M}}}\n",
    "  \\newcommand{\\Imtrx}{\\boldsymbol{\\mathsf{I}}}\n",
    "  \\newcommand{\\Pmtrx}{\\boldsymbol{\\mathsf{P}}}\n",
    "  \\newcommand{\\Qmtrx}{\\boldsymbol{\\mathsf{Q}}}\n",
    "  \\newcommand{\\Lmtrx}{\\boldsymbol{\\mathsf{L}}}\n",
    "  \\newcommand{\\Umtrx}{\\boldsymbol{\\mathsf{U}}}\n",
    "  \\newcommand{\\xvec}{\\boldsymbol{\\mathsf{x}}}\n",
    "  \\newcommand{\\yvec}{\\boldsymbol{\\mathsf{y}}}\n",
    "  \\newcommand{\\zvec}{\\boldsymbol{\\mathsf{z}}}\n",
    "  \\newcommand{\\avec}{\\boldsymbol{\\mathsf{a}}}\n",
    "  \\newcommand{\\bvec}{\\boldsymbol{\\mathsf{b}}}\n",
    "  \\newcommand{\\cvec}{\\boldsymbol{\\mathsf{c}}}\n",
    "  \\newcommand{\\rvec}{\\boldsymbol{\\mathsf{r}}}\n",
    "  \\newcommand{\\norm}[1]{\\bigl\\lVert{#1}\\bigr\\rVert}\n",
    "  \\DeclareMathOperator{\\rank}{rank}\n",
    "  \\DeclareMathOperator{\\abs}{abs}\n",
    "$"
   ]
  },
  {
   "cell_type": "markdown",
   "metadata": {},
   "source": [
    "### Name: `your name`"
   ]
  },
  {
   "cell_type": "markdown",
   "metadata": {},
   "source": [
    "### Rubric for each assignment: \n",
    "\n",
    "|                             |  Points |\n",
    "| -----------------------     | ------- |\n",
    "| Precision of the answer     |   80%   |\n",
    "| Answer Markdown readability |   10%   |\n",
    "| Code readability            |   10%   |\n",
    "    "
   ]
  },
  {
   "cell_type": "markdown",
   "metadata": {},
   "source": [
    "### <span style=\"color:red\">Guidance:</span>\n",
    " +  <span style=\"color:red\"> \n",
    "    Save your work frequently to a file locally to your computer.\n",
    "    </span>\n",
    " +  <span style=\"color:red\">\n",
    "    Before submitting, `Kernel` -> `Restart & Run All`, to verify your notebook runs correctly.\n",
    "    </span>\n",
    " +  <span style=\"color:red\">\n",
    "    Save your file again.\n",
    "    </span>"
   ]
  },
  {
   "cell_type": "markdown",
   "metadata": {},
   "source": [
    "## <span style=\"color:blue\">Use the material covered in Notebook 15.</span>"
   ]
  },
  {
   "cell_type": "markdown",
   "metadata": {},
   "source": [
    "---\n",
    "### Table of Contents\n",
    "* [Assignment 1 (50 pts)](#a1)\n",
    "* [Assignment 2 (50 pts)](#a2)\n",
    "---"
   ]
  },
  {
   "cell_type": "markdown",
   "metadata": {},
   "source": [
    "## <span style=\"color:blue\">Assignment 1 (50 pts): For each item below respond in a separate notebook cell.</span><a id=\"a1\"></a>\n",
    "<span style=\"color:blue\">\n",
    "Find the equilibrium molar fraction for the following reaction mechanism in `data/ammonia-rxn.txt`:\n",
    "</span>\n",
    "\n",
    " Ammonia oxidation mechanism          |         $K_x$        |\n",
    "--------------------------------------|----------------------|\n",
    "4 NH3 + 5 O2        <=> 4 NO  + 6 H2O | 2.5e+02        |\n",
    "4 NH3 + 3 O2        <=> 2 N2  + 6 H2O | 1.8e+02        |\n",
    "4 NH3 + 6 NO        <=> 5 N2  + 6 H2O | 1.099692e+02   |\n",
    "2 NO  + 1 O2        <=> 2 NO2         | 1e+02          |\n",
    "2 NO                <=> 1 N2  + 1 O2  | 8.485281e-01   |\n",
    "1 N2  + 2 O2        <=> 2 NO2         | 1.178511e+02   |\n",
    "4 NH3 + 4 NO + 1 O2 <=> 4 N2  + 6 H2O | 1.296e+02      |\n",
    "\n",
    "<span style=\"color:blue\">\n",
    "The following reference molar fraction $\\xvec^{(0)}$ is given:\n",
    "</span>\n",
    "\n",
    "  Reference Molar Fraction    | Parameter    | Value |\n",
    "------------------------------|--------------|-------|\n",
    " NO  | $x_{NO}$     | 0.05  |\n",
    " N2  | $x_{N2}$     | 0.1   |\n",
    " NO2 | $x_{NO2}$    | 0.02  |\n",
    " O2  | $x_{O2}$     | 0.3   |\n",
    " H2O | $x_{H2O}$    | 0.03  |\n",
    " NH3 | $x_{NH3}$    | 0.5   |  \n",
    "    \n",
    "</span>\n",
    " 1. <span style=\"color:blue\">\n",
    " Use your own algorithms and demonstrate the quadratic convergence of Newton's method.\n",
    "</span>\n",
    " 2. <span style=\"color:blue\">\n",
    " Plot the normalized extent of reaction at equilibrium on the equilibrium function plot.\n",
    "</span>\n",
    " 3. <span style=\"color:blue\">\n",
    " Describe the salient steps for computing the equilibrium molar fraction.\n",
    "</span>"
   ]
  },
  {
   "cell_type": "code",
   "execution_count": null,
   "metadata": {},
   "outputs": [],
   "source": [
    "'''1.1 Find root and equilibrium molar fractions'''\n"
   ]
  },
  {
   "cell_type": "code",
   "execution_count": null,
   "metadata": {},
   "outputs": [],
   "source": [
    "'''1.2 Plot equilibrium vector function and equilibrium extents of reaction'''\n"
   ]
  },
  {
   "cell_type": "markdown",
   "metadata": {},
   "source": [
    "**1.3 Salient computation steps:**\n"
   ]
  },
  {
   "cell_type": "markdown",
   "metadata": {},
   "source": [
    "## <span style=\"color:blue\">Assignment 2 (50 pts): For each item below respond in a separate notebook cell.</span><a id=\"a2\"></a>\n",
    "<span style=\"color:blue\">\n",
    "Find the equilibrium molar fraction for the following reaction mechanism in `data/ethylene-acetylene-rxn.txt`:\n",
    "</span>\n",
    "\n",
    " Ethylene and Acetylene from Ethane   |   $K_x$        |\n",
    "--------------------------------------|----------------|\n",
    "C2H6 <=> C2H4 +   H2                  | 1.134e+02      |\n",
    "C2H6 <=> C2H2 + 2 H2                  | 3.729e+02      |\n",
    "C2H4 <=> C2H2 +   H2                  | 3.276e+00      |\n",
    "\n",
    "<span style=\"color:blue\">\n",
    "for a pure stream of ethane.\n",
    "</span>\n",
    "\n",
    " 1. <span style=\"color:blue\">\n",
    " Use your own algorithms and demonstrate the quadratic convergence of Newton's method.\n",
    "</span>\n",
    " 2. <span style=\"color:blue\">\n",
    " Plot the normalized extent of reaction at equilibrium on the equilibrium function plot.\n",
    "</span>\n",
    " 3. <span style=\"color:blue\">\n",
    " If the goal of this reaction mechanism is to produce, simultaneously, ethylene and acetylene, what is your conclusion?\n",
    "</span>\n",
    " 4. <span style=\"color:blue\">\n",
    " Describe the salient steps for computing the equilibrium molar fraction.\n",
    "</span>"
   ]
  },
  {
   "cell_type": "code",
   "execution_count": null,
   "metadata": {},
   "outputs": [],
   "source": [
    "'''2.1 Find root and equilibrium molar fractions'''\n"
   ]
  },
  {
   "cell_type": "code",
   "execution_count": null,
   "metadata": {},
   "outputs": [],
   "source": [
    "'''2.2 Plot equilibrium vector function'''\n"
   ]
  },
  {
   "cell_type": "markdown",
   "metadata": {},
   "source": [
    "**2.3 Simultaneous production of ethylene and acetylene**\n",
    " "
   ]
  },
  {
   "cell_type": "markdown",
   "metadata": {},
   "source": [
    "**2.4 Salient computation steps:**\n"
   ]
  },
  {
   "cell_type": "code",
   "execution_count": null,
   "metadata": {},
   "outputs": [],
   "source": []
  }
 ],
 "metadata": {
  "kernelspec": {
   "display_name": "Python 3",
   "language": "python",
   "name": "python3"
  },
  "language_info": {
   "codemirror_mode": {
    "name": "ipython",
    "version": 3
   },
   "file_extension": ".py",
   "mimetype": "text/x-python",
   "name": "python",
   "nbconvert_exporter": "python",
   "pygments_lexer": "ipython3",
   "version": "3.6.5"
  },
  "latex_envs": {
   "LaTeX_envs_menu_present": true,
   "autoclose": false,
   "autocomplete": true,
   "bibliofile": "biblio.bib",
   "cite_by": "apalike",
   "current_citInitial": 1,
   "eqLabelWithNumbers": true,
   "eqNumInitial": 1,
   "hotkeys": {
    "equation": "Ctrl-E",
    "itemize": "Ctrl-I"
   },
   "labels_anchors": false,
   "latex_user_defs": false,
   "report_style_numbering": false,
   "user_envs_cfg": false
  }
 },
 "nbformat": 4,
 "nbformat_minor": 2
}
