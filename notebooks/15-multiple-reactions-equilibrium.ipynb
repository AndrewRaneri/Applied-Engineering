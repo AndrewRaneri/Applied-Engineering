{
 "cells": [
  {
   "cell_type": "markdown",
   "metadata": {},
   "source": [
    "ChEn-3170: Computational Methods in Chemical Engineering Fall 2018 UMass Lowell; Prof. V. F. de Almeida **03Dec2018**\n",
    "\n",
    "# 15. Multiple Reactions at Equilibrium\n",
    "$  \n",
    "  \\newcommand{\\Amtrx}{\\boldsymbol{\\mathsf{A}}}\n",
    "  \\newcommand{\\Bmtrx}{\\boldsymbol{\\mathsf{B}}}\n",
    "  \\newcommand{\\Mmtrx}{\\boldsymbol{\\mathsf{M}}}\n",
    "  \\newcommand{\\Imtrx}{\\boldsymbol{\\mathsf{I}}}\n",
    "  \\newcommand{\\Pmtrx}{\\boldsymbol{\\mathsf{P}}}\n",
    "  \\newcommand{\\Lmtrx}{\\boldsymbol{\\mathsf{L}}}\n",
    "  \\newcommand{\\Umtrx}{\\boldsymbol{\\mathsf{U}}}\n",
    "  \\newcommand{\\Jmtrx}{\\boldsymbol{\\mathsf{J}}}\n",
    "  \\newcommand{\\Smtrx}{\\boldsymbol{\\mathsf{S}}}\n",
    "  \\newcommand{\\Xmtrx}{\\boldsymbol{\\mathsf{X}}}\n",
    "  \\newcommand{\\Kmtrx}{\\boldsymbol{\\mathsf{K}}}\n",
    "  \\newcommand{\\xvec}{\\boldsymbol{x}}\n",
    "  \\newcommand{\\avec}{\\boldsymbol{\\mathsf{a}}}\n",
    "  \\newcommand{\\bvec}{\\boldsymbol{\\mathsf{b}}}\n",
    "  \\newcommand{\\cvec}{\\boldsymbol{\\mathsf{c}}}\n",
    "  \\newcommand{\\rvec}{\\boldsymbol{\\mathsf{r}}}\n",
    "  \\newcommand{\\mvec}{\\boldsymbol{\\mathsf{m}}}\n",
    "  \\newcommand{\\gvec}{\\boldsymbol{\\mathsf{g}}}\n",
    "  \\newcommand{\\zerovec}{\\boldsymbol{\\mathsf{0}}}\n",
    "  \\newcommand{\\norm}[1]{\\bigl\\lVert{#1}\\bigr\\rVert}\n",
    "  \\newcommand{\\abs}[1]{\\left\\lvert{#1}\\right\\rvert}\n",
    "  \\newcommand{\\transpose}[1]{{#1}^\\top}\n",
    "  \\DeclareMathOperator{\\rank}{rank}\n",
    "  \\DeclareMathOperator{\\gradx}{\\nabla\\!_{\\xvec}}\n",
    "  \\newcommand{\\Kcal}{\\mathcal{K}}\n",
    "  \\newcommand{\\Kcalvec}{\\boldsymbol{\\mathcal{K}}}\n",
    "  \\newcommand{\\epsvec}{\\boldsymbol{\\varepsilon}}\n",
    "$"
   ]
  },
  {
   "cell_type": "markdown",
   "metadata": {},
   "source": [
    "---\n",
    "## Table of Contents\n",
    "* [Introduction](#intro)\n",
    "* [Algorithm](#algo)\n",
    "* [Input Data](#idata)\n",
    "* [Analyze Reaction Mechanism](#analyze)\n",
    "* [Setup Problem](#set)\n",
    "* [Plot Equilibrium Vector Function](#eqfunc)\n",
    "* [Solve for Equilibrium](#solve)\n",
    "* [Plot Equilibrium Point](#eqpt)\n",
    "---"
   ]
  },
  {
   "cell_type": "markdown",
   "metadata": {},
   "source": [
    "## Introduction<a id=\"intro\"></a>\n",
    "Newton's method for computing roots of multiple non-linear equations, $\\Kcal\\bigl(\\xvec(\\widehat{\\epsvec})\\bigr)=0$, is described [here](https://studentuml-my.sharepoint.com/:o:/g/personal/valmor_dealmeida_uml_edu/EmWlQK3zr2xDu2YWkfFCoZYB2dunRc4yHyxu4X5d-owMnA?e=jF7cfF).\n",
    "\n",
    "In this case we write the equilibrium functions as a vector with components\n",
    "\n",
    "\\begin{equation*}\n",
    "\\Kcal_i\\bigl(\\xvec\\bigr)= K_{x,i} - \\prod\\limits_{j=1}^N\\, x_j^{S_{i,j}} = 0,\n",
    "\\end{equation*}\n",
    "\n",
    "where $i$ is the index of the each reaction."
   ]
  },
  {
   "cell_type": "code",
   "execution_count": 1,
   "metadata": {},
   "outputs": [],
   "source": [
    "'''Equilibrium function vector'''\n",
    "\n",
    "def keq_function( x_vec, keq_cte_vec, stoic_mtrx ):\n",
    "    \n",
    "    assert keq_cte_vec.size == stoic_mtrx.shape[0]\n",
    "    assert x_vec.size == stoic_mtrx.shape[1]\n",
    "    \n",
    "    prod_vec = np.ones(keq_cte_vec.size)\n",
    "    \n",
    "    for i in range(keq_cte_vec.size):\n",
    "        for j in range(x_vec.size):\n",
    "            prod_vec[i] *= x_vec[j]**stoic_mtrx[i,j]\n",
    "       \n",
    "    keq_vec = keq_cte_vec - prod_vec\n",
    "    \n",
    "    return keq_vec"
   ]
  },
  {
   "cell_type": "markdown",
   "metadata": {},
   "source": [
    "The molar fractions vector is a function of the normalized extent of reactions vector\n",
    "\n",
    "\\begin{equation*}\n",
    "\\xvec(\\widehat{\\epsvec}) = \\frac{\\xvec^{(0)} + \\Smtrx^\\top\\widehat{\\epsvec}\\,}{1+\\sum\\limits_j (\\Smtrx^\\top\\widehat{\\epsvec})_j} ,\n",
    "\\end{equation*}\n",
    "\n",
    "where $\\xvec^{(0)}$ is the vector of initial molar fractions (or reference)."
   ]
  },
  {
   "cell_type": "code",
   "execution_count": 2,
   "metadata": {},
   "outputs": [],
   "source": [
    "'''Molar fractions function'''\n",
    "\n",
    "def molar_fractions( ext_hat_vec, x_vec_0, stoic_mtrx ):\n",
    "    \n",
    "    #print(stoic_mtrx)\n",
    "    #print(ext_hat_vec)\n",
    "    \n",
    "    assert abs(x_vec_0.sum()-1.0) <= 1e-10\n",
    "    assert abs( 1.0 + (stoic_mtrx.transpose()@ext_hat_vec).sum() ) >= 1e-8\n",
    "    \n",
    "    x_vec = ( x_vec_0 + stoic_mtrx.transpose()@ext_hat_vec ) / \\\n",
    "            ( 1.0 + (stoic_mtrx.transpose()@ext_hat_vec).sum() )\n",
    "    \n",
    "    return x_vec"
   ]
  },
  {
   "cell_type": "markdown",
   "metadata": {},
   "source": [
    "The usage of Newton's method to compute an equilibrium molar fraction solution vector requires the value of \n",
    "$\\Kcalvec\\bigl(\\xvec(\\widehat{\\epsvec})\\bigr)$ at different values of $\\widehat{\\epsvec}$ and the total derivative\n",
    "\n",
    "\\begin{equation*}\n",
    "d_{\\widehat{\\epsvec}} \\Kcalvec\\bigl(\\xvec(\\widehat{\\epsvec})\\bigr) = \n",
    "                       \\gradx\\Kcalvec \\, d_{\\widehat{\\epsvec}}\\xvec ,\n",
    "\\end{equation*}\n",
    "\n",
    "which is matrix product. The molar fraction gradient is computed as a product of three matrices\n",
    "\n",
    "\\begin{equation*}\n",
    " \\gradx\\Kcal = - \\Kmtrx\\,\\Smtrx\\,\\Xmtrx^{-1} ,\n",
    "\\end{equation*}\n",
    "\n",
    "that is,\n",
    "\n",
    "\\begin{equation*}\n",
    " \\Kmtrx = \n",
    "  \\begin{pmatrix}\n",
    "   K_{x,1} & 0       & \\dots  & 0      \\\\\n",
    "   0       & K_{x,2} & \\dots  & 0      \\\\\n",
    "   \\vdots  & \\vdots  & \\ddots & \\vdots \\\\\n",
    "   0       & 0       & \\dots  & K_{x,m}\n",
    "\\end{pmatrix}, \n",
    "\\ \\ \\ \n",
    "\\Smtrx = \n",
    "\\begin{pmatrix}\n",
    "S_{1,1} & S_{1,2} & \\dots  & S_{1,n} \\\\\n",
    "S_{2,1} & S_{2,2} & \\dots  & S_{2,n} \\\\\n",
    "\\vdots  & \\vdots  & \\ddots & \\vdots \\\\\n",
    "S_{m,1} & S_{m,2} & \\dots  & S_{m,n}\n",
    "\\end{pmatrix},\n",
    "\\ \\ \\ \n",
    " \\Xmtrx = \n",
    "  \\begin{pmatrix}\n",
    "   x_1 & 0       & \\dots  & 0      \\\\\n",
    "   0       & x_2 & \\dots  & 0      \\\\\n",
    "   \\vdots  & \\vdots  & \\ddots & \\vdots \\\\\n",
    "   0       & 0       & \\dots  & x_n\n",
    "\\end{pmatrix} .\n",
    "%\n",
    "\\end{equation*}"
   ]
  },
  {
   "cell_type": "code",
   "execution_count": 3,
   "metadata": {},
   "outputs": [],
   "source": [
    "'''Gradient wrt to molar fractions of the equilibrium function'''\n",
    "\n",
    "def grad_x_k_function( x_vec, keq_cte_vec, stoic_mtrx ):\n",
    "    \n",
    "    import numpy as np\n",
    "    \n",
    "    # build the K matrix\n",
    "    k_mtrx = np.diag(keq_cte_vec)\n",
    "    \n",
    "    # correct for division by a very small number\n",
    "    import numpy as np\n",
    "    x_vec_local = np.copy(x_vec)\n",
    "    \n",
    "    max_x = x_vec_local.max()\n",
    "    for i in range(x_vec_local.size):\n",
    "        if x_vec_local[i] < 1e-8:\n",
    "            x_vec_local[i] = max_x # some reasonable mole fraction\n",
    "            \n",
    "    x_vec_inv = 1.0/x_vec_local\n",
    "    x_mtrx = np.diag(x_vec_inv)\n",
    "    \n",
    "    grad_mtrx = - k_mtrx @ stoic_mtrx @ x_mtrx\n",
    "    \n",
    "    return grad_mtrx"
   ]
  },
  {
   "cell_type": "markdown",
   "metadata": {},
   "source": [
    "The molar fraction derivative is\n",
    "\n",
    "\\begin{equation*}\n",
    "d_{\\widehat{\\epsvec}}\\xvec = \\frac{\\Smtrx^\\top}{1+\\sum_j (\\Smtrx^\\top\\widehat{\\epsvec})_j} -\n",
    "                             \\frac{\\bigl(\\xvec^{(0)} + \\Smtrx^\\top\\widehat{\\epsvec}\\bigr)\\otimes\\bigl(\\sum_j\\Smtrx^\\top_{j,\\bullet}\\bigr)}{\\bigl(1+\\sum_j (\\Smtrx^\\top\\widehat{\\epsvec})_j\\bigr)^2}\n",
    "\\end{equation*}"
   ]
  },
  {
   "cell_type": "code",
   "execution_count": 4,
   "metadata": {},
   "outputs": [],
   "source": [
    "'''Derivative of the molar fractions function wrt normalized extent of reaction'''\n",
    "\n",
    "def d_ext_molar_fractions( ext_hat_vec, x_vec_0, stoic_mtrx ):\n",
    "    \n",
    "    denom  = 1.0 + (stoic_mtrx.transpose()@ext_hat_vec).sum()\n",
    "    denom2 = denom**2\n",
    "    \n",
    "    dext_x_vec =  stoic_mtrx.transpose() / denom \\\n",
    "                -  np.outer( x_vec_0 + stoic_mtrx.transpose()@ext_hat_vec, (stoic_mtrx.transpose()).sum(0) ) / \\\n",
    "                   denom2\n",
    "    \n",
    "    return dext_x_vec"
   ]
  },
  {
   "cell_type": "markdown",
   "metadata": {},
   "source": [
    "## Algorithm<a id=\"algo\"></a>\n",
    "\n",
    "Given $\\Kcalvec\\bigl(\\xvec(\\widehat{\\epsvec})\\bigr)$, find the root\n",
    "\n",
    "\\begin{equation*}\n",
    "\\Kcalvec\\bigl(\\xvec(\\widehat{\\epsvec})\\bigr) = 0 ,\n",
    "\\end{equation*}\n",
    "\n",
    "using an iterative method based on the initial guess $\\widehat{\\epsvec}_0$.\n",
    "Compute the updates\n",
    "\n",
    "\\begin{equation*}\n",
    "d_{\\widehat{\\epsvec}} \\Kcalvec\\bigl(\\xvec(\\widehat{\\epsvec})\\bigr) \\, \\delta \\widehat{\\epsilon}_k = - \\Kcalvec\\bigl(\\xvec(\\widehat{\\epsvec}_{k-1})\\bigr) \n",
    "                                     \\ \\qquad \\  \\forall \\ \\qquad \\ k = 1,\\ldots,k_\\text{max} , \n",
    "\\end{equation*}\n",
    "\n",
    "then compute the approximation to the root\n",
    "\n",
    "\\begin{equation*}\n",
    " \\widehat{\\epsvec}_k = \\widehat{\\epsvec}_{k-1} + \\delta \\widehat{\\epsvec}_k \\ \\qquad \\  \\forall \\ \\qquad\\ \\ k = 1,\\ldots,k_\\text{max} ,\n",
    "\\end{equation*}\n",
    "\n",
    "until convergence, say, $\\norm{\\delta\\widehat{\\epsvec}_k} \\le 10^{-8}$ and $\\norm{\\Kcal\\bigl(\\xvec(\\widehat{\\epsvec}_k)\\bigr)} \\le 10^{-8}$, or no convergence achieved , say $k>k_\\text{max}$. "
   ]
  },
  {
   "cell_type": "code",
   "execution_count": 5,
   "metadata": {},
   "outputs": [],
   "source": [
    "\"\"\"Newton's method\"\"\"\n",
    "\n",
    "def newton_solve( x_vec_0, keq_cte_vec, stoic_mtrx,\n",
    "                  ext_hat_vec_0=None, k_max=30, tolerance=1.0e-10, verbose=True ):\n",
    "\n",
    "    import numpy as np\n",
    "    if ext_hat_vec_0 is None:\n",
    "        ext_hat_vec_0 = np.zeros(keq_cte_vec.size)\n",
    "    \n",
    "    # Other initialization\n",
    "    delta_vec_k = 1e+10 * np.ones(ext_hat_vec_0.size)\n",
    "    keq_vec_k   = 1e+10 * np.ones(ext_hat_vec_0.size)     # equilibrium function initial value\n",
    "    ext_hat_vec = np.copy(ext_hat_vec_0)\n",
    "\n",
    "    if verbose is True:\n",
    "        print('\\n')\n",
    "        print('******************************************************')\n",
    "        print(\"          Newton's Method Iterations                  \")\n",
    "        print('******************************************************')\n",
    "        print(\"k |  K(e_k)  |  K'(e_k) | |del e_k| |    e_k   |convg|\")\n",
    "        print('------------------------------------------------------')\n",
    "\n",
    "    import math\n",
    "    k = 0\n",
    "    \n",
    "    while (np.linalg.norm(delta_vec_k) > tolerance or np.linalg.norm(keq_vec_k) > tolerance) and k <= k_max:\n",
    "        \n",
    "        # compute the molar fractions\n",
    "        x_vec = molar_fractions( ext_hat_vec, x_vec_0, stoic_mtrx ) \n",
    "        \n",
    "        # compute the equilibrium function\n",
    "        keq_vec_k = keq_function( x_vec, keq_cte_vec, stoic_mtrx )\n",
    "        \n",
    "        # copute the molar fraction gradient of the equilibrium function\n",
    "        grad_x_k = grad_x_k_function( x_vec, keq_cte_vec, stoic_mtrx )\n",
    "        \n",
    "        \n",
    "        # compute the extent of reaction derivative of the molar fraction\n",
    "        d_ext_x = d_ext_molar_fractions( ext_hat_vec, x_vec_0, stoic_mtrx )\n",
    "        \n",
    "        # form the total derivative of the equilibrium function wrt the extent of reaction\n",
    "        d_ext_keq_k = grad_x_k @ d_ext_x # Jacobian matrix\n",
    "        \n",
    "        # compute the Newton update    \n",
    "        delta_vec_k_old = delta_vec_k\n",
    "        a_mtrx = d_ext_keq_k\n",
    "        b_vec  = - keq_vec_k\n",
    "        \n",
    "        delta_vec_k = np.linalg.solve(a_mtrx, b_vec)\n",
    "        \n",
    "        # compute the update to the root candidate\n",
    "        ext_hat_vec += delta_vec_k\n",
    "        \n",
    "        if k > 0:\n",
    "            if np.linalg.norm(delta_vec_k) != 0.0 and np.linalg.norm(delta_vec_k_old) != 0.0:\n",
    "                convergence_factor = math.log(np.linalg.norm(delta_vec_k),10) / math.log(np.linalg.norm(delta_vec_k_old),10)\n",
    "            else:\n",
    "                convergence_factor = 0.0  \n",
    "        else:\n",
    "            convergence_factor = 0.0\n",
    "            \n",
    "        k = k + 1\n",
    "        \n",
    "        if verbose is True:\n",
    "            print('%2i %+5.3e %+5.3e %+5.3e  %+5.3e %5.2f'%\\\n",
    "                  (k,np.linalg.norm(keq_vec_k),np.linalg.norm(d_ext_keq_k),np.linalg.norm(delta_vec_k),np.linalg.norm(ext_hat_vec),convergence_factor))\n",
    "\n",
    "    if verbose is True:\n",
    "        print('******************************************************') \n",
    "        print('Root = ',ext_hat_vec)\n",
    "    \n",
    "    return ext_hat_vec"
   ]
  },
  {
   "cell_type": "markdown",
   "metadata": {},
   "source": [
    "## Input Data<a id=\"idata\"></a>\n",
    "\n",
    "Using the ammonia oxidation reaction mechanism from the input file: `data/ammonia-rxn.txt` "
   ]
  },
  {
   "cell_type": "code",
   "execution_count": 6,
   "metadata": {},
   "outputs": [
    {
     "name": "stdout",
     "output_type": "stream",
     "text": [
      "#\r\n",
      "# Ammonia oxidation mechanism\r\n",
      "#\r\n",
      "4 NH3 + 5 O2 <=> 4 NO + 6 H2O        : K_x = 2.5e+02\r\n",
      "4 NH3 + 3 O2 <=> 2 N2 + 6 H2O        : K_x = 1.8e+02\r\n",
      "4 NH3 + 6 NO <=> 5 N2 + 6 H2O        : K_x = 1.099692e+02\r\n",
      "2 NO + 1 O2 <=> 2 NO2                : K_x = 1e+02\r\n",
      "2 NO <=> 1 N2 + 1 O2                 : K_x = 8.485281e-01\r\n",
      "1 N2 + 2 O2 <=> 2 NO2                : K_x = 1.178511e+02\r\n",
      "4 NH3 + 4 NO + 1 O2 <=> 4 N2 + 6 H2O : K_x = 1.296e+02\r\n"
     ]
    }
   ],
   "source": [
    "!cat data/ammonia-rxn.txt"
   ]
  },
  {
   "cell_type": "code",
   "execution_count": 7,
   "metadata": {},
   "outputs": [],
   "source": [
    "'''Import the ammonia reaction mechanism'''\n",
    "\n",
    "try:    \n",
    "    from chen_3170.toolkit import reaction_mechanism   \n",
    "except ModuleNotFoundError:\n",
    "    assert False, 'You need to provide your own reaction_mechanism function here. Bailing out.'\n",
    "    \n",
    "# read species, reactions, equilibrium constants and build the stoichiometric matrix\n",
    "(species, reactions, keq_cte, stoic_mtrx) = reaction_mechanism('data/ammonia-rxn.txt')"
   ]
  },
  {
   "cell_type": "code",
   "execution_count": 8,
   "metadata": {},
   "outputs": [
    {
     "name": "stdout",
     "output_type": "stream",
     "text": [
      "species= ['N2', 'NH3', 'O2', 'H2O', 'NO', 'NO2']\n",
      "\n",
      "r0 :  4 NH3 + 5 O2 <=> 4 NO + 6 H2O\n",
      "r1 :  4 NH3 + 3 O2 <=> 2 N2 + 6 H2O\n",
      "r2 :  4 NH3 + 6 NO <=> 5 N2 + 6 H2O\n",
      "r3 :  2 NO + 1 O2 <=> 2 NO2\n",
      "r4 :  2 NO <=> 1 N2 + 1 O2\n",
      "r5 :  1 N2 + 2 O2 <=> 2 NO2\n",
      "r6 :  4 NH3 + 4 NO + 1 O2 <=> 4 N2 + 6 H2O\n",
      "n_reactions = 7\n",
      "\n",
      "K_x eq =  [250.0, 180.0, 109.9692, 100.0, 0.8485281, 117.8511, 129.6]\n",
      "\n",
      "matrix shape = (7, 6)\n"
     ]
    },
    {
     "data": {
      "text/plain": [
       "<Figure size 2000x400 with 1 Axes>"
      ]
     },
     "metadata": {},
     "output_type": "display_data"
    },
    {
     "name": "stdout",
     "output_type": "stream",
     "text": [
      "\n",
      "stoic_mtrx=\n",
      " [[ 0. -4. -5.  6.  4.  0.]\n",
      " [ 2. -4. -3.  6.  0.  0.]\n",
      " [ 5. -4.  0.  6. -6.  0.]\n",
      " [ 0.  0. -1.  0. -2.  2.]\n",
      " [ 1.  0.  1.  0. -2.  0.]\n",
      " [-1.  0. -2.  0.  0.  2.]\n",
      " [ 4. -4. -1.  6. -4.  0.]]\n"
     ]
    }
   ],
   "source": [
    "'''Info on the data'''\n",
    "\n",
    "print('species=',species)\n",
    "from chen_3170.help import print_reactions\n",
    "print('')\n",
    "print_reactions(reactions) \n",
    "print('')\n",
    "print('K_x eq = ',keq_cte)\n",
    "print('')\n",
    "from chen_3170.help import plot_matrix\n",
    "plot_matrix(stoic_mtrx, title='Stoichiometric Matrix')\n",
    "print('')\n",
    "import numpy as np\n",
    "np.set_printoptions(precision=3,threshold=100,edgeitems=5)\n",
    "print('stoic_mtrx=\\n',stoic_mtrx)"
   ]
  },
  {
   "cell_type": "markdown",
   "metadata": {},
   "source": [
    "The following reference molar fraction $\\xvec^{(0)}$ is given:\n",
    "\n",
    "Name                         | Parameter    | Value |\n",
    "-----------------------------|--------------|-------|\n",
    "initial molar fraction of NO  | $x_{NO}$     | 0.1   |\n",
    "initial molar fraction of N2  | $x_{N2}$     | 0.1   |\n",
    "initial molar fraction of NO2 | $x_{NO2}$    | 0.0   |\n",
    "initial molar fraction of O2  | $x_{O2}$     | 0.3   |\n",
    "initial molar fraction of H2O | $x_{H2O}$    | 0.0   |\n",
    "initial molar fraction of NH3 | $x_{NH3}$    | 0.5   |"
   ]
  },
  {
   "cell_type": "code",
   "execution_count": 9,
   "metadata": {},
   "outputs": [],
   "source": [
    "'''Set reference molar fraction'''\n",
    "\n",
    "import numpy as np\n",
    "x_dict_0 = {'NO':0.1,'N2':0.1,'NO2':0.0,'O2':0.3,'H2O':0.0,'NH3':0.5}"
   ]
  },
  {
   "cell_type": "markdown",
   "metadata": {},
   "source": [
    "## Analyze Reaction Mechanism<a id=\"analyze\"></a>"
   ]
  },
  {
   "cell_type": "code",
   "execution_count": 10,
   "metadata": {},
   "outputs": [
    {
     "name": "stdout",
     "output_type": "stream",
     "text": [
      "stoic_mtrx m x n = (7, 6)\n",
      "stoic_mtrx rank = 3\n"
     ]
    }
   ],
   "source": [
    "'''Check the rank of the stoichiometric matrix'''\n",
    "\n",
    "try:    \n",
    "    from chen_3170.toolkit import matrix_rank    \n",
    "except ModuleNotFoundError:\n",
    "    assert False, 'You need to provide your own matrix_rank function here. Bailing out.'\n",
    "\n",
    "rank = matrix_rank( stoic_mtrx )\n",
    "print('stoic_mtrx m x n =',stoic_mtrx.shape)\n",
    "print('stoic_mtrx rank =',rank)"
   ]
  },
  {
   "cell_type": "code",
   "execution_count": 11,
   "metadata": {},
   "outputs": [
    {
     "name": "stdout",
     "output_type": "stream",
     "text": [
      "# reactions =  7\n",
      "# species   =  6\n",
      "rank of S =  3\n",
      "# of all possible sub_mechanisms = 35\n",
      "# of full-rank sub_mechanisms = 24\n"
     ]
    }
   ],
   "source": [
    "'''Build the full-rank sub-mechanism reactions list'''\n",
    "\n",
    "try:    \n",
    "    from chen_3170.toolkit import sub_mechanisms    \n",
    "except ModuleNotFoundError:\n",
    "    assert False, 'You need to provide your own sub_mechanisms function here. Bailing out.'\n",
    "\n",
    "sub_mechanisms = sub_mechanisms( species, reactions, keq_cte, stoic_mtrx )"
   ]
  },
  {
   "cell_type": "code",
   "execution_count": 12,
   "metadata": {},
   "outputs": [
    {
     "data": {
      "image/png": "[encoded data removed]",
      "text/plain": [
       "<Figure size 1440x432 with 1 Axes>"
      ]
     },
     "metadata": {},
     "output_type": "display_data"
    }
   ],
   "source": [
    "try:    \n",
    "    from chen_3170.toolkit import plot_reaction_mechanisms    \n",
    "except ModuleNotFoundError:\n",
    "    assert False, 'You need to provide your own plot_reaction_mechanisms function here. Bailing out.'\n",
    "    \n",
    "plot_reaction_mechanisms( sub_mechanisms )"
   ]
  },
  {
   "cell_type": "code",
   "execution_count": 13,
   "metadata": {},
   "outputs": [
    {
     "name": "stdout",
     "output_type": "stream",
     "text": [
      "(0, 3, 5)\n",
      "['4 NH3 + 5 O2 <=> 4 NO + 6 H2O', '2 NO + 1 O2 <=> 2 NO2', '1 N2 + 2 O2 <=> 2 NO2']\n",
      "[250.0, 100.0, 117.8511]\n",
      "[[ 0. -4. -5.  6.  4.  0.]\n",
      " [ 0.  0. -1.  0. -2.  2.]\n",
      " [-1.  0. -2.  0.  0.  2.]]\n",
      "10.0\n"
     ]
    }
   ],
   "source": [
    "'''Select the first sub-mechanim'''\n",
    "\n",
    "sub_mechanism_1 = sub_mechanisms[0]\n",
    "\n",
    "for i in sub_mechanism_1:\n",
    "    print(i)"
   ]
  },
  {
   "cell_type": "markdown",
   "metadata": {},
   "source": [
    "## Setup Problem<a id=\"set\"></a>\n",
    "\n",
    "Setup the first sub-mechanism. "
   ]
  },
  {
   "cell_type": "code",
   "execution_count": 14,
   "metadata": {},
   "outputs": [],
   "source": [
    "'''Setup first sub-mechanism'''\n",
    "    \n",
    "stoic_mtrx    = sub_mechanism_1[3]\n",
    "keq_cte_vec   = np.array(sub_mechanism_1[2])\n",
    "reactions     = sub_mechanism_1[1]\n",
    "reaction_ids  = sub_mechanism_1[0]\n",
    "\n",
    "x_vec_0 = np.zeros(len(species))\n",
    "for i in range(len(species)):\n",
    "    x_vec_0[i] = x_dict_0[species[i]]\n",
    "    \n",
    "assert abs(np.sum(x_vec_0) - 1.0) <= 1e-12\n",
    "assert np.all(x_vec_0 >=0.0)"
   ]
  },
  {
   "cell_type": "markdown",
   "metadata": {},
   "source": [
    "## Plot Equilibrium Vector Function<a id=\"eqfunc\"></a>\n",
    "\n",
    "Plot equilibrium vector function for the first sub-mechanism. "
   ]
  },
  {
   "cell_type": "code",
   "execution_count": 15,
   "metadata": {},
   "outputs": [],
   "source": [
    "'''Function: plot equilibrium function'''\n",
    "\n",
    "def plot_keq_function( ext_hat_vec_min, ext_hat_vec_max, num_pts,\n",
    "                       x_vec_0, keq_cte_vec, stoic_mtrx,\n",
    "                       ext_hat_vec_root=None  ):\n",
    "    \n",
    "    import matplotlib.pyplot as plt\n",
    "    plt.figure(1, figsize=(8, 6))\n",
    "    \n",
    "    # number of functions to be plotted\n",
    "    num_keq_functions = keq_cte_vec.size\n",
    "    \n",
    "    import numpy as np\n",
    "    \n",
    "    # allocate a matrix for all ext_hat_vec plot points (min to max)\n",
    "    ext_hat_plot_pts = np.zeros((n_pts,num_keq_functions))\n",
    "    \n",
    "    # create all plot points for ext_hat_vec\n",
    "    for i in range(num_keq_functions):\n",
    "        ext_hat_plot_pts[:,i] = np.linspace(ext_hat_vec_min[i], ext_hat_vec_max[i], num_pts)\n",
    "    \n",
    "    # allocate a matrix for all keq_function_vec plot points\n",
    "    keq_function_plot_values = np.zeros((num_pts,num_keq_functions))\n",
    "    \n",
    "    # create all plot points for keq_function\n",
    "    for i in range(num_keq_functions):\n",
    "    \n",
    "        for k in range(num_pts):\n",
    "            x_vec = molar_fractions( ext_hat_plot_pts[k,:], x_vec_0, stoic_mtrx ) \n",
    "            keq_function_plot_values[k,:] = keq_function( x_vec, keq_cte_vec, stoic_mtrx )\n",
    "    \n",
    "    # Plot all keq_function_vec\n",
    "    \n",
    "    # create colors for each equilibrium function\n",
    "    color_ids = np.linspace(0,1,num_keq_functions)\n",
    "    \n",
    "    for (i,color_id) in zip(range(n_keq_functions),color_ids):\n",
    "        #color = plt.cm.nipy_spectral(color_id)\n",
    "        color = plt.cm.cool(color_id)\n",
    "        plt.plot(ext_hat_plot_pts[:,i], keq_function_plot_values[:,i],color=color,label='$K_{%i}$'%i)\n",
    "    \n",
    "    plt.xlabel(r'$\\hat{\\varepsilon}$',fontsize=18)\n",
    "    plt.ylabel(r'$K(\\hat{\\varepsilon})$',fontsize=18)\n",
    "    plt.title('Ammonia Oxidation',fontsize=20)\n",
    "    plt.legend(loc='best',fontsize=12)\n",
    "    plt.xticks(fontsize=16)\n",
    "    plt.yticks(fontsize=16)\n",
    "    \n",
    "    (x_min,x_max) = plt.xlim()\n",
    "    dx = abs(x_max-x_min)\n",
    "    x_text = (x_max+x_min)/2\n",
    "    \n",
    "    (y_min,y_max) = plt.ylim()\n",
    "    dy = abs(y_max-y_min)\n",
    "    y_text = y_max - dy*0.07\n",
    "    \n",
    "    for x,spc in zip(x_vec_0,species):\n",
    "        plt.text(x_text, y_text, r'$x_{%s}^{(0)}=$%8.2e'%(spc,x),fontsize=16)\n",
    "        y_text -= dy*0.07\n",
    "    \n",
    "    y_text -= dy*0.06\n",
    "    \n",
    "    for (keq,rxn_id) in zip(keq_cte_vec,reaction_ids):\n",
    "        plt.text(x_text, y_text, r'$K_{x,%i}=$%8.2e'%(rxn_id,keq),fontsize=16)\n",
    "        y_text -= dy*0.06\n",
    "    \n",
    "    if ext_hat_vec_root is not None:\n",
    "        \n",
    "        for e in ext_hat_vec_root:\n",
    "            plt.plot(e, 0.0,'r*',label='root',markersize=14)\n",
    "               \n",
    "            (x_min,x_max) = plt.xlim()\n",
    "            dx = abs(x_max-x_min)\n",
    "            x_text = e + dx*0.01\n",
    "    \n",
    "            (y_min,y_max) = plt.ylim()\n",
    "            dy = abs(y_max-y_min)\n",
    "            y_text = 0.0 + dy*0.01\n",
    "    \n",
    "            plt.text(x_text, y_text, r'$\\hat{\\varepsilon}^*=$%8.2e'%e,fontsize=16)\n",
    "       \n",
    "    plt.grid(True)\n",
    "    plt.show()\n",
    "    print('')\n",
    "    \n",
    "    return"
   ]
  },
  {
   "cell_type": "code",
   "execution_count": 16,
   "metadata": {},
   "outputs": [
    {
     "data": {
      "image/png": "[encoded data removed]",
      "text/plain": [
       "<Figure size 576x432 with 1 Axes>"
      ]
     },
     "metadata": {},
     "output_type": "display_data"
    },
    {
     "name": "stdout",
     "output_type": "stream",
     "text": [
      "\n"
     ]
    }
   ],
   "source": [
    "'''Plot equilibrium vector function'''\n",
    "\n",
    "import numpy as np\n",
    "n_keq_functions = keq_cte_vec.size\n",
    "ext_hat_vec_min = np.zeros(n_keq_functions)\n",
    "ext_hat_vec_max = 0.035*np.ones(n_keq_functions)\n",
    "#ext_hat_vec_max[0] = 0.034\n",
    "#ext_hat_vec_max[1] = 0.046\n",
    "#ext_hat_vec_max[2] = 0.036\n",
    "n_pts = 100\n",
    "plot_keq_function( ext_hat_vec_min, ext_hat_vec_max, n_pts, \n",
    "                   x_vec_0, keq_cte_vec, stoic_mtrx )"
   ]
  },
  {
   "cell_type": "markdown",
   "metadata": {},
   "source": [
    "## Solve for Equilibrium<a id=\"solve\"></a>\n",
    "\n",
    "Solve for equilibrium for the first sub-mechanism. "
   ]
  },
  {
   "cell_type": "code",
   "execution_count": 17,
   "metadata": {},
   "outputs": [
    {
     "name": "stdout",
     "output_type": "stream",
     "text": [
      "\n",
      "\n",
      "******************************************************\n",
      "          Newton's Method Iterations                  \n",
      "******************************************************\n",
      "k |  K(e_k)  |  K'(e_k) | |del e_k| |    e_k   |convg|\n",
      "------------------------------------------------------\n",
      " 1 +2.939e+02 +1.584e+06 +7.332e-04  +2.414e-03  0.00\n",
      " 2 +2.939e+02 +1.367e+06 +1.050e-03  +3.426e-03  0.95\n",
      " 3 +2.939e+02 +1.183e+06 +1.523e-03  +4.910e-03  0.95\n",
      " 4 +2.939e+02 +1.028e+06 +2.209e-03  +7.072e-03  0.94\n",
      " 5 +2.939e+02 +8.969e+05 +3.171e-03  +1.019e-02  0.94\n",
      " 6 +2.938e+02 +7.861e+05 +4.465e-03  +1.459e-02  0.94\n",
      " 7 +2.936e+02 +6.932e+05 +6.096e-03  +2.062e-02  0.94\n",
      " 8 +2.930e+02 +6.166e+05 +7.968e-03  +2.851e-02  0.95\n",
      " 9 +2.918e+02 +5.551e+05 +9.810e-03  +3.824e-02  0.96\n",
      "10 +2.889e+02 +5.084e+05 +1.115e-02  +4.926e-02  0.97\n",
      "11 +2.825e+02 +4.766e+05 +1.138e-02  +6.039e-02  1.00\n",
      "12 +2.710e+02 +4.594e+05 +9.983e-03  +6.978e-02  1.03\n",
      "13 +2.577e+02 +4.524e+05 +6.360e-03  +7.533e-02  1.10\n",
      "14 +2.507e+02 +4.414e+05 +1.375e-03  +7.657e-02  1.30\n",
      "15 +2.500e+02 +4.141e+05 +1.696e-03  +7.605e-02  0.97\n",
      "16 +2.500e+02 +3.823e+05 +2.154e-03  +7.535e-02  0.96\n",
      "17 +2.500e+02 +3.546e+05 +2.432e-03  +7.459e-02  0.98\n",
      "18 +2.500e+02 +3.309e+05 +2.732e-03  +7.380e-02  0.98\n",
      "19 +2.500e+02 +3.108e+05 +3.062e-03  +7.298e-02  0.98\n",
      "20 +2.500e+02 +2.938e+05 +3.422e-03  +7.217e-02  0.98\n",
      "21 +2.500e+02 +2.796e+05 +3.814e-03  +7.141e-02  0.98\n",
      "22 +2.500e+02 +2.678e+05 +4.241e-03  +7.075e-02  0.98\n",
      "23 +2.500e+02 +2.581e+05 +4.702e-03  +7.025e-02  0.98\n",
      "24 +2.500e+02 +2.505e+05 +5.199e-03  +7.001e-02  0.98\n",
      "25 +2.500e+02 +2.446e+05 +5.731e-03  +7.013e-02  0.98\n",
      "26 +2.500e+02 +2.404e+05 +6.299e-03  +7.075e-02  0.98\n",
      "27 +2.500e+02 +2.379e+05 +6.901e-03  +7.200e-02  0.98\n",
      "28 +2.500e+02 +2.369e+05 +7.533e-03  +7.402e-02  0.98\n",
      "29 +2.500e+02 +2.374e+05 +8.194e-03  +7.696e-02  0.98\n",
      "30 +2.499e+02 +2.395e+05 +8.876e-03  +8.091e-02  0.98\n",
      "31 +2.498e+02 +2.431e+05 +9.571e-03  +8.596e-02  0.98\n",
      "32 +2.496e+02 +2.484e+05 +1.027e-02  +9.215e-02  0.98\n",
      "33 +2.489e+02 +2.554e+05 +1.094e-02  +9.946e-02  0.99\n",
      "34 +2.469e+02 +2.643e+05 +1.154e-02  +1.078e-01  0.99\n",
      "35 +2.418e+02 +2.752e+05 +1.194e-02  +1.170e-01  0.99\n",
      "36 +2.284e+02 +2.880e+05 +1.185e-02  +1.266e-01  1.00\n",
      "37 +1.959e+02 +3.023e+05 +1.059e-02  +1.355e-01  1.03\n",
      "38 +1.310e+02 +3.164e+05 +7.320e-03  +1.417e-01  1.08\n",
      "39 +4.845e+01 +3.269e+05 +2.775e-03  +1.441e-01  1.20\n",
      "40 +5.245e+00 +3.310e+05 +3.051e-04  +1.444e-01  1.37\n",
      "41 +5.456e-02 +3.314e+05 +3.193e-06  +1.444e-01  1.56\n",
      "42 +5.821e-06 +3.314e+05 +3.409e-10  +1.444e-01  1.72\n",
      "43 +9.665e-13 +3.314e+05 +1.169e-17  +1.444e-01  1.79\n",
      "******************************************************\n",
      "Root =  [ 0.054  0.121 -0.059]\n",
      "\n",
      "Equilibrium mole fractions:\n",
      "\n",
      "x_N2 = 1.599e-01\n",
      "\n",
      "x_NH3 = 2.881e-01\n",
      "\n",
      "x_O2 = 2.883e-02\n",
      "\n",
      "x_H2O = 3.243e-01\n",
      "\n",
      "x_NO = 7.372e-02\n",
      "\n",
      "x_NO2 = 1.252e-01\n",
      "\n"
     ]
    }
   ],
   "source": [
    "'''Find root and equilibrium molar fractions'''\n",
    "\n",
    "ext_hat_vec_0 = 1e-3 * np.ones(len(reactions))\n",
    "k_max = 50\n",
    "tolerance = 1.0e-8\n",
    "\n",
    "ext_hat_vec = newton_solve( x_vec_0, keq_cte_vec, stoic_mtrx,\n",
    "                            ext_hat_vec_0, k_max, tolerance )\n",
    "\n",
    "x_vec = molar_fractions( ext_hat_vec, x_vec_0, stoic_mtrx )\n",
    "\n",
    "\n",
    "print('')\n",
    "print('Equilibrium mole fractions:\\n')\n",
    "for (x,spc) in zip(x_vec,species):\n",
    "    print('x_%s = %5.3e\\n'%(spc,x))\n",
    "    \n",
    "assert np.all(x_vec >= 0.0)\n",
    "assert abs(x_vec.sum() - 1.0) <= 1e-10"
   ]
  },
  {
   "cell_type": "markdown",
   "metadata": {},
   "source": [
    "## Plot Equilibrium Point<a id=\"eqpt\"></a> "
   ]
  },
  {
   "cell_type": "code",
   "execution_count": 18,
   "metadata": {},
   "outputs": [
    {
     "data": {
      "image/png": "[encoded data removed]",
      "text/plain": [
       "<Figure size 576x432 with 1 Axes>"
      ]
     },
     "metadata": {},
     "output_type": "display_data"
    },
    {
     "name": "stdout",
     "output_type": "stream",
     "text": [
      "\n"
     ]
    }
   ],
   "source": [
    "'''Plot equilibrium vector function'''\n",
    "\n",
    "import numpy as np\n",
    "n_keq_functions = keq_cte_vec.size\n",
    "ext_hat_vec_min = np.zeros(n_keq_functions)\n",
    "ext_hat_vec_max = ext_hat_vec\n",
    "n_pts = 100\n",
    "plot_keq_function( ext_hat_vec_min, ext_hat_vec_max, n_pts, \n",
    "                   x_vec_0, keq_cte_vec, stoic_mtrx, ext_hat_vec )"
   ]
  },
  {
   "cell_type": "code",
   "execution_count": null,
   "metadata": {},
   "outputs": [],
   "source": []
  },
  {
   "cell_type": "code",
   "execution_count": null,
   "metadata": {},
   "outputs": [],
   "source": []
  }
 ],
 "metadata": {
  "kernelspec": {
   "display_name": "Python 3",
   "language": "python",
   "name": "python3"
  },
  "language_info": {
   "codemirror_mode": {
    "name": "ipython",
    "version": 3
   },
   "file_extension": ".py",
   "mimetype": "text/x-python",
   "name": "python",
   "nbconvert_exporter": "python",
   "pygments_lexer": "ipython3",
   "version": "3.6.5"
  },
  "latex_envs": {
   "LaTeX_envs_menu_present": true,
   "autoclose": false,
   "autocomplete": true,
   "bibliofile": "biblio.bib",
   "cite_by": "apalike",
   "current_citInitial": 1,
   "eqLabelWithNumbers": true,
   "eqNumInitial": 1,
   "hotkeys": {
    "equation": "Ctrl-E",
    "itemize": "Ctrl-I"
   },
   "labels_anchors": false,
   "latex_user_defs": false,
   "report_style_numbering": false,
   "user_envs_cfg": false
  }
 },
 "nbformat": 4,
 "nbformat_minor": 2
}
