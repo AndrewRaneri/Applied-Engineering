{
 "cells": [
  {
   "cell_type": "markdown",
   "metadata": {},
   "source": [
    "ChEn-3170: Computational Methods in Chemical Engineering Fall 2018 UMass Lowell; Prof. V. F. de Almeida **03Dec2018**\n",
    "\n",
    "# 15. Multiple Reactions at Equilibrium\n",
    "$  \n",
    "  \\newcommand{\\Amtrx}{\\boldsymbol{\\mathsf{A}}}\n",
    "  \\newcommand{\\Bmtrx}{\\boldsymbol{\\mathsf{B}}}\n",
    "  \\newcommand{\\Mmtrx}{\\boldsymbol{\\mathsf{M}}}\n",
    "  \\newcommand{\\Imtrx}{\\boldsymbol{\\mathsf{I}}}\n",
    "  \\newcommand{\\Pmtrx}{\\boldsymbol{\\mathsf{P}}}\n",
    "  \\newcommand{\\Lmtrx}{\\boldsymbol{\\mathsf{L}}}\n",
    "  \\newcommand{\\Umtrx}{\\boldsymbol{\\mathsf{U}}}\n",
    "  \\newcommand{\\Smtrx}{\\boldsymbol{\\mathsf{S}}}\n",
    "  \\newcommand{\\xvec}{\\boldsymbol{x}}\n",
    "  \\newcommand{\\avec}{\\boldsymbol{\\mathsf{a}}}\n",
    "  \\newcommand{\\bvec}{\\boldsymbol{\\mathsf{b}}}\n",
    "  \\newcommand{\\cvec}{\\boldsymbol{\\mathsf{c}}}\n",
    "  \\newcommand{\\rvec}{\\boldsymbol{\\mathsf{r}}}\n",
    "  \\newcommand{\\mvec}{\\boldsymbol{\\mathsf{m}}}\n",
    "  \\newcommand{\\gvec}{\\boldsymbol{\\mathsf{g}}}\n",
    "  \\newcommand{\\zerovec}{\\boldsymbol{\\mathsf{0}}}\n",
    "  \\newcommand{\\norm}[1]{\\bigl\\lVert{#1}\\bigr\\rVert}\n",
    "  \\newcommand{\\abs}[1]{\\left\\lvert{#1}\\right\\rvert}\n",
    "  \\newcommand{\\transpose}[1]{{#1}^\\top}\n",
    "  \\DeclareMathOperator{\\rank}{rank}\n",
    "  \\DeclareMathOperator{\\gradx}{\\nabla\\!_{\\xvec}}\n",
    "  \\newcommand{\\Kcal}{\\mathcal{K}}\n",
    "  \\newcommand{\\epsvec}{\\boldsymbol{\\varepsilon}}\n",
    "$"
   ]
  },
  {
   "cell_type": "markdown",
   "metadata": {},
   "source": [
    "---\n",
    "## Table of Contents\n",
    "* [Introduction](#intro)\n",
    "* [Algorithm](#algo)\n",
    "---"
   ]
  },
  {
   "cell_type": "markdown",
   "metadata": {},
   "source": [
    "## Introduction<a id=\"intro\"></a>\n",
    "Newton's method for computing roots of multiple non-linear equations, $\\Kcal\\bigl(\\xvec(\\widehat{\\epsvec})\\bigr)=0$, is described [here](https://studentuml-my.sharepoint.com/:o:/g/personal/valmor_dealmeida_uml_edu/EmWlQK3zr2xDu2YWkfFCoZYB2dunRc4yHyxu4X5d-owMnA?e=jF7cfF).\n"
   ]
  },
  {
   "cell_type": "markdown",
   "metadata": {},
   "source": [
    "## Algorithm<a id=\"algo\"></a>\n",
    "\n",
    "Given $\\Kcal\\bigl(\\xvec(\\widehat{\\epsvec})\\bigr)$, find the root\n",
    "\n",
    "\\begin{equation*}\n",
    "\\Kcal\\bigl(\\xvec(\\widehat{\\epsvec})\\bigr) = 0 ,\n",
    "\\end{equation*}\n",
    "\n",
    "using an iterative method based on the initial guess $\\widehat{\\epsvec}_0$.\n"
   ]
  },
  {
   "cell_type": "markdown",
   "metadata": {},
   "source": [
    "## Data<a id=\"data\"></a>\n",
    "Newton's method for computing roots of multiple non-linear equations, $\\Kcal\\bigl(\\xvec(\\widehat{\\epsvec})\\bigr)=0$, is described [here](https://studentuml-my.sharepoint.com/:o:/g/personal/valmor_dealmeida_uml_edu/EmWlQK3zr2xDu2YWkfFCoZYB2dunRc4yHyxu4X5d-owMnA?e=jF7cfF).\n"
   ]
  },
  {
   "cell_type": "code",
   "execution_count": 1,
   "metadata": {},
   "outputs": [],
   "source": [
    "'''Import the ammonia reaction mechanism'''\n",
    "\n",
    "try:    \n",
    "    from chen_3170.toolkit import reaction_mechanism   \n",
    "except ModuleNotFoundError:\n",
    "    assert False, 'You need to provide your own reaction_mechanism function here. Bailing out.'\n",
    "    \n",
    "# read species, reactions, equilibrium constants and build the stoichiometric matrix\n",
    "(species, reactions, keq_cte, stoic_mtrx) = reaction_mechanism('data/ammonia-rxn.txt')"
   ]
  },
  {
   "cell_type": "code",
   "execution_count": 2,
   "metadata": {},
   "outputs": [
    {
     "name": "stdout",
     "output_type": "stream",
     "text": [
      "species= ['H2O', 'O2', 'NO', 'NH3', 'NO2', 'N2']\n",
      "\n",
      "r0 :  4 NH3 + 5 O2 <=> 4 NO + 6 H2O\n",
      "r1 :  4 NH3 + 3 O2 <=> 2 N2 + 6 H2O\n",
      "r2 :  4 NH3 + 6 NO <=> 5 N2 + 6 H2O\n",
      "r3 :  2 NO + 1 O2 <=> 2 NO2\n",
      "r4 :  2 NO <=> 1 N2 + 1 O2\n",
      "r5 :  1 N2 + 2 O2 <=> 2 NO2\n",
      "r6 :  4 NH3 + 4 NO + 1 O2 <=> 4 N2 + 6 H2O\n",
      "n_reactions = 7\n",
      "\n",
      "K_x eq =  [250.0, 180.0, 109.9692, 100.0, 0.8485281, 117.8511, 129.6]\n",
      "\n",
      "matrix shape = (7, 6)\n"
     ]
    },
    {
     "data": {
      "text/plain": [
       "<Figure size 2000x400 with 1 Axes>"
      ]
     },
     "metadata": {},
     "output_type": "display_data"
    },
    {
     "name": "stdout",
     "output_type": "stream",
     "text": [
      "\n",
      "stoic_mtrx=\n",
      " [[ 6. -5.  4. -4.  0.  0.]\n",
      " [ 6. -3.  0. -4.  0.  2.]\n",
      " [ 6.  0. -6. -4.  0.  5.]\n",
      " [ 0. -1. -2.  0.  2.  0.]\n",
      " [ 0.  1. -2.  0.  0.  1.]\n",
      " [ 0. -2.  0.  0.  2. -1.]\n",
      " [ 6. -1. -4. -4.  0.  4.]]\n"
     ]
    }
   ],
   "source": [
    "'''Sanity check on the data'''\n",
    "\n",
    "print('species=',species)\n",
    "from chen_3170.help import print_reactions\n",
    "print('')\n",
    "print_reactions(reactions) \n",
    "print('')\n",
    "print('K_x eq = ',keq_cte)\n",
    "print('')\n",
    "from chen_3170.help import plot_matrix\n",
    "plot_matrix(stoic_mtrx, title='Stoichiometric Matrix')\n",
    "print('')\n",
    "import numpy as np\n",
    "np.set_printoptions(precision=3,threshold=100,edgeitems=5)\n",
    "print('stoic_mtrx=\\n',stoic_mtrx)"
   ]
  },
  {
   "cell_type": "code",
   "execution_count": 3,
   "metadata": {},
   "outputs": [
    {
     "name": "stdout",
     "output_type": "stream",
     "text": [
      "stoic_mtrx m x n = (7, 6)\n",
      "stoic_mtrx rank = 3\n"
     ]
    }
   ],
   "source": [
    "'''Check the rank of the stoichiometric matrix'''\n",
    "\n",
    "try:    \n",
    "    from chen_3170.toolkit import matrix_rank    \n",
    "except ModuleNotFoundError:\n",
    "    assert False, 'You need to provide your own matrix_rank function here. Bailing out.'\n",
    "\n",
    "rank = matrix_rank( stoic_mtrx )\n",
    "print('stoic_mtrx m x n =',stoic_mtrx.shape)\n",
    "print('stoic_mtrx rank =',rank)"
   ]
  },
  {
   "cell_type": "code",
   "execution_count": 4,
   "metadata": {},
   "outputs": [
    {
     "name": "stdout",
     "output_type": "stream",
     "text": [
      "# reactions =  7\n",
      "# species   =  6\n",
      "rank of S =  3\n",
      "# of all possible sub_mechanisms = 35\n",
      "# of full-rank sub_mechanisms = 24\n"
     ]
    }
   ],
   "source": [
    "'''Build the full-rank sub-mechanism reactions list'''\n",
    "\n",
    "try:    \n",
    "    from chen_3170.toolkit import sub_mechanisms    \n",
    "except ModuleNotFoundError:\n",
    "    assert False, 'You need to provide your own sub_mechanisms function here. Bailing out.'\n",
    "\n",
    "sub_mechanisms = sub_mechanisms( species, reactions, keq_cte, stoic_mtrx )"
   ]
  },
  {
   "cell_type": "code",
   "execution_count": 5,
   "metadata": {},
   "outputs": [
    {
     "data": {
      "image/png": "[encoded data removed]",
      "text/plain": [
       "<Figure size 1440x432 with 1 Axes>"
      ]
     },
     "metadata": {},
     "output_type": "display_data"
    }
   ],
   "source": [
    "try:    \n",
    "    from chen_3170.toolkit import plot_reaction_mechanisms    \n",
    "except ModuleNotFoundError:\n",
    "    assert False, 'You need to provide your own plot_reaction_mechanisms function here. Bailing out.'\n",
    "    \n",
    "plot_reaction_mechanisms( sub_mechanisms )"
   ]
  },
  {
   "cell_type": "code",
   "execution_count": null,
   "metadata": {},
   "outputs": [],
   "source": [
    "'''Select the first sub-mechanims'''\n",
    "\n",
    "sub_mechanism_1 = sub_mechanisms[0]\n",
    "\n",
    "for i in sub_mechanism_1:\n",
    "    print(i)\n",
    "    \n",
    "stoic_mtrx = sub_mechanism_1[3]\n",
    "keq_cte    = np.array(sub_mechanism_1[2])"
   ]
  },
  {
   "cell_type": "code",
   "execution_count": 6,
   "metadata": {},
   "outputs": [],
   "source": [
    "'''Molar fractions function'''\n",
    "\n",
    "def molar_fractions( ext_hat_vec, x_vec_0, stoic_mtrx ):\n",
    "    \n",
    "    assert abs(x_vec_0.sum()-1.0) <= 1e-10\n",
    "    assert abs( 1.0 + (stoic_mtrx.transpose()@ext_hat_vec).sum() ) >= 1e-8\n",
    "    \n",
    "    x_vec = ( x_vec_0 + stoic_mtrx.transpose()@ext_hat_vec ) / \\\n",
    "            ( 1.0 + (stoic_mtrx.transpose()@ext_hat_vec).sum() )\n",
    "    \n",
    "    return x_vec"
   ]
  },
  {
   "cell_type": "code",
   "execution_count": 25,
   "metadata": {},
   "outputs": [
    {
     "name": "stdout",
     "output_type": "stream",
     "text": [
      "[0.694 0.613 0.842 0.226 0.441 0.325]\n",
      "[0.169 0.593 0.127 0.28  0.383 0.658 0.146]\n",
      "[1.339 1.357 1.568 1.405 1.921 1.278]\n"
     ]
    }
   ],
   "source": [
    "import numpy as np\n",
    "a = np.random.random(6)\n",
    "print(a)\n",
    "b = np.random.random(7)\n",
    "print(b.transpose())\n",
    "np.outer(a,b).shape\n",
    "S = np.random.random((3,6))\n",
    "print((S.transpose()).sum(1))"
   ]
  },
  {
   "cell_type": "code",
   "execution_count": 26,
   "metadata": {},
   "outputs": [],
   "source": [
    "'''Derivative of the molar fractions function wrt normalized extent of reaction'''\n",
    "\n",
    "def d_ext_molar_fractions( ext_hat_vec, x_vec_0, stoic_mtrx ):\n",
    "    \n",
    "    denom  = 1.0 + (stoic_mtrx.transpose()@ext_hat_vec).sum()\n",
    "    denom2 = denom**2\n",
    "    \n",
    "    dext_x_vec =  stoic_mtrx.transpose() / denom \\\n",
    "                -  np.outer( x_vec_0 + stoic_mtrx.transpose()@ext_hat_vec, (stoic_mtrx.trasnpose()).sum(1) ) / \\\n",
    "                   denom2\n",
    "    \n",
    "    return dext_x_vec"
   ]
  },
  {
   "cell_type": "code",
   "execution_count": null,
   "metadata": {},
   "outputs": [],
   "source": [
    "'''Equilibrium function'''\n",
    "\n",
    "def keq_function( x_vec, eq_kx_cte, stoic_row ):\n",
    "    \n",
    "    value = eq_kx_cte - x_vec[0]**stoic_row[0] * x_vec[1]**stoic_row[1] \\\n",
    "                        * x_vec[2]**stoic_row[2] * x_vec[3]**stoic_row[3]\n",
    "    \n",
    "    return value"
   ]
  }
 ],
 "metadata": {
  "kernelspec": {
   "display_name": "Python 3",
   "language": "python",
   "name": "python3"
  },
  "language_info": {
   "codemirror_mode": {
    "name": "ipython",
    "version": 3
   },
   "file_extension": ".py",
   "mimetype": "text/x-python",
   "name": "python",
   "nbconvert_exporter": "python",
   "pygments_lexer": "ipython3",
   "version": "3.6.5"
  },
  "latex_envs": {
   "LaTeX_envs_menu_present": true,
   "autoclose": false,
   "autocomplete": true,
   "bibliofile": "biblio.bib",
   "cite_by": "apalike",
   "current_citInitial": 1,
   "eqLabelWithNumbers": true,
   "eqNumInitial": 1,
   "hotkeys": {
    "equation": "Ctrl-E",
    "itemize": "Ctrl-I"
   },
   "labels_anchors": false,
   "latex_user_defs": false,
   "report_style_numbering": false,
   "user_envs_cfg": false
  }
 },
 "nbformat": 4,
 "nbformat_minor": 2
}
