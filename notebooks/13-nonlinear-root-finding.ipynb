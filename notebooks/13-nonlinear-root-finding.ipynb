{
 "cells": [
  {
   "cell_type": "markdown",
   "metadata": {},
   "source": [
    "ChEn-3170: Computational Methods in Chemical Engineering Fall 2018 UMass Lowell; Prof. V. F. de Almeida **19Nov2018**\n",
    "\n",
    "# 13. Non-Linear Equation Root Finding w/ Newton's Method\n",
    "$  \n",
    "  \\newcommand{\\Amtrx}{\\boldsymbol{\\mathsf{A}}}\n",
    "  \\newcommand{\\Bmtrx}{\\boldsymbol{\\mathsf{B}}}\n",
    "  \\newcommand{\\Mmtrx}{\\boldsymbol{\\mathsf{M}}}\n",
    "  \\newcommand{\\Imtrx}{\\boldsymbol{\\mathsf{I}}}\n",
    "  \\newcommand{\\Pmtrx}{\\boldsymbol{\\mathsf{P}}}\n",
    "  \\newcommand{\\Lmtrx}{\\boldsymbol{\\mathsf{L}}}\n",
    "  \\newcommand{\\Umtrx}{\\boldsymbol{\\mathsf{U}}}\n",
    "  \\newcommand{\\Smtrx}{\\boldsymbol{\\mathsf{S}}}\n",
    "  \\newcommand{\\xvec}{\\boldsymbol{\\mathsf{x}}}\n",
    "  \\newcommand{\\avec}{\\boldsymbol{\\mathsf{a}}}\n",
    "  \\newcommand{\\bvec}{\\boldsymbol{\\mathsf{b}}}\n",
    "  \\newcommand{\\cvec}{\\boldsymbol{\\mathsf{c}}}\n",
    "  \\newcommand{\\rvec}{\\boldsymbol{\\mathsf{r}}}\n",
    "  \\newcommand{\\mvec}{\\boldsymbol{\\mathsf{m}}}\n",
    "  \\newcommand{\\gvec}{\\boldsymbol{\\mathsf{g}}}\n",
    "  \\newcommand{\\zerovec}{\\boldsymbol{\\mathsf{0}}}\n",
    "  \\newcommand{\\norm}[1]{\\bigl\\lVert{#1}\\bigr\\rVert}\n",
    "  \\newcommand{\\abs}[1]{\\left\\lvert{#1}\\right\\rvert}\n",
    "  \\newcommand{\\transpose}[1]{{#1}^\\top}\n",
    "  \\DeclareMathOperator{\\rank}{rank}\n",
    "$"
   ]
  },
  {
   "cell_type": "markdown",
   "metadata": {},
   "source": [
    "---\n",
    "## Table of Contents\n",
    "* [Introduction](#intro)\n",
    "* [Algorithm](#algo)\n",
    "* [Input Data 1](#data1)\n",
    " - [Plot Root Function](#prf1)\n",
    " - [Plot Root 1](#prf11)\n",
    " - [Plot Root 2](#prf12)\n",
    "* [Input Data 2](#data2)\n",
    " - [Plot Root Function](#prf2)\n",
    " - [Plot Root 1](#prf21)\n",
    " - [Plot Root 2](#prf22)\n",
    "* [Inverse Problem (Forensics and Reverse Engineering](#inv)\n",
    "---"
   ]
  },
  {
   "cell_type": "markdown",
   "metadata": {},
   "source": [
    "## Introduction<a id=\"intro\"></a>\n",
    "Newton's method for computing roots of a single non-linear equation, $f(x)=0$, is described [here](https://studentuml-my.sharepoint.com/:o:/g/personal/valmor_dealmeida_uml_edu/EpSJc_i2uXtEmSfTsZpdRfwBSYvIcr21wCnBs9XT06SdHw?e=p3QSG6).\n",
    "\n",
    "The application at hand is to compute the equilibrium molar fraction of species undergoing a reversible reaction\n",
    "\n",
    "\\begin{equation*}\n",
    "\\text{A} + \\text{B} \\overset{K_x}{\\longleftrightarrow} \\text{C}   ,\n",
    "\\end{equation*}\n",
    "\n",
    "that is, compute $x_A$, $x_B$, $x_C$ for the given stoichiometry and molar equilibrium reaction constant $K_x$. Note that this information is not sufficient for computing the equilibrium molar fraction. In addition, it is required that the molar fraction of **any two species is known** at some point in time or as a reference, say $x_{A_0}$, and $x_{B_0}$; note $x_{A_0} + x_{B_0} + x_{C_0} = 1$.\n",
    "\n",
    "The normalized extent of reaction, $\\widehat{\\varepsilon}$, at equilibrium, satisfies the equilibrium condition\n",
    "\n",
    "\\begin{equation*}\n",
    "\\bigl(K_x+1\\bigr) {\\widehat{\\varepsilon}}^2  - \n",
    "\\bigl(1-x_{C_0}\\bigr) \\bigl(K_x+1\\bigr) \\widehat{\\varepsilon} + x_{A_0}\\,x_{B_0}\\,K_x - x_{C_0} = 0 ,\n",
    "\\end{equation*}\n",
    "\n",
    "for this particular stoichiometry. Therefore this can be casted as $f_\\text{eq} (\\widehat{\\varepsilon}) = 0$, thus \n",
    "\n",
    "\\begin{equation*}\n",
    "f_\\text{eq} (\\widehat{\\varepsilon}) = \n",
    "\\bigl(K_x+1\\bigr) {\\widehat{\\varepsilon}}^2  - \n",
    "\\bigl(1-x_{C_0}\\bigr) \\bigl(K_x+1\\bigr) \\widehat{\\varepsilon} + x_{A_0}\\,x_{B_0}\\,K_x - x_{C_0} = 0 ,\n",
    "\\end{equation*}\n",
    "\n",
    "Note that if the stoichiometry changes, this function will be different.\n",
    "\n",
    "Once the values of $\\widehat{\\varepsilon}$ are found, the equilibrium molar fractions are computed from\n",
    "\n",
    "\\begin{equation*}\n",
    "x_A = \\frac{x_{A_0} - \\widehat{\\varepsilon}}{1 - \\widehat{\\varepsilon}} \\ \\qquad  ; \\qquad \\\n",
    "x_B = \\frac{x_{B_0} - \\widehat{\\varepsilon}}{1 - \\widehat{\\varepsilon}} \\ \\qquad  ; \\qquad \\\n",
    "x_C = \\frac{x_{C_0} + \\widehat{\\varepsilon}}{1 - \\widehat{\\varepsilon}}.\n",
    "\\end{equation*}\n",
    "\n",
    "Note that $\\widehat{\\varepsilon} \\le \\min(x_{A_0},x_{B_0})$."
   ]
  },
  {
   "cell_type": "markdown",
   "metadata": {},
   "source": [
    "## Algorithm<a id=\"algo\"></a>\n",
    "\n",
    "Given $f(\\cdot)$, find the roots \n",
    "\n",
    "\\begin{equation*}\n",
    "f(x) = 0 ,\n",
    "\\end{equation*}\n",
    "\n",
    "using an iterative method based on the initial guess $x_0$. Compute the updates\n",
    "\n",
    "\\begin{equation*}\n",
    "\\delta x_k = - \\frac{f(x_{k-1})}{f'(x_{k-1})} \\ \\qquad \\  \\forall \\ \\qquad \\ k = 1,\\ldots,k_\\text{max} , \n",
    "\\end{equation*}\n",
    "\n",
    "then compute the approximation to the root\n",
    "\n",
    "\\begin{equation*}\n",
    " x_k = x_{k-1} + \\delta x_k \\ \\qquad \\  \\forall \\ \\qquad\\ \\ k = 1,\\ldots,k_\\text{max} ,\n",
    "\\end{equation*}\n",
    "\n",
    "until $\\abs{x_k} \\le 10^{-8}$ and $\\abs{f(x_k)} \\le 10^{-8}$ or $k>k_\\text{max}$. "
   ]
  },
  {
   "cell_type": "markdown",
   "metadata": {},
   "source": [
    "## Input Data 1<a id=\"data1\"></a>\n",
    "\n",
    "Reversible reaction: A + B <=> C \n",
    "\n",
    "Name                        | Parameter    | Value                | Unit              |\n",
    "----------------------------|--------------|----------------------|-------------------| \n",
    "initial mole fraction of A  | $x_{A_0}$     | 0.5                   |               | \n",
    "initial mole fraction of B  | $x_{B_0}$     | 0.5                  | | \n",
    "initial mole fraction of C  | $x_{C_0}$     | 0.0                  | | \n",
    "mole equilibrium constant   | $K_\\text{x}$ | 180                  |              | "
   ]
  },
  {
   "cell_type": "code",
   "execution_count": 1,
   "metadata": {},
   "outputs": [
    {
     "name": "stdout",
     "output_type": "stream",
     "text": [
      "Max. ext_hat =  0.50\n"
     ]
    }
   ],
   "source": [
    "'''Parameters for chemical equilibrium of A + B <-> C'''\n",
    "\n",
    "x_a_0 = 0.5\n",
    "x_b_0 = 0.5\n",
    "x_c_0 = 0.0\n",
    "assert abs(x_a_0 + x_b_0 + x_c_0 - 1.0) <= 1e-12\n",
    "assert x_a_0 >= 0 and x_b_0 >= 0 and x_b_0 >= 0\n",
    "\n",
    "eq_kx_cte = 108.0\n",
    "\n",
    "print('Max. ext_hat = %5.2f'%min(x_a_0,x_b_0))"
   ]
  },
  {
   "cell_type": "code",
   "execution_count": 2,
   "metadata": {},
   "outputs": [],
   "source": [
    "'''Equilibrium function'''\n",
    "\n",
    "def f_eq( ext_hat, x_a_0, x_b_0, x_c_0, eq_kx_cte ):\n",
    "    '''\n",
    "    Root function f(ext_hat) for A + B <=> C.\n",
    "\n",
    "    Parameters\n",
    "    ----------\n",
    "    ext_hat: float or numpy.ndarray, required\n",
    "        Normalized extent of reaction\n",
    "    x_a_0: float, required\n",
    "        Mole fraction of species A.\n",
    "    x_b_0: float, required\n",
    "        Mole fraction of species B.\n",
    "    x_c_0: float, required\n",
    "        Mole fraction of species B.\n",
    "    eq_kx_cte: float, required\n",
    "        Mole equilibrium reaction constant.\n",
    "    \n",
    "    Returns\n",
    "    -------\n",
    "    value: float or numpy.ndarray\n",
    "        Value or values of the root function evaluated at `ext_hat`.\n",
    "\n",
    "    Examples\n",
    "    --------\n",
    "    '''\n",
    "    assert x_a_0 >= 0 and x_b_0 >= 0 and x_b_0 >= 0\n",
    "    assert abs(x_a_0 + x_b_0 + x_c_0 - 1.0) <= 1e-12\n",
    "           \n",
    "    value =   (eq_kx_cte+1)*ext_hat**2  \\\n",
    "            - (1-x_c_0)*(eq_kx_cte+1)*ext_hat \\\n",
    "            + x_a_0 * x_b_0 * eq_kx_cte - x_c_0\n",
    "        \n",
    "    return value"
   ]
  },
  {
   "cell_type": "code",
   "execution_count": 3,
   "metadata": {},
   "outputs": [],
   "source": [
    "'''Function: plot equilibrium function'''\n",
    "\n",
    "def plot_function( e_min, e_max, n_pts,\n",
    "                   x_a_0, x_b_0, x_c_0, eq_kx_cte,\n",
    "                   ext_hat_root=None  ):\n",
    "    \n",
    "    import matplotlib.pyplot as plt\n",
    "    plt.figure(1, figsize=(6, 6))\n",
    "    import numpy as np\n",
    "    e_vec = np.linspace(e_min, e_max, n_pts)\n",
    "    plt.plot(e_vec, f_eq(e_vec, x_a_0, x_b_0, x_c_0, eq_kx_cte),'b-',label='$f_{eq}$')\n",
    "    \n",
    "    plt.xlabel(r'$\\hat{\\epsilon}$',fontsize=18)\n",
    "    plt.ylabel(r'$f_{eq}(\\hat{\\epsilon})$',fontsize=18)\n",
    "    plt.title('Computing the Roots of $f(x)$',fontsize=20)\n",
    "    plt.legend(loc='best',fontsize=12)\n",
    "    plt.xticks(fontsize=16)\n",
    "    plt.yticks(fontsize=16)\n",
    "    \n",
    "    (x_min,x_max) = plt.xlim()\n",
    "    dx = abs(x_max-x_min)\n",
    "    x_text = (x_max+x_min)/2\n",
    "    \n",
    "    (y_min,y_max) = plt.ylim()\n",
    "    dy = abs(y_max-y_min)\n",
    "    y_text = y_max - dy*0.05\n",
    "    \n",
    "    plt.text(x_text, y_text, r'$x_{A_0}=$%8.2e'%x_a_0,fontsize=16)\n",
    "    y_text -= dy*0.06\n",
    "    plt.text(x_text, y_text, r'$x_{B_0}=$%8.2e'%x_b_0,fontsize=16)\n",
    "    y_text -= dy*0.06\n",
    "    plt.text(x_text, y_text, r'$x_{C_0}=$%8.2e'%x_c_0,fontsize=16)\n",
    "    y_text -= dy*0.06\n",
    "    plt.text(x_text, y_text, r'$K_x=$%8.2e'%eq_kx_cte,fontsize=16)\n",
    "    \n",
    "    \n",
    "    if ext_hat_root is not None:\n",
    "        \n",
    "        plt.plot(ext_hat_root, 0.0,'r*',label='root',markersize=14)\n",
    "               \n",
    "        (x_min,x_max) = plt.xlim()\n",
    "        dx = abs(x_max-x_min)\n",
    "        x_text = ext_hat_root + dx*0.01\n",
    "    \n",
    "        (y_min,y_max) = plt.ylim()\n",
    "        dy = abs(y_max-y_min)\n",
    "        y_text = 0.0 + dy*0.01\n",
    "    \n",
    "        plt.text(x_text, y_text, r'$\\hat{\\epsilon}^*=$%8.2e'%ext_hat_root,fontsize=16)\n",
    "    \n",
    "    \n",
    "    plt.grid(True)\n",
    "    plt.show()\n",
    "    print('')\n",
    "    \n",
    "    return"
   ]
  },
  {
   "cell_type": "markdown",
   "metadata": {},
   "source": [
    "### Plot Root Function<a id=\"prf1\"></a>"
   ]
  },
  {
   "cell_type": "code",
   "execution_count": 4,
   "metadata": {},
   "outputs": [
    {
     "data": {
      "text/plain": [
       "<Figure size 600x600 with 1 Axes>"
      ]
     },
     "metadata": {},
     "output_type": "display_data"
    },
    {
     "name": "stdout",
     "output_type": "stream",
     "text": [
      "\n"
     ]
    }
   ],
   "source": [
    "'''Plot equilibrium function'''\n",
    "\n",
    "ext_hat_min = 0.0\n",
    "ext_hat_max = 1.0\n",
    "n_pts = 100\n",
    "plot_function( ext_hat_min, ext_hat_max, n_pts, x_a_0, x_b_0, x_c_0, eq_kx_cte )"
   ]
  },
  {
   "cell_type": "code",
   "execution_count": 5,
   "metadata": {},
   "outputs": [],
   "source": [
    "'''Equilibrium function derivative'''\n",
    "\n",
    "def f_eq_prime( ext_hat, x_c_0, eq_kx_cte ):\n",
    "    '''\n",
    "    Derivative of root function f'(ext_hat) for A + B <=> C.\n",
    "\n",
    "    Parameters\n",
    "    ----------\n",
    "    ext_hat: float or numpy.ndarray, required\n",
    "        Normalized extent of reaction\n",
    "    x_c_0: float, required\n",
    "        Mole fraction of species B\n",
    "    eq_kx_cte: float, required\n",
    "        Mole equilibrium reaction constant.\n",
    "    \n",
    "    Returns\n",
    "    -------\n",
    "    value: float or numpy.ndarray\n",
    "        Value or values of the root function evaluated at `ext_hat`.\n",
    "\n",
    "    Examples\n",
    "    --------\n",
    "    '''\n",
    "    # value = (eq_kx_cte+1)*ext_hat**2 - (1-x_c_0)*(eq_kx_cte+1)*ext_hat + x_a_0 * x_b_0 * eq_kx_cte - x_c_0       \n",
    "    value = 2.0*(eq_kx_cte+1)*ext_hat - (1-x_c_0)*(eq_kx_cte+1)\n",
    "        \n",
    "    return value"
   ]
  },
  {
   "cell_type": "code",
   "execution_count": 6,
   "metadata": {},
   "outputs": [],
   "source": [
    "\"\"\"Newton's method\"\"\"\n",
    "\n",
    "def newton_solve( ext_hat_0=0.0, k_max=30, tolerance=1.0e-10 ):\n",
    "\n",
    "    # Other initialization\n",
    "    delta_k = 1e+10\n",
    "    f_k     = 1e+10\n",
    "    ext_hat = ext_hat_0\n",
    "\n",
    "    print('\\n')\n",
    "    print('******************************************************')\n",
    "    print(\"          Newton's Method Iterations                  \")\n",
    "    print('******************************************************')\n",
    "    print(\"k |  f(e_k)  |  f'(e_k) | |del e_k| |    e_k   |     |\")\n",
    "    print('------------------------------------------------------')\n",
    "\n",
    "    import math\n",
    "    k = 0\n",
    "    \n",
    "    while (abs(delta_k) > tolerance or abs(f_k) > tolerance) and k <= k_max:\n",
    "        \n",
    "        f_k = f_eq( ext_hat, x_a_0, x_b_0, x_c_0, eq_kx_cte )\n",
    "        f_prime_k = f_eq_prime( ext_hat, x_c_0, eq_kx_cte )\n",
    "        delta_k_old = delta_k\n",
    "        delta_k = -f_k / f_prime_k\n",
    "        ext_hat += delta_k\n",
    "        if k > 0:\n",
    "            convergence_factor = math.log(abs(delta_k),10)/math.log(abs(delta_k_old),10)\n",
    "        else:\n",
    "            convergence_factor = 0.0\n",
    "        k = k + 1\n",
    "        print('%2i %+5.3e %+5.3e %+5.3e  %+5.3e %5.2f'%(k,f_k,f_prime_k,abs(delta_k),ext_hat,convergence_factor))\n",
    "\n",
    "    print('******************************************************')\n",
    "    \n",
    "    print('Root = %8.5e'%ext_hat)\n",
    "    \n",
    "    return ext_hat"
   ]
  },
  {
   "cell_type": "code",
   "execution_count": 7,
   "metadata": {},
   "outputs": [
    {
     "name": "stdout",
     "output_type": "stream",
     "text": [
      "\n",
      "\n",
      "******************************************************\n",
      "          Newton's Method Iterations                  \n",
      "******************************************************\n",
      "k |  f(e_k)  |  f'(e_k) | |del e_k| |    e_k   |     |\n",
      "------------------------------------------------------\n",
      " 1 +2.700e+01 -1.090e+02 +2.477e-01  +2.477e-01  0.00\n",
      " 2 +6.688e+00 -5.500e+01 +1.216e-01  +3.693e-01  1.51\n",
      " 3 +1.612e+00 -2.849e+01 +5.657e-02  +4.259e-01  1.36\n",
      " 4 +3.488e-01 -1.616e+01 +2.159e-02  +4.475e-01  1.34\n",
      " 5 +5.080e-02 -1.145e+01 +4.436e-03  +4.519e-01  1.41\n",
      " 6 +2.145e-03 -1.048e+01 +2.046e-04  +4.521e-01  1.57\n",
      " 7 +4.561e-06 -1.044e+01 +4.369e-07  +4.521e-01  1.72\n",
      " 8 +2.081e-11 -1.044e+01 +1.993e-12  +4.521e-01  1.84\n",
      "******************************************************\n",
      "Root = 4.52109e-01\n",
      "\n",
      "Equilibrium mole fractions:\n",
      "\n",
      "x_a = 8.741e-02\n",
      "\n",
      "x_b = 8.741e-02\n",
      "\n",
      "x_c = 8.252e-01\n",
      "\n"
     ]
    }
   ],
   "source": [
    "'''Find root and equilibrium molar fractions'''\n",
    "\n",
    "ext_hat_0 = 0.0\n",
    "k_max = 20\n",
    "tolerance = 1.0e-8\n",
    "\n",
    "ext_hat = newton_solve(ext_hat_0,k_max,tolerance)\n",
    "\n",
    "x_a = (x_a_0 - ext_hat)/(1.0-ext_hat)\n",
    "x_b = (x_b_0 - ext_hat)/(1.0-ext_hat)\n",
    "x_c = (x_c_0 + ext_hat)/(1.0-ext_hat)\n",
    "\n",
    "assert x_a * x_b * x_c >= 0\n",
    "assert abs(x_a + x_b + x_c - 1.0) <= 1e-12\n",
    "\n",
    "print('')\n",
    "print('Equilibrium mole fractions:\\n')\n",
    "print('x_a = %5.3e\\n'%x_a)\n",
    "print('x_b = %5.3e\\n'%x_b)\n",
    "print('x_c = %5.3e\\n'%x_c)"
   ]
  },
  {
   "cell_type": "markdown",
   "metadata": {},
   "source": [
    "### Plot Root 1<a id=\"prf11\"></a>"
   ]
  },
  {
   "cell_type": "code",
   "execution_count": 8,
   "metadata": {},
   "outputs": [
    {
     "data": {
      "image/png": "[encoded data removed]",
      "text/plain": [
       "<Figure size 432x432 with 1 Axes>"
      ]
     },
     "metadata": {},
     "output_type": "display_data"
    },
    {
     "name": "stdout",
     "output_type": "stream",
     "text": [
      "\n"
     ]
    }
   ],
   "source": [
    "'''Plot equilibrium function with root'''\n",
    "\n",
    "ext_hat_min = 0.0\n",
    "ext_hat_max = 1.0\n",
    "n_pts = 100\n",
    "plot_function( ext_hat_min, ext_hat_max, n_pts, x_a_0, x_b_0, x_c_0, eq_kx_cte, ext_hat )"
   ]
  },
  {
   "cell_type": "code",
   "execution_count": 9,
   "metadata": {},
   "outputs": [
    {
     "name": "stdout",
     "output_type": "stream",
     "text": [
      "\n",
      "\n",
      "******************************************************\n",
      "          Newton's Method Iterations                  \n",
      "******************************************************\n",
      "k |  f(e_k)  |  f'(e_k) | |del e_k| |    e_k   |     |\n",
      "------------------------------------------------------\n",
      " 1 +4.110e+00 +4.360e+01 +9.427e-02  +6.057e-01  0.00\n",
      " 2 +9.686e-01 +2.305e+01 +4.202e-02  +5.637e-01  1.34\n",
      " 3 +1.925e-01 +1.389e+01 +1.386e-02  +5.499e-01  1.35\n",
      " 4 +2.093e-02 +1.087e+01 +1.926e-03  +5.479e-01  1.46\n",
      " 5 +4.042e-04 +1.045e+01 +3.869e-05  +5.479e-01  1.62\n",
      " 6 +1.631e-07 +1.044e+01 +1.563e-08  +5.479e-01  1.77\n",
      " 7 +2.132e-14 +1.044e+01 +2.042e-15  +5.479e-01  1.88\n",
      "******************************************************\n",
      "Root = 5.47891e-01\n",
      "\n",
      "Equilibrium mole fractions:\n",
      "\n",
      "x_a = -1.059e-01\n",
      "\n",
      "x_b = -1.059e-01\n",
      "\n",
      "x_c = 1.212e+00\n",
      "\n"
     ]
    }
   ],
   "source": [
    "'''Find root and equilibrium molar fractions'''\n",
    "\n",
    "ext_hat_0 = 0.7\n",
    "k_max = 20\n",
    "tolerance = 1.0e-8\n",
    "\n",
    "ext_hat = newton_solve(ext_hat_0,k_max,tolerance)\n",
    "\n",
    "x_a = (x_a_0 - ext_hat)/(1.0-ext_hat)\n",
    "x_b = (x_b_0 - ext_hat)/(1.0-ext_hat)\n",
    "x_c = (x_c_0 + ext_hat)/(1.0-ext_hat)\n",
    "\n",
    "assert x_a * x_b * x_c >= 0\n",
    "assert abs(x_a + x_b + x_c - 1.0) <= 1e-12\n",
    "\n",
    "print('')\n",
    "print('Equilibrium mole fractions:\\n')\n",
    "print('x_a = %5.3e\\n'%x_a)\n",
    "print('x_b = %5.3e\\n'%x_a)\n",
    "print('x_c = %5.3e\\n'%x_c)"
   ]
  },
  {
   "cell_type": "markdown",
   "metadata": {},
   "source": [
    "### Plot Root 2<a id=\"prf12\"></a>"
   ]
  },
  {
   "cell_type": "code",
   "execution_count": 10,
   "metadata": {},
   "outputs": [
    {
     "data": {
      "image/png": "[encoded data removed]",
      "text/plain": [
       "<Figure size 432x432 with 1 Axes>"
      ]
     },
     "metadata": {},
     "output_type": "display_data"
    },
    {
     "name": "stdout",
     "output_type": "stream",
     "text": [
      "\n"
     ]
    }
   ],
   "source": [
    "'''Plot equilibrium function with root'''\n",
    "\n",
    "ext_hat_min = 0.0\n",
    "ext_hat_max = 1.0\n",
    "n_pts = 100\n",
    "plot_function( ext_hat_min, ext_hat_max, n_pts, x_a_0, x_b_0, x_c_0, eq_kx_cte, ext_hat )"
   ]
  },
  {
   "cell_type": "code",
   "execution_count": 11,
   "metadata": {},
   "outputs": [
    {
     "name": "stdout",
     "output_type": "stream",
     "text": [
      "\n",
      "\n",
      "******************************************************\n",
      "          Newton's Method Iterations                  \n",
      "******************************************************\n",
      "k |  f(e_k)  |  f'(e_k) | |del e_k| |    e_k   |     |\n",
      "------------------------------------------------------\n",
      " 1 +0.000e+00 +1.044e+01 +0.000e+00  +5.479e-01  0.00\n",
      "******************************************************\n",
      "Root = 5.47891e-01\n"
     ]
    }
   ],
   "source": [
    "'''Find root'''\n",
    "\n",
    "ext_hat_0 = ext_hat\n",
    "k_max = 20\n",
    "tolerance = 1.0e-8\n",
    "\n",
    "ext_hat = newton_solve(ext_hat_0,k_max,tolerance)"
   ]
  },
  {
   "cell_type": "markdown",
   "metadata": {},
   "source": [
    "## Input Data 2<a id=\"data2\"></a>\n",
    "\n",
    "Reversible reaction: A + B <=> C \n",
    "\n",
    "Name                        | Parameter    | Value                | Unit              |\n",
    "----------------------------|--------------|----------------------|-------------------| \n",
    "initial mole fraction of A  | $x_{A0}$     | 0.5                   |               | \n",
    "initial mole fraction of B  | $x_{B0}$     | 0.2                  | | \n",
    "initial mole fraction of C  | $x_{C0}$     | 0.3                  | | \n",
    "mole equilibrium constant   | $K_\\text{x}$ | 180                  |              | "
   ]
  },
  {
   "cell_type": "code",
   "execution_count": 12,
   "metadata": {},
   "outputs": [
    {
     "name": "stdout",
     "output_type": "stream",
     "text": [
      "Max. ext_hat =  0.20\n"
     ]
    }
   ],
   "source": [
    "'''Parameters for chemical equilibrium of A + B <-> C'''\n",
    "\n",
    "x_a_0     = 0.5\n",
    "x_b_0     = 0.2\n",
    "x_c_0     = 0.3\n",
    "assert abs(x_a_0 + x_b_0 + x_c_0 - 1.0) <= 1e-12\n",
    "assert x_a_0 >= 0 and x_b_0 >= 0 and x_b_0 >= 0\n",
    "\n",
    "eq_kx_cte = 108.0\n",
    "\n",
    "print('Max. ext_hat = %5.2f'%min(x_a_0,x_b_0))"
   ]
  },
  {
   "cell_type": "markdown",
   "metadata": {},
   "source": [
    "### Plot Root Function<a id=\"prf2\"></a>"
   ]
  },
  {
   "cell_type": "code",
   "execution_count": 13,
   "metadata": {},
   "outputs": [
    {
     "data": {
      "image/png": "[encoded data removed]",
      "text/plain": [
       "<Figure size 432x432 with 1 Axes>"
      ]
     },
     "metadata": {},
     "output_type": "display_data"
    },
    {
     "name": "stdout",
     "output_type": "stream",
     "text": [
      "\n"
     ]
    }
   ],
   "source": [
    "'''Plot equilibrium function'''\n",
    "\n",
    "ext_hat_min = 0.0\n",
    "ext_hat_max = 1.0\n",
    "n_pts = 100\n",
    "plot_function( ext_hat_min, ext_hat_max, n_pts, x_a_0, x_b_0, x_c_0, eq_kx_cte )"
   ]
  },
  {
   "cell_type": "code",
   "execution_count": 14,
   "metadata": {},
   "outputs": [
    {
     "name": "stdout",
     "output_type": "stream",
     "text": [
      "\n",
      "\n",
      "******************************************************\n",
      "          Newton's Method Iterations                  \n",
      "******************************************************\n",
      "k |  f(e_k)  |  f'(e_k) | |del e_k| |    e_k   |     |\n",
      "------------------------------------------------------\n",
      " 1 +1.050e+01 -7.630e+01 +1.376e-01  +1.376e-01  0.00\n",
      " 2 +2.064e+00 -4.630e+01 +4.458e-02  +1.822e-01  1.57\n",
      " 3 +2.167e-01 -3.658e+01 +5.923e-03  +1.881e-01  1.65\n",
      " 4 +3.824e-03 -3.529e+01 +1.083e-04  +1.882e-01  1.78\n",
      " 5 +1.280e-06 -3.527e+01 +3.628e-08  +1.882e-01  1.88\n",
      " 6 +1.446e-13 -3.527e+01 +4.100e-15  +1.882e-01  1.93\n",
      "******************************************************\n",
      "Root = 1.88229e-01\n",
      "\n",
      "Equilibrium mole fractions:\n",
      "\n",
      "x_a = 3.841e-01\n",
      "\n",
      "x_b = 1.450e-02\n",
      "\n",
      "x_c = 6.014e-01\n",
      "\n"
     ]
    }
   ],
   "source": [
    "'''Find root and equilibrium molar fractions'''\n",
    "\n",
    "ext_hat_0 = 0.0\n",
    "k_max = 20\n",
    "tolerance = 1.0e-8\n",
    "\n",
    "ext_hat = newton_solve(ext_hat_0,k_max,tolerance)\n",
    "\n",
    "x_a = (x_a_0 - ext_hat)/(1.0-ext_hat)\n",
    "x_b = (x_b_0 - ext_hat)/(1.0-ext_hat)\n",
    "x_c = (x_c_0 + ext_hat)/(1.0-ext_hat)\n",
    "\n",
    "assert x_a * x_b * x_c >= 0\n",
    "assert abs(x_a + x_b + x_c - 1.0) <= 1e-12\n",
    "\n",
    "print('')\n",
    "print('Equilibrium mole fractions:\\n')\n",
    "print('x_a = %5.3e\\n'%x_a)\n",
    "print('x_b = %5.3e\\n'%x_b)\n",
    "print('x_c = %5.3e\\n'%x_c)"
   ]
  },
  {
   "cell_type": "markdown",
   "metadata": {},
   "source": [
    "### Plot Root 1<a id=\"prf21\"></a>"
   ]
  },
  {
   "cell_type": "code",
   "execution_count": 15,
   "metadata": {},
   "outputs": [
    {
     "data": {
      "image/png": "[encoded data removed]",
      "text/plain": [
       "<Figure size 432x432 with 1 Axes>"
      ]
     },
     "metadata": {},
     "output_type": "display_data"
    },
    {
     "name": "stdout",
     "output_type": "stream",
     "text": [
      "\n"
     ]
    }
   ],
   "source": [
    "'''Plot equilibrium function with root'''\n",
    "\n",
    "ext_hat_min = 0.0\n",
    "ext_hat_max = 1.0\n",
    "n_pts = 100\n",
    "plot_function( ext_hat_min, ext_hat_max, n_pts, x_a_0, x_b_0, x_c_0, eq_kx_cte, ext_hat )"
   ]
  },
  {
   "cell_type": "markdown",
   "metadata": {},
   "source": [
    "## Inverse Problem (Forensics and Reverse Engineering)<a id=\"inf\"></a>\n",
    "A forensics team and a reverse engineering team are interested in the answer to the question:\n",
    "\n",
    "1. If we know $x_A$, $x_B$ and $x_C$, what does it tell us about $x_{A_0} , x_{B_0}, x_{C_0}$?\n",
    "2. Could $x_{A_0} , x_{B_0}, x_{C_0}$ be computed?\n"
   ]
  },
  {
   "cell_type": "code",
   "execution_count": 21,
   "metadata": {},
   "outputs": [
    {
     "name": "stdout",
     "output_type": "stream",
     "text": [
      "x_a_0 = 4.484e-01\n",
      "\n",
      "x_b_0 = 1.174e-01\n",
      "\n",
      "x_c_0 = 4.343e-01\n",
      "\n",
      "Max. ext_hat =  0.12\n"
     ]
    }
   ],
   "source": [
    "'''Parameters for chemical equilibrium of A + B <-> C'''\n",
    "\n",
    "try:\n",
    "    from chen_3170.toolkit import forensics_molar_fractions\n",
    "except ModuleNotFoundError:\n",
    "    assert False, 'You need to provide your own forensics function here. Bailing out.'\n",
    "\n",
    "(x_a_0,x_b_0,x_c_0) = forensics_molar_fractions( x_a, x_b, x_c )\n",
    "\n",
    "print('x_a_0 = %5.3e\\n'%x_a_0)\n",
    "print('x_b_0 = %5.3e\\n'%x_b_0)\n",
    "print('x_c_0 = %5.3e\\n'%x_c_0)\n",
    "\n",
    "assert abs(x_a_0 + x_b_0 + x_c_0 - 1.0) <= 1e-12\n",
    "assert x_a_0 >= 0 and x_b_0 >= 0 and x_b_0 >= 0\n",
    "\n",
    "eq_kx_cte = 108.0\n",
    "\n",
    "print('Max. ext_hat = %5.2f'%min(x_a_0,x_b_0))"
   ]
  },
  {
   "cell_type": "code",
   "execution_count": 18,
   "metadata": {},
   "outputs": [
    {
     "data": {
      "image/png": "[encoded data removed]",
      "text/plain": [
       "<Figure size 432x432 with 1 Axes>"
      ]
     },
     "metadata": {},
     "output_type": "display_data"
    },
    {
     "name": "stdout",
     "output_type": "stream",
     "text": [
      "\n"
     ]
    }
   ],
   "source": [
    "'''Plot equilibrium function'''\n",
    "\n",
    "ext_hat_min = 0.0\n",
    "ext_hat_max = 1.0\n",
    "n_pts = 100\n",
    "plot_function( ext_hat_min, ext_hat_max, n_pts, x_a_0, x_b_0, x_c_0, eq_kx_cte )"
   ]
  },
  {
   "cell_type": "code",
   "execution_count": 19,
   "metadata": {},
   "outputs": [
    {
     "name": "stdout",
     "output_type": "stream",
     "text": [
      "\n",
      "\n",
      "******************************************************\n",
      "          Newton's Method Iterations                  \n",
      "******************************************************\n",
      "k |  f(e_k)  |  f'(e_k) | |del e_k| |    e_k   |     |\n",
      "------------------------------------------------------\n",
      " 1 +3.683e+00 -5.672e+01 +6.494e-02  +6.494e-02  0.00\n",
      " 2 +4.596e-01 -4.256e+01 +1.080e-02  +7.573e-02  1.66\n",
      " 3 +1.271e-02 -4.021e+01 +3.161e-04  +7.605e-02  1.78\n",
      " 4 +1.089e-05 -4.014e+01 +2.713e-07  +7.605e-02  1.88\n",
      " 5 +8.025e-12 -4.014e+01 +1.999e-13  +7.605e-02  1.93\n",
      "******************************************************\n",
      "Root = 7.60498e-02\n",
      "\n",
      "Equilibrium mole fractions:\n",
      "\n",
      "x_a = 3.841e-01\n",
      "\n",
      "x_b = 1.450e-02\n",
      "\n",
      "x_c = 6.014e-01\n",
      "\n"
     ]
    }
   ],
   "source": [
    "'''Find root and equilibrium molar fractions'''\n",
    "\n",
    "ext_hat_0 = 0.0\n",
    "k_max = 20\n",
    "tolerance = 1.0e-8\n",
    "\n",
    "ext_hat = newton_solve(ext_hat_0,k_max,tolerance)\n",
    "\n",
    "x_a = (x_a_0 - ext_hat)/(1.0-ext_hat)\n",
    "x_b = (x_b_0 - ext_hat)/(1.0-ext_hat)\n",
    "x_c = (x_c_0 + ext_hat)/(1.0-ext_hat)\n",
    "\n",
    "assert x_a * x_b * x_c >= 0\n",
    "assert abs(x_a + x_b + x_c - 1.0) <= 1e-12\n",
    "\n",
    "print('')\n",
    "print('Equilibrium mole fractions:\\n')\n",
    "print('x_a = %5.3e\\n'%x_a)\n",
    "print('x_b = %5.3e\\n'%x_b)\n",
    "print('x_c = %5.3e\\n'%x_c)"
   ]
  },
  {
   "cell_type": "code",
   "execution_count": null,
   "metadata": {},
   "outputs": [],
   "source": []
  }
 ],
 "metadata": {
  "kernelspec": {
   "display_name": "Python 3",
   "language": "python",
   "name": "python3"
  },
  "language_info": {
   "codemirror_mode": {
    "name": "ipython",
    "version": 3
   },
   "file_extension": ".py",
   "mimetype": "text/x-python",
   "name": "python",
   "nbconvert_exporter": "python",
   "pygments_lexer": "ipython3",
   "version": "3.6.5"
  },
  "latex_envs": {
   "LaTeX_envs_menu_present": true,
   "autoclose": false,
   "autocomplete": true,
   "bibliofile": "biblio.bib",
   "cite_by": "apalike",
   "current_citInitial": 1,
   "eqLabelWithNumbers": true,
   "eqNumInitial": 1,
   "hotkeys": {
    "equation": "Ctrl-E",
    "itemize": "Ctrl-I"
   },
   "labels_anchors": false,
   "latex_user_defs": false,
   "report_style_numbering": false,
   "user_envs_cfg": false
  }
 },
 "nbformat": 4,
 "nbformat_minor": 2
}
