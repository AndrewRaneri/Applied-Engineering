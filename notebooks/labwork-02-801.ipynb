{
  "cells": [
    {
      "metadata": {},
      "cell_type": "markdown",
      "source": "ChEn-3170: Computational Methods in Chemical Engineering Fall 2018 UMass Lowell; Prof. V. F. de Almeida **13Sep2018**\n\n# Laboratory Work 02 13Sep2018 Session 801\n"
    },
    {
      "metadata": {},
      "cell_type": "markdown",
      "source": "### Name: `your name`"
    },
    {
      "metadata": {},
      "cell_type": "markdown",
      "source": "### Rubric for each assignment: \n\n|                             |  Points |\n| -----------------------     | ------- |\n| Precision of the answer     |   80%   |\n| Answer Markdown readability |   10%   |\n| Code readability            |   10%   |\n    "
    },
    {
      "metadata": {},
      "cell_type": "markdown",
      "source": "### <span style=\"color:red\">Guidance:</span>\n +  <span style=\"color:red\"> \n    Save your work frequently to a file locally to your computer.\n    </span>\n +  <span style=\"color:red\">\n    During your work and before submitting the final version do: `Kernel` -> `Restart & Run All`, to verify your notebook runs correctly.\n    </span>\n +  <span style=\"color:red\">\n    Save your file again.\n    </span>"
    },
    {
      "metadata": {},
      "cell_type": "markdown",
      "source": "## <span style=\"color:blue\">Assignment 1 (20 pts).</span>\n### <span style=\"color:blue\">Create variables to store the molecular formula and molar mass of the following species: methane, molecular oxygen, carbon dioxide, molecular hydrogen, water, and carbon monoxide. Provide an output.</span>"
    },
    {
      "metadata": {},
      "cell_type": "markdown",
      "source": "The variables will be created as Python `dict` data structure with two pairs of `key:value` elements."
    },
    {
      "metadata": {
        "trusted": false
      },
      "cell_type": "code",
      "source": "ch4 = dict()\nch4 = {'formula':'CH4', 'molar_mass':16}\n\no2 = dict()\no2 = {'formula':'O2', 'molar_mass':32}\n\nco2 = dict()\nco2 = {'formula':'CO2', 'molar_mass':44}\n\nh2 = dict()\nh2 = {'formula':'H2', 'molar_mass':2}\n\nh2o = dict()\nh2o = {'formula':'H2O', 'molar_mass':18}\n\nco = dict()\nco = {'formula':'CO', 'molar_mass':28}\n\n\nprint('ch4 =',ch4)\nprint('o2 =',o2)\nprint('co2 =',co2)\nprint('h2 =',h2)\nprint('h2o =',h2o)\nprint('co =', co)",
      "execution_count": 6,
      "outputs": [
        {
          "name": "stdout",
          "output_type": "stream",
          "text": "ch4 = {'formula': 'CH4', 'molar_mass': 16}\no2 = {'formula': 'O2', 'molar_mass': 32}\nco2 = {'formula': 'CO2', 'molar_mass': 44}\nh2 = {'formula': 'H2', 'molar_mass': 2}\nh2o = {'formula': 'H2O', 'molar_mass': 18}\nco = {'formula': 'CO', 'molar_mass': 28}\n"
        }
      ]
    },
    {
      "metadata": {},
      "cell_type": "markdown",
      "source": "## <span style=\"color:blue\">Assignment 2 (20 pts).</span>\n### <span style=\"color:blue\">Using the work from Assignment 1, create a way to store each of the chemical reactions for methane oxydation as follows: </span>\n\n1.  1 methane + 1 molecular oxygen = 1 carbon dioxide + 2 molecular hydrogen\n2.  2 molecular hydrogen + 1 molecular oxygen = 2 water\n3.  2 carbon monoxide + 4 molecular hydrogen = 2 methane + 1 molecular oxygen\n\n### <span style=\"color:blue\"> so that printing your data structure produces the entire reaction set.</span> "
    },
    {
      "metadata": {},
      "cell_type": "markdown",
      "source": "All reactions will be stored in a `list` structure. One reaction per element in the list."
    },
    {
      "metadata": {
        "trusted": false
      },
      "cell_type": "code",
      "source": "rxn = list(range(3))\n\nrxn[0] = '1*'+ch4['formula']+' + '+'1*'+o2['formula']+' <=> '+'1*'+co2['formula']+' + '+'2*'+h2['formula']\nrxn[1] = '2*'+ h2['formula']+' + '+'1*'+o2['formula']+' <=> '+'2*'+h2o['formula']\nrxn[2] = '2*'+ co['formula']+' + '+'4*'+h2['formula']+' <=> '+'2*'+ch4['formula'] + ' + ' +'1*'+o2['formula']\n\nprint(rxn[0])\nprint(rxn[1])\nprint(rxn[2])",
      "execution_count": 7,
      "outputs": [
        {
          "name": "stdout",
          "output_type": "stream",
          "text": "1*CH4 + 1*O2 <=> 1*CO2 + 2*H2\n2*H2 + 1*O2 <=> 2*H2O\n2*CO + 4*H2 <=> 2*CH4 + 1*O2\n"
        }
      ]
    },
    {
      "metadata": {},
      "cell_type": "markdown",
      "source": "## <span style=\"color:blue\">Assignment 3 (20 pts).</span>\n### <span style=\"color:blue\">Build a vector of signed stoichiometric coefficients for each reaction. Provide an output of the data.\n</span>"
    },
    {
      "metadata": {},
      "cell_type": "markdown",
      "source": "In view of the next assignments, create a `numpy` vector for each set of stoichiometric coefficient."
    },
    {
      "metadata": {
        "trusted": false
      },
      "cell_type": "code",
      "source": "import numpy as np\n\nstoic_rxn = [-1, -1, 1, 2]\nstoic_rxn1 = np.array(stoic_rxn)\n\nstoic_rxn = [-2,-1,2]\nstoic_rxn2 = np.array(stoic_rxn)\n\nstoic_rxn = [-2, -4, 2, 1]\nstoic_rxn3 = np.array(stoic_rxn)\n\nprint('stoic_rxn 1 =', stoic_rxn1)\nprint('stoic_rxn 2 =', stoic_rxn2)\nprint('stoic_rxn 3 =', stoic_rxn3)",
      "execution_count": 8,
      "outputs": [
        {
          "name": "stdout",
          "output_type": "stream",
          "text": "stoic_rxn 1 = [-1 -1  1  2]\nstoic_rxn 2 = [-2 -1  2]\nstoic_rxn 3 = [-2 -4  2  1]\n"
        }
      ]
    },
    {
      "metadata": {},
      "cell_type": "markdown",
      "source": "## <span style=\"color:blue\">Assignment 4 (20 pts).</span>\n### <span style=\"color:blue\">For each reaction, build a vector of molar mass values for the species involved and multiply by the corresponding vector of signed stoichiometric coefficients in Assignment 3.</span>"
    },
    {
      "metadata": {},
      "cell_type": "markdown",
      "source": "Using element dictionaries previously created, create molar mass vectors for the species involved in the reactions and carry out an element-by-element vector product with the vector of stoichiometric coefficients."
    },
    {
      "metadata": {
        "trusted": false
      },
      "cell_type": "code",
      "source": "#1*CH4 + 1*O2 <=> 1*CO2 + 2*H2\n#2*H2 + 1*O2 <=> 2*H2O\n#2*CO + 4*H2 <=> 2*CH4 + 1*O2\n\nmolar_mass = [ ch4['molar_mass'], o2['molar_mass'], co2['molar_mass'], h2['molar_mass'] ]\nmolar_mass_rxn1 = np.array(molar_mass)\n\nmolar_mass = [ h2['molar_mass'], o2['molar_mass'], h2o['molar_mass'] ]\nmolar_mass_rxn2 = np.array(molar_mass)\n\nmolar_mass = [ co['molar_mass'], h2['molar_mass'], ch4['molar_mass'], o2['molar_mass'] ]\nmolar_mass_rxn3 = np.array(molar_mass)\n\nprint('molar masses per reaction')\nprint(molar_mass_rxn1)\nprint(molar_mass_rxn2)\nprint(molar_mass_rxn3)\n\nprint('')\n\nprint('stoichiometric coefficient vector product with molar masses')\nstoic_x_molar_mass_rxn1 = stoic_rxn1 * molar_mass_rxn1\nprint(stoic_x_molar_mass_rxn1)\nstoic_x_molar_mass_rxn2 = stoic_rxn2 * molar_mass_rxn2\nprint(stoic_x_molar_mass_rxn2)\nstoic_x_molar_mass_rxn3 = stoic_rxn3 * molar_mass_rxn3\nprint(stoic_x_molar_mass_rxn3)",
      "execution_count": 9,
      "outputs": [
        {
          "name": "stdout",
          "output_type": "stream",
          "text": "molar masses per reaction\n[16 32 44  2]\n[ 2 32 18]\n[28  2 16 32]\n\nstoichiometric coefficient vector product with molar masses\n[-16 -32  44   4]\n[ -4 -32  36]\n[-56  -8  32  32]\n"
        }
      ]
    },
    {
      "metadata": {},
      "cell_type": "markdown",
      "source": "## <span style=\"color:blue\">Assignment 5 (20 pts).</span>\n### <span style=\"color:blue\">For each vector in Assignment 4, sum all the entries, provide the output of the results, and explain the results obtained.</span>"
    },
    {
      "metadata": {},
      "cell_type": "markdown",
      "source": "Perform the mass balance per reaction by summing the product vectors."
    },
    {
      "metadata": {
        "trusted": false
      },
      "cell_type": "code",
      "source": "print('stoic_x_molar_rxn1 =',np.sum(stoic_x_molar_mass_rxn1))\nprint('stoic_x_molar_rxn2 =',np.sum(stoic_x_molar_mass_rxn2))\nprint('stoic_x_molar_rxn3 =',np.sum(stoic_x_molar_mass_rxn3))",
      "execution_count": 10,
      "outputs": [
        {
          "name": "stdout",
          "output_type": "stream",
          "text": "stoic_x_molar_rxn1 = 0\nstoic_x_molar_rxn2 = 0\nstoic_x_molar_rxn3 = 0\n"
        }
      ]
    },
    {
      "metadata": {},
      "cell_type": "markdown",
      "source": "This is the statement of mass conservation per chemical reaction."
    }
  ],
  "metadata": {
    "kernelspec": {
      "name": "python3",
      "display_name": "Python 3",
      "language": "python"
    },
    "language_info": {
      "mimetype": "text/x-python",
      "nbconvert_exporter": "python",
      "name": "python",
      "file_extension": ".py",
      "version": "3.5.4",
      "pygments_lexer": "ipython3",
      "codemirror_mode": {
        "version": 3,
        "name": "ipython"
      }
    },
    "latex_envs": {
      "LaTeX_envs_menu_present": true,
      "autoclose": false,
      "autocomplete": true,
      "bibliofile": "biblio.bib",
      "cite_by": "apalike",
      "current_citInitial": 1,
      "eqLabelWithNumbers": true,
      "eqNumInitial": 1,
      "hotkeys": {
        "equation": "Ctrl-E",
        "itemize": "Ctrl-I"
      },
      "labels_anchors": false,
      "latex_user_defs": false,
      "report_style_numbering": false,
      "user_envs_cfg": false
    }
  },
  "nbformat": 4,
  "nbformat_minor": 2
}