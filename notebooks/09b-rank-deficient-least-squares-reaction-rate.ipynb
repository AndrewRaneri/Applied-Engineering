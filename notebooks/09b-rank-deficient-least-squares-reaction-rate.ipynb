{
 "cells": [
  {
   "cell_type": "markdown",
   "metadata": {},
   "source": [
    "ChEn-3170: Computational Methods in Chemical Engineering Spring 2020 UMass Lowell; Prof. V. F. de Almeida **03Feb20**\n",
    "\n",
    "# 09b. Rank-Deficient Least-Squares Reaction Rates\n",
    "$  \n",
    "  \\newcommand{\\Amtrx}{\\boldsymbol{\\mathsf{A}}}\n",
    "  \\newcommand{\\Bmtrx}{\\boldsymbol{\\mathsf{B}}}\n",
    "  \\newcommand{\\Mmtrx}{\\boldsymbol{\\mathsf{M}}}\n",
    "  \\newcommand{\\Imtrx}{\\boldsymbol{\\mathsf{I}}}\n",
    "  \\newcommand{\\Pmtrx}{\\boldsymbol{\\mathsf{P}}}\n",
    "  \\newcommand{\\Lmtrx}{\\boldsymbol{\\mathsf{L}}}\n",
    "  \\newcommand{\\Umtrx}{\\boldsymbol{\\mathsf{U}}}\n",
    "  \\newcommand{\\Smtrx}{\\boldsymbol{\\mathsf{S}}}\n",
    "  \\newcommand{\\xvec}{\\boldsymbol{\\mathsf{x}}}\n",
    "  \\newcommand{\\avec}{\\boldsymbol{\\mathsf{a}}}\n",
    "  \\newcommand{\\bvec}{\\boldsymbol{\\mathsf{b}}}\n",
    "  \\newcommand{\\cvec}{\\boldsymbol{\\mathsf{c}}}\n",
    "  \\newcommand{\\rvec}{\\boldsymbol{\\mathsf{r}}}\n",
    "  \\newcommand{\\mvec}{\\boldsymbol{\\mathsf{m}}}\n",
    "  \\newcommand{\\gvec}{\\boldsymbol{\\mathsf{g}}}\n",
    "  \\newcommand{\\zerovec}{\\boldsymbol{\\mathsf{0}}}\n",
    "  \\newcommand{\\norm}[1]{\\bigl\\lVert{#1}\\bigr\\rVert}\n",
    "  \\newcommand{\\transpose}[1]{{#1}^\\top}\n",
    "  \\DeclareMathOperator{\\rank}{rank}\n",
    "$"
   ]
  },
  {
   "cell_type": "markdown",
   "metadata": {},
   "source": [
    "---\n",
    "## Table of Contents\n",
    "* [Rank-Deficient Reaction mechanism](#rxnmech)\n",
    "* [Full-Rank Reaction Sub-Mechanisms](#submech)\n",
    "* [Full-Rank Least-Squares Reaction Rates](#lsr)\n",
    "* [Residuals of All Sub-Mechanisms](#residuals)\n",
    "* [Rank-Deficient Basic Least-Squares Reaction Rate Solution](#rankdef1)\n",
    "* [Rank-Deficient Mininum Norm Least-Squares Reaction Rate Solution](#rankdef2)\n",
    "---"
   ]
  },
  {
   "cell_type": "markdown",
   "metadata": {},
   "source": [
    "## Rank-deficient reaction mechanism<a id=\"rxnmech\"></a>\n",
    "Refer to course Notebook 09."
   ]
  },
  {
   "cell_type": "code",
   "execution_count": 1,
   "metadata": {},
   "outputs": [
    {
     "name": "stdout",
     "output_type": "stream",
     "text": [
      "['H2', 'H', 'CO2', 'OH', 'H2O', 'CO']\n",
      "r0 :  H2O + CO <=> CO2 + H2\n",
      "r1 :  H2O + H  <=> H2  + OH\n",
      "r2 :  OH  + CO <=> CO2 + H\n",
      "n_reactions = 3\n"
     ]
    }
   ],
   "source": [
    "'''Read a reaction mechanism and create data structures'''\n",
    "\n",
    "from chen_3170.toolkit import reaction_mechanism # replace with your code\n",
    "\n",
    "# build the stoichiometric matrix\n",
    "(species, reactions, stoic_mtrx, dummy, dummy) = reaction_mechanism('data/water-gas-shift-rxn.txt', shuffle=False)\n",
    "\n",
    "print(species)\n",
    "from chen_3170.help import print_reactions\n",
    "print_reactions(reactions)"
   ]
  },
  {
   "cell_type": "code",
   "execution_count": 3,
   "metadata": {},
   "outputs": [
    {
     "name": "stdout",
     "output_type": "stream",
     "text": [
      "matrix shape = (3, 6)\n"
     ]
    },
    {
     "data": {
      "image/png": "[encoded data removed]",
      "text/plain": [
       "<Figure size 1440x288 with 1 Axes>"
      ]
     },
     "metadata": {
      "needs_background": "light"
     },
     "output_type": "display_data"
    },
    {
     "name": "stdout",
     "output_type": "stream",
     "text": [
      "stoic_mtrx=\n",
      " [[ 1.  0.  1.  0. -1. -1.]\n",
      " [ 1. -1.  0.  1. -1.  0.]\n",
      " [ 0.  1.  1. -1.  0. -1.]]\n"
     ]
    }
   ],
   "source": [
    "'''Check the stoichiometric matrix'''\n",
    "\n",
    "from chen_3170.help import plot_matrix\n",
    "\n",
    "plot_matrix(stoic_mtrx, title='Stoichiometric Matrix')\n",
    "import numpy as np\n",
    "np.set_printoptions(precision=3,threshold=100,edgeitems=5)\n",
    "print('stoic_mtrx=\\n',stoic_mtrx)"
   ]
  },
  {
   "cell_type": "markdown",
   "metadata": {},
   "source": [
    "## Full-rank, reaction sub-mechanisms<a id=\"submech\"></a>\n",
    "Refer to course Notebook 07."
   ]
  },
  {
   "cell_type": "code",
   "execution_count": 4,
   "metadata": {},
   "outputs": [
    {
     "name": "stdout",
     "output_type": "stream",
     "text": [
      "# reactions =  3\n",
      "# species   =  6\n",
      "rank of S =  2\n",
      "# of all possible sub_mechanisms = 3\n",
      "# of full-rank sub_mechanisms = 3\n"
     ]
    }
   ],
   "source": [
    "'''Build the full-rank sub-mechanism reactions list'''\n",
    "\n",
    "from chen_3170.toolkit import sub_mechanisms # replace with your code\n",
    "\n",
    "sub_mechanisms = sub_mechanisms( species, reactions, stoic_mtrx )"
   ]
  },
  {
   "cell_type": "code",
   "execution_count": 5,
   "metadata": {},
   "outputs": [
    {
     "name": "stdout",
     "output_type": "stream",
     "text": [
      "[(0, 1), ['H2O + CO <=> CO2 + H2', 'H2O + H  <=> H2  + OH'], array([[ 1.,  0.,  1.,  0., -1., -1.],\n",
      "       [ 1., -1.,  0.,  1., -1.,  0.]]), 10.0]\n"
     ]
    }
   ],
   "source": [
    "'''Top reaction sub-mechanism'''\n",
    "\n",
    "sub_mechanism_1 = sub_mechanisms[0]\n",
    "print(sub_mechanism_1)"
   ]
  },
  {
   "cell_type": "code",
   "execution_count": 6,
   "metadata": {},
   "outputs": [
    {
     "name": "stdout",
     "output_type": "stream",
     "text": [
      "S_1=\n",
      " [[ 1.  0.  1.  0. -1. -1.]\n",
      " [ 1. -1.  0.  1. -1.  0.]]\n"
     ]
    }
   ],
   "source": [
    "'''Top reaction sub-mechanism stoichiometric matrix'''\n",
    "\n",
    "stoic_mtrx_1 = sub_mechanism_1[2]\n",
    "\n",
    "#( dummy, dummy, stoic_mtrx_1 ) = reaction_mechanism( reactions = reactions_1 ) # taking advantage of this function\n",
    "\n",
    "#plot_matrix(stoic_mtrx_1, title='Sub-Mech 1')\n",
    "print('S_1=\\n',stoic_mtrx_1)"
   ]
  },
  {
   "cell_type": "code",
   "execution_count": 7,
   "metadata": {},
   "outputs": [
    {
     "name": "stdout",
     "output_type": "stream",
     "text": [
      "[(0, 2), ['H2O + CO <=> CO2 + H2', 'OH  + CO <=> CO2 + H'], array([[ 1.,  0.,  1.,  0., -1., -1.],\n",
      "       [ 0.,  1.,  1., -1.,  0., -1.]]), 10.0]\n"
     ]
    }
   ],
   "source": [
    "'''Another top reaction sub-mechanism'''\n",
    "\n",
    "sub_mechanism_2 = sub_mechanisms[1]\n",
    "print(sub_mechanism_2)"
   ]
  },
  {
   "cell_type": "code",
   "execution_count": 8,
   "metadata": {},
   "outputs": [
    {
     "name": "stdout",
     "output_type": "stream",
     "text": [
      "S_2=\n",
      " [[ 1.  0.  1.  0. -1. -1.]\n",
      " [ 0.  1.  1. -1.  0. -1.]]\n"
     ]
    }
   ],
   "source": [
    "'''Another top reaction sub-mechanism stoichiometric matrix'''\n",
    "\n",
    "stoic_mtrx_2 = sub_mechanism_2[2]\n",
    "\n",
    "#( dummy, dummy, stoic_mtrx_2 ) = reaction_mechanism( reactions = reactions_2 ) # taking advantage of this function\n",
    "\n",
    "#plot_matrix(stoic_mtrx_1, title='Sub-Mech 2')\n",
    "print('S_2=\\n',stoic_mtrx_2)"
   ]
  },
  {
   "cell_type": "markdown",
   "metadata": {},
   "source": [
    "## Full-rank least-squares reaction rates<a id=\"lsr\"></a>\n",
    "Refer to course Notebook 07."
   ]
  },
  {
   "cell_type": "code",
   "execution_count": 59,
   "metadata": {},
   "outputs": [],
   "source": [
    "'''Use given production rate'''\n",
    "\n",
    "import numpy as np\n",
    "#                ['OH', 'CO', 'CO2', 'H2', 'H', 'H2O']\n",
    "g_exp = dict()\n",
    "\n",
    "g_exp['H']   = -1\n",
    "g_exp['H2']  =  3\n",
    "g_exp['OH']  =  1\n",
    "g_exp['H2O'] = -3\n",
    "g_exp['CO']  = -2\n",
    "g_exp['CO2'] =  2\n",
    "\n",
    "g_vec = np.array( [g_exp[spc] for spc in species] )"
   ]
  },
  {
   "cell_type": "markdown",
   "metadata": {},
   "source": [
    "Here, let's compute $\\rvec_1$ for \n",
    "$\n",
    "\\Smtrx_1\\,\\Smtrx_1^\\top\\,\\rvec_1  = \\Smtrx_1\\,\\gvec .\n",
    "$"
   ]
  },
  {
   "cell_type": "code",
   "execution_count": 10,
   "metadata": {},
   "outputs": [
    {
     "name": "stdout",
     "output_type": "stream",
     "text": [
      "species production rates g_vec = [ 3 -1  2  1 -3 -2]\n",
      "reaction rates r_vec_1= [2. 1.]\n",
      "residual norm g - ST_1 r_1 = 0.00000e+00\n"
     ]
    }
   ],
   "source": [
    "'''Compute the LS reaction rates for random species production rates'''\n",
    "\n",
    "# build A x = b LS problem\n",
    "a_mtrx = stoic_mtrx_1 @ stoic_mtrx_1.transpose() # A = S ST, A is the normal matrix\n",
    "b_vec  = stoic_mtrx_1 @ g_vec                    # b = S g\n",
    "\n",
    "from chen_3170.toolkit import lu_factorization # replace with your code\n",
    "\n",
    "# matrix LU factorization of A, the normal matrix\n",
    "(P,L,U,s_rank) = lu_factorization( a_mtrx, 'partial' ) # matrix is full rank; partial pivoting works\n",
    "assert s_rank == np.linalg.matrix_rank(stoic_mtrx_1)\n",
    "\n",
    "from chen_3170.help import forward_solve\n",
    "from chen_3170.toolkit import backward_solve # replace with your code\n",
    "\n",
    "# solve the LS problem: A x = b\n",
    "y_vec = forward_solve( L, P @ b_vec)   # L y = P b\n",
    "x_vec = backward_solve( U, y_vec)      # U x = y\n",
    "assert np.linalg.norm(x_vec - np.linalg.solve(a_mtrx,b_vec)) < 1e-12\n",
    "\n",
    "print('species production rates g_vec =',g_vec)\n",
    "\n",
    "r_vec_1 = x_vec # r_1 = x\n",
    "print('reaction rates r_vec_1=',r_vec_1)\n",
    "residual_vec_1 = g_vec - stoic_mtrx_1.transpose() @ r_vec_1\n",
    "print('residual norm g - ST_1 r_1 = %8.5e'%np.linalg.norm(residual_vec_1))"
   ]
  },
  {
   "cell_type": "code",
   "execution_count": 11,
   "metadata": {},
   "outputs": [
    {
     "name": "stdout",
     "output_type": "stream",
     "text": [
      "r0 :  H2O + CO <=> CO2 + H2\n",
      "r1 :  H2O + H  <=> H2  + OH\n",
      "n_reactions = 2\n",
      "(0, 1)\n",
      "\n",
      "r0 :  H2O + CO <=> CO2 + H2\n",
      "r1 :  H2O + H  <=> H2  + OH\n",
      "r2 :  OH  + CO <=> CO2 + H\n",
      "n_reactions = 3\n"
     ]
    }
   ],
   "source": [
    "'''Which reaction rates are these?'''\n",
    "\n",
    "from chen_3170.help import print_reactions\n",
    "\n",
    "print_reactions(sub_mechanism_1[1])\n",
    "print(sub_mechanism_1[0])\n",
    "print('')\n",
    "print_reactions(reactions)"
   ]
  },
  {
   "cell_type": "markdown",
   "metadata": {},
   "source": [
    "Here, let's compute $\\rvec_2$ for \n",
    "$\n",
    "\\Smtrx_2\\,\\Smtrx_2^\\top\\,\\rvec_2  = \\Smtrx_2\\,\\gvec .\n",
    "$"
   ]
  },
  {
   "cell_type": "code",
   "execution_count": 12,
   "metadata": {},
   "outputs": [
    {
     "name": "stdout",
     "output_type": "stream",
     "text": [
      "species production rates g_vec = [ 3 -1  2  1 -3 -2]\n",
      "reaction rates r_vec_2= [ 3. -1.]\n",
      "residual norm g - ST_2 r_2 = 0.00000e+00\n"
     ]
    }
   ],
   "source": [
    "'''Compute the LS reaction rates for random species production rates'''\n",
    "\n",
    "# build A x = b LS problem\n",
    "a_mtrx = stoic_mtrx_2 @ stoic_mtrx_2.transpose() # A = S ST, A is the normal matrix\n",
    "b_vec  = stoic_mtrx_2 @ g_vec                    # b = S g\n",
    "\n",
    "from chen_3170.toolkit import lu_factorization # replace with your code\n",
    "\n",
    "# matrix LU factorization of A\n",
    "(P,L,U,s_rank) = lu_factorization( a_mtrx, 'partial' ) # matrix is full rank; partial pivoting works\n",
    "assert s_rank == np.linalg.matrix_rank(stoic_mtrx_2)\n",
    "\n",
    "from chen_3170.help import forward_solve\n",
    "from chen_3170.toolkit import backward_solve # replace with your code\n",
    "\n",
    "# solve the LS problem: A x = b\n",
    "y_vec = forward_solve( L, P @ b_vec )\n",
    "x_vec = backward_solve( U, y_vec )\n",
    "assert np.linalg.norm(x_vec - np.linalg.solve(a_mtrx,b_vec)) < 1e-12\n",
    "\n",
    "print('species production rates g_vec =',g_vec)\n",
    "\n",
    "r_vec_2 = x_vec # r_2 = x\n",
    "print('reaction rates r_vec_2=',r_vec_2)\n",
    "residual_vec_2 = g_vec - stoic_mtrx_2.transpose() @ r_vec_2\n",
    "print('residual norm g - ST_2 r_2 = %8.5e'%np.linalg.norm(residual_vec_2))"
   ]
  },
  {
   "cell_type": "code",
   "execution_count": 13,
   "metadata": {},
   "outputs": [
    {
     "name": "stdout",
     "output_type": "stream",
     "text": [
      "r0 :  H2O + CO <=> CO2 + H2\n",
      "r1 :  OH  + CO <=> CO2 + H\n",
      "n_reactions = 2\n",
      "(0, 2)\n",
      "\n",
      "r0 :  H2O + CO <=> CO2 + H2\n",
      "r1 :  H2O + H  <=> H2  + OH\n",
      "r2 :  OH  + CO <=> CO2 + H\n",
      "n_reactions = 3\n"
     ]
    }
   ],
   "source": [
    "'''Which reaction rates are these?'''\n",
    "\n",
    "from chen_3170.help import print_reactions\n",
    "\n",
    "print_reactions(sub_mechanism_2[1])\n",
    "print(sub_mechanism_2[0])\n",
    "print('')\n",
    "print_reactions(reactions)"
   ]
  },
  {
   "cell_type": "markdown",
   "metadata": {},
   "source": [
    "Note that the sub-mechanisms rates $\\rvec_1$ and $\\rvec_2$ are different, but the corresponding residuals $\\gvec - \\Smtrx_1^\\top\\,\\rvec_1$, and $\\gvec - \\Smtrx_2^\\top\\,\\rvec_2$, are equal!"
   ]
  },
  {
   "cell_type": "code",
   "execution_count": 14,
   "metadata": {},
   "outputs": [
    {
     "name": "stdout",
     "output_type": "stream",
     "text": [
      "r_vec_1 - r_vec_2             = [-1.  2.]\n",
      "g - ST_1 r_1 - (g - ST_2 r_2) = [0. 0. 0. 0. 0. 0.]\n"
     ]
    }
   ],
   "source": [
    "print('r_vec_1 - r_vec_2             =',r_vec_1 - r_vec_2)\n",
    "np.set_printoptions(precision=3)\n",
    "print('g - ST_1 r_1 - (g - ST_2 r_2) =',(g_vec-stoic_mtrx_1.transpose()@r_vec_1)-(g_vec-stoic_mtrx_2.transpose()@r_vec_2))"
   ]
  },
  {
   "cell_type": "markdown",
   "metadata": {},
   "source": [
    "## Residuals of all sub-mechanisms<a id=\"residuals\"></a>\n",
    "Let us verify the previous residual result for all sub-mechanims. Here we will compute $\\Smtrx_k$ for $k=1,\\ldots,$# of full-rank sub-mechanisms and the corresponding LS reaction rates $\\rvec_k$ and residuals\n",
    "\n",
    "\n",
    "\\begin{equation*}\n",
    "\\gvec - \\Smtrx_k^\\top\\,\\rvec_k .\n",
    "\\end{equation*}\n",
    "\n"
   ]
  },
  {
   "cell_type": "code",
   "execution_count": 15,
   "metadata": {},
   "outputs": [
    {
     "name": "stdout",
     "output_type": "stream",
     "text": [
      "rxns ids = (0, 1)\n",
      "       r = [2. 1.]\n",
      "   ||r|| = 2.236e+00\n",
      "g - ST r     = [0. 0. 0. 0. 0. 0.]\n",
      "||g - ST r|| = 0.000e+00\n",
      "\n",
      "rxns ids = (0, 2)\n",
      "       r = [ 3. -1.]\n",
      "   ||r|| = 3.162e+00\n",
      "g - ST r     = [0. 0. 0. 0. 0. 0.]\n",
      "||g - ST r|| = 0.000e+00\n",
      "\n",
      "rxns ids = (1, 2)\n",
      "       r = [3. 2.]\n",
      "   ||r|| = 3.606e+00\n",
      "g - ST r     = [0. 0. 0. 0. 0. 0.]\n",
      "||g - ST r|| = 0.000e+00\n",
      "\n"
     ]
    }
   ],
   "source": [
    "'''Compute the LS residual for all full-rank reaction sub-mechanisms'''\n",
    "\n",
    "import numpy as np\n",
    "\n",
    "sub_mech_rxn_rates_mtrx = np.zeros( (s_rank,len(sub_mechanisms)) )       # column-wise storage of all r_k's\n",
    "sub_mech_residuals_mtrx = np.zeros( (len(species),len(sub_mechanisms)) ) # column-wise storage of all g - ST_k r_k\n",
    "\n",
    "np.set_printoptions(precision=2)\n",
    "\n",
    "for sub_mech in sub_mechanisms:\n",
    "    \n",
    "    stoic_mtrx_k = sub_mech[2] # view of stoichiometric matrix for sub-mechanism\n",
    "  \n",
    "    # assemble LS problem matrix and right side\n",
    "    a_mtrx = stoic_mtrx_k @ stoic_mtrx_k.transpose()  # A = S ST, A is the normal matrix\n",
    "    b_vec  = stoic_mtrx_k @ g_vec                     # b = S g\n",
    "\n",
    "    # matrix LU factorization of A\n",
    "    (P,L,U,s_rank) = lu_factorization( a_mtrx, 'partial' ) # matrix is full rank; partial pivoting works\n",
    "    assert s_rank == np.linalg.matrix_rank(stoic_mtrx_k)\n",
    "\n",
    "    # solve the LS problem: A x = b\n",
    "    y_vec = forward_solve( L, P @ b_vec)  # L y = P b\n",
    "    x_vec = backward_solve( U, y_vec)     # U x = y\n",
    "    assert np.linalg.norm(x_vec - np.linalg.solve(a_mtrx,b_vec)) < 1e-12\n",
    "    \n",
    "    r_vec = x_vec  # r = x\n",
    "    sub_mech_rxn_rates_mtrx[:,sub_mechanisms.index(sub_mech)] = r_vec\n",
    "    \n",
    "    print('rxns ids =',sub_mech[0])\n",
    "    print('       r =', r_vec)\n",
    "    \n",
    "    rate_norm = np.linalg.norm(r_vec)\n",
    "    print('   ||r|| = %8.3e'%rate_norm)\n",
    "    \n",
    "    residual = g_vec - stoic_mtrx_k.transpose() @ r_vec\n",
    "    sub_mech_residuals_mtrx[:,sub_mechanisms.index(sub_mech)] = residual\n",
    "    print('g - ST r     =',residual)\n",
    "    print('||g - ST r|| = %8.3e'%np.linalg.norm(residual))\n",
    "    print('')\n"
   ]
  },
  {
   "cell_type": "code",
   "execution_count": 16,
   "metadata": {},
   "outputs": [
    {
     "data": {
      "image/png": "[encoded data removed]",
      "text/plain": [
       "<Figure size 1440x432 with 1 Axes>"
      ]
     },
     "metadata": {
      "needs_background": "light"
     },
     "output_type": "display_data"
    }
   ],
   "source": [
    "'''Plot the LS reaction rates for all full-rank sub-mechanisms'''\n",
    "\n",
    "from matplotlib import pyplot as plt # import the pyplot function of the matplotlib package\n",
    "fig, ax = plt.subplots(figsize=(20,6))\n",
    "\n",
    "ax.plot(range(sub_mech_rxn_rates_mtrx.shape[1]), np.linalg.norm(sub_mech_rxn_rates_mtrx,axis=0), \n",
    "        '-.',color='black', marker='*',markersize=12)\n",
    "\n",
    "plt.xticks(range(sub_mech_rxn_rates_mtrx.shape[1]),[sm[0] for sm in sub_mechanisms],rotation=60,fontsize=14)\n",
    "ax.set_ylabel('Reaction Rate Norm',fontsize=16)\n",
    "ax.set_xlabel('Reaction Sub-Mechanism',fontsize=16)\n",
    "ax.xaxis.grid(True,linestyle='-',which='major',color='lightgrey',alpha=0.9)\n",
    "fig.suptitle('Full-Rank (%i) LS Reaction Rates Magnitude of All Sub-Mechanisms'%(s_rank),fontsize=20)\n",
    "plt.show()"
   ]
  },
  {
   "cell_type": "code",
   "execution_count": 17,
   "metadata": {},
   "outputs": [
    {
     "name": "stdout",
     "output_type": "stream",
     "text": [
      "sub-mechanism id.              = 0\n",
      "minimum norm sub-mech rxn rate = 2.2361e+00\n",
      "sub-mechanism rxn id           = (0, 1)\n",
      "r0 :  H2O + CO <=> CO2 + H2\n",
      "r1 :  H2O + H  <=> H2  + OH\n",
      "n_reactions = 2\n",
      "sub-mechanism rxn score        = 10.00\n"
     ]
    }
   ],
   "source": [
    "'''Print the LS reaction rate with minimum norm (unique)'''\n",
    "\n",
    "rate_min = np.linalg.norm(sub_mech_rxn_rates_mtrx,axis=0).min()\n",
    "idx_min = np.argmin( np.linalg.norm(sub_mech_rxn_rates_mtrx,axis=0) )\n",
    "print('sub-mechanism id.              = %i'%idx_min)\n",
    "print('minimum norm sub-mech rxn rate = %8.4e'%rate_min)\n",
    "print('sub-mechanism rxn id           =', sub_mechanisms[idx_min][0])\n",
    "print_reactions(sub_mechanisms[idx_min][1])\n",
    "print('sub-mechanism rxn score        = %4.2f'%sub_mechanisms[idx_min][3])"
   ]
  },
  {
   "cell_type": "code",
   "execution_count": 18,
   "metadata": {},
   "outputs": [
    {
     "data": {
      "image/png": "[encoded data removed]",
      "text/plain": [
       "<Figure size 1440x432 with 1 Axes>"
      ]
     },
     "metadata": {
      "needs_background": "light"
     },
     "output_type": "display_data"
    }
   ],
   "source": [
    "'''Plot the LS residual norms of all full-rank sub-mechanisms'''\n",
    "\n",
    "from matplotlib import pyplot as plt # import the pyplot function of the matplotlib package\n",
    "fig, ax = plt.subplots(figsize=(20,6))\n",
    "\n",
    "ax.plot(range(sub_mech_residuals_mtrx.shape[1]), np.linalg.norm(sub_mech_residuals_mtrx,axis=0),\n",
    "        '-.',color='red',marker='*',markersize=12)\n",
    "\n",
    "plt.xticks(range(sub_mech_residuals_mtrx.shape[1]),[smr[0] for smr in sub_mechanisms],rotation=60,fontsize=14)\n",
    "ax.set_ylabel('Residual Norm',fontsize=16)\n",
    "ax.set_xlabel('Reaction Sub-Mechanisms',fontsize=16)\n",
    "ax.xaxis.grid(True,linestyle='-',which='major',color='lightgrey',alpha=0.9)\n",
    "fig.suptitle('Full-Rank LS Residuals of All Sub-Mechanisms w/ Rank = '+str(s_rank),fontsize=20)\n",
    "plt.show()"
   ]
  },
  {
   "cell_type": "markdown",
   "metadata": {},
   "source": [
    "## Rank-deficient basic least-squares reaction rate solution<a id=\"rankdef1\"></a>\n",
    "Despite all the foregoing development, we have not solved the original problem yet, namely\n",
    "\n",
    "\\begin{equation*}\n",
    "\\Smtrx^\\top\\,\\rvec = \\gvec .\n",
    "\\end{equation*}\n",
    "\n",
    "However this problem is related to the series of sub-mechanisms we just analyzed. To see this, assemble the matrix of sub-mechanism reaction rates mapped into the original reaction dimension $m$ by completing the additional entries with zeros. We denote this vector mapping $\\rvec_k\\longrightarrow\\hat{\\rvec}_k$ and the vectors \n",
    "$\\hat{\\rvec}_k$ as **basic** vectors. \n",
    "\n",
    "Then we show that all **basic** vectors produce the same residual vectors, that is:\n",
    "\n",
    "\\begin{equation*}\n",
    "\\gvec - \\Smtrx^\\top\\,\\hat{\\rvec}_k\n",
    "\\end{equation*}\n",
    "\n",
    "is invariant for any $\\hat{\\rvec}_k$ and has the same norm as the residuals $\\gvec - \\Smtrx_k^\\top\\,\\rvec_k$. All residuals being equal, we choose the rank-deficient least-squares **basic** solution as the $\\hat{\\rvec}_k$ of minimum norm."
   ]
  },
  {
   "cell_type": "code",
   "execution_count": 19,
   "metadata": {},
   "outputs": [],
   "source": [
    "'''Map r_k --> \\hat{r} rates'''\n",
    "\n",
    "mech_rxn_rates_mtrx = np.zeros((len(reactions),len(sub_mechanisms)))\n",
    "\n",
    "for sm in sub_mechanisms:\n",
    "    sm_idx = sub_mechanisms.index(sm)\n",
    "    rxn_idxs = sm[0]\n",
    "    mech_rxn_rates_mtrx[rxn_idxs,sm_idx] = sub_mech_rxn_rates_mtrx[:,sm_idx] # map "
   ]
  },
  {
   "cell_type": "code",
   "execution_count": 20,
   "metadata": {},
   "outputs": [
    {
     "name": "stdout",
     "output_type": "stream",
     "text": [
      "matrix shape = (3, 3)\n"
     ]
    },
    {
     "data": {
      "image/png": "[encoded data removed]",
      "text/plain": [
       "<Figure size 1440x288 with 1 Axes>"
      ]
     },
     "metadata": {
      "needs_background": "light"
     },
     "output_type": "display_data"
    },
    {
     "name": "stdout",
     "output_type": "stream",
     "text": [
      "[[ 2.  3.  0.]\n",
      " [ 1.  0.  3.]\n",
      " [ 0. -1.  2.]]\n"
     ]
    }
   ],
   "source": [
    "'''Show the mapping in the form of a matrix'''\n",
    "\n",
    "from chen_3170.help import plot_matrix\n",
    "\n",
    "plot_matrix(mech_rxn_rates_mtrx)\n",
    "np.set_printoptions(precision=2,threshold=100,edgeitems=5)\n",
    "print(mech_rxn_rates_mtrx)"
   ]
  },
  {
   "cell_type": "markdown",
   "metadata": {},
   "source": [
    "Compute $\\gvec - \\Smtrx^\\top\\,\\hat{\\rvec}_k$ for all $k$."
   ]
  },
  {
   "cell_type": "code",
   "execution_count": 21,
   "metadata": {},
   "outputs": [
    {
     "name": "stdout",
     "output_type": "stream",
     "text": [
      "residual k = 0 [0. 0. 0. 0. 0. 0.]\n",
      "residual k = 1 [0. 0. 0. 0. 0. 0.]\n",
      "residual k = 2 [0. 0. 0. 0. 0. 0.]\n"
     ]
    }
   ],
   "source": [
    "'''Subtract above from g column by column'''\n",
    "\n",
    "np.set_printoptions(precision=3)\n",
    "\n",
    "for j in range(mech_rxn_rates_mtrx.shape[1]):\n",
    "    tmp = g_vec - (stoic_mtrx.transpose() @ mech_rxn_rates_mtrx)[:,j]\n",
    "    print('residual k = %i'%j,tmp)"
   ]
  },
  {
   "cell_type": "code",
   "execution_count": 22,
   "metadata": {},
   "outputs": [
    {
     "data": {
      "image/png": "[encoded data removed]",
      "text/plain": [
       "<Figure size 1440x432 with 1 Axes>"
      ]
     },
     "metadata": {
      "needs_background": "light"
     },
     "output_type": "display_data"
    }
   ],
   "source": [
    "'''Plot of the input species production rate'''\n",
    "\n",
    "from matplotlib import pyplot as plt # import the pyplot function of the matplotlib package\n",
    "fig, ax = plt.subplots(figsize=(20,6))\n",
    "\n",
    "ax.bar(range(len(species)), g_vec, color='blue')\n",
    "plt.xticks(range(len(species)),species,rotation=60,fontsize=14)\n",
    "ax.set_ylabel('Species Production Rate',fontsize=16)\n",
    "ax.set_xlabel('Species',fontsize=16)\n",
    "ax.xaxis.grid(True,linestyle='-',which='major',color='lightgrey',alpha=0.9)\n",
    "fig.suptitle('Input Species Production Rates ('+str(len(species))+')',fontsize=20)\n",
    "plt.show()"
   ]
  },
  {
   "cell_type": "markdown",
   "metadata": {},
   "source": [
    "Select as **basic** solution of the rank-deficient LS problem: \n",
    "\n",
    "\\begin{equation*}\n",
    "\\min\\limits_k \\norm{\\hat{\\rvec}_k} \\quad\\ \\forall \\quad\\ k=1,\\ldots,\\text{# of full-rank sub-mechanisms} .\n",
    "\\end{equation*}"
   ]
  },
  {
   "cell_type": "code",
   "execution_count": 23,
   "metadata": {},
   "outputs": [
    {
     "data": {
      "image/png": "[encoded data removed]",
      "text/plain": [
       "<Figure size 1440x432 with 1 Axes>"
      ]
     },
     "metadata": {
      "needs_background": "light"
     },
     "output_type": "display_data"
    }
   ],
   "source": [
    "'''Basic least-squares reaction rates'''\n",
    "\n",
    "from matplotlib import pyplot as plt # import the pyplot function of the matplotlib package\n",
    "\n",
    "fig, ax = plt.subplots(figsize=(20,6))\n",
    "ax.bar(range(len(reactions)), mech_rxn_rates_mtrx[:,idx_min], color='orange')\n",
    "plt.xticks(range(len(reactions)),reactions,rotation=60,fontsize=14)\n",
    "ax.set_ylabel('Reaction rate',fontsize=16)\n",
    "ax.set_xlabel('Reaction',fontsize=16)\n",
    "ax.xaxis.grid(True,linestyle='-',which='major',color='lightgrey',alpha=0.9)\n",
    "fig.suptitle('Basic LS Reaction Rates (%s)'%str(s_rank),fontsize=20)\n",
    "plt.show()"
   ]
  },
  {
   "cell_type": "markdown",
   "metadata": {},
   "source": [
    "## Rank-deficient minimum norm least-squares reaction rate solution<a id=\"rankdef2\"></a>\n",
    "\n",
    "To compute the reaction rates vector $\\rvec$ for a given species production vector $\\gvec$ we need to solve:\n",
    "\n",
    "\\begin{equation*}\n",
    "\\Smtrx^\\top\\,\\rvec = \\gvec .\n",
    "\\end{equation*}\n",
    "\n",
    "Since $\\Smtrx$ is rank deficient, a **unique** mininum-norm least squares solution, $\\rvec_\\text{MNLS}$, exists as follows,\n",
    "\n",
    "\\begin{equation*}\n",
    " \\lim\\limits_{\\delta\\rightarrow 0}\\,\\min\\limits_\\rvec \\bigl( \\norm{\\gvec - \\Smtrx^\\top\\,\\rvec_\\text{MNLS}}^2 + \\delta\\norm{\\rvec_\\text{MNLS}}^2 \\bigr) \\quad\\  \\forall \\quad\\ \\rvec.\n",
    "\\end{equation*}\n",
    "\n",
    "This solution is obtained by solving:\n",
    "\n",
    "\\begin{equation*}\n",
    "\\lim\\limits_{\\delta\\rightarrow 0}\\,\\bigl(\\Smtrx\\,\\Smtrx^\\top + \\delta\\Imtrx\\bigr) \\rvec_\\text{MNLS}  = \\Smtrx\\,\\gvec ,\n",
    "\\end{equation*}\n",
    "\n",
    "where $\\Smtrx\\,\\Smtrx^\\top$ is square, symmetric and singular. The least-squares problem is just $\\Amtrx\\,\\xvec=\\bvec$ with\n",
    "$\\Amtrx = \\Smtrx\\,\\Smtrx^\\top + \\delta\\Imtrx$ and $\\bvec = \\Smtrx\\,\\gvec$."
   ]
  },
  {
   "cell_type": "code",
   "execution_count": 56,
   "metadata": {},
   "outputs": [
    {
     "name": "stdout",
     "output_type": "stream",
     "text": [
      "species production rates g_vec = [ 3 -1  2  1 -3 -2]\n",
      "reaction rates r_vec= [1.666 1.333 0.333]\n",
      "   ||r|| = 2.160e+00\n",
      "||g - ST r|| + ||r|| = 2.16077e+00\n"
     ]
    }
   ],
   "source": [
    "'''Compute the LS reaction rates for random species production rates'''\n",
    "\n",
    "# Overdetermined\n",
    "assert stoic_mtrx.transpose().shape[0] > stoic_mtrx.transpose().shape[1]\n",
    "# build A x = b LS problem\n",
    "delta = 1e-3\n",
    "a_mtrx = stoic_mtrx @ stoic_mtrx.transpose() + delta * np.eye(3) # A = S ST + delta I, A is the normal matrix\n",
    "b_vec  = stoic_mtrx @ g_vec                    # b = S g\n",
    "\n",
    "from chen_3170.toolkit import lu_factorization # replace with your code\n",
    "\n",
    "# matrix LU factorization of A, the normal matrix\n",
    "(P,L,U,a_rank) = lu_factorization( a_mtrx, 'partial' ) # matrix is full rank; partial pivoting works\n",
    "assert a_rank == np.linalg.matrix_rank(stoic_mtrx@stoic_mtrx.transpose()+np.eye(3))\n",
    "\n",
    "from chen_3170.help import forward_solve\n",
    "from chen_3170.toolkit import backward_solve # replace with your code\n",
    "\n",
    "# solve the LS problem: A x = b\n",
    "y_vec = forward_solve( L, P @ b_vec)   # L y = P b\n",
    "x_vec = backward_solve( U, y_vec)      # U x = y\n",
    "assert np.linalg.norm(x_vec - np.linalg.solve(a_mtrx,b_vec)) < 1e-12\n",
    "\n",
    "print('species production rates g_vec =',g_vec)\n",
    "\n",
    "r_vec = x_vec # r = x\n",
    "print('reaction rates r_vec=',r_vec)\n",
    "rate_norm = np.linalg.norm(r_vec)\n",
    "print('   ||r|| = %8.3e'%rate_norm)\n",
    "residual_vec = g_vec - stoic_mtrx.transpose() @ r_vec\n",
    "print('||g - ST r|| + ||r|| = %8.5e'%(np.linalg.norm(residual_vec)+rate_norm))"
   ]
  },
  {
   "cell_type": "code",
   "execution_count": 58,
   "metadata": {},
   "outputs": [
    {
     "data": {
      "image/png": "[encoded data removed]",
      "text/plain": [
       "<Figure size 1440x432 with 1 Axes>"
      ]
     },
     "metadata": {
      "needs_background": "light"
     },
     "output_type": "display_data"
    }
   ],
   "source": [
    "'''Minimum norm least-squares reaction rates'''\n",
    "\n",
    "from matplotlib import pyplot as plt # import the pyplot function of the matplotlib package\n",
    "\n",
    "fig, ax = plt.subplots(figsize=(20,6))\n",
    "ax.bar(range(len(reactions)), r_vec, color='orange')\n",
    "plt.xticks(range(len(reactions)),reactions,rotation=60,fontsize=14)\n",
    "ax.set_ylabel('Reaction rate',fontsize=16)\n",
    "ax.set_xlabel('Reaction',fontsize=16)\n",
    "ax.xaxis.grid(True,linestyle='-',which='major',color='lightgrey',alpha=0.9)\n",
    "fig.suptitle('Minimum Norm LS Reaction Rates (%s)'%str(s_rank),fontsize=20)\n",
    "plt.show()"
   ]
  }
 ],
 "metadata": {
  "kernelspec": {
   "display_name": "Python 3",
   "language": "python",
   "name": "python3"
  },
  "language_info": {
   "codemirror_mode": {
    "name": "ipython",
    "version": 3
   },
   "file_extension": ".py",
   "mimetype": "text/x-python",
   "name": "python",
   "nbconvert_exporter": "python",
   "pygments_lexer": "ipython3",
   "version": "3.7.1"
  },
  "latex_envs": {
   "LaTeX_envs_menu_present": true,
   "autoclose": false,
   "autocomplete": true,
   "bibliofile": "biblio.bib",
   "cite_by": "apalike",
   "current_citInitial": 1,
   "eqLabelWithNumbers": true,
   "eqNumInitial": 1,
   "hotkeys": {
    "equation": "Ctrl-E",
    "itemize": "Ctrl-I"
   },
   "labels_anchors": false,
   "latex_user_defs": false,
   "report_style_numbering": false,
   "user_envs_cfg": false
  }
 },
 "nbformat": 4,
 "nbformat_minor": 2
}
