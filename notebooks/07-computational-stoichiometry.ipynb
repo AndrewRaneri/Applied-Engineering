{
 "cells": [
  {
   "cell_type": "markdown",
   "metadata": {},
   "source": [
    "ChEn-3170: Computational Methods in Chemical Engineering Spring 2020 UMass Lowell; Prof. V. F. de Almeida **02Mar20**\n",
    "\n",
    "# 07. Computational Stoichiometry\n",
    "$  \n",
    "  \\newcommand{\\Amtrx}{\\boldsymbol{\\mathsf{A}}}\n",
    "  \\newcommand{\\Bmtrx}{\\boldsymbol{\\mathsf{B}}}\n",
    "  \\newcommand{\\Mmtrx}{\\boldsymbol{\\mathsf{M}}}\n",
    "  \\newcommand{\\Imtrx}{\\boldsymbol{\\mathsf{I}}}\n",
    "  \\newcommand{\\Pmtrx}{\\boldsymbol{\\mathsf{P}}}\n",
    "  \\newcommand{\\Lmtrx}{\\boldsymbol{\\mathsf{L}}}\n",
    "  \\newcommand{\\Umtrx}{\\boldsymbol{\\mathsf{U}}}\n",
    "  \\newcommand{\\Smtrx}{\\boldsymbol{\\mathsf{S}}}\n",
    "  \\newcommand{\\xvec}{\\boldsymbol{\\mathsf{x}}}\n",
    "  \\newcommand{\\avec}{\\boldsymbol{\\mathsf{a}}}\n",
    "  \\newcommand{\\bvec}{\\boldsymbol{\\mathsf{b}}}\n",
    "  \\newcommand{\\cvec}{\\boldsymbol{\\mathsf{c}}}\n",
    "  \\newcommand{\\rvec}{\\boldsymbol{\\mathsf{r}}}\n",
    "  \\newcommand{\\mvec}{\\boldsymbol{\\mathsf{m}}}\n",
    "  \\newcommand{\\gvec}{\\boldsymbol{\\mathsf{g}}}\n",
    "  \\newcommand{\\zerovec}{\\boldsymbol{\\mathsf{0}}}\n",
    "  \\newcommand{\\norm}[1]{\\bigl\\lVert{#1}\\bigr\\rVert}\n",
    "  \\DeclareMathOperator{\\rank}{rank}\n",
    "$"
   ]
  },
  {
   "cell_type": "markdown",
   "metadata": {},
   "source": [
    "---\n",
    "## Table of Contents\n",
    "* [Introduction](#intro)\n",
    "* [Stoichiometric matrix](#stoicmtrx)\n",
    "* [Linear independent reactions](#indepen)\n",
    "* [Full-rank, reaction sub-mechanisms](#subreact)\n",
    "* [Reaction appearance frequency](#rxnfreq)\n",
    "* [Principal reaction sub-mechanisms](#principal)\n",
    "---"
   ]
  },
  {
   "cell_type": "markdown",
   "metadata": {},
   "source": [
    "## Introduction<a id=\"intro\"></a>\n",
    "\"Stoichiometry is essentially the bookkeeping of the material components of a chemical system.\" Rutherford Aris in Elementary Chemical Reactor Analysis. Computational stoichiometry is the matrix analysis of the stoichiometric matrix of a chemical reaction mechanism. We will use it for several purposes: \n",
    " + Evaluate sets of independent reactions\n",
    " + Obtain basic insight on reaction mechanisms from a linear algebra standpoint\n",
    " + Evaluate reaction rates and species production rates\n",
    "\n",
    "Recall course notes OneNote [ChEn-3170-linalg](https://studentuml-my.sharepoint.com/:o:/g/personal/valmor_dealmeida_uml_edu/EkHM3pyx7T9JpikMFFET9XsBCu5gwmKdo7AMeoYqAq5utw?e=DVzp5Y).\n",
    "\n",
    "Also refer to the course notes OneNote [ChEn-3170-stoic](https://studentuml-my.sharepoint.com/:o:/g/personal/valmor_dealmeida_uml_edu/EpyjC-OiqeRGrnhztwwWeK4BTS-WJwB0Z9YAIkEDE_mstg?e=VMcXvi) on computational stoichiometry including an introduction to the linear, full-rank, least-squares method."
   ]
  },
  {
   "cell_type": "markdown",
   "metadata": {},
   "source": [
    "## Stoichiometric matrix<a id=\"stoicmtrx\"></a>\n",
    "After reading a reaction mechanism from file, and storing the input data into data types, construct the stoichiometric coefficient matrix, $\\Smtrx$."
   ]
  },
  {
   "cell_type": "code",
   "execution_count": 1,
   "metadata": {
    "scrolled": false
   },
   "outputs": [
    {
     "name": "stdout",
     "output_type": "stream",
     "text": [
      "#\r\n",
      "# Ammonia oxidation mechanism\r\n",
      "#\r\n",
      "# format\r\n",
      "..str:float\r\n",
      "4 NH3 + 5 O2        <=> 4 NO  + 6 H2O : K_x = 2.5e+02\r\n",
      "4 NH3 + 3 O2        <=> 2 N2  + 6 H2O : K_x = 1.8e+02\r\n",
      "4 NH3 + 6 NO        <=> 5 N2  + 6 H2O : K_x = 1.099692e+02\r\n",
      "2 NO  + 1 O2        <=> 2 NO2         : K_x = 1e+02\r\n",
      "2 NO                <=> 1 N2  + 1 O2  : K_x = 8.485281e-01\r\n",
      "1 N2  + 2 O2        <=> 2 NO2         : K_x = 1.178511e+02\r\n",
      "4 NH3 + 4 NO + 1 O2 <=> 4 N2  + 6 H2O : K_x = 1.296e+02\r\n"
     ]
    }
   ],
   "source": [
    "'''Open file for an ammonia oxidation reaction mechanism'''\n",
    "\n",
    "import io\n",
    "\n",
    "# open file in reading mode 'r' (default), text 't' (default)\n",
    "finput = open('data/ammonia-rxn.txt','rt')\n",
    "\n",
    "!cat 'data/ammonia-rxn.txt'"
   ]
  },
  {
   "cell_type": "code",
   "execution_count": 2,
   "metadata": {},
   "outputs": [
    {
     "name": "stdout",
     "output_type": "stream",
     "text": [
      "r0 :  4 NH3 + 5 O2        <=> 4 NO  + 6 H2O \n",
      "r1 :  4 NH3 + 3 O2        <=> 2 N2  + 6 H2O \n",
      "r2 :  4 NH3 + 6 NO        <=> 5 N2  + 6 H2O \n",
      "r3 :  2 NO  + 1 O2        <=> 2 NO2         \n",
      "r4 :  2 NO                <=> 1 N2  + 1 O2  \n",
      "r5 :  1 N2  + 2 O2        <=> 2 NO2         \n",
      "r6 :  4 NH3 + 4 NO + 1 O2 <=> 4 N2  + 6 H2O \n"
     ]
    }
   ],
   "source": [
    "'''Build the reactions list'''\n",
    "\n",
    "reactions = list()\n",
    "\n",
    "for line in finput:\n",
    "    stripped_line = line.strip()\n",
    "    if stripped_line[0] == '#': continue\n",
    "    if stripped_line[:2] == '..': continue\n",
    "        \n",
    "    reactions.append( stripped_line.split(':')[0] )\n",
    "    \n",
    "finput.close()\n",
    "    \n",
    "for r in reactions: \n",
    "    i = reactions.index(r)\n",
    "    print('r%s'%i,': ',r)"
   ]
  },
  {
   "cell_type": "code",
   "execution_count": 3,
   "metadata": {},
   "outputs": [
    {
     "name": "stdout",
     "output_type": "stream",
     "text": [
      "r0 :  4 NH3 + 3 O2        <=> 2 N2  + 6 H2O \n",
      "r1 :  4 NH3 + 5 O2        <=> 4 NO  + 6 H2O \n",
      "r2 :  4 NH3 + 4 NO + 1 O2 <=> 4 N2  + 6 H2O \n",
      "r3 :  4 NH3 + 6 NO        <=> 5 N2  + 6 H2O \n",
      "r4 :  2 NO                <=> 1 N2  + 1 O2  \n",
      "r5 :  2 NO  + 1 O2        <=> 2 NO2         \n",
      "r6 :  1 N2  + 2 O2        <=> 2 NO2         \n"
     ]
    }
   ],
   "source": [
    "'''Shuffle the order of reactions to avoid any bias'''\n",
    "\n",
    "import random\n",
    "random.shuffle( reactions )\n",
    "\n",
    "for r in reactions: \n",
    "    i = reactions.index(r)\n",
    "    print('r%s'%i,': ',r)"
   ]
  },
  {
   "cell_type": "code",
   "execution_count": 4,
   "metadata": {
    "scrolled": true
   },
   "outputs": [
    {
     "name": "stdout",
     "output_type": "stream",
     "text": [
      "\n",
      "species =\n",
      " ['N2', 'NO2', 'O2', 'NO', 'NH3', 'H2O']\n",
      "# of species = 6\n"
     ]
    }
   ],
   "source": [
    "'''Create the species list'''\n",
    "\n",
    "species_tmp = list()  # temporary list for species\n",
    "\n",
    "for r in reactions:\n",
    "    \n",
    "    left  = r.split('<=>')[0].strip()\n",
    "    right = r.split('<=>')[1].strip()\n",
    "    \n",
    "    left_terms  = left.split('+')\n",
    "    right_terms = right.split('+')\n",
    "    \n",
    "    terms = [ t.strip() for t in left_terms ] + [ t.strip() for t in right_terms ] # list comprehensions\n",
    "    \n",
    "    for i in terms:\n",
    "        \n",
    "        tmp = i.split(' ') # split stoichiometric coefficient from species name\n",
    "        \n",
    "        assert len(tmp)==1 or len(tmp)==2,' terms = %r, i = %r, tmp = %r '%(terms,i,tmp)\n",
    "        \n",
    "        if len(tmp) == 2:\n",
    "            species_tmp.append( tmp[1].strip() ) # species name if there is a stoichiometric coeff.\n",
    "        else:\n",
    "            species_tmp.append( i.strip() ) # species name if there is no stoichiometric coeff.\n",
    "\n",
    "species_filtered = set(species_tmp) # filter species as a set\n",
    "\n",
    "species = list( species_filtered )  # convert species set to list \n",
    "print('\\nspecies =\\n',species)\n",
    "print('# of species =',len(species))"
   ]
  },
  {
   "cell_type": "code",
   "execution_count": 5,
   "metadata": {},
   "outputs": [
    {
     "name": "stdout",
     "output_type": "stream",
     "text": [
      "m x n = (7, 6)\n",
      "s_mtrx =\n",
      " [[ 2.  0. -3.  0. -4.  6.]\n",
      " [ 0.  0. -5.  4. -4.  6.]\n",
      " [ 4.  0. -1. -4. -4.  6.]\n",
      " [ 5.  0.  0. -6. -4.  6.]\n",
      " [ 1.  0.  1. -2.  0.  0.]\n",
      " [ 0.  2. -1. -2.  0.  0.]\n",
      " [-1.  2. -2.  0.  0.  0.]]\n"
     ]
    }
   ],
   "source": [
    "'''Create the stoichiometric matrix'''\n",
    "\n",
    "import numpy as np\n",
    "\n",
    "# Initialize the stoichiometric matrix as zero\n",
    "s_mtrx = np.zeros( (len(reactions),len(species)) )\n",
    "\n",
    "for r in reactions:\n",
    "    \n",
    "    i_row = reactions.index(r)  # reaction index\n",
    "    \n",
    "    left  = r.split('<=>')[0].strip()\n",
    "    right = r.split('<=>')[1].strip()\n",
    "    left_terms = left.split('+')\n",
    "    left_terms = [t.strip() for t in left_terms] # in-place clean up\n",
    "    right_terms = right.split('+')\n",
    "    right_terms = [t.strip() for t in right_terms] # in-place clean up\n",
    "    \n",
    "    for t in left_terms: # reactants\n",
    "        \n",
    "        tmp = t.split(' ') # split stoichiometric coeff and species name\n",
    "        \n",
    "        if len(tmp) == 2: # stoich coeff and species name\n",
    "            coeff = float(tmp[0].strip())\n",
    "            species_member = tmp[1].strip()\n",
    "            j_col = species.index(species_member) # find id of species in the species list\n",
    "            \n",
    "            assert s_mtrx[i_row,j_col] == 0.0, \\\n",
    "                   'duplicates not allowed r%r: %r %r r'%\\\n",
    "                   (i_row,r,species_member,s_mtrx[i_row,j_col])\n",
    "            \n",
    "            s_mtrx[i_row,j_col] = -1.0 * coeff\n",
    "            \n",
    "        else: # only species name\n",
    "            species_member = tmp[0].strip()\n",
    "            j_col = species.index(species_member)\n",
    "            assert s_mtrx[i_row,j_col] == 0.0, \\\n",
    "                   'duplicates not allowed r%r: %r %r r'%\\\n",
    "                   (i_row,r,species_member,s_mtrx[i_row,j_col])\n",
    "            \n",
    "            s_mtrx[i_row,j_col] = -1.0\n",
    "\n",
    "    for t in right_terms: # products\n",
    "        \n",
    "        tmp = t.split(' ')\n",
    "        \n",
    "        if len(tmp) == 2:\n",
    "            coeff = float(tmp[0].strip())\n",
    "            species_member = tmp[1].strip()\n",
    "            j_col = species.index(species_member)\n",
    "            \n",
    "            assert s_mtrx[i_row,j_col] == 0.0, \\\n",
    "                   'duplicates not allowed r%r: %r %r r'%\\\n",
    "                   (i_row,r,species_member,s_mtrx[i_row,j_col])\n",
    "            \n",
    "            s_mtrx[i_row,j_col] = 1.0 * coeff\n",
    "        else:\n",
    "            species_member = tmp[0].strip()\n",
    "            j_col = species.index(species_member)\n",
    "            assert s_mtrx[i_row,j_col] == 0.0, \\\n",
    "                   'duplicates not allowed r%r: %r %r r'%\\\n",
    "                   (i_row,r,species_member,s_mtrx[i_row,j_col])\n",
    "            s_mtrx[i_row,j_col] = 1.0\n",
    "\n",
    "print('m x n =',s_mtrx.shape)\n",
    "print('s_mtrx =\\n',s_mtrx)"
   ]
  },
  {
   "cell_type": "code",
   "execution_count": 7,
   "metadata": {},
   "outputs": [
    {
     "name": "stdout",
     "output_type": "stream",
     "text": [
      "r0 :  4 NH3 + 3 O2        <=> 2 N2  + 6 H2O \n",
      "r1 :  4 NH3 + 5 O2        <=> 4 NO  + 6 H2O \n",
      "r2 :  4 NH3 + 4 NO + 1 O2 <=> 4 N2  + 6 H2O \n",
      "r3 :  4 NH3 + 6 NO        <=> 5 N2  + 6 H2O \n",
      "r4 :  2 NO                <=> 1 N2  + 1 O2  \n",
      "r5 :  2 NO  + 1 O2        <=> 2 NO2         \n",
      "r6 :  1 N2  + 2 O2        <=> 2 NO2         \n",
      "n_reactions = 7\n",
      "\n",
      "species ['N2', 'NO2', 'O2', 'NO', 'NH3', 'H2O']\n",
      "s_mtrx =\n",
      " [[ 2.  0. -3.  0. -4.  6.]\n",
      " [ 0.  0. -5.  4. -4.  6.]\n",
      " [ 4.  0. -1. -4. -4.  6.]\n",
      " [ 5.  0.  0. -6. -4.  6.]\n",
      " [ 1.  0.  1. -2.  0.  0.]\n",
      " [ 0.  2. -1. -2.  0.  0.]\n",
      " [-1.  2. -2.  0.  0.  0.]]\n",
      "m x n = (7, 6)\n",
      "matrix shape = (7, 6)\n"
     ]
    },
    {
     "data": {
      "image/png": "[encoded data removed]",
      "text/plain": [
       "<Figure size 1440x288 with 1 Axes>"
      ]
     },
     "metadata": {
      "needs_background": "light"
     },
     "output_type": "display_data"
    }
   ],
   "source": [
    "'''Summary'''\n",
    "\n",
    "from chen_3170.help import print_reactions\n",
    "\n",
    "print_reactions( reactions )\n",
    "\n",
    "print('')\n",
    "print('species',species)\n",
    "print('s_mtrx =\\n',s_mtrx)\n",
    "print('m x n =',s_mtrx.shape)\n",
    "\n",
    "from chen_3170.help import plot_matrix\n",
    "\n",
    "plot_matrix(s_mtrx, title='Stoichiometric Matrix')"
   ]
  },
  {
   "cell_type": "markdown",
   "metadata": {},
   "source": [
    "## Linearly independent reactions<a id=\"indepen\"></a>\n",
    "The stoichiometric matrix represents a linear system of equations in three different instances. \n",
    "+ First, a mass balance set of equations for the chemical reactions when the molar masses of the species involved are used as a vector. The product of the stoichiometric matrix and this vector must result in the zero vector, *i.e.* $\\Smtrx\\,\\mvec = \\zerovec$. \n",
    "+ Second, the reaction rates are related to the species production rates in a similar way, *i.e.*, $\\Smtrx^\\top\\,\\rvec = \\gvec$. In both cases the system of equations lead to a rectangular system in most of the realistic cases. Here we compute the rank of the stoichiometric matrix to discover how many of the reactions are linearly independent.\n",
    "+ Third, the solution of the chemical equilibrium function involves the stoichiometric matrix in the non-linear algebraic equation solver which requires a full-rank matrix."
   ]
  },
  {
   "cell_type": "code",
   "execution_count": 8,
   "metadata": {},
   "outputs": [
    {
     "name": "stdout",
     "output_type": "stream",
     "text": [
      "my rank = 3\n",
      "numpy rank =  3\n",
      "u_mtrx =\n",
      " [[ 6.  0. -3.  0. -4.  2.]\n",
      " [ 0. -6.  3.  0.  0.  3.]\n",
      " [ 0.  0. -2.  2.  0. -1.]\n",
      " [ 0.  0.  0.  0.  0.  0.]\n",
      " [ 0.  0.  0.  0.  0.  0.]\n",
      " [ 0.  0.  0.  0.  0.  0.]\n",
      " [ 0.  0.  0.  0.  0.  0.]]\n"
     ]
    }
   ],
   "source": [
    "'''How many reactions are independent?'''\n",
    "\n",
    "# The rank of the stoichiometric matrix is needed\n",
    "\n",
    "try:    \n",
    "    from chen_3170.toolkit import lu_factorization   \n",
    "except ModuleNotFoundError:\n",
    "    assert False, 'You need to provide your own lu_factorization function here. Bailing out.'\n",
    "\n",
    "# using complete pivoting\n",
    "(p_mtrx, q_mtrx, l_mtrx, u_mtrx, s_rank) = lu_factorization( s_mtrx, 'complete', pivot_tol=1e-8 )\n",
    "\n",
    "print('my rank =',s_rank)\n",
    "print('numpy rank = ',np.linalg.matrix_rank( s_mtrx, tol=1e-8 ))\n",
    "np.set_printoptions(precision=2)\n",
    "print('u_mtrx =\\n',u_mtrx)"
   ]
  },
  {
   "cell_type": "code",
   "execution_count": null,
   "metadata": {},
   "outputs": [],
   "source": [
    "'''How many reactions are independent?'''\n",
    "\n",
    "# partial pivoting could fail\n",
    "#(p_mtrx, l_mtrx, u_mtrx, rank) = lu_factorization( s_mtrx, 'partial', pivot_tol=1e-8 )\n",
    "\n",
    "#print('my rank =',rank)\n",
    "#print('u_mtrx =\\n',u_mtrx)"
   ]
  },
  {
   "cell_type": "code",
   "execution_count": null,
   "metadata": {},
   "outputs": [],
   "source": [
    "'''How many reactions are independent? Let's break partial pivoting'''\n",
    "\n",
    "# partial pivoting could fail; try all cases of reaction permutation\n",
    "#import math\n",
    "#import itertools\n",
    "#rxn_permutations = list( itertools.permutations(range(len(reactions))) )\n",
    "#print('# of permutations = ', len(rxn_permutations))\n",
    "#print('# of reactions!   = ',math.factorial(len(reactions)))\n",
    "\n",
    "#print(s_mtrx)\n",
    "#print(rxn_permutations[1200])\n",
    "#print(s_mtrx[rxn_permutations[1200],:])\n",
    "\n",
    "#for perm in rxn_permutations:\n",
    "#    (p_mtrx, l_mtrx, u_mtrx, rank) = lu_factorization( s_mtrx[perm,:], 'partial', pivot_tol=1e-8 )    \n",
    "#    assert rank == 3\n",
    "\n",
    "#print('done')"
   ]
  },
  {
   "cell_type": "code",
   "execution_count": null,
   "metadata": {},
   "outputs": [],
   "source": [
    "'''How many reactions are independent? no pivoting will fail'''\n",
    "\n",
    "# no pivoting will fail\n",
    "#(l_mtrx, u_mtrx, rank) = lu_factorization( s_mtrx, pivot_tol=1e-8 )"
   ]
  },
  {
   "cell_type": "markdown",
   "metadata": {},
   "source": [
    "## Full-rank, reaction sub-mechanisms<a id=\"subreact\"></a>\n",
    "Here we form all possible combination of full-rank reaction sub-mechanisms."
   ]
  },
  {
   "cell_type": "code",
   "execution_count": 9,
   "metadata": {},
   "outputs": [
    {
     "name": "stdout",
     "output_type": "stream",
     "text": [
      "# of binomial terms = 35.0\n",
      "[(0, 1, 2), (0, 1, 3), (0, 1, 4), (0, 1, 5), (0, 1, 6), (0, 2, 3), (0, 2, 4), (0, 2, 5), (0, 2, 6), (0, 3, 4), (0, 3, 5), (0, 3, 6), (0, 4, 5), (0, 4, 6), (0, 5, 6), (1, 2, 3), (1, 2, 4), (1, 2, 5), (1, 2, 6), (1, 3, 4), (1, 3, 5), (1, 3, 6), (1, 4, 5), (1, 4, 6), (1, 5, 6), (2, 3, 4), (2, 3, 5), (2, 3, 6), (2, 4, 5), (2, 4, 6), (2, 5, 6), (3, 4, 5), (3, 4, 6), (3, 5, 6), (4, 5, 6)]\n"
     ]
    }
   ],
   "source": [
    "'''Total number of rank-reaction sets'''\n",
    "\n",
    "# n_reactions choose s_rank binomial formula\n",
    "import math\n",
    "\n",
    "n_reactions = len(reactions)\n",
    "\n",
    "print('# of binomial terms =',\n",
    "      math.factorial(n_reactions)/math.factorial(n_reactions-s_rank)/math.factorial(s_rank))\n",
    "\n",
    "from itertools import combinations\n",
    "\n",
    "tmp = combinations( range(n_reactions), s_rank ) # return value is an iterator object\n",
    "reaction_sets = [i for i in tmp]\n",
    "\n",
    "print(reaction_sets)"
   ]
  },
  {
   "cell_type": "code",
   "execution_count": 10,
   "metadata": {},
   "outputs": [
    {
     "name": "stdout",
     "output_type": "stream",
     "text": [
      "*****************************\n",
      "# of full-rank sub_mech  = 24\n",
      "*****************************\n",
      "Linearly Independent Reaction Set 0\n",
      "r0: 4 NH3 + 3 O2        <=> 2 N2  + 6 H2O \n",
      "r1: 4 NH3 + 5 O2        <=> 4 NO  + 6 H2O \n",
      "r5: 2 NO  + 1 O2        <=> 2 NO2         \n",
      "Linearly Independent Reaction Set 1\n",
      "r0: 4 NH3 + 3 O2        <=> 2 N2  + 6 H2O \n",
      "r1: 4 NH3 + 5 O2        <=> 4 NO  + 6 H2O \n",
      "r6: 1 N2  + 2 O2        <=> 2 NO2         \n",
      "Linearly Independent Reaction Set 2\n",
      "r0: 4 NH3 + 3 O2        <=> 2 N2  + 6 H2O \n",
      "r2: 4 NH3 + 4 NO + 1 O2 <=> 4 N2  + 6 H2O \n",
      "r5: 2 NO  + 1 O2        <=> 2 NO2         \n",
      "Linearly Independent Reaction Set 3\n",
      "r0: 4 NH3 + 3 O2        <=> 2 N2  + 6 H2O \n",
      "r2: 4 NH3 + 4 NO + 1 O2 <=> 4 N2  + 6 H2O \n",
      "r6: 1 N2  + 2 O2        <=> 2 NO2         \n",
      "Linearly Independent Reaction Set 4\n",
      "r0: 4 NH3 + 3 O2        <=> 2 N2  + 6 H2O \n",
      "r3: 4 NH3 + 6 NO        <=> 5 N2  + 6 H2O \n",
      "r5: 2 NO  + 1 O2        <=> 2 NO2         \n",
      "Linearly Independent Reaction Set 5\n",
      "r0: 4 NH3 + 3 O2        <=> 2 N2  + 6 H2O \n",
      "r3: 4 NH3 + 6 NO        <=> 5 N2  + 6 H2O \n",
      "r6: 1 N2  + 2 O2        <=> 2 NO2         \n",
      "Linearly Independent Reaction Set 6\n",
      "r0: 4 NH3 + 3 O2        <=> 2 N2  + 6 H2O \n",
      "r4: 2 NO                <=> 1 N2  + 1 O2  \n",
      "r5: 2 NO  + 1 O2        <=> 2 NO2         \n",
      "Linearly Independent Reaction Set 7\n",
      "r0: 4 NH3 + 3 O2        <=> 2 N2  + 6 H2O \n",
      "r4: 2 NO                <=> 1 N2  + 1 O2  \n",
      "r6: 1 N2  + 2 O2        <=> 2 NO2         \n",
      "Linearly Independent Reaction Set 8\n",
      "r0: 4 NH3 + 3 O2        <=> 2 N2  + 6 H2O \n",
      "r5: 2 NO  + 1 O2        <=> 2 NO2         \n",
      "r6: 1 N2  + 2 O2        <=> 2 NO2         \n",
      "Linearly Independent Reaction Set 9\n",
      "r1: 4 NH3 + 5 O2        <=> 4 NO  + 6 H2O \n",
      "r2: 4 NH3 + 4 NO + 1 O2 <=> 4 N2  + 6 H2O \n",
      "r5: 2 NO  + 1 O2        <=> 2 NO2         \n",
      "Linearly Independent Reaction Set 10\n",
      "r1: 4 NH3 + 5 O2        <=> 4 NO  + 6 H2O \n",
      "r2: 4 NH3 + 4 NO + 1 O2 <=> 4 N2  + 6 H2O \n",
      "r6: 1 N2  + 2 O2        <=> 2 NO2         \n",
      "Linearly Independent Reaction Set 11\n",
      "r1: 4 NH3 + 5 O2        <=> 4 NO  + 6 H2O \n",
      "r3: 4 NH3 + 6 NO        <=> 5 N2  + 6 H2O \n",
      "r5: 2 NO  + 1 O2        <=> 2 NO2         \n",
      "Linearly Independent Reaction Set 12\n",
      "r1: 4 NH3 + 5 O2        <=> 4 NO  + 6 H2O \n",
      "r3: 4 NH3 + 6 NO        <=> 5 N2  + 6 H2O \n",
      "r6: 1 N2  + 2 O2        <=> 2 NO2         \n",
      "Linearly Independent Reaction Set 13\n",
      "r1: 4 NH3 + 5 O2        <=> 4 NO  + 6 H2O \n",
      "r4: 2 NO                <=> 1 N2  + 1 O2  \n",
      "r5: 2 NO  + 1 O2        <=> 2 NO2         \n",
      "Linearly Independent Reaction Set 14\n",
      "r1: 4 NH3 + 5 O2        <=> 4 NO  + 6 H2O \n",
      "r4: 2 NO                <=> 1 N2  + 1 O2  \n",
      "r6: 1 N2  + 2 O2        <=> 2 NO2         \n",
      "Linearly Independent Reaction Set 15\n",
      "r1: 4 NH3 + 5 O2        <=> 4 NO  + 6 H2O \n",
      "r5: 2 NO  + 1 O2        <=> 2 NO2         \n",
      "r6: 1 N2  + 2 O2        <=> 2 NO2         \n",
      "Linearly Independent Reaction Set 16\n",
      "r2: 4 NH3 + 4 NO + 1 O2 <=> 4 N2  + 6 H2O \n",
      "r3: 4 NH3 + 6 NO        <=> 5 N2  + 6 H2O \n",
      "r5: 2 NO  + 1 O2        <=> 2 NO2         \n",
      "Linearly Independent Reaction Set 17\n",
      "r2: 4 NH3 + 4 NO + 1 O2 <=> 4 N2  + 6 H2O \n",
      "r3: 4 NH3 + 6 NO        <=> 5 N2  + 6 H2O \n",
      "r6: 1 N2  + 2 O2        <=> 2 NO2         \n",
      "Linearly Independent Reaction Set 18\n",
      "r2: 4 NH3 + 4 NO + 1 O2 <=> 4 N2  + 6 H2O \n",
      "r4: 2 NO                <=> 1 N2  + 1 O2  \n",
      "r5: 2 NO  + 1 O2        <=> 2 NO2         \n",
      "Linearly Independent Reaction Set 19\n",
      "r2: 4 NH3 + 4 NO + 1 O2 <=> 4 N2  + 6 H2O \n",
      "r4: 2 NO                <=> 1 N2  + 1 O2  \n",
      "r6: 1 N2  + 2 O2        <=> 2 NO2         \n",
      "Linearly Independent Reaction Set 20\n",
      "r2: 4 NH3 + 4 NO + 1 O2 <=> 4 N2  + 6 H2O \n",
      "r5: 2 NO  + 1 O2        <=> 2 NO2         \n",
      "r6: 1 N2  + 2 O2        <=> 2 NO2         \n",
      "Linearly Independent Reaction Set 21\n",
      "r3: 4 NH3 + 6 NO        <=> 5 N2  + 6 H2O \n",
      "r4: 2 NO                <=> 1 N2  + 1 O2  \n",
      "r5: 2 NO  + 1 O2        <=> 2 NO2         \n",
      "Linearly Independent Reaction Set 22\n",
      "r3: 4 NH3 + 6 NO        <=> 5 N2  + 6 H2O \n",
      "r4: 2 NO                <=> 1 N2  + 1 O2  \n",
      "r6: 1 N2  + 2 O2        <=> 2 NO2         \n",
      "Linearly Independent Reaction Set 23\n",
      "r3: 4 NH3 + 6 NO        <=> 5 N2  + 6 H2O \n",
      "r5: 2 NO  + 1 O2        <=> 2 NO2         \n",
      "r6: 1 N2  + 2 O2        <=> 2 NO2         \n"
     ]
    }
   ],
   "source": [
    "'''Finding sets of linearly independent reactions'''\n",
    "\n",
    "# data structure for storing full-rank reaction sub-mechanisms\n",
    "sub_mech_reactions = list()\n",
    "\n",
    "for r in reaction_sets:\n",
    "    \n",
    "    s_mtrx_k = s_mtrx[r,:] # view of the matrix\n",
    "    \n",
    "    (p_mtrx, q_mtrx, l_mtrx, u_mtrx, rank) = lu_factorization( s_mtrx_k, 'complete', pivot_tol=1e-8 )\n",
    "    \n",
    "    assert rank == np.linalg.matrix_rank( s_mtrx_k, tol=1e-8 )\n",
    "    \n",
    "    if rank == s_rank: # accept only full-rank sub-mechanisms\n",
    "        sub_mech_reactions.append( [r, [reactions[i] for i in r]] )  # list structure design\n",
    "\n",
    "print('*****************************')\n",
    "print('# of full-rank sub_mech  =',len(sub_mech_reactions)) \n",
    "print('*****************************')\n",
    "#print(sub_mech_reactions)\n",
    "\n",
    "for smr in sub_mech_reactions:\n",
    "    print('Linearly Independent Reaction Set %s'%sub_mech_reactions.index(smr))\n",
    "    for (i,r) in zip( smr[0], smr[1] ):\n",
    "        print('r%s:'%i,r)"
   ]
  },
  {
   "cell_type": "markdown",
   "metadata": {},
   "source": [
    "## Reaction appearance frequency analysis<a id=\"rxnfreq\"></a>\n"
   ]
  },
  {
   "cell_type": "code",
   "execution_count": 11,
   "metadata": {},
   "outputs": [
    {
     "name": "stdout",
     "output_type": "stream",
     "text": [
      "[ 9.  9.  9.  9.  8. 14. 14.]\n",
      "[0.38 0.38 0.38 0.38 0.33 0.58 0.58]\n"
     ]
    }
   ],
   "source": [
    "'''How often a reaction appears on any full-rank reaction sub-mechanisms'''\n",
    "\n",
    "reactions_hits = np.zeros(n_reactions)\n",
    "\n",
    "for smr in sub_mech_reactions:\n",
    "    for i in smr[0]:\n",
    "        reactions_hits[i] += 1\n",
    "        \n",
    "print( reactions_hits )        \n",
    "print( reactions_hits/len(sub_mech_reactions) )    "
   ]
  },
  {
   "cell_type": "code",
   "execution_count": 12,
   "metadata": {},
   "outputs": [
    {
     "data": {
      "image/png": "[encoded data removed]",
      "text/plain": [
       "<Figure size 1440x432 with 1 Axes>"
      ]
     },
     "metadata": {
      "needs_background": "light"
     },
     "output_type": "display_data"
    }
   ],
   "source": [
    "'''Plot the frequency of appearance of reactions in sub-mechanisms'''\n",
    "\n",
    "import matplotlib.pyplot as plt\n",
    "plt.rcParams['figure.figsize'] = [25, 4]\n",
    "\n",
    "fig, ax = plt.subplots(figsize=(20,6))\n",
    "\n",
    "sort_results = sorted(\n",
    "               zip( reactions, reactions_hits/len(sub_mech_reactions)*100 ), \n",
    "                   key = lambda entry: entry[1], reverse=True \n",
    "                     )\n",
    "\n",
    "reactions_sorted = [a for (a,b) in sort_results]\n",
    "hits_sorted = [b for (a,b) in sort_results]\n",
    "\n",
    "ax.bar( reactions_sorted, hits_sorted, color='orange' )\n",
    "\n",
    "for r in reactions_sorted:\n",
    "    idx = reactions.index(r)\n",
    "    i = reactions_sorted.index(r)\n",
    "    reactions_sorted[i] = 'r'+str(idx)+': '+ r\n",
    "    \n",
    "plt.xticks( range(len(reactions)), reactions_sorted, rotation=60, fontsize=14 )\n",
    "\n",
    "ax.set_ylabel('Frequency [%]',fontsize=16)\n",
    "ax.xaxis.grid( True, linestyle='-', which='major', color='lightgrey',alpha=0.9)\n",
    "fig.suptitle('Reaction Appearance Frequency Analysis for Rank = '+str(s_rank)+' (full rank)', fontsize=20)\n",
    "plt.show()"
   ]
  },
  {
   "cell_type": "markdown",
   "metadata": {},
   "source": [
    "## Principal reaction sub-mechanisms<a id=\"principal\"></a>\n"
   ]
  },
  {
   "cell_type": "code",
   "execution_count": 13,
   "metadata": {},
   "outputs": [],
   "source": [
    "'''Scoring the full-rank reaction sub-mechanisms'''\n",
    "\n",
    "# Temporary space to collect scores\n",
    "sub_mech_reactions_score = list()\n",
    "\n",
    "for s in sub_mech_reactions:\n",
    "    score = 0\n",
    "    for i in s[0]:\n",
    "        score += reactions_hits[i]  # score is the sum of the hits for each reaction\n",
    "    sub_mech_reactions_score.append( score )\n",
    "\n",
    "sub_mech_reactions_score = np.array( sub_mech_reactions_score ) \n",
    "sub_mech_reactions_score /= sub_mech_reactions_score.max()\n",
    "sub_mech_reactions_score *= 10.0 # max score value\n",
    "\n",
    "results = sorted( zip( sub_mech_reactions, sub_mech_reactions_score ), \n",
    "                  key=lambda entry: entry[1], reverse=True )\n",
    "\n",
    "sub_mech_reactions       = [a for (a,b) in results]\n",
    "sub_mech_reactions_score = [b for (a,b) in results]"
   ]
  },
  {
   "cell_type": "code",
   "execution_count": 14,
   "metadata": {
    "collapsed": true
   },
   "outputs": [
    {
     "data": {
      "text/plain": [
       "[[(0, 5, 6),\n",
       "  ['4 NH3 + 3 O2        <=> 2 N2  + 6 H2O ',\n",
       "   '2 NO  + 1 O2        <=> 2 NO2         ',\n",
       "   '1 N2  + 2 O2        <=> 2 NO2         ']],\n",
       " [(1, 5, 6),\n",
       "  ['4 NH3 + 5 O2        <=> 4 NO  + 6 H2O ',\n",
       "   '2 NO  + 1 O2        <=> 2 NO2         ',\n",
       "   '1 N2  + 2 O2        <=> 2 NO2         ']],\n",
       " [(2, 5, 6),\n",
       "  ['4 NH3 + 4 NO + 1 O2 <=> 4 N2  + 6 H2O ',\n",
       "   '2 NO  + 1 O2        <=> 2 NO2         ',\n",
       "   '1 N2  + 2 O2        <=> 2 NO2         ']],\n",
       " [(3, 5, 6),\n",
       "  ['4 NH3 + 6 NO        <=> 5 N2  + 6 H2O ',\n",
       "   '2 NO  + 1 O2        <=> 2 NO2         ',\n",
       "   '1 N2  + 2 O2        <=> 2 NO2         ']],\n",
       " [(0, 1, 5),\n",
       "  ['4 NH3 + 3 O2        <=> 2 N2  + 6 H2O ',\n",
       "   '4 NH3 + 5 O2        <=> 4 NO  + 6 H2O ',\n",
       "   '2 NO  + 1 O2        <=> 2 NO2         ']],\n",
       " [(0, 1, 6),\n",
       "  ['4 NH3 + 3 O2        <=> 2 N2  + 6 H2O ',\n",
       "   '4 NH3 + 5 O2        <=> 4 NO  + 6 H2O ',\n",
       "   '1 N2  + 2 O2        <=> 2 NO2         ']],\n",
       " [(0, 2, 5),\n",
       "  ['4 NH3 + 3 O2        <=> 2 N2  + 6 H2O ',\n",
       "   '4 NH3 + 4 NO + 1 O2 <=> 4 N2  + 6 H2O ',\n",
       "   '2 NO  + 1 O2        <=> 2 NO2         ']],\n",
       " [(0, 2, 6),\n",
       "  ['4 NH3 + 3 O2        <=> 2 N2  + 6 H2O ',\n",
       "   '4 NH3 + 4 NO + 1 O2 <=> 4 N2  + 6 H2O ',\n",
       "   '1 N2  + 2 O2        <=> 2 NO2         ']],\n",
       " [(0, 3, 5),\n",
       "  ['4 NH3 + 3 O2        <=> 2 N2  + 6 H2O ',\n",
       "   '4 NH3 + 6 NO        <=> 5 N2  + 6 H2O ',\n",
       "   '2 NO  + 1 O2        <=> 2 NO2         ']],\n",
       " [(0, 3, 6),\n",
       "  ['4 NH3 + 3 O2        <=> 2 N2  + 6 H2O ',\n",
       "   '4 NH3 + 6 NO        <=> 5 N2  + 6 H2O ',\n",
       "   '1 N2  + 2 O2        <=> 2 NO2         ']],\n",
       " [(1, 2, 5),\n",
       "  ['4 NH3 + 5 O2        <=> 4 NO  + 6 H2O ',\n",
       "   '4 NH3 + 4 NO + 1 O2 <=> 4 N2  + 6 H2O ',\n",
       "   '2 NO  + 1 O2        <=> 2 NO2         ']],\n",
       " [(1, 2, 6),\n",
       "  ['4 NH3 + 5 O2        <=> 4 NO  + 6 H2O ',\n",
       "   '4 NH3 + 4 NO + 1 O2 <=> 4 N2  + 6 H2O ',\n",
       "   '1 N2  + 2 O2        <=> 2 NO2         ']],\n",
       " [(1, 3, 5),\n",
       "  ['4 NH3 + 5 O2        <=> 4 NO  + 6 H2O ',\n",
       "   '4 NH3 + 6 NO        <=> 5 N2  + 6 H2O ',\n",
       "   '2 NO  + 1 O2        <=> 2 NO2         ']],\n",
       " [(1, 3, 6),\n",
       "  ['4 NH3 + 5 O2        <=> 4 NO  + 6 H2O ',\n",
       "   '4 NH3 + 6 NO        <=> 5 N2  + 6 H2O ',\n",
       "   '1 N2  + 2 O2        <=> 2 NO2         ']],\n",
       " [(2, 3, 5),\n",
       "  ['4 NH3 + 4 NO + 1 O2 <=> 4 N2  + 6 H2O ',\n",
       "   '4 NH3 + 6 NO        <=> 5 N2  + 6 H2O ',\n",
       "   '2 NO  + 1 O2        <=> 2 NO2         ']],\n",
       " [(2, 3, 6),\n",
       "  ['4 NH3 + 4 NO + 1 O2 <=> 4 N2  + 6 H2O ',\n",
       "   '4 NH3 + 6 NO        <=> 5 N2  + 6 H2O ',\n",
       "   '1 N2  + 2 O2        <=> 2 NO2         ']],\n",
       " [(0, 4, 5),\n",
       "  ['4 NH3 + 3 O2        <=> 2 N2  + 6 H2O ',\n",
       "   '2 NO                <=> 1 N2  + 1 O2  ',\n",
       "   '2 NO  + 1 O2        <=> 2 NO2         ']],\n",
       " [(0, 4, 6),\n",
       "  ['4 NH3 + 3 O2        <=> 2 N2  + 6 H2O ',\n",
       "   '2 NO                <=> 1 N2  + 1 O2  ',\n",
       "   '1 N2  + 2 O2        <=> 2 NO2         ']],\n",
       " [(1, 4, 5),\n",
       "  ['4 NH3 + 5 O2        <=> 4 NO  + 6 H2O ',\n",
       "   '2 NO                <=> 1 N2  + 1 O2  ',\n",
       "   '2 NO  + 1 O2        <=> 2 NO2         ']],\n",
       " [(1, 4, 6),\n",
       "  ['4 NH3 + 5 O2        <=> 4 NO  + 6 H2O ',\n",
       "   '2 NO                <=> 1 N2  + 1 O2  ',\n",
       "   '1 N2  + 2 O2        <=> 2 NO2         ']],\n",
       " [(2, 4, 5),\n",
       "  ['4 NH3 + 4 NO + 1 O2 <=> 4 N2  + 6 H2O ',\n",
       "   '2 NO                <=> 1 N2  + 1 O2  ',\n",
       "   '2 NO  + 1 O2        <=> 2 NO2         ']],\n",
       " [(2, 4, 6),\n",
       "  ['4 NH3 + 4 NO + 1 O2 <=> 4 N2  + 6 H2O ',\n",
       "   '2 NO                <=> 1 N2  + 1 O2  ',\n",
       "   '1 N2  + 2 O2        <=> 2 NO2         ']],\n",
       " [(3, 4, 5),\n",
       "  ['4 NH3 + 6 NO        <=> 5 N2  + 6 H2O ',\n",
       "   '2 NO                <=> 1 N2  + 1 O2  ',\n",
       "   '2 NO  + 1 O2        <=> 2 NO2         ']],\n",
       " [(3, 4, 6),\n",
       "  ['4 NH3 + 6 NO        <=> 5 N2  + 6 H2O ',\n",
       "   '2 NO                <=> 1 N2  + 1 O2  ',\n",
       "   '1 N2  + 2 O2        <=> 2 NO2         ']]]"
      ]
     },
     "execution_count": 14,
     "metadata": {},
     "output_type": "execute_result"
    }
   ],
   "source": [
    "sub_mech_reactions"
   ]
  },
  {
   "cell_type": "code",
   "execution_count": 15,
   "metadata": {},
   "outputs": [],
   "source": [
    "'''Save scores of the full-rank reaction sub-mechanisms'''\n",
    "\n",
    "# Encode score in to sub_mech_reactions mech. data structure\n",
    "for (smr, score) in zip( sub_mech_reactions, sub_mech_reactions_score):\n",
    "    smr += [score] # concatenation of lists"
   ]
  },
  {
   "cell_type": "code",
   "execution_count": 16,
   "metadata": {
    "collapsed": true
   },
   "outputs": [
    {
     "data": {
      "text/plain": [
       "[[(0, 5, 6),\n",
       "  ['4 NH3 + 3 O2        <=> 2 N2  + 6 H2O ',\n",
       "   '2 NO  + 1 O2        <=> 2 NO2         ',\n",
       "   '1 N2  + 2 O2        <=> 2 NO2         '],\n",
       "  10.0],\n",
       " [(1, 5, 6),\n",
       "  ['4 NH3 + 5 O2        <=> 4 NO  + 6 H2O ',\n",
       "   '2 NO  + 1 O2        <=> 2 NO2         ',\n",
       "   '1 N2  + 2 O2        <=> 2 NO2         '],\n",
       "  10.0],\n",
       " [(2, 5, 6),\n",
       "  ['4 NH3 + 4 NO + 1 O2 <=> 4 N2  + 6 H2O ',\n",
       "   '2 NO  + 1 O2        <=> 2 NO2         ',\n",
       "   '1 N2  + 2 O2        <=> 2 NO2         '],\n",
       "  10.0],\n",
       " [(3, 5, 6),\n",
       "  ['4 NH3 + 6 NO        <=> 5 N2  + 6 H2O ',\n",
       "   '2 NO  + 1 O2        <=> 2 NO2         ',\n",
       "   '1 N2  + 2 O2        <=> 2 NO2         '],\n",
       "  10.0],\n",
       " [(0, 1, 5),\n",
       "  ['4 NH3 + 3 O2        <=> 2 N2  + 6 H2O ',\n",
       "   '4 NH3 + 5 O2        <=> 4 NO  + 6 H2O ',\n",
       "   '2 NO  + 1 O2        <=> 2 NO2         '],\n",
       "  8.64864864864865],\n",
       " [(0, 1, 6),\n",
       "  ['4 NH3 + 3 O2        <=> 2 N2  + 6 H2O ',\n",
       "   '4 NH3 + 5 O2        <=> 4 NO  + 6 H2O ',\n",
       "   '1 N2  + 2 O2        <=> 2 NO2         '],\n",
       "  8.64864864864865],\n",
       " [(0, 2, 5),\n",
       "  ['4 NH3 + 3 O2        <=> 2 N2  + 6 H2O ',\n",
       "   '4 NH3 + 4 NO + 1 O2 <=> 4 N2  + 6 H2O ',\n",
       "   '2 NO  + 1 O2        <=> 2 NO2         '],\n",
       "  8.64864864864865],\n",
       " [(0, 2, 6),\n",
       "  ['4 NH3 + 3 O2        <=> 2 N2  + 6 H2O ',\n",
       "   '4 NH3 + 4 NO + 1 O2 <=> 4 N2  + 6 H2O ',\n",
       "   '1 N2  + 2 O2        <=> 2 NO2         '],\n",
       "  8.64864864864865],\n",
       " [(0, 3, 5),\n",
       "  ['4 NH3 + 3 O2        <=> 2 N2  + 6 H2O ',\n",
       "   '4 NH3 + 6 NO        <=> 5 N2  + 6 H2O ',\n",
       "   '2 NO  + 1 O2        <=> 2 NO2         '],\n",
       "  8.64864864864865],\n",
       " [(0, 3, 6),\n",
       "  ['4 NH3 + 3 O2        <=> 2 N2  + 6 H2O ',\n",
       "   '4 NH3 + 6 NO        <=> 5 N2  + 6 H2O ',\n",
       "   '1 N2  + 2 O2        <=> 2 NO2         '],\n",
       "  8.64864864864865],\n",
       " [(1, 2, 5),\n",
       "  ['4 NH3 + 5 O2        <=> 4 NO  + 6 H2O ',\n",
       "   '4 NH3 + 4 NO + 1 O2 <=> 4 N2  + 6 H2O ',\n",
       "   '2 NO  + 1 O2        <=> 2 NO2         '],\n",
       "  8.64864864864865],\n",
       " [(1, 2, 6),\n",
       "  ['4 NH3 + 5 O2        <=> 4 NO  + 6 H2O ',\n",
       "   '4 NH3 + 4 NO + 1 O2 <=> 4 N2  + 6 H2O ',\n",
       "   '1 N2  + 2 O2        <=> 2 NO2         '],\n",
       "  8.64864864864865],\n",
       " [(1, 3, 5),\n",
       "  ['4 NH3 + 5 O2        <=> 4 NO  + 6 H2O ',\n",
       "   '4 NH3 + 6 NO        <=> 5 N2  + 6 H2O ',\n",
       "   '2 NO  + 1 O2        <=> 2 NO2         '],\n",
       "  8.64864864864865],\n",
       " [(1, 3, 6),\n",
       "  ['4 NH3 + 5 O2        <=> 4 NO  + 6 H2O ',\n",
       "   '4 NH3 + 6 NO        <=> 5 N2  + 6 H2O ',\n",
       "   '1 N2  + 2 O2        <=> 2 NO2         '],\n",
       "  8.64864864864865],\n",
       " [(2, 3, 5),\n",
       "  ['4 NH3 + 4 NO + 1 O2 <=> 4 N2  + 6 H2O ',\n",
       "   '4 NH3 + 6 NO        <=> 5 N2  + 6 H2O ',\n",
       "   '2 NO  + 1 O2        <=> 2 NO2         '],\n",
       "  8.64864864864865],\n",
       " [(2, 3, 6),\n",
       "  ['4 NH3 + 4 NO + 1 O2 <=> 4 N2  + 6 H2O ',\n",
       "   '4 NH3 + 6 NO        <=> 5 N2  + 6 H2O ',\n",
       "   '1 N2  + 2 O2        <=> 2 NO2         '],\n",
       "  8.64864864864865],\n",
       " [(0, 4, 5),\n",
       "  ['4 NH3 + 3 O2        <=> 2 N2  + 6 H2O ',\n",
       "   '2 NO                <=> 1 N2  + 1 O2  ',\n",
       "   '2 NO  + 1 O2        <=> 2 NO2         '],\n",
       "  8.378378378378379],\n",
       " [(0, 4, 6),\n",
       "  ['4 NH3 + 3 O2        <=> 2 N2  + 6 H2O ',\n",
       "   '2 NO                <=> 1 N2  + 1 O2  ',\n",
       "   '1 N2  + 2 O2        <=> 2 NO2         '],\n",
       "  8.378378378378379],\n",
       " [(1, 4, 5),\n",
       "  ['4 NH3 + 5 O2        <=> 4 NO  + 6 H2O ',\n",
       "   '2 NO                <=> 1 N2  + 1 O2  ',\n",
       "   '2 NO  + 1 O2        <=> 2 NO2         '],\n",
       "  8.378378378378379],\n",
       " [(1, 4, 6),\n",
       "  ['4 NH3 + 5 O2        <=> 4 NO  + 6 H2O ',\n",
       "   '2 NO                <=> 1 N2  + 1 O2  ',\n",
       "   '1 N2  + 2 O2        <=> 2 NO2         '],\n",
       "  8.378378378378379],\n",
       " [(2, 4, 5),\n",
       "  ['4 NH3 + 4 NO + 1 O2 <=> 4 N2  + 6 H2O ',\n",
       "   '2 NO                <=> 1 N2  + 1 O2  ',\n",
       "   '2 NO  + 1 O2        <=> 2 NO2         '],\n",
       "  8.378378378378379],\n",
       " [(2, 4, 6),\n",
       "  ['4 NH3 + 4 NO + 1 O2 <=> 4 N2  + 6 H2O ',\n",
       "   '2 NO                <=> 1 N2  + 1 O2  ',\n",
       "   '1 N2  + 2 O2        <=> 2 NO2         '],\n",
       "  8.378378378378379],\n",
       " [(3, 4, 5),\n",
       "  ['4 NH3 + 6 NO        <=> 5 N2  + 6 H2O ',\n",
       "   '2 NO                <=> 1 N2  + 1 O2  ',\n",
       "   '2 NO  + 1 O2        <=> 2 NO2         '],\n",
       "  8.378378378378379],\n",
       " [(3, 4, 6),\n",
       "  ['4 NH3 + 6 NO        <=> 5 N2  + 6 H2O ',\n",
       "   '2 NO                <=> 1 N2  + 1 O2  ',\n",
       "   '1 N2  + 2 O2        <=> 2 NO2         '],\n",
       "  8.378378378378379]]"
      ]
     },
     "execution_count": 16,
     "metadata": {},
     "output_type": "execute_result"
    }
   ],
   "source": [
    "sub_mech_reactions"
   ]
  },
  {
   "cell_type": "code",
   "execution_count": 17,
   "metadata": {
    "scrolled": false
   },
   "outputs": [
    {
     "name": "stdout",
     "output_type": "stream",
     "text": [
      "Linearly Independent Reaction Set 0 score 10.0\n",
      "r0 4 NH3 + 3 O2        <=> 2 N2  + 6 H2O \n",
      "r5 2 NO  + 1 O2        <=> 2 NO2         \n",
      "r6 1 N2  + 2 O2        <=> 2 NO2         \n",
      "Linearly Independent Reaction Set 1 score 10.0\n",
      "r1 4 NH3 + 5 O2        <=> 4 NO  + 6 H2O \n",
      "r5 2 NO  + 1 O2        <=> 2 NO2         \n",
      "r6 1 N2  + 2 O2        <=> 2 NO2         \n",
      "Linearly Independent Reaction Set 2 score 10.0\n",
      "r2 4 NH3 + 4 NO + 1 O2 <=> 4 N2  + 6 H2O \n",
      "r5 2 NO  + 1 O2        <=> 2 NO2         \n",
      "r6 1 N2  + 2 O2        <=> 2 NO2         \n",
      "Linearly Independent Reaction Set 3 score 10.0\n",
      "r3 4 NH3 + 6 NO        <=> 5 N2  + 6 H2O \n",
      "r5 2 NO  + 1 O2        <=> 2 NO2         \n",
      "r6 1 N2  + 2 O2        <=> 2 NO2         \n"
     ]
    }
   ],
   "source": [
    "'''Principal reaction sub-mechanisms'''\n",
    "\n",
    "max_score = max( [smr[2] for smr in sub_mech_reactions] )\n",
    "\n",
    "for smr  in sub_mech_reactions:\n",
    "    if smr[2] < max_score: continue # skip all but maximum\n",
    "    print('Linearly Independent Reaction Set %s score %s'%\\\n",
    "          ( sub_mech_reactions.index(smr), smr[2]) )\n",
    "    for (i,r) in zip(smr[0],smr[1]):\n",
    "        print('r%s'%i,r)"
   ]
  },
  {
   "cell_type": "code",
   "execution_count": 18,
   "metadata": {
    "scrolled": false
   },
   "outputs": [
    {
     "data": {
      "image/png": "[encoded data removed]",
      "text/plain": [
       "<Figure size 1440x432 with 1 Axes>"
      ]
     },
     "metadata": {
      "needs_background": "light"
     },
     "output_type": "display_data"
    },
    {
     "name": "stdout",
     "output_type": "stream",
     "text": [
      "r0 :  4 NH3 + 3 O2        <=> 2 N2  + 6 H2O \n",
      "r1 :  4 NH3 + 5 O2        <=> 4 NO  + 6 H2O \n",
      "r2 :  4 NH3 + 4 NO + 1 O2 <=> 4 N2  + 6 H2O \n",
      "r3 :  4 NH3 + 6 NO        <=> 5 N2  + 6 H2O \n",
      "r4 :  2 NO                <=> 1 N2  + 1 O2  \n",
      "r5 :  2 NO  + 1 O2        <=> 2 NO2         \n",
      "r6 :  1 N2  + 2 O2        <=> 2 NO2         \n",
      "n_reactions = 7\n"
     ]
    }
   ],
   "source": [
    "'''Principal reaction sub-mechanisms plot'''\n",
    "\n",
    "fig, ax = plt.subplots(figsize=(20,6))\n",
    "\n",
    "ax.bar(range(len(sub_mech_reactions)), [smr[2] for smr in sub_mech_reactions],color='green')\n",
    "\n",
    "plt.xticks( range(len(sub_mech_reactions)), [smr[0] for smr in sub_mech_reactions], rotation=60,fontsize=14)\n",
    "\n",
    "ax.set_ylabel('Score [1->10]',fontsize=16)\n",
    "ax.set_xlabel('Reaction Sub-Mechanisms',fontsize=16)\n",
    "ax.xaxis.grid(True,linestyle='-',which='major',color='lightgrey',alpha=0.9)\n",
    "fig.suptitle('Scoring of Reaction Sub-Mechanisms for Rank = '+str(s_rank)+' (full rank)',fontsize=20)\n",
    "plt.show()\n",
    "\n",
    "print_reactions(reactions)"
   ]
  },
  {
   "cell_type": "code",
   "execution_count": null,
   "metadata": {},
   "outputs": [],
   "source": []
  }
 ],
 "metadata": {
  "kernelspec": {
   "display_name": "Python 3",
   "language": "python",
   "name": "python3"
  },
  "language_info": {
   "codemirror_mode": {
    "name": "ipython",
    "version": 3
   },
   "file_extension": ".py",
   "mimetype": "text/x-python",
   "name": "python",
   "nbconvert_exporter": "python",
   "pygments_lexer": "ipython3",
   "version": "3.7.1"
  },
  "latex_envs": {
   "LaTeX_envs_menu_present": true,
   "autoclose": false,
   "autocomplete": true,
   "bibliofile": "biblio.bib",
   "cite_by": "apalike",
   "current_citInitial": 1,
   "eqLabelWithNumbers": true,
   "eqNumInitial": 1,
   "hotkeys": {
    "equation": "Ctrl-E",
    "itemize": "Ctrl-I"
   },
   "labels_anchors": false,
   "latex_user_defs": false,
   "report_style_numbering": false,
   "user_envs_cfg": false
  }
 },
 "nbformat": 4,
 "nbformat_minor": 2
}
