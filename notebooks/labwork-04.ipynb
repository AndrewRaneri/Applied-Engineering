{
 "cells": [
  {
   "cell_type": "markdown",
   "metadata": {},
   "source": [
    "ChEn-3170: Computational Methods in Chemical Engineering Spring 2020 UMass Lowell; Prof. V. F. de Almeida **10Feb20**\n",
    "\n",
    "# Laboratory Work 04 (11Feb20)\n",
    "$\n",
    "  \\newcommand{\\Amtrx}{\\boldsymbol{\\mathsf{A}}}\n",
    "  \\newcommand{\\Bmtrx}{\\boldsymbol{\\mathsf{B}}}\n",
    "  \\newcommand{\\Cmtrx}{\\boldsymbol{\\mathsf{C}}}\n",
    "  \\newcommand{\\Mmtrx}{\\boldsymbol{\\mathsf{M}}}\n",
    "  \\newcommand{\\Smtrx}{\\boldsymbol{\\mathsf{S}}}\n",
    "  \\newcommand{\\Imtrx}{\\boldsymbol{\\mathsf{I}}}\n",
    "  \\newcommand{\\Pmtrx}{\\boldsymbol{\\mathsf{P}}}\n",
    "  \\newcommand{\\Lmtrx}{\\boldsymbol{\\mathsf{L}}}\n",
    "  \\newcommand{\\Umtrx}{\\boldsymbol{\\mathsf{U}}}\n",
    "  \\newcommand{\\xvec}{\\boldsymbol{\\mathsf{x}}}\n",
    "  \\newcommand{\\yvec}{\\boldsymbol{\\mathsf{y}}}\n",
    "  \\newcommand{\\zvec}{\\boldsymbol{\\mathsf{z}}}\n",
    "  \\newcommand{\\avec}{\\boldsymbol{\\mathsf{a}}}\n",
    "  \\newcommand{\\bvec}{\\boldsymbol{\\mathsf{b}}}\n",
    "  \\newcommand{\\cvec}{\\boldsymbol{\\mathsf{c}}}\n",
    "  \\newcommand{\\rvec}{\\boldsymbol{\\mathsf{r}}}\n",
    "  \\newcommand{\\gvec}{\\boldsymbol{\\mathsf{g}}}\n",
    "  \\newcommand{\\norm}[1]{\\bigl\\lVert{#1}\\bigr\\rVert}\n",
    "  \\DeclareMathOperator{\\rank}{rank}\n",
    "$"
   ]
  },
  {
   "cell_type": "markdown",
   "metadata": {},
   "source": [
    "### Name: `your name`"
   ]
  },
  {
   "cell_type": "markdown",
   "metadata": {},
   "source": [
    "### Rubric for each assignment: \n",
    "\n",
    "|       Context            |  Points |\n",
    "| -----------------------     | ------- |\n",
    "| Precision of the answer     |   80%   |\n",
    "| Answer Markdown readability |   10%   |\n",
    "| Code readability            |   10%   |\n",
    "    "
   ]
  },
  {
   "cell_type": "markdown",
   "metadata": {},
   "source": [
    "### <span style=\"color:red\">Guidance:</span>\n",
    " +  <span style=\"color:red\"> \n",
    "    Save your work frequently to a file locally to your computer.\n",
    "    </span>\n",
    " +  <span style=\"color:red\">\n",
    "    During your work and before submitting the final version do: `Kernel` -> `Restart & Run All`, to verify your notebook runs correctly.\n",
    "    </span>\n",
    " +  <span style=\"color:red\">\n",
    "    Save your file again.\n",
    "    </span>"
   ]
  },
  {
   "cell_type": "markdown",
   "metadata": {},
   "source": [
    "## <span style=\"color:blue\">Assignment 1 (40 pts): For each item below respond in a separate notebook cell.</span>\n",
    "<br>\n",
    "<span style=\"color:blue\">\n",
    "Consider the following reaction mechanism:\n",
    "    \n",
    "     r0 :  CO(g)  + S     <=> CO(s)           \n",
    "     r1 :  CO(s)  + S     <=> C(s)   + O(s)  \n",
    "     r2 :  O(s)   + H2(g) <=> H2O(g) + S      \n",
    "     r3 :  H2(g)  + 2 S   <=> 2 H(s)        \n",
    "     r4 :  C(s)   + H(s)  <=> CH(s)  + S    \n",
    "     r5 :  CH(s)  + H(s)  <=> CH2(s) + S     \n",
    "     r6 :  CH2(s) + H(s)  <=> CH3(s) + S    \n",
    "     r7 :  CH3(s) + H(s)  <=> CH4(g) + 2 S   \n",
    "     \n",
    "and the correspoding net reaction rate density vector in units of mols/(s ml):\n",
    "\n",
    "$\\rvec = \\begin{pmatrix}\n",
    " -1.1 \\\\\n",
    " -1.4 \\\\\n",
    "  2.7 \\\\\n",
    " -4.3 \\\\\n",
    " -2.7 \\\\\n",
    " -3.1 \\\\\n",
    " -1.8 \\\\\n",
    " -2.9\n",
    " \\end{pmatrix}\n",
    "$."
   ]
  },
  {
   "cell_type": "markdown",
   "metadata": {},
   "source": [
    "<span style=\"color:blue\"> 1.1) Print and plot the stoichiometric matrix $\\Smtrx$. \n",
    "   </span>"
   ]
  },
  {
   "cell_type": "code",
   "execution_count": 1,
   "metadata": {},
   "outputs": [],
   "source": [
    "'''Code for stoichiometric matrix'''\n"
   ]
  },
  {
   "cell_type": "markdown",
   "metadata": {},
   "source": [
    "<span style=\"color:blue\"> 1.2) Compute the species production rates vector $\\gvec$, show all values with units, and show which species is produced the most.\n",
    "   </span>"
   ]
  },
  {
   "cell_type": "code",
   "execution_count": 3,
   "metadata": {},
   "outputs": [
    {
     "name": "stdout",
     "output_type": "stream",
     "text": [
      "max production rate: H2O(g) [mol/(s ml)] = 2.700e+00\n"
     ]
    }
   ],
   "source": [
    "'''Code for species production rate densities'''\n"
   ]
  },
  {
   "cell_type": "markdown",
   "metadata": {},
   "source": [
    "## <span style=\"color:blue\">Assignment 2 (40 pts): For each item below respond in a separate notebook cell.</span>\n",
    "\n",
    " * <span style=\"color:blue\">2.1) Compute the matrix $\\Amtrx = \\frac{1}{3}\\,\\Smtrx\\Smtrx^\\top$, print the result with up to 3 decimals precision.\n",
    "   </span>\n",
    "   \n",
    " * <span style=\"color:blue\">2.2) Compute the matrix $\\Bmtrx = \\frac{1}{3}\\,\\Smtrx^\\top\\Smtrx$, print the result with up to 3 decimals precision.\n",
    "   </span>\n",
    "   \n",
    " * <span style=\"color:blue\">2.3) Is $\\Amtrx = \\Bmtrx$? Explain.\n",
    "   </span>\n",
    "\n",
    " * <span style=\"color:blue\">2.4) Compute the product $\\yvec = \\Smtrx\\,\\gvec$ and print the results with up to 3 decimals precision.\n",
    "   </span>\n",
    "\n",
    " * <span style=\"color:blue\">2.5) Compute the norm $\\norm{\\yvec}$ and print the result in exponential scientific format with 4 decimals.\n",
    "   </span>\n",
    "\n",
    " * <span style=\"color:blue\">2.6) Compute $\\Amtrx - \\Amtrx^\\top$. Explain the result.\n",
    "   </span>"
   ]
  },
  {
   "cell_type": "code",
   "execution_count": null,
   "metadata": {},
   "outputs": [],
   "source": [
    "'''2.1'''\n"
   ]
  },
  {
   "cell_type": "code",
   "execution_count": null,
   "metadata": {},
   "outputs": [],
   "source": [
    "'''2.2'''\n"
   ]
  },
  {
   "cell_type": "markdown",
   "metadata": {},
   "source": [
    "2.3) Explain: "
   ]
  },
  {
   "cell_type": "code",
   "execution_count": null,
   "metadata": {},
   "outputs": [],
   "source": [
    "'''2.4'''\n"
   ]
  },
  {
   "cell_type": "code",
   "execution_count": null,
   "metadata": {},
   "outputs": [],
   "source": [
    "'''2.5'''\n"
   ]
  },
  {
   "cell_type": "code",
   "execution_count": null,
   "metadata": {},
   "outputs": [],
   "source": [
    "'''2.6'''\n"
   ]
  },
  {
   "cell_type": "markdown",
   "metadata": {},
   "source": [
    "2.6) Explain:"
   ]
  },
  {
   "cell_type": "markdown",
   "metadata": {},
   "source": [
    "## <span style=\"color:blue\">Assignment 3 (20 pts): For each item below respond in a separate notebook cell.</span>\n",
    "\n",
    "* <span style=\"color:blue\">3.1) Compute and print the $\\rank(\\Smtrx\\Smtrx^\\top)$. What insight does the result give you?\n",
    "</span>\n",
    "\n",
    "* <span style=\"color:blue\">3.2) Compute and print the solution of $\\Smtrx\\Smtrx^\\top\\,\\xvec = \\bvec$ for an arbitrary $\\bvec$ and also compute and print the norm $\\norm{\\xvec}$.\n",
    "    \n",
    "* <span style=\"color:blue\">3.3) Plot the components of $\\xvec$. </span>\n",
    "\n",
    "* <span style=\"color:blue\">3.4) Permute the second and last rows of $\\Smtrx\\Smtrx^\\top$ using a permutation matrix, *i.e.* \n",
    "$\\Pmtrx\\,\\Smtrx\\Smtrx^\\top$, and print all three matrices.\n",
    "</span>\n",
    "\n",
    "* <span style=\"color:blue\">3.5) Compute and print the solution of $\\Pmtrx\\,\\Smtrx\\Smtrx^\\top\\,\\yvec = \\bvec$, and also compute and print its norm $\\norm{\\yvec}$.\n",
    "Compare $\\yvec$ to $\\xvec$ and explain any differences. If there is any difference how would you fix the problem and make $\\yvec=\\xvec$?\n",
    "</span>\n",
    "\n",
    "* <span style=\"color:blue\">3.6) Compute the $\\Pmtrx\\,\\Lmtrx\\,\\Umtrx$ factorization of $\\Smtrx\\Smtrx^\\top$.\n",
    "Verify $\\Smtrx\\Smtrx^\\top = \\Pmtrx\\,\\Lmtrx\\,\\Umtrx$. Show your results with print statements.\n",
    "</span>"
   ]
  },
  {
   "cell_type": "code",
   "execution_count": 4,
   "metadata": {},
   "outputs": [
    {
     "name": "stdout",
     "output_type": "stream",
     "text": [
      "rank(SST) = 8\n"
     ]
    }
   ],
   "source": [
    "'''3.1'''\n"
   ]
  },
  {
   "cell_type": "markdown",
   "metadata": {},
   "source": [
    "Insight: The matrix is full rank and if the matrix is used as a matrix of coefficients of a linear algebraic system of equations it will provide a unique solution."
   ]
  },
  {
   "cell_type": "code",
   "execution_count": null,
   "metadata": {},
   "outputs": [],
   "source": [
    "'''3.2'''\n"
   ]
  },
  {
   "cell_type": "code",
   "execution_count": 7,
   "metadata": {},
   "outputs": [
    {
     "data": {
      "image/png": "[encoded data removed]",
      "text/plain": [
       "<Figure size 576x432 with 1 Axes>"
      ]
     },
     "metadata": {
      "needs_background": "light"
     },
     "output_type": "display_data"
    }
   ],
   "source": [
    "'''3.3'''\n"
   ]
  },
  {
   "cell_type": "code",
   "execution_count": null,
   "metadata": {},
   "outputs": [],
   "source": [
    "'''3.4'''\n"
   ]
  },
  {
   "cell_type": "code",
   "execution_count": null,
   "metadata": {},
   "outputs": [],
   "source": [
    "'''3.5'''\n"
   ]
  },
  {
   "cell_type": "markdown",
   "metadata": {},
   "source": [
    "Explain: "
   ]
  },
  {
   "cell_type": "code",
   "execution_count": null,
   "metadata": {},
   "outputs": [],
   "source": [
    "'''3.6'''\n"
   ]
  }
 ],
 "metadata": {
  "kernelspec": {
   "display_name": "Python 3",
   "language": "python",
   "name": "python3"
  },
  "language_info": {
   "codemirror_mode": {
    "name": "ipython",
    "version": 3
   },
   "file_extension": ".py",
   "mimetype": "text/x-python",
   "name": "python",
   "nbconvert_exporter": "python",
   "pygments_lexer": "ipython3",
   "version": "3.7.1"
  },
  "latex_envs": {
   "LaTeX_envs_menu_present": true,
   "autoclose": false,
   "autocomplete": true,
   "bibliofile": "biblio.bib",
   "cite_by": "apalike",
   "current_citInitial": 1,
   "eqLabelWithNumbers": true,
   "eqNumInitial": 1,
   "hotkeys": {
    "equation": "Ctrl-E",
    "itemize": "Ctrl-I"
   },
   "labels_anchors": false,
   "latex_user_defs": false,
   "report_style_numbering": false,
   "user_envs_cfg": false
  }
 },
 "nbformat": 4,
 "nbformat_minor": 2
}
