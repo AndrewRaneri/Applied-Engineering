{
 "cells": [
  {
   "cell_type": "markdown",
   "metadata": {},
   "source": [
    "ChEn-3170: Computational Methods in Chemical Engineering Fall 2018 UMass Lowell; Prof. V. F. de Almeida **01Oct2018**\n",
    "\n",
    "# Laboratory Work 05 04Oct2018 Session 801/802\n",
    "$\n",
    "  \\newcommand{\\Amtrx}{\\boldsymbol{\\mathsf{A}}}\n",
    "  \\newcommand{\\Bmtrx}{\\boldsymbol{\\mathsf{B}}}\n",
    "  \\newcommand{\\Cmtrx}{\\boldsymbol{\\mathsf{C}}}\n",
    "  \\newcommand{\\Mmtrx}{\\boldsymbol{\\mathsf{M}}}\n",
    "  \\newcommand{\\Imtrx}{\\boldsymbol{\\mathsf{I}}}\n",
    "  \\newcommand{\\Pmtrx}{\\boldsymbol{\\mathsf{P}}}\n",
    "  \\newcommand{\\Lmtrx}{\\boldsymbol{\\mathsf{L}}}\n",
    "  \\newcommand{\\Umtrx}{\\boldsymbol{\\mathsf{U}}}\n",
    "  \\newcommand{\\xvec}{\\boldsymbol{\\mathsf{x}}}\n",
    "  \\newcommand{\\yvec}{\\boldsymbol{\\mathsf{y}}}\n",
    "  \\newcommand{\\zvec}{\\boldsymbol{\\mathsf{z}}}\n",
    "  \\newcommand{\\avec}{\\boldsymbol{\\mathsf{a}}}\n",
    "  \\newcommand{\\bvec}{\\boldsymbol{\\mathsf{b}}}\n",
    "  \\newcommand{\\cvec}{\\boldsymbol{\\mathsf{c}}}\n",
    "  \\newcommand{\\rvec}{\\boldsymbol{\\mathsf{r}}}\n",
    "  \\newcommand{\\norm}[1]{\\bigl\\lVert{#1}\\bigr\\rVert}\n",
    "  \\DeclareMathOperator{\\rank}{rank}\n",
    "  \\DeclareMathOperator{\\abs}{abs}\n",
    "$"
   ]
  },
  {
   "cell_type": "markdown",
   "metadata": {},
   "source": [
    "### Name: `your name`"
   ]
  },
  {
   "cell_type": "markdown",
   "metadata": {},
   "source": [
    "### Rubric for each assignment: \n",
    "\n",
    "|                             |  Points |\n",
    "| -----------------------     | ------- |\n",
    "| Precision of the answer     |   80%   |\n",
    "| Answer Markdown readability |   10%   |\n",
    "| Code readability            |   10%   |\n",
    "    "
   ]
  },
  {
   "cell_type": "markdown",
   "metadata": {},
   "source": [
    "### <span style=\"color:red\">Guidance:</span>\n",
    " +  <span style=\"color:red\"> \n",
    "    Save your work frequently to a file locally to your computer.\n",
    "    </span>\n",
    " +  <span style=\"color:red\">\n",
    "    During your work and before submitting the final version do: `Kernel` -> `Restart & Run All`, to verify your notebook runs correctly.\n",
    "    </span>\n",
    " +  <span style=\"color:red\">\n",
    "    Save your file again.\n",
    "    </span>"
   ]
  },
  {
   "cell_type": "markdown",
   "metadata": {},
   "source": [
    "## <span style=\"color:blue\">Assignment 1 (35 pts): For each item below respond in a separate notebook cell.</span>\n",
    " 1. <span style=\"color:blue\">\n",
    "Program a solution algorithm, as a Python function, for a system of equations with a lower triangular matrix of coefficients $\\Lmtrx\\,\\xvec=\\bvec$ (suggestion: use a test matrix and right side vector of *variable size* to test your code). The algorithm for $\\Lmtrx\\,\\xvec=\\bvec$ is as follows: $x_i = \\Bigl(b_i - \\sum\\limits_{j=1}^{i-1} L_{i,j}\\,x_j \\Bigr)\\,L^{-1}_{i,i} \\ \\ \\forall \\ \\ i=1,\\ldots,m$ for $i$ and $j$ with offset 1. Recall that `numpy` and Python have offset 0 for their sequence data types. Provide an output example for $\\Lmtrx$, $\\bvec$, and $\\xvec$.\n",
    "</span>\n",
    " 2. <span style=\"color:blue\">\n",
    "Using the `numpy.linalg.solve()` function solve the same system, $\\Lmtrx\\,\\yvec = \\bvec$, print $\\yvec$, and compute the norm of the\n",
    "residual $\\norm{\\xvec-\\yvec}$.\n",
    "</span>\n",
    " 3. <span style=\"color:blue\">\n",
    "Import the following image as a matrix (need internet connection)\n",
    "```python\n",
    "from matplotlib import pyplot as plt     # import the pyplot function of the matplotlib package\n",
    "plt.rcParams['figure.figsize'] = [20, 4] # extend the figure size on screen output\n",
    "img_mtrx = plt.imread('https://raw.githubusercontent.com/dpploy/chen-3170/master/images/cermet.png',format='png')\n",
    "img_mtrx = img_mtrx.astype('float64')\n",
    "plt.figure(1)                            # create a figure placeholder\n",
    "plt.imshow( img_mtrx,cmap='gray')\n",
    "plt.axis('off')\n",
    "```\n",
    "transform it into a lower triangular matrix, show the image, and solve for a right side vector $\\bvec$ with all ones as elements (*i.e.* $b_i = 1\\ \\forall \\ i=1,\\ldots,m$), using your forward solve function. Compute the residual of your solution compared to the `numpy.linalg.solve()` function and show the norm of the residual.\n",
    "</span>"
   ]
  },
  {
   "cell_type": "markdown",
   "metadata": {},
   "source": [
    "### Function library"
   ]
  },
  {
   "cell_type": "code",
   "execution_count": 4,
   "metadata": {},
   "outputs": [],
   "source": [
    "from chen_3170.help import get_triangular_matrix"
   ]
  },
  {
   "cell_type": "code",
   "execution_count": 1,
   "metadata": {},
   "outputs": [],
   "source": [
    " def forward_solve(l_mtrx, b_vec):\n",
    "    '''\n",
    "    Performs a forward solve with a lower triangular matrix and right side vector\n",
    "    \n",
    "    Parameters\n",
    "    ----------\n",
    "    l_mtrx: numpy.ndarray\n",
    "            Lower triangular matrix is required.\n",
    "    b_vec:  numpy.ndarray\n",
    "            Vector is required.\n",
    "            \n",
    "    Returns\n",
    "    -------\n",
    "    x_vec: numpy.narray\n",
    "           Solution vector returned.\n",
    "    '''        \n"
   ]
  },
  {
   "cell_type": "markdown",
   "metadata": {},
   "source": [
    "1) Solve $\\Lmtrx\\,\\xvec = \\bvec$ using this coded solver"
   ]
  },
  {
   "cell_type": "code",
   "execution_count": 3,
   "metadata": {},
   "outputs": [
    {
     "name": "stdout",
     "output_type": "stream",
     "text": [
      "l_mtrx =\n",
      " [[0.901 0.    0.    0.    0.    0.    0.   ]\n",
      " [0.688 0.073 0.    0.    0.    0.    0.   ]\n",
      " [0.704 0.523 0.01  0.    0.    0.    0.   ]\n",
      " [0.092 0.039 0.12  0.073 0.    0.    0.   ]\n",
      " [0.899 0.648 0.666 0.696 0.476 0.    0.   ]\n",
      " [0.933 0.484 0.739 0.1   0.817 0.799 0.   ]\n",
      " [0.378 0.836 0.374 0.427 0.683 0.421 0.412]]\n",
      "b_vec = [0.369 0.479 0.332 0.92  0.359 0.009 0.959]\n",
      "x_vec = [   0.41     2.691 -131.39   227.19  -151.995  246.354 -119.523]\n"
     ]
    }
   ],
   "source": []
  },
  {
   "cell_type": "markdown",
   "metadata": {},
   "source": [
    "2) Solve $\\Lmtrx\\,\\yvec = \\bvec$ using a linear algebra package solver"
   ]
  },
  {
   "cell_type": "code",
   "execution_count": 4,
   "metadata": {},
   "outputs": [
    {
     "name": "stdout",
     "output_type": "stream",
     "text": [
      "y_vec = [   0.41     2.691 -131.39   227.19  -151.995  246.354 -119.523]\n",
      "||x_vec - y_vec|| = 3.859383e-11\n"
     ]
    }
   ],
   "source": []
  },
  {
   "cell_type": "markdown",
   "metadata": {},
   "source": [
    "3) Solve $\\Lmtrx\\,\\yvec = \\bvec$ with image matrix and $b_i=1 \\ \\forall \\ i=1,\\ldots,m$"
   ]
  },
  {
   "cell_type": "code",
   "execution_count": 5,
   "metadata": {},
   "outputs": [
    {
     "name": "stdout",
     "output_type": "stream",
     "text": [
      "\n"
     ]
    }
   ],
   "source": [
    "'''Read the image into a matrix'''\n",
    "\n",
    "from matplotlib import pyplot as plt     # import the pyplot function of the matplotlib package\n",
    "plt.rcParams['figure.figsize'] = [20, 4] # extend the figure size on screen output\n",
    "img_mtrx = plt.imread('https://raw.githubusercontent.com/dpploy/chen-3170/master/images/cermet.png',format='png')\n",
    "img_mtrx = img_mtrx.astype('float64')\n",
    "plt.figure(1)              # create a figure placeholder\n",
    "plt.imshow( img_mtrx,cmap='gray')\n",
    "plt.axis('off')\n",
    "print('')"
   ]
  },
  {
   "cell_type": "code",
   "execution_count": 6,
   "metadata": {},
   "outputs": [
    {
     "name": "stdout",
     "output_type": "stream",
     "text": [
      "\n"
     ]
    },
    {
     "data": {
      "image/png": "[encoded data removed]",
      "text/plain": [
       "<Figure size 432x288 with 1 Axes>"
      ]
     },
     "metadata": {},
     "output_type": "display_data"
    }
   ],
   "source": [
    "'''Set image matrix to lower triangular'''\n"
   ]
  },
  {
   "cell_type": "code",
   "execution_count": 7,
   "metadata": {},
   "outputs": [
    {
     "name": "stdout",
     "output_type": "stream",
     "text": [
      "||x_vec - y_vec|| = 1.923128e-13\n"
     ]
    }
   ],
   "source": [
    "'''Solve L y = b for b equal to a vector of ones'''\n"
   ]
  },
  {
   "cell_type": "markdown",
   "metadata": {},
   "source": [
    "## <span style=\"color:blue\">Assignment 2 (35 pts): For each item below respond in a separate notebook cell.</span>\n",
    " 1. <span style=\"color:blue\">\n",
    "Program a solution algorithm, as a Python function, for a system of equations with an upper triangular matrix of coefficients $\\Umtrx\\,\\xvec=\\bvec$ (suggestion: use a test matrix and right side vector of variable size to test your code). The algorithm for $\\Umtrx\\,\\xvec=\\bvec$ is as follows: $x_i = \\Bigl(b_i - \\sum\\limits_{j=i+1}^{m} U_{i,j}\\,x_j \\Bigr)\\,U^{-1}_{i,i} \\ \\ \\forall \\ \\ i=m,\\ldots,1$ for $i$ and $j$ with offset 1. Recall that `numpy` and Python have offset 0 for their sequence data types. Provide an output example for $\\Umtrx$, $\\bvec$, and $\\xvec$.\n",
    "</span>\n",
    " 2. <span style=\"color:blue\">\n",
    "Using the `numpy.linalg.solve()` function solve the same system, $\\Umtrx\\,\\yvec = \\bvec$, print $\\yvec$, and compute the norm of the\n",
    "residual $\\norm{\\xvec-\\yvec}$.\n",
    "</span>\n",
    " 3. <span style=\"color:blue\">\n",
    "Import the following image as a matrix\n",
    "```python\n",
    "from matplotlib import pyplot as plt     # import the pyplot function of the matplotlib package\n",
    "plt.rcParams['figure.figsize'] = [20, 4] # extend the figure size on screen output\n",
    "img_mtrx = plt.imread('https://raw.githubusercontent.com/dpploy/chen-3170/master/images/cermet.png',format='png')\n",
    "img_mtrx = img_mtrx.astype('float64')\n",
    "plt.figure(1)                            # create a figure placeholder\n",
    "plt.imshow( img_mtrx,cmap='gray')\n",
    "plt.axis('off')\n",
    "```\n",
    "transform it into an upper triangular matrix, show the image, and solve for a right side vector with all ones as elements (*i.e.* $b_i = 1\\ \\forall \\ i=1,\\ldots,m$), using your backward solve function. Compute the residual of your solution compared to the `numpy.linalg.solve()` function and show the norm of the residual.\n",
    "</span>"
   ]
  },
  {
   "cell_type": "markdown",
   "metadata": {},
   "source": [
    "### Function library"
   ]
  },
  {
   "cell_type": "code",
   "execution_count": 8,
   "metadata": {},
   "outputs": [],
   "source": [
    "def backward_solve(u_mtrx, b_vec):\n",
    "    '''\n",
    "    Performs a backward solve with an upper triangular matrix and right side vector\n",
    "    \n",
    "    Parameters\n",
    "    ----------\n",
    "    u_mtrx: numpy.ndarray\n",
    "            Upper triangular matrix is required.\n",
    "    b_vec:  numpy.ndarray\n",
    "            Vector is required.\n",
    "            \n",
    "    Returns\n",
    "    -------\n",
    "    x_vec: numpy.narray\n",
    "           Solution vector returned.\n",
    "    '''     \n",
    "    \n",
    "    return x_vec  "
   ]
  },
  {
   "cell_type": "markdown",
   "metadata": {},
   "source": [
    "1) Solve $\\Umtrx\\,\\xvec = \\bvec$ using this coded solver."
   ]
  },
  {
   "cell_type": "code",
   "execution_count": 9,
   "metadata": {},
   "outputs": [
    {
     "name": "stdout",
     "output_type": "stream",
     "text": [
      "u_mtrx =\n",
      " [[0.59  0.444 0.905 0.874 0.261 0.019 0.628]\n",
      " [0.    0.443 0.338 0.494 0.573 0.444 0.155]\n",
      " [0.    0.    0.989 0.749 0.566 0.436 0.567]\n",
      " [0.    0.    0.    0.07  0.042 0.784 0.987]\n",
      " [0.    0.    0.    0.    0.146 0.908 0.516]\n",
      " [0.    0.    0.    0.    0.    0.593 0.776]\n",
      " [0.    0.    0.    0.    0.    0.    0.823]]\n",
      "b_vec = [0.56  0.984 0.799 0.86  0.13  0.729 0.264]\n",
      "x_vec = [-6.191  4.605  1.872  1.869 -5.271  0.809  0.32 ]\n"
     ]
    }
   ],
   "source": []
  },
  {
   "cell_type": "markdown",
   "metadata": {},
   "source": [
    "2) Solve $\\Umtrx\\,\\yvec = \\bvec$ using a linear algebra package solver."
   ]
  },
  {
   "cell_type": "code",
   "execution_count": 10,
   "metadata": {},
   "outputs": [
    {
     "name": "stdout",
     "output_type": "stream",
     "text": [
      "y_vec = [-6.191  4.605  1.872  1.869 -5.271  0.809  0.32 ]\n",
      "||x_vec - y_vec|| = 3.330669e-15\n"
     ]
    }
   ],
   "source": []
  },
  {
   "cell_type": "markdown",
   "metadata": {},
   "source": [
    "3) Solve $\\Umtrx\\,\\yvec = \\bvec$ with image matrix and $b_i=1 \\ \\forall \\ i=1,\\ldots,m$"
   ]
  },
  {
   "cell_type": "code",
   "execution_count": 11,
   "metadata": {},
   "outputs": [
    {
     "name": "stdout",
     "output_type": "stream",
     "text": [
      "\n"
     ]
    },
    {
     "data": {
      "image/png": "[encoded data removed]",
      "text/plain": [
       "<Figure size 432x288 with 1 Axes>"
      ]
     },
     "metadata": {},
     "output_type": "display_data"
    }
   ],
   "source": [
    "'''Set image matrix to upper triangular'''\n"
   ]
  },
  {
   "cell_type": "code",
   "execution_count": 12,
   "metadata": {},
   "outputs": [
    {
     "name": "stdout",
     "output_type": "stream",
     "text": [
      "||x_vec - y_vec|| = 2.304705e-13\n"
     ]
    }
   ],
   "source": [
    "'''Solve U y = b for b equal to a vector of ones'''\n"
   ]
  },
  {
   "cell_type": "markdown",
   "metadata": {},
   "source": [
    "## <span style=\"color:blue\">Assignment 3 (30 pts): For each item below respond in a separate notebook cell.</span>\n",
    "1. <span style=\"color:blue\">\n",
    "Program (in a function) a $\\Lmtrx\\,\\Umtrx$ factorization algorithm (without using pivoting) for the given matrix $\\Amtrx$ below and compute the $\\Lmtrx\\,\\Umtrx$ factors. Compute the $\\max\\bigl(\\abs(\\Amtrx-\\Lmtrx\\,\\Umtrx)\\bigr)$. The factorization is obtained by elimination steps $k = 1,\\ldots,m-1$ so that $A^{(k+1)}_{i,j} = A^{(k)}_{i,j} - A^{(k)}_{k,j}\\, m_{i,k} \\ \\forall\\ i=k+1,\\ldots,m \\ \\text{and}\\ j=k+1,\\ldots,m$ where the multipliers $m_{i,k}$ are given by $m_{i,k} = \\frac{A^{(k)}_{i,k}}{A^{(k)}_{k,k}}$. When $k = m-1$, $A^{(m)}_{i,j}$, is upper triangular, that is, $U_{i,j} = A^{(m-1)}_{i,j}$ . The lower triangular matrix is obtained using the multipliers $m_{i,k}$, that is $L_{i,j} = m_{i,j} \\ \\forall \\ i>j$,  $L_{i,i}=1$, and $L_{i,j}=0 \\ \\forall \\ i<j$.\n",
    "</span>\n",
    "2. <span style=\"color:blue\">\n",
    "Print the smallest diagonal entry of the $\\Umtrx$ factor, compute the $\\rank(\\Amtrx)$ and the $\\det(\\Amtrx)$ using the $\\Lmtrx\\,\\Umtrx$ factors.\n",
    "</span>\n",
    "3. <span style=\"color:blue\">\n",
    "Using your codes (Assignment 1 and 2) solve the linear system of algebraic equations $\\Amtrx\\,\\xvec=\\bvec$ for $\\bvec$ with all ones as elements (*i.e.* $b_i = 1\\ \\forall \\ i=1,\\ldots,m$). Solve the same system with `numpy.linalg.solve` and compute the norm of the solutions difference.\n",
    "</span>"
   ]
  },
  {
   "cell_type": "markdown",
   "metadata": {},
   "source": [
    "### Function library"
   ]
  },
  {
   "cell_type": "code",
   "execution_count": 13,
   "metadata": {
    "scrolled": false
   },
   "outputs": [],
   "source": [
    "def lu_factorization( mtrx ):\n",
    "\n",
    "\n",
    "    return (l_mtrx, u_mtrx)"
   ]
  },
  {
   "cell_type": "code",
   "execution_count": 14,
   "metadata": {
    "scrolled": false
   },
   "outputs": [
    {
     "name": "stdout",
     "output_type": "stream",
     "text": [
      "max(A - LU) =  2.91989e-14\n"
     ]
    }
   ],
   "source": [
    "a_mtrx = np.copy(img_mtrx[:120,:120]) # given matrix A\n"
   ]
  },
  {
   "cell_type": "code",
   "execution_count": 15,
   "metadata": {
    "scrolled": false
   },
   "outputs": [
    {
     "name": "stdout",
     "output_type": "stream",
     "text": [
      "min(diag(U)) = -8.51004e-01\n",
      "rank(A) = 120\n",
      "det(A) = -1.09249e-148\n"
     ]
    }
   ],
   "source": []
  },
  {
   "cell_type": "code",
   "execution_count": 16,
   "metadata": {
    "scrolled": false
   },
   "outputs": [
    {
     "name": "stdout",
     "output_type": "stream",
     "text": [
      "||x_vec - x_vec_gold|| =  3.26639e-10\n"
     ]
    }
   ],
   "source": [
    "''' Solve A x = b for b equal to a vector of ones '''\n"
   ]
  },
  {
   "cell_type": "code",
   "execution_count": null,
   "metadata": {},
   "outputs": [],
   "source": []
  }
 ],
 "metadata": {
  "kernelspec": {
   "display_name": "Python 3",
   "language": "python",
   "name": "python3"
  },
  "language_info": {
   "codemirror_mode": {
    "name": "ipython",
    "version": 3
   },
   "file_extension": ".py",
   "mimetype": "text/x-python",
   "name": "python",
   "nbconvert_exporter": "python",
   "pygments_lexer": "ipython3",
   "version": "3.6.5"
  },
  "latex_envs": {
   "LaTeX_envs_menu_present": true,
   "autoclose": false,
   "autocomplete": true,
   "bibliofile": "biblio.bib",
   "cite_by": "apalike",
   "current_citInitial": 1,
   "eqLabelWithNumbers": true,
   "eqNumInitial": 1,
   "hotkeys": {
    "equation": "Ctrl-E",
    "itemize": "Ctrl-I"
   },
   "labels_anchors": false,
   "latex_user_defs": false,
   "report_style_numbering": false,
   "user_envs_cfg": false
  }
 },
 "nbformat": 4,
 "nbformat_minor": 2
}
