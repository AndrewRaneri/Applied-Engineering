{
 "cells": [
  {
   "cell_type": "markdown",
   "metadata": {},
   "source": [
    "ChEn-3170: Computational Methods in Chemical Engineering Spring 2020 UMass Lowell; Prof. V. F. de Almeida **27Apr20**\n",
    "\n",
    "# Laboratory Work 13 (28Apr20)\n",
    "$\n",
    "  \\newcommand{\\Amtrx}{\\boldsymbol{\\mathsf{A}}}\n",
    "  \\newcommand{\\Bmtrx}{\\boldsymbol{\\mathsf{B}}}\n",
    "  \\newcommand{\\Cmtrx}{\\boldsymbol{\\mathsf{C}}}\n",
    "  \\newcommand{\\Mmtrx}{\\boldsymbol{\\mathsf{M}}}\n",
    "  \\newcommand{\\Imtrx}{\\boldsymbol{\\mathsf{I}}}\n",
    "  \\newcommand{\\Pmtrx}{\\boldsymbol{\\mathsf{P}}}\n",
    "  \\newcommand{\\Qmtrx}{\\boldsymbol{\\mathsf{Q}}}\n",
    "  \\newcommand{\\Lmtrx}{\\boldsymbol{\\mathsf{L}}}\n",
    "  \\newcommand{\\Umtrx}{\\boldsymbol{\\mathsf{U}}}\n",
    "  \\newcommand{\\Smtrx}{\\boldsymbol{\\mathsf{S}}}\n",
    "  \\newcommand{\\xvec}{\\boldsymbol{\\mathsf{x}}}\n",
    "  \\newcommand{\\yvec}{\\boldsymbol{\\mathsf{y}}}\n",
    "  \\newcommand{\\zvec}{\\boldsymbol{\\mathsf{z}}}\n",
    "  \\newcommand{\\avec}{\\boldsymbol{\\mathsf{a}}}\n",
    "  \\newcommand{\\bvec}{\\boldsymbol{\\mathsf{b}}}\n",
    "  \\newcommand{\\cvec}{\\boldsymbol{\\mathsf{c}}}\n",
    "  \\newcommand{\\rvec}{\\boldsymbol{\\mathsf{r}}}\n",
    "  \\newcommand{\\gvec}{\\boldsymbol{\\mathsf{g}}}\n",
    "  \\newcommand{\\norm}[1]{\\bigl\\lVert{#1}\\bigr\\rVert}\n",
    "  \\DeclareMathOperator{\\rank}{rank}\n",
    "  \\DeclareMathOperator{\\abs}{abs}\n",
    "$"
   ]
  },
  {
   "cell_type": "markdown",
   "metadata": {},
   "source": [
    "### Name: `your name`"
   ]
  },
  {
   "cell_type": "markdown",
   "metadata": {},
   "source": [
    "### Rubric for each assignment: \n",
    "\n",
    "|        Context          |  Points |\n",
    "|:----------------------------|:-------:|\n",
    "| Precision of the answer     |  80%    |\n",
    "| Answer Markdown readability |  10%    |\n",
    "| Code readability            |  10%    |\n",
    "    "
   ]
  },
  {
   "cell_type": "markdown",
   "metadata": {},
   "source": [
    "### <span style=\"color:red\">Guidance:</span>\n",
    " +  <span style=\"color:red\"> \n",
    "    Save your work frequently to a file locally to your computer.\n",
    "    </span>\n",
    " +  <span style=\"color:red\">\n",
    "    Before submitting, `Kernel` -> `Restart & Run All`, to verify your notebook runs correctly.\n",
    "    </span>\n",
    " +  <span style=\"color:red\">\n",
    "    Save your file again.\n",
    "    </span>"
   ]
  },
  {
   "cell_type": "markdown",
   "metadata": {},
   "source": [
    "## <span style=\"color:blue\">Use the material covered in Notebooks 17 and 18.</span>"
   ]
  },
  {
   "cell_type": "markdown",
   "metadata": {},
   "source": [
    "---\n",
    "### Table of Contents\n",
    "* [Assignment 1 (100 pts)](#a1)\n",
    "---"
   ]
  },
  {
   "cell_type": "markdown",
   "metadata": {},
   "source": [
    "## <span style=\"color:blue\">Assignment 1 (100 pts): For each item below respond in a separate notebook cell.</span><a id=\"a1\"></a>\n",
    "<span style=\"color:blue\">\n",
    "A couple of irreversible near first-order endothermic/exothermic reactions\n",
    "</span>\n",
    "\n",
    "<span style=\"color:blue\">\n",
    "\\begin{equation*}\n",
    "\\text{A} \\overset{k_1}{\\longrightarrow} 2\\,\\text{B}, \\\\\n",
    "2\\,\\text{B} \\overset{k_2}{\\longrightarrow} \\text{A}   ,\n",
    "\\end{equation*}\n",
    "</span>\n",
    "\n",
    "<span style=\"color:blue\">\n",
    "are performed in a continuous-stirred-tank reactor (CSTR; sketch below). A feed stream containing reactant A enters the constant volume CSTR at a mass flow rate $w$, temperature $T_\\text{in}$ and molar concentration $c_\\text{Ain}$. The product stream leaves the reactor at a mass flow rate $w$, temperature $T$, and molar concentration $c_\\text{A}$ for the reactant and $c_\\text{B}$ for the product. The heat power addition rate to the CSTR is $\\dot{Q}$, the experimental reaction rate density for the first reaction is \n",
    "</span>\n",
    "\n",
    "<span style=\"color:blue\">\n",
    "\\begin{equation*}\n",
    "r_1 = k_1\\,c_\\text{A}\\,c_\\text{B}^0  ,\n",
    "\\end{equation*}\n",
    "</span>\n",
    "\n",
    "<span style=\"color:blue\">\n",
    "and for the second reaction is\n",
    "</span>\n",
    "\n",
    "<span style=\"color:blue\">\n",
    "\\begin{equation*}\n",
    "r_2 = k_2 \\,c_\\text{A}^0\\,c^\\beta_\\text{B}  ,\n",
    "\\end{equation*}\n",
    "</span>\n",
    "\n",
    "<span style=\"color:blue\">\n",
    "where the rate constants are equal to the Arrhenius equations: $k_i = k_{0_i}\\,\\exp(\\frac{-E}{R\\,T})$.\n",
    "</span>\n",
    "\n",
    " 1. <span style=\"color:blue\"> \n",
    "    Derive a dynamic model for the CSTR to determine the concentrations of reactant A and product B and the CSTR temperature as a function of time.\n",
    "</span>   \n",
    " 3. <span style=\"color:blue\">\n",
    "    Determine the steady-state effluent concentrations for reactant A and product B and the required heating rate in kW for the above conditions.\n",
    "</span>\n",
    " 4. <span style=\"color:blue\">\n",
    "    Suppose a switch is made to a new feed stream with $c_\\text{Ain}$ = 1.0 kgmol/m$^3$ and $T_\\text{in}$ = 440 K, and the heat addition rate $\\dot{Q}$ remains unchanged. Determine the reactant and product concentrations and the CSTR temperature as a function of time. Tabulate and plot the dynamic results.\n",
    "</span>\n",
    " 5. <span style=\"color:blue\">\n",
    "    Analyze the results in comparison to the case where only the first reaction takes place. Provide a measure of the losses and/or gains in reactant and product concentrations and heating power. Explain your results.\n",
    "</span>\n",
    " \n",
    " ![](images/cstr.png)"
   ]
  },
  {
   "cell_type": "markdown",
   "metadata": {},
   "source": [
    "## <span style=\"color:blue\"> Input Data</span><a id=\"data\"></a>\n",
    "\n",
    "|Name                      | Parameter          | Value                | Unit              |\n",
    "|:-------------------------|:------------------:|:--------------------:|:-----------------:| \n",
    "|mass flow rate            | $w$                | 10                   | kg/s              | \n",
    "|inflow concentration of A | $c_\\text{Ain}$     | 1.2                  | kgmol/$\\text{m}^3$| \n",
    "|inflow concentration of B | $c_\\text{Bin}$     | 0.0                  | kgmol/$\\text{m}^3$| \n",
    "|inflow temperature        | $T_\\text{in}$      | 425                  | K                 | \n",
    "|holdup volume             | $V$                | 0.2                  | $\\text{m}^3$      | \n",
    "|mass density              | $\\rho$             | 1000                 | kg/$\\text{m}^3$   |\n",
    "|heat capacity             | $C$                | 4184                 | J/(kg K)          |\n",
    "|heat of reaction          | $\\Delta H_{\\text{R}_1}$| $6.69 \\times 10^8$   | J/kgmol           |\n",
    "|heat of reaction          | $\\Delta H_{\\text{R}_2}$| $-6.69 \\times 10^7$   | J/kgmol           |\n",
    "|Arrhenius frequency       | $k_{0_1}$          | $1.97\\times 10^{24}$ | $\\text{s}^{-1}$   |\n",
    "|Arrhenius frequency       | $k_{0_2}$          | $1.97\\times 10^{23}$ | $\\text{s}^{-1}$   |\n",
    "|activation temperature    | $E/R$              | 20000                | K                 |\n",
    "|reverse reaction order    | $\\beta$            | 1.5                  |                   |\n",
    "|S.S. reactor temperature  | $T_\\text{ss}$      | 350                  | K                 |"
   ]
  },
  {
   "cell_type": "markdown",
   "metadata": {},
   "source": [
    "### **1.1 Mathematical Model**"
   ]
  },
  {
   "cell_type": "code",
   "execution_count": null,
   "metadata": {},
   "outputs": [],
   "source": [
    "'''1.2 Steady state concentration of B'''"
   ]
  },
  {
   "cell_type": "code",
   "execution_count": null,
   "metadata": {},
   "outputs": [],
   "source": [
    "'''1.2 Steady state concentration of A'''"
   ]
  },
  {
   "cell_type": "code",
   "execution_count": null,
   "metadata": {},
   "outputs": [],
   "source": [
    "'''1.2 Steady state heating power'''"
   ]
  },
  {
   "cell_type": "code",
   "execution_count": null,
   "metadata": {},
   "outputs": [],
   "source": [
    "'''1.3 Evolve the CSTR'''"
   ]
  },
  {
   "cell_type": "code",
   "execution_count": null,
   "metadata": {},
   "outputs": [],
   "source": [
    "'''1.3 Plot Concentration versus Time'''"
   ]
  },
  {
   "cell_type": "markdown",
   "metadata": {},
   "source": [
    "### **1.4 Results analysis:**"
   ]
  },
  {
   "cell_type": "code",
   "execution_count": null,
   "metadata": {},
   "outputs": [],
   "source": []
  }
 ],
 "metadata": {
  "kernelspec": {
   "display_name": "Python 3",
   "language": "python",
   "name": "python3"
  },
  "language_info": {
   "codemirror_mode": {
    "name": "ipython",
    "version": 3
   },
   "file_extension": ".py",
   "mimetype": "text/x-python",
   "name": "python",
   "nbconvert_exporter": "python",
   "pygments_lexer": "ipython3",
   "version": "3.7.1"
  },
  "latex_envs": {
   "LaTeX_envs_menu_present": true,
   "autoclose": false,
   "autocomplete": true,
   "bibliofile": "biblio.bib",
   "cite_by": "apalike",
   "current_citInitial": 1,
   "eqLabelWithNumbers": true,
   "eqNumInitial": 1,
   "hotkeys": {
    "equation": "Ctrl-E",
    "itemize": "Ctrl-I"
   },
   "labels_anchors": false,
   "latex_user_defs": false,
   "report_style_numbering": false,
   "user_envs_cfg": false
  }
 },
 "nbformat": 4,
 "nbformat_minor": 2
}
