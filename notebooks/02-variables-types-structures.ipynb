{
 "cells": [
  {
   "cell_type": "markdown",
   "metadata": {},
   "source": [
    "ChEn-3170: Computational Methods in Chemical Engineering Spring 2020 UMass Lowell; Prof. V. F. de Almeida **20Jan20**\n",
    "\n",
    "# 02. Python: Variables, Data Types, and Data Structures"
   ]
  },
  {
   "cell_type": "markdown",
   "metadata": {},
   "source": [
    "---\n",
    "## Table of Contents<a id=\"toc\"></a>\n",
    "* [Objectives](#obj)\n",
    "* [Introduction](#introduction)\n",
    "* [Variables](#variables)\n",
    " - [Boolean](#boolean)\n",
    " - [String](#string)\n",
    " - [Numeric](#numeric)\n",
    "   + [Conversion](#conversion)\n",
    "   + [Operations](#operations)\n",
    " - [None](#none)\n",
    "* [Structures](#structures)\n",
    " - [List](#list)\n",
    " - [Dictionary](#dictionary)\n",
    " - [Tuple](#tuple)\n",
    " - [Set](#set)\n",
    "* [Summary](#summary)\n",
    "* [Interactive Help](#help)\n",
    "* [Practicing w/ Lists](#lists)\n",
    "* [Practicing w/ Dictionaries](#dictionaries)\n",
    "* [Practicing w/ Tuples](#tuples)\n",
    "* [Practicing w/ Sets](#sets)\n",
    "---"
   ]
  },
  {
   "cell_type": "markdown",
   "metadata": {},
   "source": [
    "## Objectives<a id=\"obj\"></a>\n",
    "\n",
    " + Present basic content on how variables and data types in Python will be used in this course.\n",
    " + Describe native Python data structures used in this course."
   ]
  },
  {
   "cell_type": "markdown",
   "metadata": {},
   "source": [
    "## Introduction<a id=\"introduction\"></a>\n",
    "+ *Variables* are objects that hold data.\n",
    "+ *Types* determine what kind of data a variable is supposed to contain. Python variable types are dynamically assigned/modified at runtime. *Introspection* allows for finding the type of a variable.\n",
    "+ *Structures* are different ways of storing data\n",
    "\n",
    "#### We will use in this course 3 basic (primitive) data types (or types):\n",
    "+ **Boolean:** `True` or `False`\n",
    "* **Strings:** alphanumeric\n",
    "- **Numeric:** integer (`int`) or float (`float`)\n",
    "\n",
    "#### [Python](https://www.python.org/) ([documentation](https://docs.python.org/3.6/contents.html)) has also a help utiliy in the interpreter\n",
    "+ `help()`\n",
    "\n",
    "If you want to learn Python in a deeper way, one book I personally recommend is: [*Learning Python*](https://www.amazon.com/Learning-Python-5th-Mark-Lutz/dp/1449355730) by Mark Lutz, $5^\\text{th}$ Edition, O'Reilly, **2013**."
   ]
  },
  {
   "cell_type": "code",
   "execution_count": null,
   "metadata": {},
   "outputs": [],
   "source": [
    "'''Interactive help warning''' # this line is a documentation string\n",
    "\n",
    "#help()  # don't leave this running on your interactive session; clear the output after running it"
   ]
  },
  {
   "cell_type": "markdown",
   "metadata": {},
   "source": [
    "## Variables<a id=\"variables\"></a>\n",
    "Standard practice in Python programming is to use snake case variable names, i.e. \n",
    "<span style=\"color:red\">*my_variable_name*</span>"
   ]
  },
  {
   "cell_type": "markdown",
   "metadata": {},
   "source": [
    "### Boolean variables<a id=\"boolean\"></a>"
   ]
  },
  {
   "cell_type": "code",
   "execution_count": 1,
   "metadata": {},
   "outputs": [
    {
     "name": "stdout",
     "output_type": "stream",
     "text": [
      "a is \n",
      "True\n",
      "<class 'bool'>\n",
      "a is  True <class 'bool'> ; b is  False <class 'bool'>\n"
     ]
    }
   ],
   "source": [
    "'''Creation and inspection'''\n",
    "\n",
    "hello = True                   # hello is a variable name and type is boolean or the same as 1\n",
    "a = hello                                \n",
    "b = False                      # a boolean or the same as 0\n",
    "\n",
    "# print command for output to standard output terminal\n",
    "# print( arg, arg, arg, ... )  # syntax of a print() statement\n",
    "print('a is ')\n",
    "print(a)\n",
    "print(type(a))\n",
    "#\n",
    "print( 'a is ',a, type(a), '; b is ', b, type(b) ) "
   ]
  },
  {
   "cell_type": "code",
   "execution_count": null,
   "metadata": {},
   "outputs": [],
   "source": [
    "'''The \"print\" command is a reserved keyword in Python'''\n",
    "\n",
    "help(print)"
   ]
  },
  {
   "cell_type": "markdown",
   "metadata": {},
   "source": [
    "### String (alpha-numeric) variables<a id = \"string\"></a>"
   ]
  },
  {
   "cell_type": "code",
   "execution_count": 2,
   "metadata": {},
   "outputs": [
    {
     "name": "stdout",
     "output_type": "stream",
     "text": [
      "H2O  is of type <class 'str'>\n"
     ]
    }
   ],
   "source": [
    "'''Creating and inspecting a \"water\" string type'''\n",
    "\n",
    "water = 'H2O'                      # the water variable is assigned a string using quotes\n",
    "print(water,' is of type',type(water))  "
   ]
  },
  {
   "cell_type": "code",
   "execution_count": 3,
   "metadata": {
    "scrolled": true
   },
   "outputs": [
    {
     "name": "stdout",
     "output_type": "stream",
     "text": [
      "nuclide = U-238\n"
     ]
    }
   ],
   "source": [
    "'''Creating and inspecting a \"nuclide\" string type'''\n",
    "\n",
    "nuclide = 'U-238'                # assigned to using quotes\n",
    "print('nuclide =',nuclide)"
   ]
  },
  {
   "cell_type": "code",
   "execution_count": null,
   "metadata": {},
   "outputs": [],
   "source": [
    "'''Help on nuclide does not dive into its type'''\n",
    "\n",
    "help(nuclide)"
   ]
  },
  {
   "cell_type": "code",
   "execution_count": null,
   "metadata": {},
   "outputs": [],
   "source": [
    "'''Help on str type will give all the information'''\n",
    "\n",
    "help(str)"
   ]
  },
  {
   "cell_type": "code",
   "execution_count": null,
   "metadata": {},
   "outputs": [],
   "source": [
    "'''Alternatively the built-in function dir() shows a list of attributes and methods'''\n",
    "\n",
    "dir(nuclide)"
   ]
  },
  {
   "cell_type": "code",
   "execution_count": 4,
   "metadata": {},
   "outputs": [
    {
     "name": "stdout",
     "output_type": "stream",
     "text": [
      "# of characters in nuclide:  5\n",
      "nuclide[0] =  U\n",
      "nuclide[1] =  -\n",
      "nuclide[2] =  2\n"
     ]
    }
   ],
   "source": [
    "'''Accessing the indivicual characters of the \"nuclide\" string type'''\n",
    "\n",
    "print('# of characters in nuclide: ', len(nuclide))  # the length of the string\n",
    "\n",
    "# bracket or index operator \n",
    "# index offset in the string \"array\" starts from zero\n",
    "\n",
    "print('nuclide[0] = ', nuclide[0])                  # access to each string character with indexing operator []\n",
    "print('nuclide[1] = ', nuclide[1])                  # access to each string character with indexing operator []\n",
    "print('nuclide[2] = ', nuclide[2])                  # access to each string character with indexing operator []"
   ]
  },
  {
   "cell_type": "code",
   "execution_count": null,
   "metadata": {},
   "outputs": [],
   "source": [
    "'''String types are immutable'''\n",
    "\n",
    "#nuclide[0] = 'Pu'    # let's change U to Pu; this is not allowed"
   ]
  },
  {
   "cell_type": "code",
   "execution_count": 5,
   "metadata": {
    "scrolled": false
   },
   "outputs": [
    {
     "name": "stdout",
     "output_type": "stream",
     "text": [
      "tmp type is  <class 'list'> with values:  ['U', '238']\n"
     ]
    }
   ],
   "source": [
    "'''Applying the \"split()\" method on a string type'''\n",
    "\n",
    "tmp = nuclide.split('-')   # split the string at the '-' character and save the result in tmp (i.e. list)\n",
    "\n",
    "print('tmp type is ',type(tmp),'with values: ',tmp)"
   ]
  },
  {
   "cell_type": "code",
   "execution_count": 6,
   "metadata": {
    "scrolled": false
   },
   "outputs": [
    {
     "name": "stdout",
     "output_type": "stream",
     "text": [
      "nuclide_element = U\n",
      "nuclide_isotope = 238\n"
     ]
    }
   ],
   "source": [
    "'''Save results from the split() return'''\n",
    "\n",
    "nuclide_element = tmp[0]            # capture the nuclide element             \n",
    "nuclide_isotope = tmp[1]            # capture the isotope number\n",
    "\n",
    "print('nuclide_element =', nuclide_element)\n",
    "print('nuclide_isotope =', nuclide_isotope)"
   ]
  },
  {
   "cell_type": "code",
   "execution_count": 7,
   "metadata": {},
   "outputs": [
    {
     "name": "stdout",
     "output_type": "stream",
     "text": [
      "nuclide = U-238\n",
      "nuclide[:] = U-238\n",
      "nuclide[0:] = U-238\n",
      "nuclide[0:1] = U\n",
      "nuclide[1:2] = -\n",
      "U-23\n",
      "U-2\n"
     ]
    }
   ],
   "source": [
    "'''Slicing of string data type'''\n",
    "\n",
    "print('nuclide =', nuclide)\n",
    "\n",
    "# general slice operator [x:y]: loop from x to y (not including y)\n",
    "\n",
    "print('nuclide[:] =', nuclide[:])  # slice operator [:]: prints all data\n",
    "\n",
    "print('nuclide[0:] =', nuclide[0:]) # slice operator [0:]: also prints all data starting from 0\n",
    "\n",
    "print('nuclide[0:1] =', nuclide[0:1]) # slice operator [0:1]: prints 1-0 = 1 items starting from 0\n",
    "\n",
    "print('nuclide[1:2] =', nuclide[1:2])\n",
    "\n",
    "print(nuclide[0:-1]) # negative indicates counting from the back of the list\n",
    "print(nuclide[0:-2]) # negative indicates counting from the back of the list"
   ]
  },
  {
   "cell_type": "code",
   "execution_count": 8,
   "metadata": {},
   "outputs": [
    {
     "name": "stdout",
     "output_type": "stream",
     "text": [
      "238\n"
     ]
    }
   ],
   "source": [
    "print(nuclide[-3:])"
   ]
  },
  {
   "cell_type": "markdown",
   "metadata": {},
   "source": [
    "### Numeric variables<a id=\"numeric\"></a>\n",
    "\n",
    "They can be an integer, `int`, or a floating point, `float`."
   ]
  },
  {
   "cell_type": "code",
   "execution_count": 9,
   "metadata": {},
   "outputs": [
    {
     "name": "stdout",
     "output_type": "stream",
     "text": [
      "<class 'int'>\n"
     ]
    }
   ],
   "source": [
    "a = 10         # variable a is assigned the integer 10\n",
    "print(type(a)) # print statement to print the type of a"
   ]
  },
  {
   "cell_type": "code",
   "execution_count": 10,
   "metadata": {},
   "outputs": [
    {
     "name": "stdout",
     "output_type": "stream",
     "text": [
      "<class 'float'>\n"
     ]
    }
   ],
   "source": [
    "a = 1.3e4       # floating point\n",
    "print(type(a))"
   ]
  },
  {
   "cell_type": "code",
   "execution_count": 11,
   "metadata": {},
   "outputs": [
    {
     "name": "stdout",
     "output_type": "stream",
     "text": [
      "type(a) = <class 'int'>\n",
      "type(a) = <class 'float'>\n"
     ]
    }
   ],
   "source": [
    "a = 1\n",
    "print('type(a) =',type(a))\n",
    "a = 1.0\n",
    "print('type(a) =',type(a))"
   ]
  },
  {
   "cell_type": "markdown",
   "metadata": {},
   "source": [
    "NB: different types; `int` versus `float`. An important difference in rounding off or truncation error."
   ]
  },
  {
   "cell_type": "markdown",
   "metadata": {},
   "source": [
    "#### Type conversion (implicit and explicit or casting) and dynamic type change<a id=\"conversion\"></a>"
   ]
  },
  {
   "cell_type": "code",
   "execution_count": 12,
   "metadata": {},
   "outputs": [
    {
     "name": "stdout",
     "output_type": "stream",
     "text": [
      "<class 'float'> 5.0\n"
     ]
    }
   ],
   "source": [
    "'''Casting an integer to float'''\n",
    "\n",
    "a = float(5)     # an integer is casted into a float\n",
    "print(type(a),a)"
   ]
  },
  {
   "cell_type": "code",
   "execution_count": 13,
   "metadata": {},
   "outputs": [
    {
     "name": "stdout",
     "output_type": "stream",
     "text": [
      "<class 'float'>\n"
     ]
    }
   ],
   "source": [
    "'''Casting up'''\n",
    "\n",
    "a = 1; b = 1.0    # note a is an integer and b is a float\n",
    "print(type(a*b))  # the result of the product is a float"
   ]
  },
  {
   "cell_type": "code",
   "execution_count": 14,
   "metadata": {},
   "outputs": [
    {
     "name": "stdout",
     "output_type": "stream",
     "text": [
      "a = 5 ; <class 'int'>\n",
      "b = 5 ; <class 'int'>\n"
     ]
    }
   ],
   "source": [
    "'''Truncation casting'''\n",
    "\n",
    "a = int(5.87)         # a float is casted into a truncated integer\n",
    "b = int(5.21)         # a float is casted into a truncated integer (no rounding to the next integer)\n",
    "print('a =',a,';', type(a)) # print format statement\n",
    "print('b =',b,';', type(b)) # print format statement"
   ]
  },
  {
   "cell_type": "code",
   "execution_count": 15,
   "metadata": {},
   "outputs": [
    {
     "name": "stdout",
     "output_type": "stream",
     "text": [
      "<class 'int'>\n",
      "<class 'bool'>\n"
     ]
    }
   ],
   "source": [
    "'''Dynamic type change'''\n",
    "\n",
    "a = 10         # integer\n",
    "print(type(a))\n",
    "a = True       # now assigned to a boolean\n",
    "print(type(a))"
   ]
  },
  {
   "cell_type": "markdown",
   "metadata": {},
   "source": [
    "#### Operations <a id=\"operations\"></a>"
   ]
  },
  {
   "cell_type": "code",
   "execution_count": 16,
   "metadata": {},
   "outputs": [
    {
     "name": "stdout",
     "output_type": "stream",
     "text": [
      "a = 2\n",
      "a = 3\n",
      "a = 1\n",
      "109.3588402714607\n",
      "2.718281828459045\n",
      "2.718281828459045\n",
      "cte =  3.141592653589793\n"
     ]
    }
   ],
   "source": [
    "'''Addition, subtraction, multiplication, power, etc'''\n",
    "\n",
    "a = a + 1     # add one and assign to variable\n",
    "print('a =',a)\n",
    "\n",
    "a += 1        # add in place\n",
    "print('a =',a)\n",
    "\n",
    "a -= 2        # subtract in place\n",
    "print('a =',a)\n",
    "\n",
    "import math  # math python \"package\" import\n",
    "\n",
    "radius = 5.9\n",
    "area = math.pi * radius**2\n",
    "print(area)\n",
    "\n",
    "e = math.exp(1)\n",
    "print( e )\n",
    "\n",
    "print(math.e)\n",
    "\n",
    "cte = area / radius**2 # division\n",
    "print('cte = ',cte)"
   ]
  },
  {
   "cell_type": "code",
   "execution_count": 17,
   "metadata": {},
   "outputs": [
    {
     "data": {
      "text/plain": [
       "False"
      ]
     },
     "execution_count": 17,
     "metadata": {},
     "output_type": "execute_result"
    }
   ],
   "source": [
    "'''Logical testing'''\n",
    "\n",
    "5 > 7 # greater than equal operator; other operators: >=, <, <="
   ]
  },
  {
   "cell_type": "code",
   "execution_count": 18,
   "metadata": {},
   "outputs": [
    {
     "data": {
      "text/plain": [
       "True"
      ]
     },
     "execution_count": 18,
     "metadata": {},
     "output_type": "execute_result"
    }
   ],
   "source": [
    "6 == 6 # equality or identity operator; other related operator \"not equal\": !="
   ]
  },
  {
   "cell_type": "code",
   "execution_count": 19,
   "metadata": {},
   "outputs": [],
   "source": [
    "# 6 = 6 # error in assignment"
   ]
  },
  {
   "cell_type": "markdown",
   "metadata": {},
   "source": [
    "### NoneType variable<a id=\"none\"></a>\n",
    "\n",
    "In Python a variable can be assigned the `None` type. This is no type at all, that is, type `NoneType`. This a convenient value for testing conditions of variables that have not been given any value. Also it is a way to free memory allocated for a previously defined variable."
   ]
  },
  {
   "cell_type": "code",
   "execution_count": 20,
   "metadata": {},
   "outputs": [
    {
     "name": "stdout",
     "output_type": "stream",
     "text": [
      "<class 'NoneType'>\n",
      "None\n"
     ]
    }
   ],
   "source": [
    "'''None type'''\n",
    "\n",
    "a = None\n",
    "\n",
    "print(type(a))\n",
    "print(a)"
   ]
  },
  {
   "cell_type": "markdown",
   "metadata": {},
   "source": [
    "## Structures<a id=\"structures\"></a>\n",
    "\n",
    "Python has 3 basic (primitive) native data structures of interest in this course:\n",
    "- **Linked lists:** `list()` (ordered sequence of any type of objects)\n",
    "- **Dictionary:** `dict()`   (unordered sequence of key-value pairs of any type of objects)\n",
    "- **Tuples:** `tuple()`      (immutable sequence of any type of objects)\n",
    "- **Sets:** `set()`          (immutable group of unique objects of *certain* types)"
   ]
  },
  {
   "cell_type": "markdown",
   "metadata": {},
   "source": [
    "### List: sequence of data types<a id=\"list\"></a>"
   ]
  },
  {
   "cell_type": "code",
   "execution_count": 21,
   "metadata": {},
   "outputs": [
    {
     "name": "stdout",
     "output_type": "stream",
     "text": [
      "atoms =  [] ; type = <class 'list'>\n",
      "water =  ['2 H', 'O']\n",
      "methane =  ['C', '4 H']\n"
     ]
    }
   ],
   "source": [
    "'''Creation of list types'''\n",
    "\n",
    "atoms = list()                                  # create empty list of atoms via list()\n",
    "atoms = []                                      # create empty list of atoms via brackets []\n",
    "print('atoms = ',atoms, '; type =',type(atoms))\n",
    "\n",
    "water_atoms = ['2 H','O']                       # create list of atoms in a water molecule: use the [...] container\n",
    "methane_atoms = ['C','4 H']                     # list of atoms in a methane molecule: use the [...] container\n",
    "print('water = ',water_atoms)\n",
    "print('methane = ', methane_atoms)"
   ]
  },
  {
   "cell_type": "code",
   "execution_count": 22,
   "metadata": {},
   "outputs": [
    {
     "name": "stdout",
     "output_type": "stream",
     "text": [
      "['2 H', 'O'] ; length =  2\n",
      "2 H\n",
      "O\n"
     ]
    }
   ],
   "source": [
    "'''Access to list items via indexing: indexing in Python uses zero offset'''\n",
    "\n",
    "print(water_atoms, '; length = ',len(water_atoms)) # note the len() method used on \"water_atoms\"\n",
    "print(water_atoms[0])                             # note indexing operation on \"water_atoms\"\n",
    "print(water_atoms[1])"
   ]
  },
  {
   "cell_type": "markdown",
   "metadata": {},
   "source": [
    "### Dictionary: key-value pairs in any order<a id='dictionary'></a>"
   ]
  },
  {
   "cell_type": "code",
   "execution_count": 23,
   "metadata": {},
   "outputs": [
    {
     "name": "stdout",
     "output_type": "stream",
     "text": [
      "species type = <class 'dict'>\n",
      "species =  {'water': ['2 H', 'O'], 'methane': ['C', '4 H']}\n"
     ]
    }
   ],
   "source": [
    "'''Creation of a \"species\" dictionary type'''\n",
    "\n",
    "species = dict()           # create an empty dictionary type variable named \"species\"\n",
    "species = {}               # another way to create the same variable {} (curly brackets)\n",
    "\n",
    "species = {'water': water_atoms, 'methane': methane_atoms}  # one way to create a species dictionary {} container\n",
    "\n",
    "print('species type =',type(species))                       # keys and values pairs:  {key:value, key:value, ...}\n",
    "print('species = ',species)"
   ]
  },
  {
   "cell_type": "code",
   "execution_count": 24,
   "metadata": {},
   "outputs": [
    {
     "name": "stdout",
     "output_type": "stream",
     "text": [
      "species type = <class 'dict'>\n",
      "species =  {'methane': ['C', '4 H'], 'water': ['2 H', 'O']}\n",
      "species['water'] =  ['2 H', 'O']\n"
     ]
    }
   ],
   "source": [
    "'''Creation of a dictionary type using the key and its value directly'''\n",
    "\n",
    "species = dict()  # clear the species object and make it a dict type\n",
    "\n",
    "species['methane'] = methane_atoms     # insert directly into the dictionary (note: order does not matter)\n",
    "species['water']   = water_atoms       # insert directly into the dictionary (note: order does not matter)\n",
    "\n",
    "print('species type =', type(species))\n",
    "print('species = ', species)\n",
    "print(\"species['water'] = \", species['water'])"
   ]
  },
  {
   "cell_type": "code",
   "execution_count": 25,
   "metadata": {},
   "outputs": [
    {
     "name": "stdout",
     "output_type": "stream",
     "text": [
      "dict_keys(['methane', 'water'])\n",
      "dict_values([['C', '4 H'], ['2 H', 'O']])\n"
     ]
    }
   ],
   "source": [
    "'''Inspect keys and values'''\n",
    "\n",
    "print(species.keys())      # keys() method to access the keys\n",
    "print(species.values())    # values() method to access the values"
   ]
  },
  {
   "cell_type": "code",
   "execution_count": null,
   "metadata": {},
   "outputs": [],
   "source": [
    "help(species)"
   ]
  },
  {
   "cell_type": "code",
   "execution_count": null,
   "metadata": {},
   "outputs": [],
   "source": [
    "dir(species)"
   ]
  },
  {
   "cell_type": "markdown",
   "metadata": {},
   "source": [
    "### Tuple: immutable sequence of data types<a id=\"tuple\"></a>"
   ]
  },
  {
   "cell_type": "code",
   "execution_count": 26,
   "metadata": {},
   "outputs": [
    {
     "name": "stdout",
     "output_type": "stream",
     "text": [
      "velocity is:  () ; type is:  <class 'tuple'>\n"
     ]
    }
   ],
   "source": [
    "'''Creation of a tuple type'''\n",
    "\n",
    "velocity = tuple()                                  # create an emtpy \"velocity\" tuple type\n",
    "velocity = ()                                       # another way to create an empty tuple via parenthesis ()\n",
    "print('velocity is: ',velocity,'; type is: ', type(velocity))"
   ]
  },
  {
   "cell_type": "code",
   "execution_count": 27,
   "metadata": {},
   "outputs": [
    {
     "name": "stdout",
     "output_type": "stream",
     "text": [
      "velocity vector =  (3.1, 4.5, -7.8)\n",
      "velocity type   =  <class 'tuple'>\n",
      "velocity component 1 =  3.1\n",
      "velocity component 2 =  4.5\n",
      "velocity component 3 =  -7.8\n"
     ]
    }
   ],
   "source": [
    "'''Create a tuple with data directly'''\n",
    "\n",
    "velocity = (3.1, 4.5, -7.8)   # use the () container to create a tuple of any length\n",
    "print('velocity vector = ',velocity)\n",
    "print('velocity type   = ',type(velocity))\n",
    "\n",
    "'''Access values in the tuple'''\n",
    "\n",
    "print('velocity component 1 = ',velocity[0])    # zero offset access with indexing operator []\n",
    "print('velocity component 2 = ',velocity[1])\n",
    "print('velocity component 3 = ',velocity[2])\n",
    "#print('velocity component 4 = ',velocity[3]) # will cause an out of bounds or range error"
   ]
  },
  {
   "cell_type": "code",
   "execution_count": 28,
   "metadata": {},
   "outputs": [
    {
     "data": {
      "text/plain": [
       "'A tuple is immutable'"
      ]
     },
     "execution_count": 28,
     "metadata": {},
     "output_type": "execute_result"
    }
   ],
   "source": [
    "'''A tuple is immutable'''\n",
    "\n",
    "#velocity[1] = 5.8      # assignment is not allowed"
   ]
  },
  {
   "cell_type": "markdown",
   "metadata": {},
   "source": [
    "### Set: immutable group of unique data types<a id=\"set\"></a>"
   ]
  },
  {
   "cell_type": "code",
   "execution_count": 29,
   "metadata": {},
   "outputs": [
    {
     "name": "stdout",
     "output_type": "stream",
     "text": [
      "air type = <class 'set'>\n",
      "air      =  {'O2', 'methane', 'water', 'argon', 'N2'}\n",
      "sorted air =  ['N2', 'O2', 'argon', 'methane', 'water']\n"
     ]
    }
   ],
   "source": [
    "'''Creation of a \"species\" dictionary type'''\n",
    "\n",
    "air = set()         # create an empty set type variable named \"air\"\n",
    "air = {}            # another way to create the same variable via curly brackets {}\n",
    "\n",
    "air = {'water', 'methane', 'argon', 'O2', 'N2','water'}  # create an \"air\" set {} container\n",
    "\n",
    "print('air type =',type(air))            \n",
    "print('air      = ',air)\n",
    "print('sorted air = ',sorted(air)) # what is this doing?"
   ]
  },
  {
   "cell_type": "code",
   "execution_count": 30,
   "metadata": {},
   "outputs": [
    {
     "name": "stdout",
     "output_type": "stream",
     "text": [
      "intersection = {'O2'}\n",
      "union        = {2.3, 'iPhone', 8, 'O2', 10.1, 'methane', 'water', 'argon', 'N2'}\n"
     ]
    }
   ],
   "source": [
    "'''A set type is not ordered thus indexing is not available'''\n",
    "\n",
    "#air[0]   # produces an error\n",
    "\n",
    "weird_set = {2.3, 8, 10.1,'O2', 'iPhone'}\n",
    "print('intersection =',air & weird_set)         # intersection of sets, operator \"&\"\n",
    "print('union        =',air | weird_set)         # union of sets, operator \"|\""
   ]
  },
  {
   "cell_type": "code",
   "execution_count": null,
   "metadata": {},
   "outputs": [],
   "source": [
    "help(set)"
   ]
  },
  {
   "cell_type": "code",
   "execution_count": null,
   "metadata": {},
   "outputs": [],
   "source": [
    "dir(set)"
   ]
  },
  {
   "cell_type": "code",
   "execution_count": 31,
   "metadata": {},
   "outputs": [
    {
     "data": {
      "text/plain": [
       "{'O2'}"
      ]
     },
     "execution_count": 31,
     "metadata": {},
     "output_type": "execute_result"
    }
   ],
   "source": [
    "air.intersection(weird_set)"
   ]
  },
  {
   "cell_type": "code",
   "execution_count": 32,
   "metadata": {},
   "outputs": [
    {
     "data": {
      "text/plain": [
       "{10.1, 2.3, 8, 'N2', 'O2', 'argon', 'iPhone', 'methane', 'water'}"
      ]
     },
     "execution_count": 32,
     "metadata": {},
     "output_type": "execute_result"
    }
   ],
   "source": [
    "air.union(weird_set)"
   ]
  },
  {
   "cell_type": "markdown",
   "metadata": {},
   "source": [
    "### Summary<a id=\"summary\"></a>"
   ]
  },
  {
   "cell_type": "code",
   "execution_count": 33,
   "metadata": {},
   "outputs": [],
   "source": [
    "string = ''         # empty string (cryptic)\n",
    "string = str()      # empty string\n",
    "\n",
    "listing = []        # empty list (cryptic)\n",
    "listing = list()    # empty list\n",
    "\n",
    "dictionary = {}     # empty dictionary (cryptic)\n",
    "dictionary = dict() # empty dictionary\n",
    "\n",
    "tuple_a = ()        # empty tuple (cryptic)\n",
    "tuple_a = tuple()   # empty tuple\n",
    "\n",
    "set_a = {}          # empty set (cryptic and clashes with a dictionary)\n",
    "set_a = set()       # emtpty set"
   ]
  },
  {
   "cell_type": "markdown",
   "metadata": {},
   "source": [
    "### Interactive Help<a id=\"help\"></a>\n",
    "Practical help sources at the Python interactive prompt\n",
    "+ `dir()` : shows the objects in the interactive session\n",
    "+ `dir(object)` : use this built-in function on a Python *object* to obtain a list of methods\n",
    "+ `help()` : use this built-in function on anything to obtain information on what the argument does"
   ]
  },
  {
   "cell_type": "code",
   "execution_count": null,
   "metadata": {
    "scrolled": true
   },
   "outputs": [],
   "source": [
    "dir()  # show the local variables in the current session"
   ]
  },
  {
   "cell_type": "code",
   "execution_count": null,
   "metadata": {
    "scrolled": true
   },
   "outputs": [],
   "source": [
    "dir(str()) # inquire about all methods and atrributes this empty str() object has to offer"
   ]
  },
  {
   "cell_type": "code",
   "execution_count": null,
   "metadata": {
    "scrolled": true
   },
   "outputs": [],
   "source": [
    "help(str) # inquire about what the str() methods do"
   ]
  },
  {
   "cell_type": "markdown",
   "metadata": {},
   "source": [
    "## Practicing w/ Lists<a id=\"lists\"></a>"
   ]
  },
  {
   "cell_type": "code",
   "execution_count": 34,
   "metadata": {},
   "outputs": [
    {
     "name": "stdout",
     "output_type": "stream",
     "text": [
      "my_data =  range(0, 10) \n",
      "type =  <class 'range'>\n",
      "[0, 1, 2, 3, 4, 5, 6, 7, 8, 9]\n"
     ]
    }
   ],
   "source": [
    "'''Getting data into a list data type'''\n",
    "\n",
    "my_data = range(10)                                      # create a range of integers: 0 to 9\n",
    "\n",
    "print('my_data = ',my_data, '\\ntype = ',type(my_data)) # not very revealing since range() does not create data until needed\n",
    "print(list(my_data))                                   # this creates a list() and reveals the data created"
   ]
  },
  {
   "cell_type": "markdown",
   "metadata": {},
   "source": [
    "Note that `my_data` is of type `range` and does not hold an explicit *range* of data (see line 2 above). Once manipulation of data is requested (line 3 above; when a `list` is created), data is created (0, 1, ... 9) by the `my_data` object. This is called *deferred evaluation*."
   ]
  },
  {
   "cell_type": "code",
   "execution_count": null,
   "metadata": {
    "scrolled": true
   },
   "outputs": [],
   "source": [
    "'''Getting help on \"range\"'''\n",
    "\n",
    "help(range)  # help on range"
   ]
  },
  {
   "cell_type": "code",
   "execution_count": 35,
   "metadata": {},
   "outputs": [
    {
     "data": {
      "text/plain": [
       "[4, 5, 6]"
      ]
     },
     "execution_count": 35,
     "metadata": {},
     "output_type": "execute_result"
    }
   ],
   "source": [
    "'''Data with start and stop values'''\n",
    "\n",
    "list(range(4,7))     # range(i,j) = [i,i+1,...,j-1]"
   ]
  },
  {
   "cell_type": "code",
   "execution_count": 36,
   "metadata": {},
   "outputs": [
    {
     "data": {
      "text/plain": [
       "[]"
      ]
     },
     "execution_count": 36,
     "metadata": {},
     "output_type": "execute_result"
    }
   ],
   "source": [
    "'''Data w/ equal start and stop values'''\n",
    "\n",
    "list(range(4,4))     # empty list range(4,4) = [] "
   ]
  },
  {
   "cell_type": "code",
   "execution_count": 37,
   "metadata": {},
   "outputs": [
    {
     "data": {
      "text/plain": [
       "[4, 6]"
      ]
     },
     "execution_count": 37,
     "metadata": {},
     "output_type": "execute_result"
    }
   ],
   "source": [
    "'''Data w/ start, stop and step values'''\n",
    "\n",
    "list(range(4,8,2))   # range(4,8,2) = [4,...,8-1] in steps of 2, i.e. [4,6]"
   ]
  },
  {
   "cell_type": "code",
   "execution_count": 38,
   "metadata": {},
   "outputs": [
    {
     "data": {
      "text/plain": [
       "[-10, -8, -6, -4, -2]"
      ]
     },
     "execution_count": 38,
     "metadata": {},
     "output_type": "execute_result"
    }
   ],
   "source": [
    "'''Data w/ negative start and end values'''\n",
    "\n",
    "list(range(-10,-1,2))"
   ]
  },
  {
   "cell_type": "code",
   "execution_count": 39,
   "metadata": {},
   "outputs": [
    {
     "name": "stdout",
     "output_type": "stream",
     "text": [
      "data = [67, 70, 73, 76, 79, 82, 85, 88, 91, 94, 97, 100, 103, 106, 109, 112, 115, 118, 121, 124, 127, 130, 133]\n",
      "data length =  23\n",
      "data_lst[5] = 82\n"
     ]
    }
   ],
   "source": [
    "'''Indexing access of the data'''\n",
    "\n",
    "data_lst = list(range(67,136,3))      # generate a list of integers\n",
    "\n",
    "print('data =', data_lst)             # show all data\n",
    "print('data length = ',len(data_lst)) # show the length of the data\n",
    "print('data_lst[5] =',data_lst[5])    # what is the value at offset 5?\n",
    "#data_lst[24]                         # this causes an error"
   ]
  },
  {
   "cell_type": "code",
   "execution_count": 40,
   "metadata": {},
   "outputs": [
    {
     "name": "stdout",
     "output_type": "stream",
     "text": [
      "data =  [67, 70, 73, 'surprise', 79, 82, 85, 88, 91, 94, 97, 100, 103, 106, 109, 112, 115, 118, 121, 124, 127, 130, 133]\n"
     ]
    }
   ],
   "source": [
    "'''Changing data by assignment'''\n",
    "\n",
    "data_lst[3] = 'surprise'       # change the value of offset 3 to a string\n",
    "print('data = ',data_lst)    "
   ]
  },
  {
   "cell_type": "code",
   "execution_count": 41,
   "metadata": {},
   "outputs": [
    {
     "data": {
      "text/plain": [
       "4"
      ]
     },
     "execution_count": 41,
     "metadata": {},
     "output_type": "execute_result"
    }
   ],
   "source": [
    "'''Position of data'''\n",
    "\n",
    "data_lst.index(79)   # what is the \"first\" offset (or index) of the value 79"
   ]
  },
  {
   "cell_type": "code",
   "execution_count": null,
   "metadata": {},
   "outputs": [],
   "source": [
    "help(list.index)"
   ]
  },
  {
   "cell_type": "code",
   "execution_count": 42,
   "metadata": {},
   "outputs": [
    {
     "name": "stdout",
     "output_type": "stream",
     "text": [
      "[67, 70, 73, 'surprise', 79, 82, 85, 88, 91, 94, 97, 100, 103, 106, 109, 112, 115, 118, 121, 124, 127, 130, 133]\n",
      "133\n",
      "130\n",
      "127\n"
     ]
    }
   ],
   "source": [
    "'''Access the last element and backwards'''\n",
    "\n",
    "print(data_lst)\n",
    "print(data_lst[-1])   # use [-1] for last\n",
    "print(data_lst[-2])   # uset[-2] for penultimate element\n",
    "print(data_lst[-3])   # uset[-3] for 2 before last"
   ]
  },
  {
   "cell_type": "code",
   "execution_count": 43,
   "metadata": {
    "scrolled": true
   },
   "outputs": [
    {
     "name": "stdout",
     "output_type": "stream",
     "text": [
      "1) [79, 82]\n",
      "2) [67, 70, 73]\n",
      "3) [67, 70, 73]\n",
      "4) [97, 100, 103, 106, 109, 112, 115, 118, 121, 124, 127, 130]\n",
      "5) [97, 100, 103, 106, 109, 112, 115, 118, 121, 124, 127, 130, 133]\n",
      "6) [67, 70, 73, 'surprise', 79, 82, 85, 88, 91, 94, 97, 100, 103, 106, 109, 112, 115, 118, 121, 124, 127, 130, 133]\n",
      "7) [67, 70, 73, 'surprise', 79, 82, 85, 88, 91, 94, 97, 100, 103, 106, 109, 112, 115, 118, 121, 124, 127, 130, 133]\n",
      "8) 121\n",
      "9) [121, 124, 127, 130, 133]\n"
     ]
    }
   ],
   "source": [
    "'''Slicing operations: use the colon operator'''\n",
    "\n",
    "print('1)',data_lst[4:6])   # access from offset 4 to up to but not including 6\n",
    "print('2)',data_lst[0:3])   # access from the beginning up to but not including 3    \n",
    "print('3)',data_lst[ :3])   # same thing but ommit 0\n",
    "print('4)',data_lst[10:-1]) # offset 10 up to but not including the last\n",
    "print('5)',data_lst[10:  ]) # offset 10 up to the last included\n",
    "print('6)',data_lst[:])     # all\n",
    "print('7)',data_lst[0:])    # all\n",
    "print('8)',data_lst[-5])    # fifth from the back\n",
    "print('9)',data_lst[-5:])   # last five"
   ]
  },
  {
   "cell_type": "code",
   "execution_count": 44,
   "metadata": {},
   "outputs": [
    {
     "name": "stdout",
     "output_type": "stream",
     "text": [
      "[67, 70, 73, 'surprise', 79, 82, 85, 88, 91, 94, 97, 100, 103, 106, 109, 112, 115, 118, 121, 124, 127, 130, 133]\n",
      "[79, 85, 91, 97, 103, 109]\n",
      "[106, 112, 118, 124, 130]\n"
     ]
    }
   ],
   "source": [
    "print(data_lst)\n",
    "print(data_lst[4:16:2])  # from offset 4 up to but not including 16 in steps of 2\n",
    "print(data_lst[-10::2])  # 10th offset from the back to the end in steps of 2 (may not get the end value)"
   ]
  },
  {
   "cell_type": "code",
   "execution_count": 45,
   "metadata": {
    "scrolled": true
   },
   "outputs": [
    {
     "name": "stdout",
     "output_type": "stream",
     "text": [
      "[67, 70, 73, 'surprise', 79, 82, 85, 88, 91, 94, 97, 100, 103, 106, 109, 112, 115, 118, 121, 124, 127, 130, 133]\n",
      "[106, 103, 100, 97, 94, 91, 88, 85, 82, 79, 'surprise', 73, 70, 67]\n"
     ]
    }
   ],
   "source": [
    "print(data_lst)\n",
    "print(data_lst[-10::-1])"
   ]
  },
  {
   "cell_type": "code",
   "execution_count": 46,
   "metadata": {},
   "outputs": [
    {
     "name": "stdout",
     "output_type": "stream",
     "text": [
      "2*data_lst = [67, 70, 73, 'surprise', 79, 82, 85, 88, 91, 94, 97, 100, 103, 106, 109, 112, 115, 118, 121, 124, 127, 130, 133, 67, 70, 73, 'surprise', 79, 82, 85, 88, 91, 94, 97, 100, 103, 106, 109, 112, 115, 118, 121, 124, 127, 130, 133]\n",
      "data_lst + data_lst = [67, 70, 73, 'surprise', 79, 82, 85, 88, 91, 94, 97, 100, 103, 106, 109, 112, 115, 118, 121, 124, 127, 130, 133, 67, 70, 73, 'surprise', 79, 82, 85, 88, 91, 94, 97, 100, 103, 106, 109, 112, 115, 118, 121, 124, 127, 130, 133]\n"
     ]
    }
   ],
   "source": [
    "'''Operations: be careful'''\n",
    "\n",
    "print('2*data_lst =',2*data_lst)\n",
    "\n",
    "print('data_lst + data_lst =', data_lst + data_lst)"
   ]
  },
  {
   "cell_type": "code",
   "execution_count": null,
   "metadata": {},
   "outputs": [],
   "source": [
    "'''Invalid operations'''\n",
    "\n",
    "#data_lst - data_lst  # error: not supported; subtraction\n",
    "#2.0 * data_lst       # error: not supported multiplication by float\n",
    "#2*data_lst/2         # error: not supported division"
   ]
  },
  {
   "cell_type": "markdown",
   "metadata": {},
   "source": [
    "## Practicing w/ Dictionaries <a id=\"dictionaries\"></a>"
   ]
  },
  {
   "cell_type": "code",
   "execution_count": 47,
   "metadata": {},
   "outputs": [
    {
     "name": "stdout",
     "output_type": "stream",
     "text": [
      "{'symbol': 'H', 'atomic_number': 1, 'group': 1, 'period': 1, 'isotopes': [1, 2, 3]}\n",
      "{'symbol': 'He', 'atomic_number': 2, 'group': 18, 'period': 1, 'isotopes': [3, 4]}\n",
      "{'symbol': 'Li', 'atomic_number': 3, 'group': 1, 'period': 2, 'isotopes': [6, 7]}\n",
      "{'symbol': 'Be', 'atomic_number': 4, 'group': 2, 'period': 2, 'isotopes': [9, 10]}\n",
      "{'symbol': 'B', 'atomic_number': 5, 'group': 13, 'period': 2, 'isotopes': [10, 11]}\n",
      "H isotopes = [1, 2, 3]\n",
      "H atomic number = 1\n"
     ]
    }
   ],
   "source": [
    "'''Data organization'''\n",
    "\n",
    "# example with nuclides\n",
    "\n",
    "hydrogen  = {'symbol':'H',  'atomic_number':1, 'group':1,  'period':1, 'isotopes':[1,2,3]}\n",
    "helium    = {'symbol':'He', 'atomic_number':2, 'group':18, 'period':1, 'isotopes':[3,4]}\n",
    "lithium   = {'symbol':'Li', 'atomic_number':3, 'group':1,  'period':2, 'isotopes':[6,7]}\n",
    "beryllium = {'symbol':'Be', 'atomic_number':4, 'group':2,  'period':2, 'isotopes':[9,10]}\n",
    "boron     = {'symbol':'B',  'atomic_number':5, 'group':13, 'period':2, 'isotopes':[10,11]}\n",
    "#\n",
    "print(hydrogen)\n",
    "print(helium)\n",
    "print(lithium)\n",
    "print(beryllium)\n",
    "print(boron)\n",
    "print('H isotopes =', hydrogen['isotopes'])\n",
    "print('H atomic number =', hydrogen['atomic_number'])"
   ]
  },
  {
   "cell_type": "code",
   "execution_count": 48,
   "metadata": {},
   "outputs": [
    {
     "name": "stdout",
     "output_type": "stream",
     "text": [
      "H:  neutrons per isotope = [0, 1, 2]\n",
      "He: neutrons per isotope = [1, 2]\n"
     ]
    }
   ],
   "source": [
    "'''Data operation with list comprehension: neutrons per isotope of a nuclide'''\n",
    "\n",
    "# to compute the number of neutrons, subtract the atomic number from the number of nucleons (protons + neutrons)\n",
    "\n",
    "h_neutrons = [ i - hydrogen['atomic_number'] for i in hydrogen['isotopes'] ] # list comprehension operation\n",
    "print('H:  neutrons per isotope =', h_neutrons)\n",
    "\n",
    "he_neutrons = [i - helium['atomic_number'] for i in helium['isotopes'] ]     # list comprehension operation\n",
    "print('He: neutrons per isotope =', he_neutrons)"
   ]
  },
  {
   "cell_type": "code",
   "execution_count": 49,
   "metadata": {},
   "outputs": [
    {
     "name": "stdout",
     "output_type": "stream",
     "text": [
      "{'symbol': 'He', 'atomic_number': 2, 'group': 18, 'period': 1, 'isotopes': [3, 4]} \n",
      "\n",
      "dict_keys(['hydrogen', 'helium', 'lithium', 'beryllium', 'boron']) \n",
      "\n"
     ]
    }
   ],
   "source": [
    "'''Create a very simple `periodic_table`'''\n",
    "\n",
    "periodic_table = {'hydrogen':hydrogen, 'helium':helium, 'lithium':lithium, 'beryllium':beryllium, 'boron':boron}\n",
    "\n",
    "print(periodic_table['helium'],'\\n') # '\\n' is a control character for carriage (cartridge) return\n",
    "\n",
    "print(periodic_table.keys(),'\\n')"
   ]
  },
  {
   "cell_type": "code",
   "execution_count": 50,
   "metadata": {},
   "outputs": [
    {
     "name": "stdout",
     "output_type": "stream",
     "text": [
      "element =  H  neutrons per isotope  [1, 2, 3]  = [0, 1, 2]\n",
      "element =  He  neutrons per isotope  [3, 4]  = [1, 2]\n",
      "element =  Li  neutrons per isotope  [6, 7]  = [3, 4]\n",
      "element =  Be  neutrons per isotope  [9, 10]  = [5, 6]\n",
      "element =  B  neutrons per isotope  [10, 11]  = [5, 6]\n"
     ]
    }
   ],
   "source": [
    "'''Systematic operation (looping) on all elements of `periodic_table`'''\n",
    "\n",
    "# \"for\" \"loop\": exemple of execution flow control\n",
    "\n",
    "for key in periodic_table.keys():  # loop statement\n",
    "    element = periodic_table[key]  # note indentation\n",
    "    neutrons_per_isotopes = [i - element['atomic_number'] for i in element['isotopes'] ]\n",
    "    print('element = ', element['symbol'],' neutrons per isotope ',element['isotopes'],' =', neutrons_per_isotopes)\n"
   ]
  },
  {
   "cell_type": "markdown",
   "metadata": {},
   "source": [
    "## Practicing w/ Tuples<a id=\"tuples\"></a>"
   ]
  },
  {
   "cell_type": "code",
   "execution_count": 51,
   "metadata": {},
   "outputs": [
    {
     "name": "stdout",
     "output_type": "stream",
     "text": [
      "concatenate:  (1.2, -3.2, 5.0, 0.0, 3.0, 0.12)\n"
     ]
    }
   ],
   "source": [
    "'''Tuples have limited operations'''\n",
    "\n",
    "veloc_a = (1.2, -3.2, 5.0)\n",
    "veloc_b = (0.0, 3.0, 0.12)\n",
    "print('concatenate: ', veloc_a + veloc_b)   # surprise: concatenation under + operator"
   ]
  },
  {
   "cell_type": "code",
   "execution_count": null,
   "metadata": {
    "scrolled": true
   },
   "outputs": [],
   "source": [
    "dir(veloc_a)"
   ]
  },
  {
   "cell_type": "code",
   "execution_count": null,
   "metadata": {},
   "outputs": [],
   "source": [
    "help(tuple.count)"
   ]
  },
  {
   "cell_type": "code",
   "execution_count": 52,
   "metadata": {},
   "outputs": [
    {
     "name": "stdout",
     "output_type": "stream",
     "text": [
      "3 * veloc_a =  (1.2, -3.2, 5.0, 1.2, -3.2, 5.0, 1.2, -3.2, 5.0)\n",
      "3*veloc_a.count(1.2) = 3\n",
      "len(veloc_a) =  3\n"
     ]
    }
   ],
   "source": [
    "'''Tuples have limited operations'''\n",
    "\n",
    "print('3 * veloc_a = ', 3 * veloc_a)\n",
    "print('3*veloc_a.count(1.2) =', 3 * veloc_a.count(1.2))\n",
    "print('len(veloc_a) = ', len(veloc_a))"
   ]
  },
  {
   "cell_type": "code",
   "execution_count": 53,
   "metadata": {},
   "outputs": [
    {
     "name": "stdout",
     "output_type": "stream",
     "text": [
      "(1.2, -3.2)\n"
     ]
    }
   ],
   "source": [
    "'''Slicing also works for tuples'''\n",
    "\n",
    "print(veloc_a[0:-1])   # slice from offset 0 up to but not including the last"
   ]
  },
  {
   "cell_type": "code",
   "execution_count": 54,
   "metadata": {},
   "outputs": [
    {
     "name": "stdout",
     "output_type": "stream",
     "text": [
      "<class 'int'>\n",
      "1\n"
     ]
    }
   ],
   "source": [
    "'''Curiosity'''\n",
    "\n",
    "a = (1)\n",
    "print(type(a))\n",
    "print(a)"
   ]
  },
  {
   "cell_type": "code",
   "execution_count": 55,
   "metadata": {},
   "outputs": [
    {
     "name": "stdout",
     "output_type": "stream",
     "text": [
      "<class 'tuple'>\n",
      "(1,)\n"
     ]
    }
   ],
   "source": [
    "'''Tuple with one element must use a comma'''\n",
    "\n",
    "b = (1,)  # must use a comma inside the parenthesis\n",
    "print(type(b))\n",
    "print(b)"
   ]
  },
  {
   "cell_type": "markdown",
   "metadata": {},
   "source": [
    "## Practicing w/ Sets<a id=\"sets\"></a>"
   ]
  },
  {
   "cell_type": "code",
   "execution_count": 56,
   "metadata": {},
   "outputs": [
    {
     "name": "stdout",
     "output_type": "stream",
     "text": [
      "a = {'you', 'hello'}\n",
      "a = {'you', 90, 'hello'}\n",
      "b = {200, True, 100, False}\n",
      "a intersect b -> set()\n",
      "a union     b -> {False, True, 'hello', 100, 'you', 90, 200}\n"
     ]
    }
   ],
   "source": [
    "'''Sets are primarily used to keep track of non-repeating data and for math set operations'''\n",
    "\n",
    "a = set()           # create an empty set\n",
    "a = {'hello','you'} # assign data\n",
    "print('a =',a)\n",
    "a.add(90)           # add element to set\n",
    "print('a =',a)\n",
    "#a.add(  ['a','b']  )    # cannot add a mutable to a set; list and dict not allowed\n",
    "b = {100, 200, True, False}\n",
    "print('b =',b)\n",
    "print('a intersect b ->',a.intersection(b)) #  &\n",
    "print('a union     b ->',a.union(b))        #  |"
   ]
  },
  {
   "cell_type": "code",
   "execution_count": null,
   "metadata": {},
   "outputs": [],
   "source": [
    "'''Check methods available in a set object'''\n",
    "\n",
    "dir(a)"
   ]
  },
  {
   "cell_type": "code",
   "execution_count": null,
   "metadata": {},
   "outputs": [],
   "source": [
    "'''Get info on the discard method'''\n",
    "\n",
    "help(set.discard)"
   ]
  },
  {
   "cell_type": "code",
   "execution_count": 57,
   "metadata": {},
   "outputs": [
    {
     "name": "stdout",
     "output_type": "stream",
     "text": [
      "{'you', 90, 'hello'}\n",
      "{'you', 90}\n",
      "{'you', 90}\n"
     ]
    }
   ],
   "source": [
    "'''Discard set elements'''\n",
    "\n",
    "print(a)\n",
    "a.discard('hello')\n",
    "print(a)\n",
    "a.discard('100')\n",
    "print(a)"
   ]
  },
  {
   "cell_type": "code",
   "execution_count": 58,
   "metadata": {},
   "outputs": [
    {
     "data": {
      "text/plain": [
       "True"
      ]
     },
     "execution_count": 58,
     "metadata": {},
     "output_type": "execute_result"
    }
   ],
   "source": [
    "'''Test for subsets'''\n",
    "\n",
    "{1,2,3}.issubset(range(5))"
   ]
  },
  {
   "cell_type": "code",
   "execution_count": 59,
   "metadata": {},
   "outputs": [
    {
     "name": "stdout",
     "output_type": "stream",
     "text": [
      "you\n"
     ]
    }
   ],
   "source": [
    "'''Remove any one element'''\n",
    "\n",
    "element = a.pop()\n",
    "print(element)"
   ]
  },
  {
   "cell_type": "code",
   "execution_count": null,
   "metadata": {},
   "outputs": [],
   "source": [
    "help(set.pop)"
   ]
  },
  {
   "cell_type": "code",
   "execution_count": 60,
   "metadata": {},
   "outputs": [
    {
     "name": "stdout",
     "output_type": "stream",
     "text": [
      "b = {200, True, 100, False}\n"
     ]
    },
    {
     "data": {
      "text/plain": [
       "True"
      ]
     },
     "execution_count": 60,
     "metadata": {},
     "output_type": "execute_result"
    }
   ],
   "source": [
    "'''Inquire about element inclusion'''\n",
    "\n",
    "print('b =',b)\n",
    "\n",
    "200 in b and True in b"
   ]
  },
  {
   "cell_type": "code",
   "execution_count": null,
   "metadata": {},
   "outputs": [],
   "source": []
  }
 ],
 "metadata": {
  "kernelspec": {
   "display_name": "Python 3",
   "language": "python",
   "name": "python3"
  },
  "language_info": {
   "codemirror_mode": {
    "name": "ipython",
    "version": 3
   },
   "file_extension": ".py",
   "mimetype": "text/x-python",
   "name": "python",
   "nbconvert_exporter": "python",
   "pygments_lexer": "ipython3",
   "version": "3.7.1"
  },
  "latex_envs": {
   "LaTeX_envs_menu_present": true,
   "autoclose": false,
   "autocomplete": true,
   "bibliofile": "biblio.bib",
   "cite_by": "apalike",
   "current_citInitial": 1,
   "eqLabelWithNumbers": true,
   "eqNumInitial": 1,
   "hotkeys": {
    "equation": "Ctrl-E",
    "itemize": "Ctrl-I"
   },
   "labels_anchors": false,
   "latex_user_defs": false,
   "report_style_numbering": false,
   "user_envs_cfg": false
  }
 },
 "nbformat": 4,
 "nbformat_minor": 2
}
