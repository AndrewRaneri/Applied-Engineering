{
 "cells": [
  {
   "cell_type": "markdown",
   "metadata": {},
   "source": [
    "ChEn-3170: Computational Methods in Chemical Engineering Spring 2020 UMass Lowell; Prof. V. F. de Almeida **26Jan20**\n",
    "\n",
    "# Laboratory Work 02 (28Jan20)\n"
   ]
  },
  {
   "cell_type": "markdown",
   "metadata": {},
   "source": [
    "### Name: `your name`"
   ]
  },
  {
   "cell_type": "markdown",
   "metadata": {},
   "source": [
    "### Rubric for each assignment: \n",
    "\n",
    "|       Context              |  Points |\n",
    "| -----------------------     | ------- |\n",
    "| Precision of the answer     |   80%   |\n",
    "| Answer Markdown readability |   10%   |\n",
    "| Code readability            |   10%   |\n",
    "    "
   ]
  },
  {
   "cell_type": "markdown",
   "metadata": {},
   "source": [
    "### <span style=\"color:red\">Guidance:</span>\n",
    " +  <span style=\"color:red\"> \n",
    "    Save your work frequently to a file locally to your computer.\n",
    "    </span>\n",
    " +  <span style=\"color:red\">\n",
    "    During your work and before submitting the final version do: `Kernel` -> `Restart & Run All`, to verify your notebook runs correctly.\n",
    "    </span>\n",
    " +  <span style=\"color:red\">\n",
    "    Save your file again.\n",
    "    </span>"
   ]
  },
  {
   "cell_type": "markdown",
   "metadata": {},
   "source": [
    "## <span style=\"color:blue\">Assignment 1 (20 pts).</span>\n",
    "### <span style=\"color:blue\">Create variables to store the molecular formula and molar mass of the following species: \n",
    "  + <span style=\"color:blue\"> methane, </span>\n",
    "  + <span style=\"color:blue\"> molecular oxygen, </span>\n",
    "  + <span style=\"color:blue\"> carbon dioxide, </span>\n",
    "  + <span style=\"color:blue\"> molecular hydrogen, </span>\n",
    "  + <span style=\"color:blue\"> water, and </span>\n",
    "  + <span style=\"color:blue\"> carbon monoxide. </span>\n",
    "    \n",
    "### <span style=\"color:blue\"> Provide an output as follows.</span>"
   ]
  },
  {
   "cell_type": "code",
   "execution_count": 1,
   "metadata": {},
   "outputs": [
    {
     "name": "stdout",
     "output_type": "stream",
     "text": [
      "ch4 = {'formula': 'CH4', 'molar_mass': 16}\n",
      "o2  = {'formula': 'O2', 'molar_mass': 32}\n",
      "co2 = {'formula': 'CO2', 'molar_mass': 44}\n",
      "h2  = {'formula': 'H2', 'molar_mass': 2}\n",
      "h2o = {'formula': 'H2O', 'molar_mass': 18}\n",
      "co  = {'formula': 'CO', 'molar_mass': 28}\n"
     ]
    }
   ],
   "source": [
    "'''Code'''"
   ]
  },
  {
   "cell_type": "markdown",
   "metadata": {},
   "source": [
    "## <span style=\"color:blue\">Assignment 2 (20 pts).</span>\n",
    "### <span style=\"color:blue\">Using the work from Assignment 1, create a way to store each of the chemical reactions for methane oxidation as follows: </span>\n",
    "\n",
    "1.  1 methane + 1 molecular oxygen = 1 carbon dioxide + 2 molecular hydrogen\n",
    "2.  2 molecular hydrogen + 1 molecular oxygen = 2 water\n",
    "3.  2 carbon monoxide + 4 molecular hydrogen = 2 methane + 1 molecular oxygen\n",
    "\n",
    "### <span style=\"color:blue\"> so that printing your data structure produces the entire reaction set.</span> "
   ]
  },
  {
   "cell_type": "markdown",
   "metadata": {},
   "source": [
    "All reactions will be stored in a `list` structure. One reaction per element in the list."
   ]
  },
  {
   "cell_type": "code",
   "execution_count": 2,
   "metadata": {},
   "outputs": [
    {
     "name": "stdout",
     "output_type": "stream",
     "text": [
      "1 CH4 + 1 O2 <=> 1 CO2 + 2 H2\n",
      "2 H2 + 1 O2 <=> 2 H2O\n",
      "2 CO + 4 H2 <=> 2 CH4 + 1 O2\n"
     ]
    }
   ],
   "source": [
    "'''Code'''"
   ]
  },
  {
   "cell_type": "markdown",
   "metadata": {},
   "source": [
    "## <span style=\"color:blue\">Assignment 3 (20 pts).</span>\n",
    "### <span style=\"color:blue\">Build a vector of signed stoichiometric coefficients for each reaction. Provide an output of the data.\n",
    "</span>"
   ]
  },
  {
   "cell_type": "code",
   "execution_count": 3,
   "metadata": {},
   "outputs": [
    {
     "name": "stdout",
     "output_type": "stream",
     "text": [
      "stoic_rxn 1 = [-1 -1  1  2]\n",
      "stoic_rxn 2 = [-2 -1  2]\n",
      "stoic_rxn 3 = [-2 -4  2  1]\n"
     ]
    }
   ],
   "source": [
    "'''Code'''"
   ]
  },
  {
   "cell_type": "markdown",
   "metadata": {},
   "source": [
    "## <span style=\"color:blue\">Assignment 4 (20 pts).</span>\n",
    "### <span style=\"color:blue\">For each reaction, build a vector of molar mass values for the species involved and multiply by the corresponding vector of signed stoichiometric coefficients in Assignment 3.</span>"
   ]
  },
  {
   "cell_type": "markdown",
   "metadata": {},
   "source": [
    "Using element dictionaries previously created, create molar mass vectors for the species involved in the reactions and carry out an element-by-element vector product with the vector of stoichiometric coefficients."
   ]
  },
  {
   "cell_type": "code",
   "execution_count": 4,
   "metadata": {},
   "outputs": [
    {
     "name": "stdout",
     "output_type": "stream",
     "text": [
      "molar masses per reaction\n",
      "[16 32 44  2]\n",
      "[ 2 32 18]\n",
      "[28  2 16 32]\n",
      "\n",
      "stoichiometric coefficient vector product with molar masses\n",
      "[-16 -32  44   4]\n",
      "[ -4 -32  36]\n",
      "[-56  -8  32  32]\n"
     ]
    }
   ],
   "source": [
    "'''Code'''"
   ]
  },
  {
   "cell_type": "markdown",
   "metadata": {},
   "source": [
    "## <span style=\"color:blue\">Assignment 5 (20 pts).</span>\n",
    "### <span style=\"color:blue\">For each vector in Assignment 4, sum all the entries, provide the output of the results, and explain the numerical results obtained.</span>"
   ]
  },
  {
   "cell_type": "markdown",
   "metadata": {},
   "source": [
    "Perform the mass balance per reaction by summing the product vectors."
   ]
  },
  {
   "cell_type": "code",
   "execution_count": null,
   "metadata": {},
   "outputs": [],
   "source": [
    "'''Code'''"
   ]
  },
  {
   "cell_type": "markdown",
   "metadata": {},
   "source": [
    "Explanation of results:"
   ]
  }
 ],
 "metadata": {
  "kernelspec": {
   "display_name": "Python 3",
   "language": "python",
   "name": "python3"
  },
  "language_info": {
   "codemirror_mode": {
    "name": "ipython",
    "version": 3
   },
   "file_extension": ".py",
   "mimetype": "text/x-python",
   "name": "python",
   "nbconvert_exporter": "python",
   "pygments_lexer": "ipython3",
   "version": "3.7.1"
  },
  "latex_envs": {
   "LaTeX_envs_menu_present": true,
   "autoclose": false,
   "autocomplete": true,
   "bibliofile": "biblio.bib",
   "cite_by": "apalike",
   "current_citInitial": 1,
   "eqLabelWithNumbers": true,
   "eqNumInitial": 1,
   "hotkeys": {
    "equation": "Ctrl-E",
    "itemize": "Ctrl-I"
   },
   "labels_anchors": false,
   "latex_user_defs": false,
   "report_style_numbering": false,
   "user_envs_cfg": false
  }
 },
 "nbformat": 4,
 "nbformat_minor": 2
}
