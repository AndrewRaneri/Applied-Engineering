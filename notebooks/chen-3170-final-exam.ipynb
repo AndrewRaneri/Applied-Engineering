{
 "cells": [
  {
   "cell_type": "markdown",
   "metadata": {},
   "source": [
    "ChEn-3170: Computational Methods in Chemical Engineering Spring 2020 UMass Lowell; Prof. V. F. de Almeida **08May20**\n",
    "\n",
    "# Final Exam (09May20)\n",
    "$\n",
    "  \\newcommand{\\Amtrx}{\\boldsymbol{\\mathsf{A}}}\n",
    "  \\newcommand{\\Bmtrx}{\\boldsymbol{\\mathsf{B}}}\n",
    "  \\newcommand{\\Cmtrx}{\\boldsymbol{\\mathsf{C}}}\n",
    "  \\newcommand{\\Mmtrx}{\\boldsymbol{\\mathsf{M}}}\n",
    "  \\newcommand{\\Imtrx}{\\boldsymbol{\\mathsf{I}}}\n",
    "  \\newcommand{\\Pmtrx}{\\boldsymbol{\\mathsf{P}}}\n",
    "  \\newcommand{\\Lmtrx}{\\boldsymbol{\\mathsf{L}}}\n",
    "  \\newcommand{\\Umtrx}{\\boldsymbol{\\mathsf{U}}}\n",
    "  \\newcommand{\\Smtrx}{\\boldsymbol{\\mathsf{S}}}\n",
    "  \\newcommand{\\xvec}{\\boldsymbol{\\mathsf{x}}}\n",
    "  \\newcommand{\\yvec}{\\boldsymbol{\\mathsf{y}}}\n",
    "  \\newcommand{\\zvec}{\\boldsymbol{\\mathsf{z}}}\n",
    "  \\newcommand{\\avec}{\\boldsymbol{\\mathsf{a}}}\n",
    "  \\newcommand{\\bvec}{\\boldsymbol{\\mathsf{b}}}\n",
    "  \\newcommand{\\cvec}{\\boldsymbol{\\mathsf{c}}}\n",
    "  \\newcommand{\\rvec}{\\boldsymbol{\\mathsf{r}}}\n",
    "  \\newcommand{\\gvec}{\\boldsymbol{\\mathsf{g}}}\n",
    "  \\newcommand{\\norm}[1]{\\bigl\\lVert{#1}\\bigr\\rVert}\n",
    "  \\DeclareMathOperator{\\rank}{rank}\n",
    "  \\DeclareMathOperator{\\abs}{abs}\n",
    "$"
   ]
  },
  {
   "cell_type": "markdown",
   "metadata": {},
   "source": [
    "### Name: `your name here`"
   ]
  },
  {
   "cell_type": "markdown",
   "metadata": {},
   "source": [
    "### <span style=\"color:red\">Guidance:</span>\n",
    "   * <span style=\"color:red\"> This is an open book/notes, individual exam. </span>\n",
    "   * <span style=\"color:red\"> Use your algorithms to answer the questions below. </span>\n",
    "   * <span style=\"color:red\"> The completed notebook  should be uploaded in the Blackboard portal within 20 min of the end of the exam period</span>.\n",
    "   * <span style=\"color:red\"> If you need to upload additional information, upload a PDF file in the Blacboard portal</span>."
   ]
  },
  {
   "cell_type": "markdown",
   "metadata": {},
   "source": [
    "### Rubric Panel<a id=\"rp\"></a>\n",
    "\n",
    "| Show No.   | Now Showing (8am - 11am)            |  Value    | Score   |\n",
    "|:--:|:------------------------|:---------:|:-------:|\n",
    "| [1](#p1)| [Global Warming (Reloaded)](#p1)          |   15      |         |  \n",
    "| [2](#p2)| [Don't Panic (Reloaded)](#p2)          |   20      |         |   \n",
    "| [3](#p3) |[Really DO NOT Panic](#p3)         |   30      |         |\n",
    "| [4](#p4) |  [Singleton](#p4)      |   35      |         |\n",
    "| [5](#p5) |[COVID-19 Relief Funds](#p5)         |   discretionary bonus      |         |\n",
    "|  -  |    Total                |  100      |         |\n",
    "    "
   ]
  },
  {
   "cell_type": "markdown",
   "metadata": {},
   "source": [
    "### [Show Problem 1 (15 pts)](#rp)<a id=\"p1\"></a>"
   ]
  },
  {
   "cell_type": "markdown",
   "metadata": {},
   "source": [
    "<span style=\"color:blue\">\n",
    "Write an example for all basic data types in Python by creating a variable and assigning the data type. Make sure to write down the names of the data types as a comment.\n",
    "</span>"
   ]
  },
  {
   "cell_type": "code",
   "execution_count": null,
   "metadata": {},
   "outputs": [],
   "source": [
    "'''1) Basic data types'''\n"
   ]
  },
  {
   "cell_type": "markdown",
   "metadata": {},
   "source": [
    "### [Show Problem 2 (20 pts)](#rp)<a id=\"p2\"></a>"
   ]
  },
  {
   "cell_type": "markdown",
   "metadata": {},
   "source": [
    "<span style=\"color:blue\">\n",
    "Given the following reaction mechanism\n",
    "</span>\n",
    "\n",
    "\\begin{align*}\n",
    "\\text{rxn 1:} & &\\text{2A} + \\text{B} \\Longleftrightarrow \\text{C}\\\\\n",
    "\\text{rxn 2:} & &\\text{B} + \\text{C} \\Longleftrightarrow \\text{A}\\\\\n",
    "\\text{rxn 3:} & &\\text{A} + \\text{2C} \\Longleftrightarrow \\text{B}\\\\\n",
    "\\end{align*}\n",
    "\n",
    "<span style=\"color:blue\">\n",
    "and the following species production rate density [units of mol/(s L)] for species A, B, C as follows: -5 [mol of A/(s L), 2 [mol of B/(s L), 1 [mol of C/(s L)], respectively, \n",
    "\n",
    " 1. Calculate numerically the reaction rates density compatible with the given production rates. \n",
    " 2. Prove quantitatively (as opposed to verbally) whether you can or cannot find other reaction rates for the same production rates.\n",
    " 3. Show mathematically that this reaction mechanism is invalid.\n",
    " </span>"
   ]
  },
  {
   "cell_type": "code",
   "execution_count": null,
   "metadata": {},
   "outputs": [],
   "source": [
    "'''2.1) Calculate reaction rates'''\n"
   ]
  },
  {
   "cell_type": "code",
   "execution_count": null,
   "metadata": {},
   "outputs": [],
   "source": [
    "'''2.2) Alternative reaction rates'''\n"
   ]
  },
  {
   "cell_type": "code",
   "execution_count": null,
   "metadata": {},
   "outputs": [],
   "source": [
    "'''2.3) Show reaction mechanism is invalid'''\n"
   ]
  },
  {
   "cell_type": "markdown",
   "metadata": {},
   "source": [
    "### [Show Problem 3 (30 pts)](#rp)<a id=\"p3\"></a>"
   ]
  },
  {
   "cell_type": "markdown",
   "metadata": {},
   "source": [
    "<span style=\"color:blue\">\n",
    "Given the reduced oxidation of n-heptane: \n",
    "</span>\n",
    "\n",
    "see file `data/n-heptane-rxn.txt` in the [course repository](https://github.com/dpploy/chen-3170):\n",
    "\n",
    "| Reactants   | <=> | Products  |\n",
    "|-----------------------------|-|--------|\n",
    "| C7H16 + O2 | <=> | C7H15 + HO2 |\n",
    "|C7H15 + O2 | <=> | C7H15OO     |\n",
    "|C7H15OO | <=> | C7H14OOH     |\n",
    "|C7H14OOH + O2 | <=> | OOC7H14OOH|\n",
    "|OOC7H14OOH | <=> |OC7H13OOH + OH|\n",
    "|C7H16 + OH | <=> | C7H15 + H2O|\n",
    "|OCC7H13OOH | <=> | OC7H13O + OH|\n",
    "|C7H15 + O2 | <=> | C7H14 + HO2|\n",
    "|OC7H13O + O2 | <=> | OC7H12O + HO2|\n",
    "|OC7H12O + O2 | <=> | OC7H10O + H2O2|\n",
    "|OC7H10O + 5 O2 | <=> | 7 CO + 5 H2O|\n",
    "|C7H14 + 7 O2 | <=> | 7 CO + 7 H2O|\n",
    "|C8H18 + O2 | <=> | C8H17 + HO2 |\n",
    "|C8H17 + O2 | <=> | C8H17OO |\n",
    "|C8H17OO | <=> | C8H16OOH|\n",
    "\n",
    "<span style=\"color:blue\">\n",
    "or read remotely from the following link: \n",
    "</span>\n",
    "\n",
    "[https://raw.githubusercontent.com/dpploy/chen-3170/master/notebooks/data/n-heptane-rxn.txt](https://raw.githubusercontent.com/dpploy/chen-3170/master/notebooks/data/n-heptane-rxn.txt).\n",
    "\n",
    "<br>\n",
    "<span style=\"color:blue\">\n",
    "Answer the following questions:\n",
    "</span>"
   ]
  },
  {
   "cell_type": "markdown",
   "metadata": {},
   "source": [
    "<span style=\"color:blue\">\n",
    "    \n",
    "**3.1) What is the equation that relates the reaction rates to the species production rates for the n-heptane oxidation reaction mechanism?**\n",
    "\n",
    "</span>"
   ]
  },
  {
   "cell_type": "markdown",
   "metadata": {},
   "source": [
    "**3.1) Reaction rate equation**\n"
   ]
  },
  {
   "cell_type": "markdown",
   "metadata": {},
   "source": [
    "<span style=\"color:blue\">\n",
    "    \n",
    "**3.2) What condition determines the possibility of computing reaction rates from species production rates? Is there a unique solution to the equation in question 1) for this n-heptane reaction mechanism? Justify your answer quantitatively.**\n",
    "\n",
    "</span>"
   ]
  },
  {
   "cell_type": "code",
   "execution_count": null,
   "metadata": {},
   "outputs": [],
   "source": [
    "'''3.2) Response'''\n"
   ]
  },
  {
   "cell_type": "markdown",
   "metadata": {},
   "source": [
    "<span style=\"color:blue\">\n",
    "    \n",
    "**3.3) If the production rate of every species is equal to 1 mol/(s cc), is there a solution for the reaction rate equation applied to the n-heptane reaction mechanism? If there is a solution, compute the reaction rate for each reaction. If there is no solution, compute a unique approximate reaction rate.**\n",
    "\n",
    "</span>"
   ]
  },
  {
   "cell_type": "code",
   "execution_count": null,
   "metadata": {},
   "outputs": [],
   "source": [
    "'''3.3) Response'''\n"
   ]
  },
  {
   "cell_type": "markdown",
   "metadata": {},
   "source": [
    "### [Show Problem 4 (35 pts)](#rp)<a id=\"p4\"></a>"
   ]
  },
  {
   "cell_type": "markdown",
   "metadata": {},
   "source": [
    "<span style=\"color:blue\">\n",
    "Given the following cycloheptane oxidation reaction at equilibrium: \n",
    "</span>\n",
    "\n",
    "| Reactants   | <=> | Products  |\n",
    "|-------------|-|--------|\n",
    "|C7H14 + 7 O2 | <=> | 7 CO + 7 H2O|\n",
    "\n",
    "<span style=\"color:blue\">\n",
    "and the initial values of molar fraction and reaction molar equilibrium constant:\n",
    "</span>\n",
    "\n",
    "Species                         | Parameter    | Value |\n",
    "----------------------------|--------------|-------|\n",
    "initial molar fraction of C7H14  | $x_{\\text{C7H14}_0}$    | 0.61   | \n",
    "initial molar fraction of O2   | $x_{\\text{O2}_0}$    | 0.35   | \n",
    "initial molar fraction of CO  | $x_{\\text{CO}_0}$    | 0.0   | \n",
    "initial molar fraction of H2O  | $x_{\\text{H2O}_0}$    | residual  | \n",
    "molar equilibrium constant   | $K_\\text{x}$ | 235.4   |    .     |    \n",
    "\n",
    "\n",
    "<span style=\"color:blue\">\n",
    "What is the equilibrium molar fraction of all species? Was cycloheptane well consumed?\n",
    "</span>"
   ]
  },
  {
   "cell_type": "code",
   "execution_count": null,
   "metadata": {},
   "outputs": [],
   "source": [
    "'''4) Equilibrium of reactants and products'''\n"
   ]
  },
  {
   "cell_type": "markdown",
   "metadata": {},
   "source": [
    "### [Show Problem 5 (discretionary bonus pts)](#rp)<a id=\"p5\"></a>"
   ]
  },
  {
   "cell_type": "markdown",
   "metadata": {},
   "source": [
    "<span style=\"color:blue\">\n",
    "The variation of the product-to-reactant concentration ratio with time in a CSTR is given below. The data fits a sigmoid curve of the type: \n",
    "</span>\n",
    "\n",
    "\\begin{equation*}\n",
    "\\boxed{ f(t) = \\frac{\\alpha_0}{1 + \\alpha_1\\, e^{\\alpha_2\\,t} } }.\n",
    "\\end{equation*}\n",
    "\n",
    "<span style=\"color:blue\">\n",
    "Compute the optimal values of the parameters $\\alpha_1,\\alpha_2$, and $\\alpha_3$ that fit the data, and report the time when the <b>product-to-reactant concentration ratio rate</b> reaches a maximum. Report also the <b>maximum concentration ratio rate</b>. <u>Challenge</u>: compute the time when the exponential growth is at a maximum.\n",
    "</span>"
   ]
  },
  {
   "cell_type": "code",
   "execution_count": 2,
   "metadata": {},
   "outputs": [],
   "source": [
    "'''Time stamps in seconds'''\n",
    "\n",
    "time_stamps = [0.000e+00, 5.025e+00, 1.005e+01, 1.508e+01, 2.010e+01, 2.513e+01, 3.015e+01, 3.518e+01, \n",
    "               4.020e+01, 4.523e+01, 5.025e+01, 5.528e+01, 6.030e+01, 6.533e+01, 7.035e+01, 7.538e+01, \n",
    "               8.040e+01, 8.543e+01, 9.045e+01, 9.548e+01, 1.005e+02, 1.055e+02, 1.106e+02, 1.156e+02, \n",
    "               1.206e+02, 1.256e+02, 1.307e+02, 1.357e+02, 1.407e+02, 1.457e+02, 1.508e+02, 1.558e+02, \n",
    "               1.608e+02, 1.658e+02, 1.709e+02, 1.759e+02, 1.809e+02, 1.859e+02, 1.910e+02, 1.960e+02]"
   ]
  },
  {
   "cell_type": "code",
   "execution_count": 3,
   "metadata": {},
   "outputs": [],
   "source": [
    "'''Product-to-reactant concentration ratio'''\n",
    "\n",
    "prod_ratio = [12.008,  17.178,  24.859,  35.78 ,  50.625,  69.473,  91.577, 115.7, 140.138, 163.718, \n",
    "                 185.346, 204.464, 220.837, 234.727, 246.237, 255.575, 263.074, 269.127, 273.916, \n",
    "                 277.716, 280.632, 283.07 , 284.936, 286.311, 287.471, 288.347, 289.06 , 289.608,\n",
    "                 290.073, 290.37 , 290.667, 290.837, 290.861, 290.989, 291.074,\n",
    "                 291.16 , 291.202, 291.245, 291.288, 291.33 ]"
   ]
  },
  {
   "cell_type": "code",
   "execution_count": 29,
   "metadata": {},
   "outputs": [
    {
     "data": {
      "image/png": "[encoded data removed]",
      "text/plain": [
       "<Figure size 720x288 with 1 Axes>"
      ]
     },
     "metadata": {
      "needs_background": "light"
     },
     "output_type": "display_data"
    }
   ],
   "source": []
  },
  {
   "cell_type": "code",
   "execution_count": null,
   "metadata": {},
   "outputs": [],
   "source": [
    "'''5) Compute the maximum product/reactant concentration ratio rate and time of occurance'''\n"
   ]
  }
 ],
 "metadata": {
  "kernelspec": {
   "display_name": "Python 3",
   "language": "python",
   "name": "python3"
  },
  "language_info": {
   "codemirror_mode": {
    "name": "ipython",
    "version": 3
   },
   "file_extension": ".py",
   "mimetype": "text/x-python",
   "name": "python",
   "nbconvert_exporter": "python",
   "pygments_lexer": "ipython3",
   "version": "3.7.1"
  },
  "latex_envs": {
   "LaTeX_envs_menu_present": true,
   "autoclose": false,
   "autocomplete": true,
   "bibliofile": "biblio.bib",
   "cite_by": "apalike",
   "current_citInitial": 1,
   "eqLabelWithNumbers": true,
   "eqNumInitial": 1,
   "hotkeys": {
    "equation": "Ctrl-E",
    "itemize": "Ctrl-I"
   },
   "labels_anchors": false,
   "latex_user_defs": false,
   "report_style_numbering": false,
   "user_envs_cfg": false
  }
 },
 "nbformat": 4,
 "nbformat_minor": 2
}
