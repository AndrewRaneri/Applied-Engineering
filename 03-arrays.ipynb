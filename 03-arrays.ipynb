{
 "cells": [
  {
   "cell_type": "markdown",
   "metadata": {
    "slideshow": {
     "slide_type": "slide"
    }
   },
   "source": [
    "ChEn-3170: Computational Methods in Chemical Engineering Fall 2018 UMass Lowell; Prof. V. F. de Almeida **10Sep2018**\n",
    "\n",
    "# 03. Arrays"
   ]
  },
  {
   "cell_type": "markdown",
   "metadata": {
    "slideshow": {
     "slide_type": "slide"
    }
   },
   "source": [
    "---\n",
    "## Table of Contents\n",
    "* [Introduction (NumPy](#introduction)\n",
    "* [NumPy Package](#numpy)\n",
    " - [1-D (vector)](#1d)\n",
    " - [2-D (matrix)](#2d)\n",
    " - [3-D (brick or block or cube)](#3d)\n",
    "* [Notable Matrices](#zeros)\n",
    "---"
   ]
  },
  {
   "cell_type": "markdown",
   "metadata": {
    "slideshow": {
     "slide_type": "slide"
    }
   },
   "source": [
    "## Introduction<a id=\"introduction\"></a>\n",
    "Arrays are containers of data in a structured form, *i.e.* in a *block* layout. This course uses the n-dimensional array Python package:\n",
    "+ [NumPy](http://www.numpy.org/): `ndarray` (n-dimensional or multi-dimensional array).\n",
    "+ [Quick-start tutorial](https://docs.scipy.org/doc/numpy/user/quickstart.html):\n",
    "we need to import `numpy` into the Python interpreter."
   ]
  },
  {
   "cell_type": "markdown",
   "metadata": {
    "slideshow": {
     "slide_type": "slide"
    }
   },
   "source": [
    "## NumPy Package<a id=\"numpy\"></a>"
   ]
  },
  {
   "cell_type": "code",
   "execution_count": null,
   "metadata": {
    "slideshow": {
     "slide_type": "slide"
    }
   },
   "outputs": [],
   "source": [
    "'''Python packages are accessed with an import directive as such:'''\n",
    "\n",
    "import numpy as np  # import the package and create the alias: np"
   ]
  },
  {
   "cell_type": "markdown",
   "metadata": {
    "slideshow": {
     "slide_type": "slide"
    }
   },
   "source": [
    "### One-dimensional array (or vector)<a id=\"1d\"></a>"
   ]
  },
  {
   "cell_type": "code",
   "execution_count": null,
   "metadata": {
    "scrolled": true,
    "slideshow": {
     "slide_type": "slide"
    }
   },
   "outputs": [],
   "source": [
    "'''Loading data into \"ndarray\" using built-in Python data types and the \"np.array()\" method'''\n",
    "\n",
    "pylist = [4.5, 8, 90, 1e12, 2.3e-5]        # create a native Python list\n",
    "mass_cc = np.array(pylist)                 # array() takes a list and converts it into a ndarray\n",
    "print('mass_cc type =',type(mass_cc))\n",
    "print('mass_cc length =',mass_cc.size)        # check size with help(np.size)\n",
    "print('mass_cc =',mass_cc)\n",
    "print('mass_cc entry dtype =',mass_cc.dtype)  # check type with help(np.dtype)\n",
    "print('')\n",
    "\n",
    "species_set = {'water','argon','O2','N2'}\n",
    "species = np.array(species_set)  \n",
    "print('species type =',type(species))\n",
    "print('***species length*** =',species.size)\n",
    "print('species =',species)\n",
    "print('species entry dtype =',species.dtype)\n",
    "print('')"
   ]
  },
  {
   "cell_type": "code",
   "execution_count": null,
   "metadata": {
    "slideshow": {
     "slide_type": "slide"
    }
   },
   "outputs": [],
   "source": [
    "'''Build an ndarray with the workhorse \"np.linspace()\" method'''\n",
    "\n",
    "data = np.linspace(1e-3,1.0,8)        # linspace() is a method of numpy\n",
    "print('data type =',type(data))\n",
    "print('data length =',data.size)\n",
    "print('data =',data)\n",
    "print('data entry dtype =',data.dtype)\n",
    "\n",
    "'''Now create a mole fraction data array'''\n",
    "data_sum = data.sum()                     # \"sum()\" method adds all elements in \"data\"\n",
    "mole_frac = data / data_sum                 # operation: the \"data\" array is divided by the \"data_sum\"\n",
    "print('')\n",
    "print('mole_frac =',mole_frac)\n",
    "print('sum       =',mole_frac.sum())     # sum"
   ]
  },
  {
   "cell_type": "code",
   "execution_count": null,
   "metadata": {
    "scrolled": false
   },
   "outputs": [],
   "source": [
    "dir(mole_frac)"
   ]
  },
  {
   "cell_type": "code",
   "execution_count": null,
   "metadata": {
    "scrolled": true
   },
   "outputs": [],
   "source": [
    "help(mole_frac.sum)"
   ]
  },
  {
   "cell_type": "code",
   "execution_count": null,
   "metadata": {
    "scrolled": false,
    "slideshow": {
     "slide_type": "slide"
    }
   },
   "outputs": [],
   "source": [
    "help(np.sum)"
   ]
  },
  {
   "cell_type": "code",
   "execution_count": null,
   "metadata": {},
   "outputs": [],
   "source": [
    "print('sum =', np.sum(mole_frac))   # another way to sum"
   ]
  },
  {
   "cell_type": "code",
   "execution_count": null,
   "metadata": {
    "slideshow": {
     "slide_type": "slide"
    }
   },
   "outputs": [],
   "source": [
    "'''Accessing \"ndarray\" data with the indexing operator []'''\n",
    "\n",
    "print('mole_frac =\\n',mole_frac,'\\n')\n",
    "print('mole_frac[0] =',mole_frac[0])   # access the offset 0 item\n",
    "print('mole_frac[4] =',mole_frac[4])   # access the offset 4 item\n",
    "\n",
    "'''Accessing slices'''\n",
    "print('')\n",
    "print('mole_frac[3:6]       =',mole_frac[3:6])    # print from offset 3 to offset 6\n",
    "\n",
    "#tmp = mole_frac[3:6] * 3.2\n",
    "#mole_frac[3:6] = tmp\n",
    "\n",
    "mole_frac[3:6] *= 3.2                       # modify the slice by multiplying in-place by 3.2\n",
    "print('mole_frac[3:6] * 3.2 =', mole_frac[3:6])    # print result"
   ]
  },
  {
   "cell_type": "code",
   "execution_count": null,
   "metadata": {},
   "outputs": [],
   "source": [
    "'''Vector magnitude'''\n",
    "'''one way'''\n",
    "tmp = mole_frac * mole_frac              # element-by-element multiplication of the vector\n",
    "print('tmp =\\n',tmp)\n",
    "mag = np.sqrt( tmp.sum() )               # sum of all elements in tmp and take the sqrt\n",
    "print('magnitude of mole_frac = ', mag )\n",
    "\n",
    "'''another way'''\n",
    "print('')\n",
    "mag = np.sqrt( np.dot(mole_frac, mole_frac) )  # use the scalar product\n",
    "print('magnitude of mole_frac = ', mag )\n"
   ]
  },
  {
   "cell_type": "markdown",
   "metadata": {
    "slideshow": {
     "slide_type": "slide"
    }
   },
   "source": [
    "### Two-dimensional array (or matrix)<a id=\"2d\"></a>"
   ]
  },
  {
   "cell_type": "code",
   "execution_count": null,
   "metadata": {
    "slideshow": {
     "slide_type": "slide"
    }
   },
   "outputs": [],
   "source": [
    "'''Using \"array()\" to create a 2-D \"np.ndarray\"'''\n",
    "\n",
    "data = [[4.5, 8, 90, 1e12, 2.3e-5, -8],     # note line continuation\n",
    "        [0, 3.1, 10, 3000, 0.1234, -1.2],\n",
    "        [3, 5.9, 40, 1e-2, 2.3301, 78]\n",
    "       ]\n",
    "mass_cc = np.array(data)\n",
    "print('mass_cc type =',type(mass_cc))\n",
    "print('mass_cc length =',mass_cc.size)        # check size with help(np.size)\n",
    "print('mass_cc shape =',mass_cc.shape)        # check shape with help(np.shape)\n",
    "print('mass_cc =\\n',mass_cc)\n",
    "print('mass_cc entry dtype =',mass_cc.dtype)  # check type with help(np.dtype)"
   ]
  },
  {
   "cell_type": "code",
   "execution_count": null,
   "metadata": {},
   "outputs": [],
   "source": [
    "'''Not a matrix'''\n",
    "data = [[4.5, 8, 90, 1e12, 2.3e-5, -8],          # note line continuation\n",
    "        [0, 3.1, 10, 3000, 0.1234, -1.2, 7.8],   # note extra element in this row; could be unintentional\n",
    "        [3, 5.9, 40, 1e-2, 2.3301, 78]\n",
    "       ]\n",
    "not_mtrx = np.array(data)\n",
    "print('not_mtrx type =',type(not_mtrx))\n",
    "print('not_mtrx length =',not_mtrx.size)        # check size with help(np.size)\n",
    "print('not_mtrx shape =',not_mtrx.shape)        # check shape with help(np.shape)\n",
    "print('not_mtrx =\\n',not_mtrx)\n",
    "print('not_mtrx entry dtype =',not_mtrx.dtype)  # check type with help(np.dtype)"
   ]
  },
  {
   "cell_type": "code",
   "execution_count": null,
   "metadata": {
    "slideshow": {
     "slide_type": "slide"
    }
   },
   "outputs": [],
   "source": [
    "'''Access elements of the 2-D array; use double indexing, e.g., name[i,j]'''\n",
    "\n",
    "print('mass_cc[0,0] =', mass_cc[0,0])   # single element on the diagonal 0,0\n",
    "print('mass_cc[1,1] =', mass_cc[1,1])   # single element on the diagonal 1,1"
   ]
  },
  {
   "cell_type": "code",
   "execution_count": null,
   "metadata": {},
   "outputs": [],
   "source": [
    "'''More on using \"array()\" to create a 2-D \"np.ndarray\"'''\n",
    "\n",
    "data = [np.linspace(1,5,5),         # first row   5 elements\n",
    "        range(5),                   # second row  5 elements\n",
    "        np.random.random(5)*3.0     # third row   5 elements  \n",
    "       ]\n",
    "mass_cc = np.array(data)\n",
    "print('mass_cc type =',type(mass_cc))\n",
    "print('mass_cc shape =',mass_cc.shape)        # check shape with help(np.shape)\n",
    "print('mass_cc length =',mass_cc.size)        # check size with help(np.size)\n",
    "print('mass_cc =\\n',mass_cc)\n",
    "print('mass_cc entry dtype =',mass_cc.dtype)  # check type with help(np.dtype)"
   ]
  },
  {
   "cell_type": "code",
   "execution_count": null,
   "metadata": {
    "slideshow": {
     "slide_type": "slide"
    }
   },
   "outputs": [],
   "source": [
    "'''Views of the 2-D array'''\n",
    "\n",
    "print('mass_cc 1st row =',mass_cc[0,:])  # use the colon operator inside the indexing operator\n",
    "print('mass_cc 2nd row =',mass_cc[1,:])  # use the colon operator inside the indexing operator\n",
    "print('mass_cc 2nd row =',mass_cc[2,:])  # use the colon operator inside the indexing operator\n",
    "\n",
    "print('mass_cc 1st column =',mass_cc[:,0])  # use the colon operator inside the indexing operator\n",
    "print('mass_cc 2nd column =',mass_cc[:,1])  # use the colon operator inside the indexing operator\n",
    "print('mass_cc 3rd column =',mass_cc[:,2])  # use the colon operator inside the indexing operator\n",
    "print('mass_cc 4th column =',mass_cc[:,3])  # use the colon operator inside the indexing operator\n",
    "print('mass_cc 5th column =',mass_cc[:,4])  # use the colon operator inside the indexing operator"
   ]
  },
  {
   "cell_type": "code",
   "execution_count": null,
   "metadata": {},
   "outputs": [],
   "source": [
    "'''Visualize a matrix as image'''\n",
    "from matplotlib import pyplot as plt # import the pyplot function of the matplotlib package\n",
    "\n",
    "plt.figure(1)                   # create a figure placeholder\n",
    "mass_cc /= mass_cc.max()\n",
    "mass_cc *= 255\n",
    "plt.imshow(mass_cc,cmap='gray')"
   ]
  },
  {
   "cell_type": "code",
   "execution_count": null,
   "metadata": {},
   "outputs": [],
   "source": [
    "print('mass_cc upper left quadrant =\\n', mass_cc[0:3,0:3])"
   ]
  },
  {
   "cell_type": "code",
   "execution_count": null,
   "metadata": {},
   "outputs": [],
   "source": [
    "print('mass_cc upper right quadrant =\\n', mass_cc[0:3,3:])"
   ]
  },
  {
   "cell_type": "code",
   "execution_count": null,
   "metadata": {},
   "outputs": [],
   "source": [
    "'''Zeros matrix'''\n",
    "\n",
    "mass_cc = np.zeros((4,3)) # 4x3 matrix with zeros\n",
    "print('zero matrix (4,3) =\\n',mass_cc)"
   ]
  },
  {
   "cell_type": "code",
   "execution_count": null,
   "metadata": {},
   "outputs": [],
   "source": [
    "'''Identity matrix (square; i.e.: m x m or m rows and m columns)'''\n",
    "\n",
    "mass_cc = np.eye(4,4)\n",
    "print('identity matrix (4,4) =\\n',mass_cc)"
   ]
  },
  {
   "cell_type": "code",
   "execution_count": null,
   "metadata": {},
   "outputs": [],
   "source": [
    "'''Diagonal matrix (square; m x m or rows and m columns)'''\n",
    "\n",
    "mass_cc = np.diag( range(7) )    # provide the diagonal as a vector\n",
    "print('diagonal (7x7) =\\n',mass_cc)"
   ]
  },
  {
   "cell_type": "code",
   "execution_count": null,
   "metadata": {},
   "outputs": [],
   "source": [
    "'''Visualize a matrix as image'''\n",
    "from matplotlib import pyplot as plt # import the pyplot function of the matplotlib package\n",
    "\n",
    "plt.figure(2)                        # create a figure placeholder\n",
    "plt.imshow(mass_cc,cmap='gray')"
   ]
  },
  {
   "cell_type": "markdown",
   "metadata": {
    "slideshow": {
     "slide_type": "slide"
    }
   },
   "source": [
    "### Three-dimensional array (brick)<a id=\"3d\"></a>"
   ]
  },
  {
   "cell_type": "code",
   "execution_count": null,
   "metadata": {
    "slideshow": {
     "slide_type": "slide"
    }
   },
   "outputs": [],
   "source": [
    "'''Using \"array()\" to create a 2-D \"np.ndarray\"'''\n",
    "\n",
    "data = [\n",
    "        [ [4.5, 8, 90, 1e12, 2.3e-5],     # 1st matrix\n",
    "          [0, 3.1, 10, 3000, 0.1234]\n",
    "        ],\n",
    "        [ [2.1, -7, 31, 2e12, 0.22],     # second matrix\n",
    "          [0,  1.1, 21, 3876, 1024]\n",
    "        ],\n",
    "        [ [1,   -7,  4,    0, 0.22],     # second matrix\n",
    "          [0,  1.1, 21, -3e4, -234]\n",
    "        ]\n",
    "       ]\n",
    "mass_cc = np.array(data)                      # create the ndarray\n",
    "print('mass_cc type =',type(mass_cc))\n",
    "print('mass_cc length =',mass_cc.size)        # check size with help(np.size)\n",
    "print('mass_cc shape =',mass_cc.shape)        # check shape with help(np.shape)\n",
    "print('mass_cc =\\n',mass_cc)\n",
    "print('mass_cc entry dtype =',mass_cc.dtype)  # check type with help(np.dtype)"
   ]
  },
  {
   "cell_type": "code",
   "execution_count": null,
   "metadata": {},
   "outputs": [],
   "source": [
    "'''Access elements of the 3-D array; use triple indexing, e.g., variable_name[i,j,k]'''\n",
    "\n",
    "print('mass_cc[0,0,0] =',mass_cc[0,0,0])\n",
    "print('mass_cc[2,1,4] =',mass_cc[2,1,4])"
   ]
  },
  {
   "cell_type": "code",
   "execution_count": null,
   "metadata": {},
   "outputs": [],
   "source": [
    "'''Views of the 3-D array'''\n",
    "\n",
    "print('mass_cc 1st stack =\\n',mass_cc[0,:,:])  # use the colon operator inside the indexing operator\n",
    "print('mass_cc 2nd stack =\\n',mass_cc[1,:,:])  # use the colon operator inside the indexing operator\n",
    "print('mass_cc 3rd stack =\\n',mass_cc[2,:,:])  # use the colon operator inside the indexing operator"
   ]
  },
  {
   "cell_type": "code",
   "execution_count": null,
   "metadata": {},
   "outputs": [],
   "source": [
    "mass_cc = np.random.random((8,5,6))  # random number generator in NumPy pass only one argument; say tuple or list\n",
    "mass_cc *= 255\n",
    "mass_cc = mass_cc.astype(int)\n",
    "print('mass_cc =\\n', mass_cc)"
   ]
  },
  {
   "cell_type": "code",
   "execution_count": null,
   "metadata": {},
   "outputs": [],
   "source": [
    "help(plt.subplot)"
   ]
  },
  {
   "cell_type": "code",
   "execution_count": null,
   "metadata": {},
   "outputs": [],
   "source": [
    "'''Visualize a 3-D block as image slices'''\n",
    "from matplotlib import pyplot as plt # import the pyplot function of the matplotlib package\n",
    "plt.rcParams['figure.figsize'] = [20, 4] # extend the figure size on screen output\n",
    "\n",
    "plt.figure(3)              # create a figure placeholder\n",
    "\n",
    "plt.subplot(141)\n",
    "plt.imshow( mass_cc[0,:,:],cmap='gray' )\n",
    "\n",
    "plt.subplot(142)\n",
    "plt.imshow( mass_cc[1,:,:],cmap='gray' )\n",
    "\n",
    "plt.subplot(143)\n",
    "plt.imshow( mass_cc[2,:,:],cmap='gray' )\n",
    "\n",
    "plt.subplot(144)\n",
    "plt.imshow( mass_cc[3,:,:],cmap='gray' )"
   ]
  },
  {
   "cell_type": "code",
   "execution_count": null,
   "metadata": {
    "scrolled": true
   },
   "outputs": [],
   "source": [
    "plt.figure(4)       # create a figure place holder\n",
    "n_rows = 1\n",
    "n_columns = mass_cc.shape[0]\n",
    "\n",
    "for i in range(n_columns):\n",
    "    plt.subplot(n_rows,n_columns, i+1)\n",
    "    plt.imshow(mass_cc[i,:,:], cmap='gray')"
   ]
  },
  {
   "cell_type": "code",
   "execution_count": null,
   "metadata": {},
   "outputs": [],
   "source": [
    "help(plt.imshow)"
   ]
  },
  {
   "cell_type": "code",
   "execution_count": null,
   "metadata": {
    "scrolled": true
   },
   "outputs": [],
   "source": [
    "plt.figure(5)       # create a figure place holder\n",
    "color_image = np.random.random((800,1200,3))  # RGB\n",
    "plt.imshow(color_image)"
   ]
  },
  {
   "cell_type": "code",
   "execution_count": null,
   "metadata": {},
   "outputs": [],
   "source": [
    "color_image[380:420,:] = 0\n",
    "plt.figure(6)\n",
    "plt.imshow(color_image)"
   ]
  },
  {
   "cell_type": "code",
   "execution_count": null,
   "metadata": {},
   "outputs": [],
   "source": [
    "import matplotlib.cbook as cbook\n",
    "img_file = cbook.get_sample_data('/Users/valmor_dealmeida/OneDrive - University of Massachusetts Lowell - UMass Lowell/uml-courses/ChEn-3170/fall-2018/jupynb-repo/images/glacier.png')\n",
    "mtrx = plt.imread(img_file)\n",
    "#mtrx = plt.imread('https://github.com/dpploy/chen-3170/blob/master/images/iceberg.png')\n",
    "plt.imshow(mtrx)"
   ]
  },
  {
   "cell_type": "code",
   "execution_count": null,
   "metadata": {},
   "outputs": [],
   "source": [
    "print(mtrx.shape)\n",
    "r_vec = mtrx[:,200,0] # slice the red channel at column 200\n",
    "g_vec = mtrx[:,200,1] # slice the green channel at column 200\n",
    "b_vec = mtrx[:,200,2] # slice the blue channel at column 200\n",
    "\n",
    "plt.plot(range(0,300),r_vec,'r',range(0,300),g_vec,'g',range(0,300),b_vec,'b') # plot all three slices"
   ]
  },
  {
   "cell_type": "code",
   "execution_count": null,
   "metadata": {},
   "outputs": [],
   "source": [
    "mtrx_mod = mtrx\n",
    "mtrx_mod[:,200,:] = 0\n",
    "plt.imshow(mtrx_mod)"
   ]
  },
  {
   "cell_type": "code",
   "execution_count": null,
   "metadata": {},
   "outputs": [],
   "source": [
    "mtrx_mod[:,200,0] = 1   # set the red channel to 1\n",
    "mtrx_mod[:,200,1] = 0   # set the others to zero (already were)\n",
    "mtrx_mod[:,200,2] = 0\n",
    "plt.imshow(mtrx_mod)"
   ]
  },
  {
   "cell_type": "code",
   "execution_count": null,
   "metadata": {},
   "outputs": [],
   "source": [
    "noise = np.random.random((300,400))\n",
    "mtrx_noise = mtrx[:,:,2] * noise     # apply noise to the blue channel\n",
    "plt.imshow(mtrx_noise)"
   ]
  },
  {
   "cell_type": "markdown",
   "metadata": {
    "slideshow": {
     "slide_type": "slide"
    }
   },
   "source": [
    "## Notable Matrices<a id=\"zeros\"></a>"
   ]
  },
  {
   "cell_type": "code",
   "execution_count": null,
   "metadata": {},
   "outputs": [],
   "source": [
    "'''Zeros'''\n",
    "mtrx = np.zeros((2,3))\n",
    "print('Ones matrix 2x3\\n',mtrx)"
   ]
  },
  {
   "cell_type": "code",
   "execution_count": null,
   "metadata": {},
   "outputs": [],
   "source": [
    "'''Ones'''\n",
    "mtrx = np.ones((4,3))\n",
    "print('Ones matrix 4x3\\n',mtrx)"
   ]
  },
  {
   "cell_type": "code",
   "execution_count": null,
   "metadata": {},
   "outputs": [],
   "source": [
    "'''Identity'''\n",
    "'''one way'''\n",
    "mtrx = np.diag(np.ones(4))\n",
    "print('Identity matrix 4x4 \\n',mtrx)\n",
    "\n",
    "'''another way'''\n",
    "mtrx = np.eye(4)\n",
    "print('Identity matrx 4x4 \\n',mtrx)"
   ]
  },
  {
   "cell_type": "code",
   "execution_count": null,
   "metadata": {},
   "outputs": [],
   "source": [
    "'''Empty (not really)'''\n",
    "mtrx = np.empty((3,5))\n",
    "print('Empty mtrx 4x5 \\n',mtrx)"
   ]
  }
 ],
 "metadata": {
  "kernelspec": {
   "display_name": "Python 3",
   "language": "python",
   "name": "python3"
  },
  "language_info": {
   "codemirror_mode": {
    "name": "ipython",
    "version": 3
   },
   "file_extension": ".py",
   "mimetype": "text/x-python",
   "name": "python",
   "nbconvert_exporter": "python",
   "pygments_lexer": "ipython3",
   "version": "3.6.5"
  }
 },
 "nbformat": 4,
 "nbformat_minor": 2
}
